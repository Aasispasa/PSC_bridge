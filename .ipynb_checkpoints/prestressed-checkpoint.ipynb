{
 "cells": [
  {
   "cell_type": "code",
   "execution_count": 1,
   "id": "ba6ea02b",
   "metadata": {},
   "outputs": [],
   "source": [
    "import pandas as pd\n",
    "import numpy as np\n",
    "import math\n",
    "\n",
    "import irc6_2007 as irc6\n",
    "\n",
    "from Cross import Cross_section,cables, expansion_calc\n",
    "from bridge_specs import box\n",
    "from allinput import main_input"
   ]
  },
  {
   "cell_type": "code",
   "execution_count": 2,
   "id": "1bbea425",
   "metadata": {},
   "outputs": [],
   "source": [
    "df=pd.read_excel('data/span.xlsx',index_col=None,header=None)\n",
    "fck = 35 #input grade of concrete\n",
    "span = int(df.iloc[2])\n",
    "no = int(df.iloc[1])\n",
    "sc=[(j)/(no-1)*50 for j in range(no)]"
   ]
  },
  {
   "cell_type": "markdown",
   "id": "a2abd748",
   "metadata": {},
   "source": [
    "***required:***\n",
    "1. list of sections with cable profile\n",
    "2. BM due to permanent dead load\n",
    "3. BM due to superimposed dead load (without surfacing)\n",
    "4. BM due to surfacing\n",
    "5. BM due to live load (max of all vehicle loads)"
   ]
  },
  {
   "cell_type": "markdown",
   "id": "55798041",
   "metadata": {},
   "source": [
    "**defining sections**"
   ]
  },
  {
   "cell_type": "markdown",
   "id": "07f859e2",
   "metadata": {},
   "source": [
    "main section"
   ]
  },
  {
   "cell_type": "code",
   "execution_count": 3,
   "id": "ad0223ce",
   "metadata": {},
   "outputs": [],
   "source": [
    "\n",
    "\"\"\"INPUTS SECTION\"\"\"\n",
    "\n",
    "\"\"\"FOR CROSS SECTION\"\"\"\n",
    "length=[]\n",
    "height=[]\n",
    "\n",
    "\n",
    "#####################################################################################################################\n",
    "\n",
    "\"\"\"GUI INPUT OF BRIDGE SECTION LENGTHS AND HEIGHTS\"\"\"\n",
    "\n",
    "if False:\n",
    "    main_input()\n",
    "\n",
    "df=pd.read_excel('data/box.xlsx',index_col=None,header=None)\n",
    "\n",
    "\n",
    "height=df.values.tolist()[0]\n",
    "length=df.values.tolist()[1]\n",
    "\n",
    "\n",
    "section=Cross_section(length,height)\n",
    "cable_no = 14 #input no of cables\n",
    "cable = cables(fck,cable_no,section)"
   ]
  },
  {
   "cell_type": "markdown",
   "id": "bbbc76cd",
   "metadata": {},
   "source": [
    "Generating intermediate sections"
   ]
  },
  {
   "cell_type": "code",
   "execution_count": 4,
   "id": "f018f8bf",
   "metadata": {},
   "outputs": [],
   "source": [
    "sections = []\n",
    "for i in range(no):  \n",
    "    section1=Cross_section(length,height)\n",
    "    section1.expansion_width=expansion_calc(span,sc[i],cable)\n",
    "    section1.cableprop=cable.cablepos(sc[i],50)\n",
    "    sections.append(section1)"
   ]
  },
  {
   "cell_type": "code",
   "execution_count": 5,
   "id": "412cbfca",
   "metadata": {},
   "outputs": [
    {
     "data": {
      "text/plain": [
       "[[0.3, 1.15],\n",
       " [0.3, 1.6],\n",
       " [0.3, 2.05],\n",
       " [3.3, 1.15],\n",
       " [3.3, 1.6],\n",
       " [3.3, 2.05],\n",
       " [0.3, 0.25],\n",
       " [0.9, 0.25],\n",
       " [1.5, 0.25],\n",
       " [2.1, 0.25],\n",
       " [2.7, 0.25],\n",
       " [3.3, 0.25],\n",
       " [0.3, 0.7],\n",
       " [3.3, 0.7]]"
      ]
     },
     "execution_count": 5,
     "metadata": {},
     "output_type": "execute_result"
    }
   ],
   "source": [
    "# endsec = sections[0]\n",
    "# endsec.cable_prop\n",
    "\n",
    "# midsec = sections[4]\n",
    "# midsec.cable_prop, endsec.Centroid"
   ]
  },
  {
   "cell_type": "markdown",
   "id": "8a9f4db8",
   "metadata": {},
   "source": [
    "**Importing load**"
   ]
  },
  {
   "cell_type": "code",
   "execution_count": 6,
   "id": "d8dfa7ee",
   "metadata": {},
   "outputs": [],
   "source": [
    "df = pd.read_excel('outputs/Moments.xlsx', index_col=0)\n",
    "\n",
    "#bm multipied by distribution factor\n",
    "bm_pdl = np.array(df['Dead Load'])*0.5\n",
    "bm_odl = np.array(df['Other Loads'])*0.5\n",
    "bm_surf = np.array(df['Surface Loads'])*0.5\n",
    "bm_pedl = np.array(df['Pedestrian Load'])*0.5\n",
    "\n",
    "dfl = pd.read_excel('outputs/loads.xlsx', index_col=[0, 1]) #live load"
   ]
  },
  {
   "cell_type": "markdown",
   "id": "d3cd03e4",
   "metadata": {},
   "source": [
    "**live load calculation**"
   ]
  },
  {
   "cell_type": "markdown",
   "id": "e1aedefa",
   "metadata": {},
   "source": [
    "Impact factor"
   ]
  },
  {
   "cell_type": "code",
   "execution_count": 7,
   "id": "7118d2f0",
   "metadata": {},
   "outputs": [],
   "source": [
    "vehicles = [irc6.ll_A, irc6.ll_70R, irc6.ll_70RT]\n",
    "IF = [irc6.impact(i.name, span) for i in vehicles]\n",
    "arr_if = np.array(IF)\n",
    "arr_with_if = np.array(IF)+1 #including impact factor"
   ]
  },
  {
   "cell_type": "markdown",
   "id": "311de524",
   "metadata": {},
   "source": [
    "distribution factor"
   ]
  },
  {
   "cell_type": "code",
   "execution_count": 8,
   "id": "e7f3d9cb",
   "metadata": {
    "scrolled": true
   },
   "outputs": [
    {
     "data": {
      "text/plain": [
       "[1.067, 0.5, 0.635, 0.617]"
      ]
     },
     "execution_count": 8,
     "metadata": {},
     "output_type": "execute_result"
    }
   ],
   "source": [
    "dfe = pd.read_excel('outputs/max_e.xlsx', index_col=0)\n",
    "\n",
    "ecc = dfe['MaxEccentricity'] #eccentricity\n",
    "\n",
    "def df(ecc, webcc):\n",
    "    df = (webcc/2+ecc)/webcc\n",
    "    return round(df, 3)\n",
    "\n",
    "webcc = 3 #input web center/center distance\n",
    "distf = [df(i, webcc) for i in ecc]\n",
    "distf"
   ]
  },
  {
   "cell_type": "markdown",
   "id": "7cfe311d",
   "metadata": {},
   "source": [
    "bm for ll combinations"
   ]
  },
  {
   "cell_type": "code",
   "execution_count": 9,
   "id": "9ba4d4c3",
   "metadata": {
    "scrolled": true
   },
   "outputs": [
    {
     "data": {
      "text/plain": [
       "array([   0.      , 3334.204152, 5665.872336, 7034.868328, 7514.978112,\n",
       "       7021.568888, 5564.1748  , 3186.321288,    0.      ])"
      ]
     },
     "execution_count": 9,
     "metadata": {},
     "output_type": "execute_result"
    }
   ],
   "source": [
    "arr_maxbm = dfl.loc['MaxBM'].to_numpy() # max bm due to each veh\n",
    "arr_maxbmif = arr_maxbm*arr_with_if[:, np.newaxis] # max bm including impact due to ll\n",
    "\n",
    "arr_ll_comb = dfe.drop(columns='MaxEccentricity').to_numpy() # ll combinations in array\n",
    "\n",
    "all_ll = arr_ll_comb.dot(arr_maxbmif) # ll with impact for each combination\n",
    "all_unfactored_ll = all_ll*np.array(distf)[:, np.newaxis] # distributed bm due to live load including impact (bm*if*df)\n",
    "\n",
    "bm_ll = np.amax(all_unfactored_ll, axis=0)\n",
    "bm_ll"
   ]
  },
  {
   "cell_type": "markdown",
   "id": "8c279c7f",
   "metadata": {},
   "source": [
    "### Cable profile"
   ]
  },
  {
   "cell_type": "code",
   "execution_count": 10,
   "id": "52aaf253",
   "metadata": {},
   "outputs": [],
   "source": [
    "# def cable_profile(end_cable_pos, mid_cable_pos, span_length, division=8):\n",
    "#     cable_profile = []\n",
    "#     x = [(j)/division*span_length for j in range(division+1)]\n",
    "#     for i in x:\n",
    "#         cable_pos_x = []\n",
    "#         for j in range(len(end_cable_pos)):\n",
    "#             h = end_cable_pos[j][1]-mid_cable_pos[j][1]\n",
    "#             a = end_cable_pos[j][1]\n",
    "#             y = a + 4*h*i/span_length - 4*h*i**2/span_length**2\n",
    "#             cable_pos_x.append((end_cable_pos[j][0], y))\n",
    "#         cable_profile.append(cable_pos_x)\n",
    "#     return cable_profile"
   ]
  },
  {
   "cell_type": "markdown",
   "id": "ebc894e3",
   "metadata": {},
   "source": [
    "### Eccentricity of cables"
   ]
  },
  {
   "cell_type": "code",
   "execution_count": 11,
   "id": "9eff7697",
   "metadata": {},
   "outputs": [],
   "source": [
    "def eccentricity(cable_positions, centroid):\n",
    "    cable_areaxpos_sum = 0\n",
    "    for i in cable_positions:\n",
    "        cable_areaxpos_sum+=(i[1]-centroid)\n",
    "    return cable_areaxpos_sum/len(cable_positions)"
   ]
  },
  {
   "cell_type": "markdown",
   "id": "f16eb15f",
   "metadata": {},
   "source": [
    "### Stress"
   ]
  },
  {
   "cell_type": "code",
   "execution_count": 12,
   "id": "06f9f8f0",
   "metadata": {},
   "outputs": [],
   "source": [
    "list_of_sections = sections\n",
    "prestressing_force = 2730 #input\n",
    "prestressing_force_total = prestressing_force*cable_no\n",
    "# prestressing_force_withloss = 0.75*prestressing_force"
   ]
  },
  {
   "cell_type": "code",
   "execution_count": 13,
   "id": "ff3adecf",
   "metadata": {},
   "outputs": [],
   "source": [
    "def tau(section, bm):\n",
    "    tau_top = bm*section.ymin/section.I[0]\n",
    "    tau_bot = -bm*section.ymax/section.I[0]\n",
    "    return (tau_top, tau_bot)"
   ]
  },
  {
   "cell_type": "markdown",
   "id": "7cb9e41d",
   "metadata": {},
   "source": [
    "presetressing stress"
   ]
  },
  {
   "cell_type": "code",
   "execution_count": 14,
   "id": "3040c834",
   "metadata": {},
   "outputs": [],
   "source": [
    "#due to eccentricity\n",
    "bm_pre = [prestressing_force_total*eccentricity(i.cableprop, i.Centroid[1]) for i in list_of_sections] #bm due to full prestressing force\n",
    "\n",
    "list_tau_pre = [tau(list_of_sections[index], bm_pre[index]) for index in range(len(list_of_sections))] #stress due to full prestressing force\n",
    "\n",
    "#axial\n",
    "list_tau_ax = [prestressing_force_total/sum(i.section_area) for i in list_of_sections]\n",
    "\n",
    "list_tau_preTotal = [(list_tau_pre[index][0] + list_tau_ax[index], list_tau_pre[index][1] + list_tau_ax[index]) for index in range(len(list_of_sections))]"
   ]
  },
  {
   "cell_type": "code",
   "execution_count": 15,
   "id": "5f290f84",
   "metadata": {
    "scrolled": true
   },
   "outputs": [
    {
     "data": {
      "text/plain": [
       "[(2698.9277713847255, 9433.945640801687),\n",
       " (2144.793996825409, 10591.4480723289),\n",
       " (1748.9841578544688, 11418.235523419768),\n",
       " (1511.4982544719041, 11914.307994074286),\n",
       " (1432.3362866777165, 12079.66548429246),\n",
       " (1511.4982544719041, 11914.307994074286),\n",
       " (1748.9841578544683, 11418.235523419768),\n",
       " (2144.793996825409, 10591.4480723289),\n",
       " (2698.9277713847255, 9433.945640801687)]"
      ]
     },
     "execution_count": 15,
     "metadata": {},
     "output_type": "execute_result"
    }
   ],
   "source": [
    "list_tau_preTotal"
   ]
  },
  {
   "cell_type": "markdown",
   "id": "0a44b04f",
   "metadata": {},
   "source": [
    "stress due to ded load"
   ]
  },
  {
   "cell_type": "code",
   "execution_count": 16,
   "id": "6d14e7e4",
   "metadata": {},
   "outputs": [],
   "source": [
    "list_tau_DL = [tau(list_of_sections[index], bm_pdl[index]) for index in range(len(list_of_sections))]"
   ]
  },
  {
   "cell_type": "code",
   "execution_count": 17,
   "id": "c05e5f75",
   "metadata": {},
   "outputs": [
    {
     "data": {
      "text/plain": [
       "[(0.0, -0.0),\n",
       " (1035.1156746325378, -2162.2015572899177),\n",
       " (1774.4840136557784, -3706.631241068429),\n",
       " (2218.105017069723, -4633.289051335537),\n",
       " (2365.978684874371, -4942.174988091239),\n",
       " (2218.105017069723, -4633.289051335537),\n",
       " (1774.4840136557784, -3706.631241068429),\n",
       " (1035.1156746325378, -2162.2015572899177),\n",
       " (0.0, -0.0)]"
      ]
     },
     "execution_count": 17,
     "metadata": {},
     "output_type": "execute_result"
    }
   ],
   "source": [
    "list_tau_DL"
   ]
  },
  {
   "cell_type": "markdown",
   "id": "87e89ebc",
   "metadata": {},
   "source": [
    "stress due to surfacing"
   ]
  },
  {
   "cell_type": "code",
   "execution_count": 18,
   "id": "6ff56d9b",
   "metadata": {},
   "outputs": [],
   "source": [
    "list_tau_surf = [tau(list_of_sections[index], bm_surf[index]) for index in range(len(list_of_sections))]"
   ]
  },
  {
   "cell_type": "code",
   "execution_count": 19,
   "id": "0b9d1614",
   "metadata": {},
   "outputs": [
    {
     "data": {
      "text/plain": [
       "[(0.0, -0.0),\n",
       " (45.353210715420246, -94.73606210416182),\n",
       " (77.74836122643471, -162.4046778928488),\n",
       " (97.18545153304339, -203.00584736606103),\n",
       " (103.66448163524628, -216.53957052379843),\n",
       " (97.18545153304339, -203.00584736606103),\n",
       " (77.74836122643471, -162.4046778928488),\n",
       " (45.353210715420246, -94.73606210416182),\n",
       " (0.0, -0.0)]"
      ]
     },
     "execution_count": 19,
     "metadata": {},
     "output_type": "execute_result"
    }
   ],
   "source": [
    "list_tau_surf"
   ]
  },
  {
   "cell_type": "markdown",
   "id": "3c96efd8",
   "metadata": {},
   "source": [
    "stress due to other load"
   ]
  },
  {
   "cell_type": "code",
   "execution_count": 20,
   "id": "6a6adcb8",
   "metadata": {},
   "outputs": [],
   "source": [
    "list_tau_ODL = [tau(list_of_sections[index], bm_odl[index]) for index in range(len(list_of_sections))]"
   ]
  },
  {
   "cell_type": "code",
   "execution_count": 21,
   "id": "cd0a708e",
   "metadata": {},
   "outputs": [
    {
     "data": {
      "text/plain": [
       "[(0.0, -0.0),\n",
       " (68.71698593245492, -143.53948803660882),\n",
       " (117.80054731277986, -246.06769377704364),\n",
       " (147.2506841409748, -307.58461722130454),\n",
       " (157.06739641703982, -328.09025836939156),\n",
       " (147.2506841409748, -307.58461722130454),\n",
       " (117.80054731277986, -246.06769377704364),\n",
       " (68.71698593245492, -143.53948803660882),\n",
       " (0.0, -0.0)]"
      ]
     },
     "execution_count": 21,
     "metadata": {},
     "output_type": "execute_result"
    }
   ],
   "source": [
    "list_tau_ODL"
   ]
  },
  {
   "cell_type": "markdown",
   "id": "7fe337f7",
   "metadata": {},
   "source": [
    "stress due to live load"
   ]
  },
  {
   "cell_type": "code",
   "execution_count": 22,
   "id": "908723be",
   "metadata": {
    "scrolled": true
   },
   "outputs": [],
   "source": [
    "list_tau_LL = [tau(list_of_sections[index], bm_ll[index]) for index in range(len(list_of_sections))]"
   ]
  },
  {
   "cell_type": "code",
   "execution_count": 23,
   "id": "07571fa6",
   "metadata": {},
   "outputs": [],
   "source": [
    "arr_stress_top = np.array([\n",
    "    list(zip(*list_tau_DL))[0], \n",
    "    list(zip(*list_tau_ODL))[0], \n",
    "    list(zip(*list_tau_surf))[0], \n",
    "    list(zip(*list_tau_LL))[0], \n",
    "    list(zip(*list_tau_preTotal))[0]\n",
    "])\n",
    "\n",
    "arr_stress_bot = np.array([\n",
    "    list(zip(*list_tau_DL))[1], \n",
    "    list(zip(*list_tau_ODL))[1], \n",
    "    list(zip(*list_tau_surf))[1], \n",
    "    list(zip(*list_tau_LL))[1], \n",
    "    list(zip(*list_tau_preTotal))[1]\n",
    "])"
   ]
  },
  {
   "cell_type": "markdown",
   "id": "7583dd97",
   "metadata": {},
   "source": [
    "**Case 1: Rare combination I**"
   ]
  },
  {
   "cell_type": "markdown",
   "id": "09977741",
   "metadata": {},
   "source": [
    "RI = DL + PS@10%loss"
   ]
  },
  {
   "cell_type": "code",
   "execution_count": 24,
   "id": "c73d0c6d",
   "metadata": {},
   "outputs": [
    {
     "data": {
      "text/plain": [
       "(array([2429.03499425, 2965.43027178, 3348.56975572, 3578.45344609,\n",
       "        3655.08134288, 3578.45344609, 3348.56975572, 2965.43027178,\n",
       "        2429.03499425]),\n",
       " array([8490.55107672, 7370.10170781, 6569.78073001, 6089.58814333,\n",
       "        5929.52394777, 6089.58814333, 6569.78073001, 7370.10170781,\n",
       "        8490.55107672]))"
      ]
     },
     "execution_count": 24,
     "metadata": {},
     "output_type": "execute_result"
    }
   ],
   "source": [
    "psf_RI = np.array([1, 0, 0, 0, 0.9]) #partial safety factor [DL, ODL, surf, LL, Ps] irc:6-2007 table B3\n",
    "\n",
    "tauTop_RI = psf_RI.dot(arr_stress_top) #resultant pressure top\n",
    "\n",
    "tauBot_RI = psf_RI.dot(arr_stress_bot) #resultant pressure bottom\n",
    "\n",
    "tauTop_RI, tauBot_RI"
   ]
  },
  {
   "cell_type": "markdown",
   "id": "260b7e1d",
   "metadata": {},
   "source": [
    "Allowable stresses"
   ]
  },
  {
   "cell_type": "code",
   "execution_count": 25,
   "id": "c2122404",
   "metadata": {},
   "outputs": [
    {
     "data": {
      "text/plain": [
       "(-2771, 16800)"
      ]
     },
     "execution_count": 25,
     "metadata": {},
     "output_type": "execute_result"
    }
   ],
   "source": [
    "tauTop_perm = -int(0.259*math.pow(fck, 2/3)*1000) #permissible stress on top (tensile) kN/m2\n",
    "\n",
    "tauBot_perm = int(0.48*35*1000) #permissible stress on top (compression) kN/m2\n",
    "tauTop_perm, tauBot_perm"
   ]
  },
  {
   "cell_type": "markdown",
   "id": "659330c8",
   "metadata": {},
   "source": [
    "check"
   ]
  },
  {
   "cell_type": "code",
   "execution_count": 26,
   "id": "9679c1a7",
   "metadata": {},
   "outputs": [
    {
     "name": "stdout",
     "output_type": "stream",
     "text": [
      "top ok\n",
      "bottom ok\n"
     ]
    }
   ],
   "source": [
    "if all(tauTop_RI>tauTop_perm) == True:\n",
    "    print('top ok')\n",
    "else:\n",
    "    print('top not ok')\n",
    "    \n",
    "if all(tauBot_RI<tauBot_perm) == True:\n",
    "    print('bottom ok')\n",
    "else:\n",
    "    print('bottom not ok')"
   ]
  },
  {
   "cell_type": "markdown",
   "id": "5390fe88",
   "metadata": {},
   "source": [
    "**Case 2: Rare combination II**"
   ]
  },
  {
   "cell_type": "markdown",
   "id": "b2c389e8",
   "metadata": {},
   "source": [
    "RII = DL + ODL + 1.2*Surf + 0.75*LL + PS@25%loss"
   ]
  },
  {
   "cell_type": "code",
   "execution_count": 27,
   "id": "bb1d809b",
   "metadata": {},
   "outputs": [
    {
     "data": {
      "text/plain": [
       "(array([2024.19582854, 2960.21623207, 3625.90796806, 4023.58290095,\n",
       "        4157.52018362, 4022.81161169, 3620.0101094 , 2951.63989616,\n",
       "        2024.19582854]),\n",
       " array([7075.4592306 , 5120.25284762, 3729.72254892, 2899.03919607,\n",
       "        2619.26427983, 2900.65030378, 3742.042292  , 5138.16752838,\n",
       "        7075.4592306 ]))"
      ]
     },
     "execution_count": 27,
     "metadata": {},
     "output_type": "execute_result"
    }
   ],
   "source": [
    "psf_RII = np.array([1, 1, 1.2, 0.75, 0.75]) #partial safety factor [DL, ODL, surf, LL, PS] irc:6-2007 table B3\n",
    "\n",
    "tauTop_RII = psf_RII.dot(arr_stress_top) #resultant pressure top\n",
    "\n",
    "tauBot_RII = psf_RII.dot(arr_stress_bot) #resultant pressure bottom\n",
    "\n",
    "tauTop_RII, tauBot_RII"
   ]
  },
  {
   "cell_type": "markdown",
   "id": "cc691c3e",
   "metadata": {},
   "source": [
    "Allowable stresses"
   ]
  },
  {
   "cell_type": "code",
   "execution_count": 28,
   "id": "e3454b2c",
   "metadata": {},
   "outputs": [
    {
     "data": {
      "text/plain": [
       "(-2771, 12600)"
      ]
     },
     "execution_count": 28,
     "metadata": {},
     "output_type": "execute_result"
    }
   ],
   "source": [
    "tauTop_perm = -int(0.259*math.pow(fck, 2/3)*1000) #permissible stress on top (tensile) kN/m2\n",
    "\n",
    "tauBot_perm = int(0.36*35*1000) #permissible stress on top (compression) kN/m2\n",
    "tauTop_perm, tauBot_perm"
   ]
  },
  {
   "cell_type": "markdown",
   "id": "4e538aa2",
   "metadata": {},
   "source": [
    "check"
   ]
  },
  {
   "cell_type": "code",
   "execution_count": 29,
   "id": "652cf4a8",
   "metadata": {
    "scrolled": true
   },
   "outputs": [
    {
     "name": "stdout",
     "output_type": "stream",
     "text": [
      "top ok\n",
      "bottom ok\n"
     ]
    }
   ],
   "source": [
    "if all(tauTop_RII>tauTop_perm) == True:\n",
    "    print('top ok')\n",
    "else:\n",
    "    print('top not ok')\n",
    "    \n",
    "if all(tauBot_RII<tauBot_perm) == True:\n",
    "    print('bottom ok')\n",
    "else:\n",
    "    print('bottom not ok')"
   ]
  },
  {
   "cell_type": "markdown",
   "id": "bef5ecec",
   "metadata": {},
   "source": [
    "**Case 2: Rare combination II**"
   ]
  },
  {
   "cell_type": "markdown",
   "id": "57e79bba",
   "metadata": {},
   "source": [
    "RII = DL + ODL + 1.2*Surf + LL + PS@25%loss"
   ]
  },
  {
   "cell_type": "code",
   "execution_count": 30,
   "id": "0463f6b6",
   "metadata": {},
   "outputs": [
    {
     "data": {
      "text/plain": [
       "(array([2024.19582854, 3024.67097241, 3735.43705314, 4159.57655663,\n",
       "        4302.79502008, 4158.54817095, 3727.57324159, 3013.23585786,\n",
       "        2024.19582854]),\n",
       " array([7075.4592306 , 4985.61655203, 3500.93270047, 2614.96882471,\n",
       "        2315.80691239, 2617.11696831, 3517.35902459, 5009.50279304,\n",
       "        7075.4592306 ]))"
      ]
     },
     "execution_count": 30,
     "metadata": {},
     "output_type": "execute_result"
    }
   ],
   "source": [
    "psf_RII = np.array([1, 1, 1.2, 1, 0.75]) #partial safety factor [DL, ODL, surf, LL, PS] irc:6-2007 table B3\n",
    "\n",
    "tauTop_RII = psf_RII.dot(arr_stress_top) #resultant pressure top\n",
    "\n",
    "tauBot_RII = psf_RII.dot(arr_stress_bot) #resultant pressure bottom\n",
    "\n",
    "tauTop_RII, tauBot_RII"
   ]
  },
  {
   "cell_type": "markdown",
   "id": "9a3e26ca",
   "metadata": {},
   "source": [
    "Allowable stresses"
   ]
  },
  {
   "cell_type": "code",
   "execution_count": 31,
   "id": "7b6c5c63",
   "metadata": {},
   "outputs": [
    {
     "data": {
      "text/plain": [
       "(-2771, 16100)"
      ]
     },
     "execution_count": 31,
     "metadata": {},
     "output_type": "execute_result"
    }
   ],
   "source": [
    "tauTop_perm = -int(0.259*math.pow(fck, 2/3)*1000) #permissible stress on top (tensile) kN/m2\n",
    "\n",
    "tauBot_perm = int(0.46*35*1000) #permissible stress on top (compression) kN/m2\n",
    "tauTop_perm, tauBot_perm"
   ]
  },
  {
   "cell_type": "markdown",
   "id": "d5f30a46",
   "metadata": {},
   "source": [
    "check"
   ]
  },
  {
   "cell_type": "code",
   "execution_count": 32,
   "id": "1a53c824",
   "metadata": {},
   "outputs": [
    {
     "name": "stdout",
     "output_type": "stream",
     "text": [
      "top ok\n",
      "bottom ok\n"
     ]
    }
   ],
   "source": [
    "if all(tauTop_RII>tauTop_perm) == True:\n",
    "    print('top ok')\n",
    "else:\n",
    "    print('top not ok')\n",
    "    \n",
    "if all(tauBot_RII<tauBot_perm) == True:\n",
    "    print('bottom ok')\n",
    "else:\n",
    "    print('bottom not ok')"
   ]
  },
  {
   "cell_type": "markdown",
   "id": "2dd10dd0",
   "metadata": {},
   "source": [
    "**Case 3: Permanent combination**"
   ]
  },
  {
   "cell_type": "markdown",
   "id": "2800594b",
   "metadata": {},
   "source": [
    "RII = DL + ODL + 1.2*Surf + 0.75*LL + PS@25%loss"
   ]
  },
  {
   "cell_type": "code",
   "execution_count": 33,
   "id": "3d98172d",
   "metadata": {},
   "outputs": [
    {
     "data": {
      "text/plain": [
       "(array([2024.19582854, 2960.21623207, 3625.90796806, 4023.58290095,\n",
       "        4157.52018362, 4022.81161169, 3620.0101094 , 2951.63989616,\n",
       "        2024.19582854]),\n",
       " array([7075.4592306 , 5120.25284762, 3729.72254892, 2899.03919607,\n",
       "        2619.26427983, 2900.65030378, 3742.042292  , 5138.16752838,\n",
       "        7075.4592306 ]))"
      ]
     },
     "execution_count": 33,
     "metadata": {},
     "output_type": "execute_result"
    }
   ],
   "source": [
    "psf_P = np.array([1, 1, 1.2, 0.75, 0.75]) #partial safety factor [DL, ODL, surf, LL, PS] irc:6-2007 table B3\n",
    "\n",
    "tauTop_P = psf_P.dot(arr_stress_top) #resultant pressure top\n",
    "\n",
    "tauBot_P = psf_P.dot(arr_stress_bot) #resultant pressure bottom\n",
    "\n",
    "tauTop_P, tauBot_P"
   ]
  },
  {
   "cell_type": "markdown",
   "id": "3ec3186c",
   "metadata": {},
   "source": [
    "Allowable stresses"
   ]
  },
  {
   "cell_type": "code",
   "execution_count": 34,
   "id": "9f7f65da",
   "metadata": {},
   "outputs": [
    {
     "data": {
      "text/plain": [
       "(-2771, 12600)"
      ]
     },
     "execution_count": 34,
     "metadata": {},
     "output_type": "execute_result"
    }
   ],
   "source": [
    "tauTop_perm = -int(0.259*math.pow(fck, 2/3)*1000) #permissible stress on top (tensile) kN/m2\n",
    "\n",
    "tauBot_perm = int(0.36*35*1000) #permissible stress on top (compression) kN/m2\n",
    "tauTop_perm, tauBot_perm"
   ]
  },
  {
   "cell_type": "markdown",
   "id": "b9ae46c6",
   "metadata": {},
   "source": [
    "check"
   ]
  },
  {
   "cell_type": "code",
   "execution_count": 35,
   "id": "8656e048",
   "metadata": {},
   "outputs": [
    {
     "name": "stdout",
     "output_type": "stream",
     "text": [
      "top ok\n",
      "bottom ok\n"
     ]
    }
   ],
   "source": [
    "if all(tauTop_P>tauTop_perm) == True:\n",
    "    print('top ok')\n",
    "else:\n",
    "    print('top not ok')\n",
    "    \n",
    "if all(tauBot_P<tauBot_perm) == True:\n",
    "    print('bottom ok')\n",
    "else:\n",
    "    print('bottom not ok')"
   ]
  },
  {
   "cell_type": "markdown",
   "id": "2ad5f05d",
   "metadata": {},
   "source": [
    "**Case 4: Quasi-Permanent**"
   ]
  },
  {
   "cell_type": "markdown",
   "id": "9724a060",
   "metadata": {},
   "source": [
    "QP = DL + ODL + PS@25%loss"
   ]
  },
  {
   "cell_type": "code",
   "execution_count": 36,
   "id": "dae524c0",
   "metadata": {},
   "outputs": [
    {
     "data": {
      "text/plain": [
       "(array([2024.19582854, 2712.42815818, 3204.02267936, 3498.97939206,\n",
       "        3597.2982963 , 3498.97939206, 3204.02267936, 2712.42815818,\n",
       "        2024.19582854]),\n",
       " array([7075.4592306 , 5637.84500892, 4610.97770772, 3994.857327  ,\n",
       "        3789.48386676, 3994.857327  , 4610.97770772, 5637.84500892,\n",
       "        7075.4592306 ]))"
      ]
     },
     "execution_count": 36,
     "metadata": {},
     "output_type": "execute_result"
    }
   ],
   "source": [
    "psf_QP = np.array([1, 1, 0, 0, 0.75]) #partial safety factor [DL, ODL, surf, LL, PS] irc:6-2007 table B3\n",
    "\n",
    "tauTop_QP = psf_QP.dot(arr_stress_top) #resultant pressure top\n",
    "\n",
    "tauBot_QP = psf_QP.dot(arr_stress_bot) #resultant pressure bottom\n",
    "\n",
    "tauTop_QP, tauBot_QP"
   ]
  },
  {
   "cell_type": "markdown",
   "id": "b3f4a805",
   "metadata": {},
   "source": [
    "Allowable stresses"
   ]
  },
  {
   "cell_type": "code",
   "execution_count": 37,
   "id": "e559099d",
   "metadata": {},
   "outputs": [
    {
     "data": {
      "text/plain": [
       "(-2771, 12600)"
      ]
     },
     "execution_count": 37,
     "metadata": {},
     "output_type": "execute_result"
    }
   ],
   "source": [
    "tauTop_perm = -int(0.259*math.pow(fck, 2/3)*1000) #permissible stress on top (tensile) kN/m2\n",
    "\n",
    "tauBot_perm = int(0.36*35*1000) #permissible stress on top (compression) kN/m2\n",
    "tauTop_perm, tauBot_perm"
   ]
  },
  {
   "cell_type": "markdown",
   "id": "eaddffb3",
   "metadata": {},
   "source": [
    "check"
   ]
  },
  {
   "cell_type": "code",
   "execution_count": 38,
   "id": "8f6c8d3f",
   "metadata": {},
   "outputs": [
    {
     "name": "stdout",
     "output_type": "stream",
     "text": [
      "top ok\n",
      "bottom ok\n"
     ]
    }
   ],
   "source": [
    "if all(tauTop_QP>tauTop_perm) == True:\n",
    "    print('top ok')\n",
    "else:\n",
    "    print('top not ok')\n",
    "    \n",
    "if all(tauBot_QP<tauBot_perm) == True:\n",
    "    print('bottom ok')\n",
    "else:\n",
    "    print('bottom not ok')"
   ]
  },
  {
   "cell_type": "code",
   "execution_count": null,
   "id": "9d0d71d7",
   "metadata": {},
   "outputs": [],
   "source": []
  }
 ],
 "metadata": {
  "kernelspec": {
   "display_name": "Python 3 (ipykernel)",
   "language": "python",
   "name": "python3"
  },
  "language_info": {
   "codemirror_mode": {
    "name": "ipython",
    "version": 3
   },
   "file_extension": ".py",
   "mimetype": "text/x-python",
   "name": "python",
   "nbconvert_exporter": "python",
   "pygments_lexer": "ipython3",
   "version": "3.9.7"
  }
 },
 "nbformat": 4,
 "nbformat_minor": 5
}
