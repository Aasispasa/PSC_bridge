{
 "cells": [
  {
   "cell_type": "code",
   "execution_count": 2,
   "id": "ad2d0895",
   "metadata": {},
   "outputs": [
    {
     "ename": "IndexError",
     "evalue": "list index out of range",
     "output_type": "error",
     "traceback": [
      "\u001b[0;31m---------------------------------------------------------------------------\u001b[0m",
      "\u001b[0;31mIndexError\u001b[0m                                Traceback (most recent call last)",
      "\u001b[0;32m<ipython-input-2-dc06443c26eb>\u001b[0m in \u001b[0;36m<module>\u001b[0;34m\u001b[0m\n\u001b[0;32m----> 1\u001b[0;31m \u001b[0;32mfrom\u001b[0m \u001b[0mbridge_specs\u001b[0m \u001b[0;32mimport\u001b[0m \u001b[0mbox\u001b[0m\u001b[0;34m\u001b[0m\u001b[0;34m\u001b[0m\u001b[0m\n\u001b[0m\u001b[1;32m      2\u001b[0m \u001b[0mspan\u001b[0m \u001b[0;34m=\u001b[0m \u001b[0mbox\u001b[0m\u001b[0;34m[\u001b[0m\u001b[0;34m'span'\u001b[0m\u001b[0;34m]\u001b[0m\u001b[0;34m\u001b[0m\u001b[0;34m\u001b[0m\u001b[0m\n",
      "\u001b[0;32m~/PycharmProjects/PSC_bridge/bridge_specs.py\u001b[0m in \u001b[0;36m<module>\u001b[0;34m\u001b[0m\n\u001b[1;32m     81\u001b[0m     \u001b[0;34m'Q'\u001b[0m\u001b[0;34m:\u001b[0m\u001b[0;36m516.89\u001b[0m\u001b[0;34m,\u001b[0m\u001b[0;34m\u001b[0m\u001b[0;34m\u001b[0m\u001b[0m\n\u001b[1;32m     82\u001b[0m \u001b[0;34m\u001b[0m\u001b[0m\n\u001b[0;32m---> 83\u001b[0;31m     \u001b[0;34m'cross_area'\u001b[0m\u001b[0;34m:\u001b[0m\u001b[0marr1\u001b[0m\u001b[0;34m[\u001b[0m\u001b[0;36m5\u001b[0m\u001b[0;34m]\u001b[0m\u001b[0;34m,\u001b[0m\u001b[0;34m\u001b[0m\u001b[0;34m\u001b[0m\u001b[0m\n\u001b[0m\u001b[1;32m     84\u001b[0m \u001b[0;34m\u001b[0m\u001b[0m\n\u001b[1;32m     85\u001b[0m     \u001b[0;34m'lww_final'\u001b[0m\u001b[0;34m:\u001b[0m\u001b[0marr1\u001b[0m\u001b[0;34m[\u001b[0m\u001b[0;36m4\u001b[0m\u001b[0;34m]\u001b[0m\u001b[0;34m\u001b[0m\u001b[0;34m\u001b[0m\u001b[0m\n",
      "\u001b[0;31mIndexError\u001b[0m: list index out of range"
     ]
    }
   ],
   "source": [
    "from bridge_specs import box\n",
    "span = box['span']"
   ]
  },
  {
   "cell_type": "code",
   "execution_count": 5,
   "id": "b0a71a63",
   "metadata": {},
   "outputs": [],
   "source": [
    "class cross_section:\n",
    "    def __init__(self, distance, span_length):\n",
    "        self.distance = distance\n",
    "        self.span_length = span_length\n",
    "    class cables:\n",
    "        def __init__(self, number):\n",
    "            self.number = number"
   ]
  },
  {
   "cell_type": "code",
   "execution_count": 6,
   "id": "b5d91548",
   "metadata": {},
   "outputs": [
    {
     "name": "stdout",
     "output_type": "stream",
     "text": [
      "((0, 1), (0, 0.25))\n",
      "((0, 0), (0, 0))\n",
      "((1, 0), (1, 0))\n",
      "((1, 1), (1, 0.25))\n"
     ]
    }
   ],
   "source": [
    "end_cables_pos = [(0,1), (0,0), (1,0), (1,1)]\n",
    "mid_cables_pos = [(0,0.25), (0,0), (1,0), (1,0.25)]\n",
    "all_cable_pos = zip(end_cables_pos, mid_cables_pos)\n",
    "for i in all_cable_pos:\n",
    "    print(i)"
   ]
  },
  {
   "cell_type": "markdown",
   "id": "b652299a",
   "metadata": {},
   "source": [
    "### Cable profile"
   ]
  },
  {
   "cell_type": "code",
   "execution_count": 7,
   "id": "42a530f6",
   "metadata": {},
   "outputs": [],
   "source": [
    "def cable_profile(end_cable_pos, mid_cable_pos, span_length, division=8):\n",
    "    cable_profile = []\n",
    "    x = [(j)/division*span_length for j in range(division+1)]\n",
    "    for i in x:\n",
    "        cable_pos_x = []\n",
    "        for j in range(len(end_cable_pos)):\n",
    "            h = end_cable_pos[j][1]-mid_cable_pos[j][1]\n",
    "            a = end_cable_pos[j][1]\n",
    "            y = a + 4*h*i/span_length - 4*h*i**2/span_length**2\n",
    "            cable_pos_x.append((end_cable_pos[j][0], y))\n",
    "        cable_profile.append(cable_pos_x)\n",
    "    return cable_profile"
   ]
  },
  {
   "cell_type": "code",
   "execution_count": 8,
   "id": "16880081",
   "metadata": {},
   "outputs": [
    {
     "data": {
      "text/plain": [
       "[[(0, 1.0), (0, 0.0), (1, 0.0), (1, 1.0)],\n",
       " [(0, 1.328125), (0, 0.0), (1, 0.0), (1, 1.328125)],\n",
       " [(0, 1.5625), (0, 0.0), (1, 0.0), (1, 1.5625)],\n",
       " [(0, 1.703125), (0, 0.0), (1, 0.0), (1, 1.703125)],\n",
       " [(0, 1.75), (0, 0.0), (1, 0.0), (1, 1.75)],\n",
       " [(0, 1.703125), (0, 0.0), (1, 0.0), (1, 1.703125)],\n",
       " [(0, 1.5625), (0, 0.0), (1, 0.0), (1, 1.5625)],\n",
       " [(0, 1.328125), (0, 0.0), (1, 0.0), (1, 1.328125)],\n",
       " [(0, 1.0), (0, 0.0), (1, 0.0), (1, 1.0)]]"
      ]
     },
     "execution_count": 8,
     "metadata": {},
     "output_type": "execute_result"
    }
   ],
   "source": [
    "cable_profile(end_cables_pos, mid_cables_pos, 50)"
   ]
  },
  {
   "cell_type": "markdown",
   "id": "42b1a6f5",
   "metadata": {},
   "source": [
    "### Moment of inertia including cable"
   ]
  },
  {
   "cell_type": "code",
   "execution_count": 9,
   "id": "89581611",
   "metadata": {},
   "outputs": [],
   "source": [
    "def MOI(cable_positions, cable_area, cable_moi, section_moi, centroid):\n",
    "    cable_moi_sum = 0\n",
    "    for i in cable_positions:\n",
    "        cable_moi_sum = cable_area*(i[1]-centroid[1])**2\n",
    "    moi = len(cable_positions)*cable_moi + section_moi + cable_moi_sum"
   ]
  },
  {
   "cell_type": "markdown",
   "id": "0f4a8186",
   "metadata": {},
   "source": [
    "### Eccentricity of cables"
   ]
  },
  {
   "cell_type": "code",
   "execution_count": 12,
   "id": "d3292083",
   "metadata": {},
   "outputs": [
    {
     "data": {
      "text/plain": [
       "0.5"
      ]
     },
     "execution_count": 12,
     "metadata": {},
     "output_type": "execute_result"
    }
   ],
   "source": [
    "def eccentricity(cable_positions, centroid):\n",
    "    cable_area_sum = len(cable_positions)\n",
    "    cable_areaxpos_sum = 0\n",
    "    for i in cable_positions:\n",
    "        cable_areaxpos_sum+=(centroid[1]-i[1])\n",
    "    return cable_areaxpos_sum/cable_area_sum\n",
    "\n",
    "eccentricity(end_cables_pos, (0.50, 1))"
   ]
  },
  {
   "cell_type": "markdown",
   "id": "8e7272c8",
   "metadata": {},
   "source": [
    "### Stress"
   ]
  },
  {
   "cell_type": "markdown",
   "id": "93a9962e",
   "metadata": {},
   "source": [
    "Prestressing stress"
   ]
  },
  {
   "cell_type": "code",
   "execution_count": 13,
   "id": "c4649f13",
   "metadata": {},
   "outputs": [],
   "source": [
    "def pre_stress(no_of_cables, prestressing_force, cross_section, cable_position):\n",
    "    p1 = no_of_cables*prestressing_force/cross_section.area\n",
    "    p2_top = no_of_cables*prestressing_force*eccentricity(cable_position, cross_section.centroid)/cross_section.moi*(cross_section.topface-centroid[1])\n",
    "    p2_bot = no_of_cables*prestressing_force*eccentricity(cable_position, cross_section.centroid)/cross_section.moi*(centroid[1]-cross_section.botface)\n",
    "    return (p1+p2_top, p1-p2_bot)"
   ]
  }
 ],
 "metadata": {
  "kernelspec": {
   "display_name": "Python 3",
   "language": "python",
   "name": "python3"
  },
  "language_info": {
   "codemirror_mode": {
    "name": "ipython",
    "version": 3
   },
   "file_extension": ".py",
   "mimetype": "text/x-python",
   "name": "python",
   "nbconvert_exporter": "python",
   "pygments_lexer": "ipython3",
   "version": "3.9.5"
  }
 },
 "nbformat": 4,
 "nbformat_minor": 5
}
