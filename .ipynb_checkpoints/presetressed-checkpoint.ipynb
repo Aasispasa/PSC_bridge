{
 "cells": [
  {
   "cell_type": "code",
   "execution_count": 1,
   "id": "fcca2003",
   "metadata": {},
   "outputs": [
    {
     "name": "stdout",
     "output_type": "stream",
     "text": [
      "[[3.8, 4.2], [3.8, 4.35], [3.8, 4.5], [3.8, 4.65], [3.8, 4.8], [6.8, 4.2], [6.8, 4.35], [6.8, 4.5], [6.8, 4.65], [6.8, 4.8], [4.4, 3.75], [5.0, 3.75], [5.6, 3.75], [6.2, 3.75]]\n"
     ]
    }
   ],
   "source": [
    "from Cross import Cross_section, section"
   ]
  },
  {
   "cell_type": "code",
   "execution_count": 2,
   "id": "ad2d0895",
   "metadata": {},
   "outputs": [],
   "source": [
    "from bridge_specs import box\n",
    "span = box['span']"
   ]
  },
  {
   "cell_type": "code",
   "execution_count": 3,
   "id": "b5d91548",
   "metadata": {},
   "outputs": [
    {
     "name": "stdout",
     "output_type": "stream",
     "text": [
      "((0, 1), (0, 0.25))\n",
      "((0, 0), (0, 0))\n",
      "((1, 0), (1, 0))\n",
      "((1, 1), (1, 0.25))\n"
     ]
    }
   ],
   "source": [
    "end_cables_pos = [(0,1), (0,0), (1,0), (1,1)]\n",
    "mid_cables_pos = [(0,0.25), (0,0), (1,0), (1,0.25)]\n",
    "all_cable_pos = zip(end_cables_pos, mid_cables_pos)\n",
    "for i in all_cable_pos:\n",
    "    print(i)"
   ]
  },
  {
   "cell_type": "markdown",
   "id": "b652299a",
   "metadata": {},
   "source": [
    "### Cable profile"
   ]
  },
  {
   "cell_type": "code",
   "execution_count": 4,
   "id": "42a530f6",
   "metadata": {},
   "outputs": [],
   "source": [
    "def cable_profile(end_cable_pos, mid_cable_pos, span_length, division=8):\n",
    "    cable_profile = []\n",
    "    x = [(j)/division*span_length for j in range(division+1)]\n",
    "    for i in x:\n",
    "        cable_pos_x = []\n",
    "        for j in range(len(end_cable_pos)):\n",
    "            h = end_cable_pos[j][1]-mid_cable_pos[j][1]\n",
    "            a = end_cable_pos[j][1]\n",
    "            y = a + 4*h*i/span_length - 4*h*i**2/span_length**2\n",
    "            cable_pos_x.append((end_cable_pos[j][0], y))\n",
    "        cable_profile.append(cable_pos_x)\n",
    "    return cable_profile"
   ]
  },
  {
   "cell_type": "code",
   "execution_count": 5,
   "id": "16880081",
   "metadata": {},
   "outputs": [
    {
     "data": {
      "text/plain": [
       "[[(0, 1.0), (0, 0.0), (1, 0.0), (1, 1.0)],\n",
       " [(0, 1.328125), (0, 0.0), (1, 0.0), (1, 1.328125)],\n",
       " [(0, 1.5625), (0, 0.0), (1, 0.0), (1, 1.5625)],\n",
       " [(0, 1.703125), (0, 0.0), (1, 0.0), (1, 1.703125)],\n",
       " [(0, 1.75), (0, 0.0), (1, 0.0), (1, 1.75)],\n",
       " [(0, 1.703125), (0, 0.0), (1, 0.0), (1, 1.703125)],\n",
       " [(0, 1.5625), (0, 0.0), (1, 0.0), (1, 1.5625)],\n",
       " [(0, 1.328125), (0, 0.0), (1, 0.0), (1, 1.328125)],\n",
       " [(0, 1.0), (0, 0.0), (1, 0.0), (1, 1.0)]]"
      ]
     },
     "execution_count": 5,
     "metadata": {},
     "output_type": "execute_result"
    }
   ],
   "source": [
    "cable_profile(end_cables_pos, mid_cables_pos, 50)"
   ]
  },
  {
   "cell_type": "markdown",
   "id": "42b1a6f5",
   "metadata": {},
   "source": [
    "### Moment of inertia including cable"
   ]
  },
  {
   "cell_type": "code",
   "execution_count": 6,
   "id": "89581611",
   "metadata": {},
   "outputs": [],
   "source": [
    "# def MOI(cable_positions, cable_area, cable_moi, section_moi, centroid):\n",
    "#     cable_moi_sum = 0\n",
    "#     for i in cable_positions:\n",
    "#         cable_moi_sum = cable_area*(i[1]-centroid[1])**2\n",
    "#     moi = len(cable_positions)*cable_moi + section_moi + cable_moi_sum"
   ]
  },
  {
   "cell_type": "markdown",
   "id": "0f4a8186",
   "metadata": {},
   "source": [
    "### Eccentricity of cables"
   ]
  },
  {
   "cell_type": "code",
   "execution_count": 7,
   "id": "d3292083",
   "metadata": {},
   "outputs": [
    {
     "data": {
      "text/plain": [
       "0.5"
      ]
     },
     "execution_count": 7,
     "metadata": {},
     "output_type": "execute_result"
    }
   ],
   "source": [
    "def eccentricity(cable_positions, centroid):\n",
    "    cable_area_sum = len(cable_positions)\n",
    "    cable_areaxpos_sum = 0\n",
    "    for i in cable_positions:\n",
    "        cable_areaxpos_sum+=(centroid[1]-i[1])\n",
    "    return cable_areaxpos_sum/cable_area_sum\n",
    "\n",
    "eccentricity(end_cables_pos, (0.50, 1))"
   ]
  },
  {
   "cell_type": "markdown",
   "id": "8e7272c8",
   "metadata": {},
   "source": [
    "### Stress"
   ]
  },
  {
   "cell_type": "markdown",
   "id": "93a9962e",
   "metadata": {},
   "source": [
    "Case 1: Rare combination"
   ]
  },
  {
   "cell_type": "code",
   "execution_count": 20,
   "id": "6103092e",
   "metadata": {},
   "outputs": [],
   "source": [
    "list_of_sections = [section for i in range(9)]\n",
    "prestressing_force_full = 2700\n",
    "# bm_pre = [prestressing_force_full*eccentricity(i.cable_positions, i.Centroid[1]) for i in list_of_sections]\n",
    "bm_pre = [1, 2, 3, 4, 5, 6, 7, 8, 9] #dummy\n",
    "bm_dl = [1, 2, 3, 4, 5, 6, 7, 8, 9] #dl bata ayeko bm"
   ]
  },
  {
   "cell_type": "code",
   "execution_count": 21,
   "id": "2ee3867d",
   "metadata": {},
   "outputs": [],
   "source": [
    "def tau(section, bm):\n",
    "    tau_top = bm*section.ymax/section.I[0]\n",
    "    tau_bot = bm*section.ymin/section.I[0]\n",
    "    return (tau_top, tau_bot)"
   ]
  },
  {
   "cell_type": "code",
   "execution_count": 22,
   "id": "7d479094",
   "metadata": {
    "scrolled": true
   },
   "outputs": [],
   "source": [
    "list_tau_pre = [tau(list_of_sections[index], bm_pre[index]) for index in range(len(list_of_sections))]\n",
    "\n",
    "# for index, i in enumerate(list_of_sections):\n",
    "#     list_tau_pre.append(tau(i, bm_pre[index]))\n",
    "    \n",
    "list_tau_ax = [prestressing_force_full/sum(i.section_area) for i in list_of_sections]\n",
    "\n",
    "list_tau_resultant = [(list_tau_pre[index][0] + list_tau_ax[index], list_tau_pre[index][0] + list_tau_ax[index]) for index in range(len(list_of_sections))]"
   ]
  },
  {
   "cell_type": "code",
   "execution_count": 25,
   "id": "a626e483",
   "metadata": {},
   "outputs": [
    {
     "data": {
      "text/plain": [
       "[(0.1654630027577, 0.10020744240669736),\n",
       " (0.3309260055154, 0.20041488481339473),\n",
       " (0.4963890082731, 0.30062232722009213),\n",
       " (0.6618520110308, 0.40082976962678946),\n",
       " (0.8273150137885001, 0.5010372120334868),\n",
       " (0.9927780165462, 0.6012446544401843),\n",
       " (1.1582410193039, 0.7014520968468816),\n",
       " (1.3237040220616, 0.8016595392535789),\n",
       " (1.4891670248193, 0.9018669816602763)]"
      ]
     },
     "execution_count": 25,
     "metadata": {},
     "output_type": "execute_result"
    }
   ],
   "source": [
    "list_tau_pre"
   ]
  }
 ],
 "metadata": {
  "kernelspec": {
   "display_name": "Python 3",
   "language": "python",
   "name": "python3"
  },
  "language_info": {
   "codemirror_mode": {
    "name": "ipython",
    "version": 3
   },
   "file_extension": ".py",
   "mimetype": "text/x-python",
   "name": "python",
   "nbconvert_exporter": "python",
   "pygments_lexer": "ipython3",
   "version": "3.9.5"
  }
 },
 "nbformat": 4,
 "nbformat_minor": 5
}
