{
 "cells": [
  {
   "cell_type": "code",
   "execution_count": 13,
   "id": "fcca2003",
   "metadata": {},
   "outputs": [],
   "source": [
    "from Cross import Cross_section, section"
   ]
  },
  {
   "cell_type": "code",
   "execution_count": 1,
   "id": "ad2d0895",
   "metadata": {},
   "outputs": [],
   "source": [
    "from bridge_specs import box\n",
    "span = box['span']\n"
   ]
  },
  {
   "cell_type": "code",
   "execution_count": 5,
   "id": "b0a71a63",
   "metadata": {},
   "outputs": [],
   "source": [
    "class cross_section:\n",
    "    def __init__(self, distance, span_length):\n",
    "        self.distance = distance\n",
    "        self.span_length = span_length\n",
    "    class cables:\n",
    "        def __init__(self, number):\n",
    "            self.number = number"
   ]
  },
  {
   "cell_type": "code",
   "execution_count": 19,
   "id": "b5d91548",
   "metadata": {},
   "outputs": [
    {
     "name": "stdout",
     "output_type": "stream",
     "text": [
      "((0, 1), (0, 0.25))\n",
      "((0, 0), (0, 0))\n",
      "((1, 0), (1, 0))\n",
      "((1, 1), (1, 0.25))\n"
     ]
    }
   ],
   "source": [
    "end_cables_pos = [(0,1), (0,0), (1,0), (1,1)]\n",
    "mid_cables_pos = [(0,0.25), (0,0), (1,0), (1,0.25)]\n",
    "all_cable_pos = zip(end_cables_pos, mid_cables_pos)\n",
    "for i in all_cable_pos:\n",
    "    print(i)"
   ]
  },
  {
   "cell_type": "markdown",
   "id": "b652299a",
   "metadata": {},
   "source": [
    "### Cable profile"
   ]
  },
  {
   "cell_type": "code",
   "execution_count": 20,
   "id": "42a530f6",
   "metadata": {},
   "outputs": [],
   "source": [
    "def cable_profile(end_cable_pos, mid_cable_pos, span_length, division=8):\n",
    "    cable_profile = []\n",
    "    x = [(j)/division*span_length for j in range(division+1)]\n",
    "    for i in x:\n",
    "        cable_pos_x = []\n",
    "        for j in range(len(end_cable_pos)):\n",
    "            h = end_cable_pos[j][1]-mid_cable_pos[j][1]\n",
    "            a = end_cable_pos[j][1]\n",
    "            y = a + 4*h*i/span_length - 4*h*i**2/span_length**2\n",
    "            cable_pos_x.append((end_cable_pos[j][0], y))\n",
    "        cable_profile.append(cable_pos_x)\n",
    "    return cable_profile"
   ]
  },
  {
   "cell_type": "code",
   "execution_count": 21,
   "id": "16880081",
   "metadata": {},
   "outputs": [
    {
     "data": {
      "text/plain": [
       "[[(0, 1.0), (0, 0.0), (1, 0.0), (1, 1.0)],\n",
       " [(0, 1.328125), (0, 0.0), (1, 0.0), (1, 1.328125)],\n",
       " [(0, 1.5625), (0, 0.0), (1, 0.0), (1, 1.5625)],\n",
       " [(0, 1.703125), (0, 0.0), (1, 0.0), (1, 1.703125)],\n",
       " [(0, 1.75), (0, 0.0), (1, 0.0), (1, 1.75)],\n",
       " [(0, 1.703125), (0, 0.0), (1, 0.0), (1, 1.703125)],\n",
       " [(0, 1.5625), (0, 0.0), (1, 0.0), (1, 1.5625)],\n",
       " [(0, 1.328125), (0, 0.0), (1, 0.0), (1, 1.328125)],\n",
       " [(0, 1.0), (0, 0.0), (1, 0.0), (1, 1.0)]]"
      ]
     },
     "execution_count": 21,
     "metadata": {},
     "output_type": "execute_result"
    }
   ],
   "source": [
    "cable_profile(end_cables_pos, mid_cables_pos, 50)"
   ]
  },
  {
   "cell_type": "markdown",
   "id": "42b1a6f5",
   "metadata": {},
   "source": [
    "### Moment of inertia including cable"
   ]
  },
  {
   "cell_type": "code",
   "execution_count": 22,
   "id": "89581611",
   "metadata": {},
   "outputs": [],
   "source": [
    "def MOI(cable_positions, cable_area, cable_moi, section_moi, centroid):\n",
    "    cable_moi_sum = 0\n",
    "    for i in cable_positions:\n",
    "        cable_moi_sum = cable_area*(i[1]-centroid[1])**2\n",
    "    moi = len(cable_positions)*cable_moi + section_moi + cable_moi_sum"
   ]
  },
  {
   "cell_type": "markdown",
   "id": "0f4a8186",
   "metadata": {},
   "source": [
    "### Eccentricity of cables"
   ]
  },
  {
   "cell_type": "code",
   "execution_count": 23,
   "id": "d3292083",
   "metadata": {},
   "outputs": [
    {
     "data": {
      "text/plain": [
       "0.5"
      ]
     },
     "execution_count": 23,
     "metadata": {},
     "output_type": "execute_result"
    }
   ],
   "source": [
    "def eccentricity(cable_positions, centroid):\n",
    "    cable_area_sum = len(cable_positions)\n",
    "    cable_areaxpos_sum = 0\n",
    "    for i in cable_positions:\n",
    "        cable_areaxpos_sum+=(centroid[1]-i[1])\n",
    "    return cable_areaxpos_sum/cable_area_sum\n",
    "\n",
    "eccentricity(end_cables_pos, (0.50, 1))"
   ]
  },
  {
   "cell_type": "markdown",
   "id": "8e7272c8",
   "metadata": {},
   "source": [
    "### Stress"
   ]
  },
  {
   "cell_type": "markdown",
   "id": "93a9962e",
   "metadata": {},
   "source": [
    "Case 1: Rare combination"
   ]
  },
  {
   "cell_type": "code",
   "execution_count": 31,
   "id": "6103092e",
   "metadata": {},
   "outputs": [
    {
     "ename": "AttributeError",
     "evalue": "'Cross_section' object has no attribute 'cable_positions'",
     "output_type": "error",
     "traceback": [
      "\u001b[1;31m---------------------------------------------------------------------------\u001b[0m",
      "\u001b[1;31mAttributeError\u001b[0m                            Traceback (most recent call last)",
      "\u001b[1;32m~\\AppData\\Local\\Temp/ipykernel_10928/4153195351.py\u001b[0m in \u001b[0;36m<module>\u001b[1;34m\u001b[0m\n\u001b[0;32m      1\u001b[0m \u001b[0mlist_of_sections\u001b[0m \u001b[1;33m=\u001b[0m \u001b[1;33m[\u001b[0m\u001b[0msection\u001b[0m \u001b[1;32mfor\u001b[0m \u001b[0mi\u001b[0m \u001b[1;32min\u001b[0m \u001b[0mrange\u001b[0m\u001b[1;33m(\u001b[0m\u001b[1;36m9\u001b[0m\u001b[1;33m)\u001b[0m\u001b[1;33m]\u001b[0m\u001b[1;33m\u001b[0m\u001b[1;33m\u001b[0m\u001b[0m\n\u001b[0;32m      2\u001b[0m \u001b[0mprestressing_force\u001b[0m \u001b[1;33m=\u001b[0m \u001b[1;36m2700\u001b[0m\u001b[1;33m\u001b[0m\u001b[1;33m\u001b[0m\u001b[0m\n\u001b[1;32m----> 3\u001b[1;33m \u001b[0mbm_pre\u001b[0m \u001b[1;33m=\u001b[0m \u001b[1;33m[\u001b[0m\u001b[0mprestressing_force\u001b[0m\u001b[1;33m*\u001b[0m\u001b[0meccentricity\u001b[0m\u001b[1;33m(\u001b[0m\u001b[0mi\u001b[0m\u001b[1;33m.\u001b[0m\u001b[0mcable_positions\u001b[0m\u001b[1;33m,\u001b[0m \u001b[0mi\u001b[0m\u001b[1;33m.\u001b[0m\u001b[0msection_centroid\u001b[0m\u001b[1;33m)\u001b[0m \u001b[1;32mfor\u001b[0m \u001b[0mi\u001b[0m \u001b[1;32min\u001b[0m \u001b[0mlist_of_sections\u001b[0m\u001b[1;33m]\u001b[0m\u001b[1;33m\u001b[0m\u001b[1;33m\u001b[0m\u001b[0m\n\u001b[0m\u001b[0;32m      4\u001b[0m \u001b[0mbm_dl\u001b[0m \u001b[1;33m=\u001b[0m \u001b[1;33m[\u001b[0m\u001b[1;33m]\u001b[0m\u001b[1;33m\u001b[0m\u001b[1;33m\u001b[0m\u001b[0m\n",
      "\u001b[1;32m~\\AppData\\Local\\Temp/ipykernel_10928/4153195351.py\u001b[0m in \u001b[0;36m<listcomp>\u001b[1;34m(.0)\u001b[0m\n\u001b[0;32m      1\u001b[0m \u001b[0mlist_of_sections\u001b[0m \u001b[1;33m=\u001b[0m \u001b[1;33m[\u001b[0m\u001b[0msection\u001b[0m \u001b[1;32mfor\u001b[0m \u001b[0mi\u001b[0m \u001b[1;32min\u001b[0m \u001b[0mrange\u001b[0m\u001b[1;33m(\u001b[0m\u001b[1;36m9\u001b[0m\u001b[1;33m)\u001b[0m\u001b[1;33m]\u001b[0m\u001b[1;33m\u001b[0m\u001b[1;33m\u001b[0m\u001b[0m\n\u001b[0;32m      2\u001b[0m \u001b[0mprestressing_force\u001b[0m \u001b[1;33m=\u001b[0m \u001b[1;36m2700\u001b[0m\u001b[1;33m\u001b[0m\u001b[1;33m\u001b[0m\u001b[0m\n\u001b[1;32m----> 3\u001b[1;33m \u001b[0mbm_pre\u001b[0m \u001b[1;33m=\u001b[0m \u001b[1;33m[\u001b[0m\u001b[0mprestressing_force\u001b[0m\u001b[1;33m*\u001b[0m\u001b[0meccentricity\u001b[0m\u001b[1;33m(\u001b[0m\u001b[0mi\u001b[0m\u001b[1;33m.\u001b[0m\u001b[0mcable_positions\u001b[0m\u001b[1;33m,\u001b[0m \u001b[0mi\u001b[0m\u001b[1;33m.\u001b[0m\u001b[0msection_centroid\u001b[0m\u001b[1;33m)\u001b[0m \u001b[1;32mfor\u001b[0m \u001b[0mi\u001b[0m \u001b[1;32min\u001b[0m \u001b[0mlist_of_sections\u001b[0m\u001b[1;33m]\u001b[0m\u001b[1;33m\u001b[0m\u001b[1;33m\u001b[0m\u001b[0m\n\u001b[0m\u001b[0;32m      4\u001b[0m \u001b[0mbm_dl\u001b[0m \u001b[1;33m=\u001b[0m \u001b[1;33m[\u001b[0m\u001b[1;33m]\u001b[0m\u001b[1;33m\u001b[0m\u001b[1;33m\u001b[0m\u001b[0m\n",
      "\u001b[1;31mAttributeError\u001b[0m: 'Cross_section' object has no attribute 'cable_positions'"
     ]
    }
   ],
   "source": [
    "list_of_sections = [section for i in range(9)]\n",
    "prestressing_force = 2700\n",
    "bm_pre = [prestressing_force*eccentricity(i.cable_positions, i.Centroid) for i in list_of_sections]\n",
    "bm_dl = []"
   ]
  },
  {
   "cell_type": "code",
   "execution_count": 25,
   "id": "2ee3867d",
   "metadata": {},
   "outputs": [],
   "source": [
    "def tau(section, bm):\n",
    "    tau_top = bm*section.ymax/section.section_moi\n",
    "    tou_bot = bm*section.ymin/section.section_moi\n",
    "    return (tau_top, tau_bot)"
   ]
  },
  {
   "cell_type": "code",
   "execution_count": 26,
   "id": "7d479094",
   "metadata": {
    "scrolled": true
   },
   "outputs": [
    {
     "ename": "NameError",
     "evalue": "name 'list_of_sections' is not defined",
     "output_type": "error",
     "traceback": [
      "\u001b[1;31m---------------------------------------------------------------------------\u001b[0m",
      "\u001b[1;31mNameError\u001b[0m                                 Traceback (most recent call last)",
      "\u001b[1;32m~\\AppData\\Local\\Temp/ipykernel_10928/853687286.py\u001b[0m in \u001b[0;36m<module>\u001b[1;34m\u001b[0m\n\u001b[0;32m      1\u001b[0m \u001b[0mlist_tau_pre\u001b[0m \u001b[1;33m=\u001b[0m \u001b[1;33m[\u001b[0m\u001b[1;33m]\u001b[0m\u001b[1;33m\u001b[0m\u001b[1;33m\u001b[0m\u001b[0m\n\u001b[1;32m----> 2\u001b[1;33m \u001b[1;32mfor\u001b[0m \u001b[0mindex\u001b[0m\u001b[1;33m,\u001b[0m \u001b[0mi\u001b[0m \u001b[1;32min\u001b[0m \u001b[0menumerate\u001b[0m\u001b[1;33m(\u001b[0m\u001b[0mlist_of_sections\u001b[0m\u001b[1;33m)\u001b[0m\u001b[1;33m:\u001b[0m\u001b[1;33m\u001b[0m\u001b[1;33m\u001b[0m\u001b[0m\n\u001b[0m\u001b[0;32m      3\u001b[0m     \u001b[0mlist_tau_pre\u001b[0m\u001b[1;33m.\u001b[0m\u001b[0mappend\u001b[0m\u001b[1;33m(\u001b[0m\u001b[0mtau\u001b[0m\u001b[1;33m(\u001b[0m\u001b[0mi\u001b[0m\u001b[1;33m,\u001b[0m \u001b[0mbm_pre\u001b[0m\u001b[1;33m[\u001b[0m\u001b[0mindex\u001b[0m\u001b[1;33m]\u001b[0m\u001b[1;33m)\u001b[0m\u001b[1;33m)\u001b[0m\u001b[1;33m\u001b[0m\u001b[1;33m\u001b[0m\u001b[0m\n",
      "\u001b[1;31mNameError\u001b[0m: name 'list_of_sections' is not defined"
     ]
    }
   ],
   "source": [
    "list_tau_pre = []\n",
    "for index, i in enumerate(list_of_sections):\n",
    "    list_tau_pre.append(tau(i, bm_pre[index]))"
   ]
  }
 ],
 "metadata": {
  "kernelspec": {
   "display_name": "Python 3 (ipykernel)",
   "language": "python",
   "name": "python3"
  },
  "language_info": {
   "codemirror_mode": {
    "name": "ipython",
    "version": 3
   },
   "file_extension": ".py",
   "mimetype": "text/x-python",
   "name": "python",
   "nbconvert_exporter": "python",
   "pygments_lexer": "ipython3",
   "version": "3.10.0"
  }
 },
 "nbformat": 4,
 "nbformat_minor": 5
}
