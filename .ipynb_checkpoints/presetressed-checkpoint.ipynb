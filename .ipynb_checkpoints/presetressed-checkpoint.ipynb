{
 "cells": [
  {
   "cell_type": "code",
   "execution_count": 19,
   "id": "ad2d0895",
   "metadata": {},
   "outputs": [],
   "source": [
    "from bridge_specs import box\n",
    "span = box['span']"
   ]
  },
  {
   "cell_type": "code",
   "execution_count": 6,
   "id": "b0a71a63",
   "metadata": {},
   "outputs": [],
   "source": [
    "class cross_section:\n",
    "    def __init__(self, distance, span_length):\n",
    "        self.distance = distance\n",
    "        self.span_length = span_length\n",
    "    class cables:\n",
    "        def __init__(self, number):\n",
    "            self.number = number"
   ]
  },
  {
   "cell_type": "code",
   "execution_count": 25,
   "id": "b5d91548",
   "metadata": {},
   "outputs": [
    {
     "name": "stdout",
     "output_type": "stream",
     "text": [
      "((0, 1), (0, 0.25))\n",
      "((0, 0), (0, 0))\n",
      "((1, 0), (1, 0))\n",
      "((1, 1), (1, 0.25))\n"
     ]
    }
   ],
   "source": [
    "end_cables_pos = [(0,1), (0,0), (1,0), (1,1)]\n",
    "mid_cables_pos = [(0,0.25), (0,0), (1,0), (1,0.25)]\n",
    "all_cable_pos = zip(end_cables_pos, mid_cables_pos)\n",
    "for i in all_cable_pos:\n",
    "    print(i)"
   ]
  },
  {
   "cell_type": "markdown",
   "id": "b652299a",
   "metadata": {},
   "source": [
    "### Cable profile"
   ]
  },
  {
   "cell_type": "code",
   "execution_count": 36,
   "id": "42a530f6",
   "metadata": {},
   "outputs": [],
   "source": [
    "def cable_profile(end_cable_pos, mid_cable_pos, span_length, division=8):\n",
    "    cable_profile = []\n",
    "    x = [(j)/division*span_length for j in range(division+1)]\n",
    "    for i in x:\n",
    "        cable_pos_x = []\n",
    "        for j in range(len(end_cable_pos)):\n",
    "            h = end_cable_pos[j][1]-mid_cable_pos[j][1]\n",
    "            a = end_cable_pos[j][1]\n",
    "            y = a + 4*h*i/span_length - 4*h*i**2/span_length**2\n",
    "            cable_pos_x.append((end_cable_pos[j][0], y))\n",
    "        cable_profile.append(cable_pos_x)\n",
    "    return cable_profile"
   ]
  },
  {
   "cell_type": "code",
   "execution_count": 37,
   "id": "16880081",
   "metadata": {},
   "outputs": [
    {
     "data": {
      "text/plain": [
       "[[(0, 1.0), (0, 0.0), (1, 0.0), (1, 1.0)],\n",
       " [(0, 1.328125), (0, 0.0), (1, 0.0), (1, 1.328125)],\n",
       " [(0, 1.5625), (0, 0.0), (1, 0.0), (1, 1.5625)],\n",
       " [(0, 1.703125), (0, 0.0), (1, 0.0), (1, 1.703125)],\n",
       " [(0, 1.75), (0, 0.0), (1, 0.0), (1, 1.75)],\n",
       " [(0, 1.703125), (0, 0.0), (1, 0.0), (1, 1.703125)],\n",
       " [(0, 1.5625), (0, 0.0), (1, 0.0), (1, 1.5625)],\n",
       " [(0, 1.328125), (0, 0.0), (1, 0.0), (1, 1.328125)],\n",
       " [(0, 1.0), (0, 0.0), (1, 0.0), (1, 1.0)]]"
      ]
     },
     "execution_count": 37,
     "metadata": {},
     "output_type": "execute_result"
    }
   ],
   "source": [
    "cable_profile(end_cables_pos, mid_cables_pos, 50)"
   ]
  },
  {
   "cell_type": "markdown",
   "id": "42b1a6f5",
   "metadata": {},
   "source": [
    "### Moment of inertia including cable"
   ]
  },
  {
   "cell_type": "code",
   "execution_count": 6,
   "id": "89581611",
   "metadata": {},
   "outputs": [],
   "source": [
    "def MOI(cable_positions, cable_area, cable_moi, section_moi, centroid):\n",
    "    cable_moi_sum = 0\n",
    "    for i in cable_positions:\n",
    "        cable_moi_sum = cable_area*(i[1]-centroid[1])**2\n",
    "    moi = len(cable_positions)*cable_moi + section_moi + cable_moi_sum"
   ]
  },
  {
   "cell_type": "markdown",
   "id": "0f4a8186",
   "metadata": {},
   "source": [
    "### Eccentricity of cables"
   ]
  },
  {
   "cell_type": "code",
   "execution_count": 11,
   "id": "d3292083",
   "metadata": {},
   "outputs": [
    {
     "data": {
      "text/plain": [
       "0.5"
      ]
     },
     "execution_count": 11,
     "metadata": {},
     "output_type": "execute_result"
    }
   ],
   "source": [
    "def eccentricity(cable_positions, cable_area, centroid):\n",
    "    cable_area_sum = len(cable_positions)*cable_area\n",
    "    cable_areaxpos_sum = 0\n",
    "    for i in cable_positions:\n",
    "        cable_areaxpos_sum+=cable_area*(centroid[1]-i[1])\n",
    "    return cable_areaxpos_sum/cable_area_sum\n",
    "\n",
    "eccentricity(cables_pos, 1000, (0.50, 1))"
   ]
  },
  {
   "cell_type": "markdown",
   "id": "8e7272c8",
   "metadata": {},
   "source": [
    "### Stress"
   ]
  },
  {
   "cell_type": "code",
   "execution_count": null,
   "id": "e39817ef",
   "metadata": {},
   "outputs": [],
   "source": []
  }
 ],
 "metadata": {
  "kernelspec": {
   "display_name": "Python 3 (ipykernel)",
   "language": "python",
   "name": "python3"
  },
  "language_info": {
   "codemirror_mode": {
    "name": "ipython",
    "version": 3
   },
   "file_extension": ".py",
   "mimetype": "text/x-python",
   "name": "python",
   "nbconvert_exporter": "python",
   "pygments_lexer": "ipython3",
   "version": "3.10.0"
  }
 },
 "nbformat": 4,
 "nbformat_minor": 5
}
