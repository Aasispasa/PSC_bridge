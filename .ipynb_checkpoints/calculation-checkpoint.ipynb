{
 "cells": [
  {
   "cell_type": "markdown",
   "id": "60c1228a",
   "metadata": {},
   "source": [
    "#### importing packages"
   ]
  },
  {
   "cell_type": "code",
   "execution_count": 101,
   "id": "b1c4bd7c",
   "metadata": {},
   "outputs": [],
   "source": [
    "import numpy as np\n",
    "import pandas as pd\n",
    "# import matplotlib.pyplot as plt\n",
    "from allinput import main_input\n",
    "from irc6_2007 import *\n",
    "\n",
    "from reaction import find_bm, find_sf, find_ra, find_rb\n",
    "# from bridge_specs import box, bearing"
   ]
  },
  {
   "cell_type": "markdown",
   "id": "4d315de4",
   "metadata": {},
   "source": [
    "bridge specs"
   ]
  },
  {
   "cell_type": "code",
   "execution_count": 102,
   "id": "e36334be",
   "metadata": {
    "pycharm": {
     "name": "#%%\n"
    }
   },
   "outputs": [],
   "source": [
    "if False:\n",
    "    main_input()\n",
    "\n",
    "df=pd.read_excel('data/span.xlsx',index_col=None,header=None)\n",
    "span = int(df.iloc[2])\n",
    "\n",
    "c_c = 3 #input"
   ]
  },
  {
   "cell_type": "markdown",
   "id": "0300d218",
   "metadata": {},
   "source": [
    "# live load calculations"
   ]
  },
  {
   "cell_type": "markdown",
   "id": "0d79cfcd",
   "metadata": {},
   "source": [
    "#### defining load (vehicles)\n",
    "load pair contains pair (wheel position, wheel load)"
   ]
  },
  {
   "cell_type": "code",
   "execution_count": 103,
   "id": "7021ab02",
   "metadata": {},
   "outputs": [],
   "source": [
    "vehicles = [ll_A, ll_70R, ll_70RT]\n",
    "classA_pair, class70R, class70RT = [list(i.loadpair) for i in vehicles]\n",
    "loads = [classA_pair, class70R, class70RT]"
   ]
  },
  {
   "cell_type": "markdown",
   "id": "65c9a0e0",
   "metadata": {},
   "source": [
    "#### maxBM, maxSF at equal intervals\n",
    "when each vehicle from the list of vehicles travels along the span, max reactions (BM and SF+/-) at equally divided intervals are calculated and stored in maxBMs, maxSFs_plus, maxSFs_minus."
   ]
  },
  {
   "cell_type": "code",
   "execution_count": 104,
   "id": "70aec980",
   "metadata": {},
   "outputs": [],
   "source": [
    "\n",
    "\n",
    "maxBMs = []\n",
    "maxSFs_plus = []\n",
    "maxSFs_minus = []\n",
    "for i in range(len(loads)):\n",
    "    maxBM = []\n",
    "    maxSF_plus = []\n",
    "    maxSF_minus = []\n",
    "    for j in range(9):\n",
    "        at = span / 8 * j\n",
    "        first_wheel_at = 0\n",
    "        step = 0.1\n",
    "\n",
    "        BM = find_bm(span, 0, at)\n",
    "        SF_plus = find_sf(span, 0, at)\n",
    "        SF_minus = find_sf(span, 0, at)\n",
    "        for k in range(int((span + loads[i][-1][0]) / step) + 2):  # '+2' to make sure the load moves all the way to\n",
    "            # end until it has no effect\n",
    "            bm = 0\n",
    "            sf = 0\n",
    "            for this in loads[i]:\n",
    "                a, load = this\n",
    "                pos = -a + first_wheel_at\n",
    "                bm = bm + find_bm(span, pos, at) * load\n",
    "                sf = sf + find_sf(span, pos, at) * load\n",
    "            first_wheel_at += step\n",
    "            BM = bm if bm > BM else BM\n",
    "            SF_plus = sf if sf > SF_plus else SF_plus\n",
    "            SF_minus = sf if sf < SF_minus else SF_minus\n",
    "        maxBM.append(round(BM, 3))\n",
    "        maxSF_plus.append(round(SF_plus, 3))\n",
    "        maxSF_minus.append(round(SF_minus, 3))\n",
    "    maxBMs.append(maxBM)\n",
    "    maxSFs_plus.append(maxSF_plus)\n",
    "    maxSFs_minus.append(maxSF_minus)"
   ]
  },
  {
   "cell_type": "markdown",
   "id": "9929f3f2",
   "metadata": {},
   "source": [
    "#### make a dataframe that contains maxBMs, maxSFs_plus, maxSFs_minus"
   ]
  },
  {
   "cell_type": "code",
   "execution_count": 105,
   "id": "3ec70ad1",
   "metadata": {},
   "outputs": [],
   "source": [
    "A = ['MaxBM', 'MaxSF+', 'MaxSF-']\n",
    "B = ['ClassA', 'Class70RW', 'Class70RT']\n",
    "\n",
    "# A = ['ClassA', 'Class70RW', 'Class70RT']\n",
    "# B = ['MaxBM', 'MaxSF+', 'MaxSF-']\n",
    "\n",
    "iterables = [A, B]\n",
    "index = pd.MultiIndex.from_product(iterables)\n",
    "\n",
    "C = []\n",
    "\n",
    "for i in [maxBMs, maxSFs_plus, maxSFs_minus]:\n",
    "    C.extend(i)\n",
    "\n",
    "# for i in range(len(loads)):\n",
    "#     for j in [maxBMs, maxSFs_plus, maxSFs_minus]:\n",
    "#         C.append(j[i])\n",
    "\n",
    "df = pd.DataFrame(C, index=index, columns=[span / 8 * i for i in range(9)])\n",
    "# print(df.loc[('ClassA', 'MaxSF-')])   ## you can navigate using loc, iloc\n",
    "\n",
    "new_row = df.loc['MaxSF+'].where(df.loc['MaxSF+'] > abs(df.loc['MaxSF-']), abs(df.loc['MaxSF-']))\n",
    "\n",
    "new_row.index = pd.MultiIndex.from_product([['MaxSF'], B])\n",
    "df = pd.concat([df, new_row])\n",
    "\n",
    "# df.to_excel('outputs/loads.xlsx') # uncomment to save as excel file"
   ]
  },
  {
   "cell_type": "markdown",
   "id": "c431b869",
   "metadata": {},
   "source": [
    "*how to read Excel file*"
   ]
  },
  {
   "cell_type": "code",
   "execution_count": 106,
   "id": "eeb374fb",
   "metadata": {},
   "outputs": [],
   "source": [
    "# df = pd.read_excel('outputs/loads.xlsx', index_col=[0, 1])\n",
    "\n",
    "# ###get index names###\n",
    "# A = df.index.get_level_values(0).drop_duplicates().to_list()\n",
    "# B = df.index.get_level_values(1).drop_duplicates().to_list()\n",
    "# print(A, B)"
   ]
  },
  {
   "cell_type": "markdown",
   "id": "493939e4",
   "metadata": {},
   "source": [
    "#### impact factor"
   ]
  },
  {
   "cell_type": "code",
   "execution_count": 107,
   "id": "3f1b5cb6",
   "metadata": {},
   "outputs": [],
   "source": [
    "IF = [impact(i.name, span) for i in vehicles]"
   ]
  },
  {
   "cell_type": "markdown",
   "id": "250ccf91",
   "metadata": {},
   "source": [
    "#### possible combinations for given carriageway width"
   ]
  },
  {
   "cell_type": "code",
   "execution_count": 109,
   "id": "efcaaba5",
   "metadata": {},
   "outputs": [],
   "source": [
    "cwWidth = 6 #input\n",
    "carriageway = Carriageway(cwWidth)\n",
    "combinations = carriageway.combinations()\n",
    "combination_val = [i.get_value() for i in combinations]"
   ]
  },
  {
   "cell_type": "markdown",
   "id": "9e7b50ee",
   "metadata": {},
   "source": [
    "#### eccentricity calculation\n",
    "a combination consists of multiple arrangements gives different eccentricities. maximum eccentricities for each combination calculated."
   ]
  },
  {
   "cell_type": "code",
   "execution_count": 110,
   "id": "cc5bb796",
   "metadata": {},
   "outputs": [],
   "source": [
    "\n",
    "carriageway = Carriageway(width=cwWidth)\n",
    "combinations = carriageway.combinations()\n",
    "list_combinations = []\n",
    "list_max_e = []\n",
    "\n",
    "for i in combinations:\n",
    "    list_combinations.append([i.classA, i.class70Rw, i.class70Rt])\n",
    "    list_max_e.append(i.max_e())\n"
   ]
  },
  {
   "cell_type": "markdown",
   "id": "a2b292dd",
   "metadata": {},
   "source": [
    "#### make a dataframe for combinations and their corresponding eccentricities"
   ]
  },
  {
   "cell_type": "code",
   "execution_count": 111,
   "id": "5080febe",
   "metadata": {},
   "outputs": [],
   "source": [
    "df1 = pd.DataFrame(list_combinations, columns=['ClassA', 'Class70Rw', 'Class70Rt'],\n",
    "                   index=[f'comb{i + 1}' for i in range(len(list_combinations))])\n",
    "df1['MaxEccentricity'] = list_max_e"
   ]
  },
  {
   "cell_type": "markdown",
   "id": "a3368625",
   "metadata": {},
   "source": [
    "*export eccentricity as excel file (uncomment)*"
   ]
  },
  {
   "cell_type": "code",
   "execution_count": 112,
   "id": "2657c077",
   "metadata": {},
   "outputs": [],
   "source": [
    "# df1.to_excel('outputs/max_e.xlsx')"
   ]
  },
  {
   "cell_type": "markdown",
   "id": "01869326",
   "metadata": {},
   "source": [
    "#### total reactions for given combination\n",
    "total reactions = sum of (maxreactions at mid span * impact factor * no. of that vehicles)"
   ]
  },
  {
   "cell_type": "code",
   "execution_count": 113,
   "id": "3620ecd7",
   "metadata": {
    "pycharm": {
     "name": "#%%\n"
    },
    "scrolled": true
   },
   "outputs": [],
   "source": [
    "totalBMs = [(df.loc['MaxBM'][span / 2] + df.loc['MaxBM'][span / 2] * IF).dot(combination_val[i]) for i in range(len(combinations))]\n",
    "totalSFs = [(df.loc['MaxSF'][span / 2] + df.loc['MaxSF'][span / 2] * IF).dot(combination_val[i]) for i in range(len(combinations))]"
   ]
  },
  {
   "cell_type": "code",
   "execution_count": 114,
   "id": "8da0042b",
   "metadata": {
    "scrolled": true
   },
   "outputs": [],
   "source": [
    "df1['TotalBM'] = totalBMs\n",
    "df1['TotalSF'] = totalSFs"
   ]
  },
  {
   "cell_type": "markdown",
   "id": "837d06fe",
   "metadata": {},
   "source": [
    "# loads on peir"
   ]
  },
  {
   "cell_type": "markdown",
   "id": "af472801",
   "metadata": {},
   "source": [
    "pier specs - *better make a pier class*"
   ]
  },
  {
   "cell_type": "code",
   "execution_count": 14,
   "id": "1c8ee32c",
   "metadata": {},
   "outputs": [],
   "source": [
    "pier_width = 1.6 #input\n",
    "pier_height_hfl = 7 #input"
   ]
  },
  {
   "cell_type": "markdown",
   "id": "1420d6ae",
   "metadata": {},
   "source": [
    "**live load components**"
   ]
  },
  {
   "cell_type": "code",
   "execution_count": 15,
   "id": "6544b3d0",
   "metadata": {},
   "outputs": [],
   "source": [
    "dfSF = pd.DataFrame()    # accessing df takes longer\n",
    "dfBM = pd.DataFrame()\n",
    "        #[a, 70r, 70rt]\n",
    "veh_no = [2, 2, 1] # revise this !!!\n",
    "for index, veh in enumerate(vehicles):\n",
    "    new_veh = veh\n",
    "    for i in range(veh_no[index]-1):\n",
    "        new_veh+=veh\n",
    "    final_load = list(new_veh.loadpair)\n",
    "\n",
    "    max_sum_at = 0\n",
    "    sumlr = 0\n",
    "    difflr = 0\n",
    "    nleft = 0\n",
    "    nright = 0\n",
    "\n",
    "    head_at = 0\n",
    "    step = 0.01\n",
    "    for i in range(int((span * 2 + final_load[-1][0]) / step)):\n",
    "        left = 0\n",
    "        right = 0\n",
    "        for j in final_load:\n",
    "            rb = find_rb(span, head_at - j[0], c_c / 2, c_c / 2) * j[1]\n",
    "            ra = find_ra(span, head_at - j[0] - (span + c_c), c_c / 2, c_c / 2) * j[1]\n",
    "            temp_load = 0\n",
    "            if head_at - j[0] == span + c_c / 2:\n",
    "                temp_load = (j[1]) / 2\n",
    "                ra = find_ra(span, head_at - j[0] - (span + c_c), c_c / 2, c_c / 2) * temp_load\n",
    "                rb = find_rb(span, head_at - j[0], c_c / 2, c_c / 2) * temp_load\n",
    "            left += rb\n",
    "            right += ra\n",
    "\n",
    "        if left + right > sumlr:\n",
    "            sumlr = left + right\n",
    "            dfSF.loc[f'{veh.name}', 'RL'], dfSF.loc[f'{veh.name}', 'RR'], dfSF.loc[\n",
    "                f'{veh.name}', 'at'], dfSF.loc[f'{veh.name}', 'sum']= left, right, head_at, left + right\n",
    "\n",
    "        if abs(left - right) > abs(difflr):\n",
    "            difflr = left - right\n",
    "            dfBM.loc[f'{veh.name}', 'RL'], dfBM.loc[f'{veh.name}', 'RR'], dfBM.loc[\n",
    "                f'{veh.name}', 'at'], dfBM.loc[f'{veh.name}', 'sum'] = left, right, head_at, left + right\n",
    "        head_at = round(head_at + step, 5)"
   ]
  },
  {
   "cell_type": "code",
   "execution_count": 52,
   "id": "f01895b9",
   "metadata": {
    "pycharm": {
     "name": "#%%\n"
    }
   },
   "outputs": [
    {
     "data": {
      "text/html": [
       "<div>\n",
       "<style scoped>\n",
       "    .dataframe tbody tr th:only-of-type {\n",
       "        vertical-align: middle;\n",
       "    }\n",
       "\n",
       "    .dataframe tbody tr th {\n",
       "        vertical-align: top;\n",
       "    }\n",
       "\n",
       "    .dataframe thead th {\n",
       "        text-align: right;\n",
       "    }\n",
       "</style>\n",
       "<table border=\"1\" class=\"dataframe\">\n",
       "  <thead>\n",
       "    <tr style=\"text-align: right;\">\n",
       "      <th></th>\n",
       "      <th></th>\n",
       "      <th>RL</th>\n",
       "      <th>RR</th>\n",
       "      <th>at</th>\n",
       "      <th>sum</th>\n",
       "    </tr>\n",
       "  </thead>\n",
       "  <tbody>\n",
       "    <tr>\n",
       "      <th rowspan=\"3\" valign=\"top\">MaxSF</th>\n",
       "      <th>Class A</th>\n",
       "      <td>248.4008</td>\n",
       "      <td>462.9352</td>\n",
       "      <td>70.31</td>\n",
       "      <td>711.3360</td>\n",
       "    </tr>\n",
       "    <tr>\n",
       "      <th>Class 70RW</th>\n",
       "      <td>234.4760</td>\n",
       "      <td>927.1240</td>\n",
       "      <td>64.92</td>\n",
       "      <td>1161.6000</td>\n",
       "    </tr>\n",
       "    <tr>\n",
       "      <th>Class 70RT</th>\n",
       "      <td>350.0660</td>\n",
       "      <td>354.6160</td>\n",
       "      <td>53.46</td>\n",
       "      <td>704.6820</td>\n",
       "    </tr>\n",
       "    <tr>\n",
       "      <th rowspan=\"3\" valign=\"top\">MaxBM</th>\n",
       "      <th>Class A</th>\n",
       "      <td>522.1936</td>\n",
       "      <td>0.0000</td>\n",
       "      <td>51.49</td>\n",
       "      <td>522.1936</td>\n",
       "    </tr>\n",
       "    <tr>\n",
       "      <th>Class 70RW</th>\n",
       "      <td>0.0000</td>\n",
       "      <td>974.0640</td>\n",
       "      <td>109.83</td>\n",
       "      <td>974.0640</td>\n",
       "    </tr>\n",
       "    <tr>\n",
       "      <th>Class 70RT</th>\n",
       "      <td>0.0000</td>\n",
       "      <td>688.8700</td>\n",
       "      <td>56.08</td>\n",
       "      <td>688.8700</td>\n",
       "    </tr>\n",
       "  </tbody>\n",
       "</table>\n",
       "</div>"
      ],
      "text/plain": [
       "                        RL        RR      at        sum\n",
       "MaxSF Class A     248.4008  462.9352   70.31   711.3360\n",
       "      Class 70RW  234.4760  927.1240   64.92  1161.6000\n",
       "      Class 70RT  350.0660  354.6160   53.46   704.6820\n",
       "MaxBM Class A     522.1936    0.0000   51.49   522.1936\n",
       "      Class 70RW    0.0000  974.0640  109.83   974.0640\n",
       "      Class 70RT    0.0000  688.8700   56.08   688.8700"
      ]
     },
     "execution_count": 52,
     "metadata": {},
     "output_type": "execute_result"
    }
   ],
   "source": [
    "total_frame = pd.concat([dfSF, dfBM], keys=['MaxSF', 'MaxBM'])\n",
    "# total_frame.to_excel('outputs/Live_Loads_Seismic.xlsx')\n",
    "total_frame"
   ]
  },
  {
   "cell_type": "code",
   "execution_count": 67,
   "id": "ca1f4b44",
   "metadata": {
    "scrolled": true
   },
   "outputs": [
    {
     "ename": "NameError",
     "evalue": "name 'transpose' is not defined",
     "output_type": "error",
     "traceback": [
      "\u001b[1;31m---------------------------------------------------------------------------\u001b[0m",
      "\u001b[1;31mNameError\u001b[0m                                 Traceback (most recent call last)",
      "\u001b[1;32m~\\AppData\\Local\\Temp/ipykernel_20264/469844413.py\u001b[0m in \u001b[0;36m<module>\u001b[1;34m\u001b[0m\n\u001b[1;32m----> 1\u001b[1;33m \u001b[0mtotal_frame\u001b[0m\u001b[1;33m.\u001b[0m\u001b[0mloc\u001b[0m\u001b[1;33m[\u001b[0m\u001b[1;34m'MaxSF'\u001b[0m\u001b[1;33m]\u001b[0m\u001b[1;33m[\u001b[0m\u001b[1;33m[\u001b[0m\u001b[1;34m'RL'\u001b[0m\u001b[1;33m,\u001b[0m \u001b[1;34m'RR'\u001b[0m\u001b[1;33m,\u001b[0m \u001b[1;34m'sum'\u001b[0m\u001b[1;33m]\u001b[0m\u001b[1;33m]\u001b[0m\u001b[1;33m.\u001b[0m\u001b[0mdot\u001b[0m\u001b[1;33m(\u001b[0m\u001b[0mtranspose\u001b[0m\u001b[1;33m(\u001b[0m\u001b[0mcombination_val\u001b[0m\u001b[1;33m)\u001b[0m\u001b[1;33m)\u001b[0m\u001b[1;33m\u001b[0m\u001b[1;33m\u001b[0m\u001b[0m\n\u001b[0m",
      "\u001b[1;31mNameError\u001b[0m: name 'transpose' is not defined"
     ]
    }
   ],
   "source": [
    "total_frame.loc['MaxSF'][['RL', 'RR', 'sum']].T.dot(combination_val)"
   ]
  },
  {
   "cell_type": "markdown",
   "id": "96d5a4c9",
   "metadata": {},
   "source": [
    "**Seismic**"
   ]
  },
  {
   "cell_type": "markdown",
   "id": "a6a4da69",
   "metadata": {},
   "source": [
    "importing dead load"
   ]
  },
  {
   "cell_type": "code",
   "execution_count": 20,
   "id": "6ff1f421",
   "metadata": {
    "scrolled": true
   },
   "outputs": [
    {
     "data": {
      "text/html": [
       "<div>\n",
       "<style scoped>\n",
       "    .dataframe tbody tr th:only-of-type {\n",
       "        vertical-align: middle;\n",
       "    }\n",
       "\n",
       "    .dataframe tbody tr th {\n",
       "        vertical-align: top;\n",
       "    }\n",
       "\n",
       "    .dataframe thead th {\n",
       "        text-align: right;\n",
       "    }\n",
       "</style>\n",
       "<table border=\"1\" class=\"dataframe\">\n",
       "  <thead>\n",
       "    <tr style=\"text-align: right;\">\n",
       "      <th></th>\n",
       "      <th>Unnamed: 0</th>\n",
       "      <th>RL</th>\n",
       "      <th>RR</th>\n",
       "      <th>Sum</th>\n",
       "    </tr>\n",
       "  </thead>\n",
       "  <tbody>\n",
       "    <tr>\n",
       "      <th>0</th>\n",
       "      <td>Dead Load</td>\n",
       "      <td>625.0</td>\n",
       "      <td>625.0</td>\n",
       "      <td>1250.0</td>\n",
       "    </tr>\n",
       "    <tr>\n",
       "      <th>1</th>\n",
       "      <td>Other Load</td>\n",
       "      <td>325.0</td>\n",
       "      <td>325.0</td>\n",
       "      <td>650.0</td>\n",
       "    </tr>\n",
       "    <tr>\n",
       "      <th>2</th>\n",
       "      <td>Surface Load</td>\n",
       "      <td>214.5</td>\n",
       "      <td>214.5</td>\n",
       "      <td>429.0</td>\n",
       "    </tr>\n",
       "    <tr>\n",
       "      <th>3</th>\n",
       "      <td>Pedestrian load</td>\n",
       "      <td>150.0</td>\n",
       "      <td>150.0</td>\n",
       "      <td>300.0</td>\n",
       "    </tr>\n",
       "  </tbody>\n",
       "</table>\n",
       "</div>"
      ],
      "text/plain": [
       "        Unnamed: 0     RL     RR     Sum\n",
       "0        Dead Load  625.0  625.0  1250.0\n",
       "1       Other Load  325.0  325.0   650.0\n",
       "2     Surface Load  214.5  214.5   429.0\n",
       "3  Pedestrian load  150.0  150.0   300.0"
      ]
     },
     "execution_count": 20,
     "metadata": {},
     "output_type": "execute_result"
    }
   ],
   "source": [
    "dead=pd.read_csv('outputs/DL_for_Seismic.csv')"
   ]
  },
  {
   "cell_type": "markdown",
   "id": "461c2912",
   "metadata": {},
   "source": [
    "**loads**"
   ]
  },
  {
   "cell_type": "markdown",
   "id": "19cee8e2",
   "metadata": {},
   "source": [
    "dead loads and pedestal loads"
   ]
  },
  {
   "cell_type": "code",
   "execution_count": 93,
   "id": "f91e762f",
   "metadata": {},
   "outputs": [],
   "source": [
    "DL = sum(dead.Sum[:-1])\n",
    "PedL = dead.Sum[3]"
   ]
  },
  {
   "cell_type": "markdown",
   "id": "f116b322",
   "metadata": {},
   "source": [
    "live load as per vehicle possible combinations"
   ]
  },
  {
   "cell_type": "code",
   "execution_count": 94,
   "id": "25a19821",
   "metadata": {},
   "outputs": [],
   "source": [
    "pmax = total_frame.loc['MaxSF'][['RL', 'RR', 'sum']].T.dot(combination_val)\n",
    "bmax = total_frame.loc['MaxBM'][['RL', 'RR', 'sum']].T.dot(combination_val)\n",
    "LL = max(list(pmax.loc['sum']) + list(bmax.loc['sum']))"
   ]
  },
  {
   "cell_type": "markdown",
   "id": "93d54014",
   "metadata": {},
   "source": [
    "**load combination:** [DL, LL, PedL]"
   ]
  },
  {
   "cell_type": "code",
   "execution_count": 95,
   "id": "343594bc",
   "metadata": {},
   "outputs": [],
   "source": [
    "comb_l = np.array([1, 0, 0])\n",
    "comb_t = np.array([1, 0.2, 0.2])"
   ]
  },
  {
   "cell_type": "markdown",
   "id": "0e582b8b",
   "metadata": {},
   "source": [
    "total loads in L and T directions after applying load combinations"
   ]
  },
  {
   "cell_type": "code",
   "execution_count": 100,
   "id": "69908e5e",
   "metadata": {},
   "outputs": [],
   "source": [
    "load_comp = np.array([DL, LL, PedL])\n",
    "load_long = load_comp.dot(comb_l) #longitudinal direction\n",
    "load_trans = load_comp.dot(comb_t) #transverse direction"
   ]
  },
  {
   "cell_type": "code",
   "execution_count": null,
   "id": "0f345a6a",
   "metadata": {},
   "outputs": [],
   "source": []
  },
  {
   "cell_type": "code",
   "execution_count": null,
   "id": "0fd02710",
   "metadata": {},
   "outputs": [],
   "source": []
  },
  {
   "cell_type": "code",
   "execution_count": null,
   "id": "79212899",
   "metadata": {},
   "outputs": [],
   "source": []
  },
  {
   "cell_type": "code",
   "execution_count": null,
   "id": "b93297f1",
   "metadata": {},
   "outputs": [],
   "source": []
  },
  {
   "cell_type": "markdown",
   "id": "245e496f",
   "metadata": {},
   "source": [
    "**Horizontal forces due to water currents**"
   ]
  },
  {
   "cell_type": "code",
   "execution_count": 17,
   "id": "9a2415d0",
   "metadata": {},
   "outputs": [],
   "source": [
    "velocity = 1.77 # input"
   ]
  },
  {
   "cell_type": "markdown",
   "id": "af79c94d",
   "metadata": {},
   "source": [
    "normal current - current parallel to pier (transverse to bridge alignment)"
   ]
  },
  {
   "cell_type": "code",
   "execution_count": 18,
   "id": "29e67947",
   "metadata": {},
   "outputs": [],
   "source": [
    "P_norm = f_watercurrent(velocity)[0]\n",
    "F_norm = P_norm*pier_width*pier_height_hfl\n",
    "# calculate moments here"
   ]
  },
  {
   "cell_type": "markdown",
   "id": "22c67965",
   "metadata": {},
   "source": [
    "current at 20 degrees to normal flow direction"
   ]
  },
  {
   "cell_type": "code",
   "execution_count": 19,
   "id": "30137fde",
   "metadata": {},
   "outputs": [],
   "source": [
    "P20_norm, P20_trans = f_watercurrent(velocity, 20)\n",
    "F20_norm, F20_trans = P20_norm*pier_width*pier_height_hfl, P20_trans*pier_width*pier_height_hfl\n",
    "# calculate moments here"
   ]
  },
  {
   "cell_type": "markdown",
   "id": "429af89f",
   "metadata": {},
   "source": [
    "**Longitudinal forces**"
   ]
  },
  {
   "cell_type": "markdown",
   "id": "dd290692",
   "metadata": {},
   "source": [
    "**In the case of a single lane or a two lane bridge** : twenty percent of the\n",
    "first train load plus ten percent of the load of the succeeding trains or part\n",
    "thereof, the train loads in one lane only being considered for the purpose of\n",
    "this sub- clause. Where the entire first train is not on the full span, the\n",
    "braking force shall be taken as equal to twenty percent of the loads actually\n",
    "on the span or continuous unit of spans.\n",
    "\n",
    "*longitudinal force acts along an line parallel to roadway and 1.2 m above it*"
   ]
  },
  {
   "cell_type": "code",
   "execution_count": 59,
   "id": "3495173d",
   "metadata": {},
   "outputs": [],
   "source": [
    "veh_for_long = ll_A.reduced(to=0.2)\n",
    "for i in range(veh_no[0]-1):\n",
    "    veh_for_long+=ll_A.reduced(to=0.1)\n",
    "    \n",
    "f_long = sum([i[1] for i in veh_for_long.loadpair if i[0]<span*2])\n",
    "\n",
    "# calculate moment here"
   ]
  },
  {
   "cell_type": "markdown",
   "id": "381c0745",
   "metadata": {},
   "source": [
    "**Buoyancy**"
   ]
  },
  {
   "cell_type": "markdown",
   "id": "dd68409b",
   "metadata": {},
   "source": [
    "To allow for full buoyancy, a reduction shall be made in the gross weight of\n",
    "the member affected by reducing its density by the density of the displaced water.\n",
    "*The density of water may be taken as 1.0 t/m$^{3}$*"
   ]
  },
  {
   "cell_type": "code",
   "execution_count": 60,
   "id": "2051ed56",
   "metadata": {},
   "outputs": [],
   "source": [
    "cross_area = math.pi*0.8**2+6*1.6\n",
    "volume = cross_area*pier_height_hfl\n",
    "upthrust = 10*volume # kN\n",
    "# calculate moment here"
   ]
  },
  {
   "cell_type": "markdown",
   "id": "3533673f",
   "metadata": {},
   "source": [
    "**Temperature and shrinkage**"
   ]
  },
  {
   "cell_type": "code",
   "execution_count": 61,
   "id": "18811554",
   "metadata": {},
   "outputs": [],
   "source": [
    "temp_diff = 30 #degree celcius\n",
    "alpha = 0.000012 # coeff of thermal exp\n",
    "elongation_therm = round(alpha*temp_diff*span, 5)\n",
    "\n",
    "shrink_strain = 0.0002\n",
    "elongation_shrink = round(shrink_strain*50)"
   ]
  },
  {
   "cell_type": "code",
   "execution_count": null,
   "id": "31751e64",
   "metadata": {},
   "outputs": [],
   "source": []
  }
 ],
 "metadata": {
  "kernelspec": {
   "display_name": "Python 3 (ipykernel)",
   "language": "python",
   "name": "python3"
  },
  "language_info": {
   "codemirror_mode": {
    "name": "ipython",
    "version": 3
   },
   "file_extension": ".py",
   "mimetype": "text/x-python",
   "name": "python",
   "nbconvert_exporter": "python",
   "pygments_lexer": "ipython3",
   "version": "3.10.0"
  }
 },
 "nbformat": 4,
 "nbformat_minor": 5
}
