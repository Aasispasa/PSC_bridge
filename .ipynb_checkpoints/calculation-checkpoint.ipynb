{
 "cells": [
  {
   "cell_type": "markdown",
   "id": "60c1228a",
   "metadata": {},
   "source": [
    "#### importing packages"
   ]
  },
  {
   "cell_type": "code",
   "execution_count": 10,
   "id": "b1c4bd7c",
   "metadata": {},
   "outputs": [],
   "source": [
    "import pandas as pd\n",
    "import matplotlib.pyplot as plt\n",
    "\n",
    "from carriageway import Carriageway\n",
    "from impact_factor import impact\n",
    "from load import ll_A, ll_70R, ll_70RT\n",
    "from reaction import find_bm, find_sf"
   ]
  },
  {
   "cell_type": "markdown",
   "id": "0300d218",
   "metadata": {},
   "source": [
    "# live load calculations"
   ]
  },
  {
   "cell_type": "markdown",
   "id": "0d79cfcd",
   "metadata": {},
   "source": [
    "#### defining load (vehicles)\n",
    "load pair contains pair (wheel position, wheel load)"
   ]
  },
  {
   "cell_type": "code",
   "execution_count": 11,
   "id": "7021ab02",
   "metadata": {},
   "outputs": [],
   "source": [
    "vehicles = [ll_A, ll_70R, ll_70RT]\n",
    "classA_pair, class70R, class70RT = [list(i.loadpair) for i in vehicles]\n",
    "loads = [classA_pair, class70R, class70RT]"
   ]
  },
  {
   "cell_type": "markdown",
   "id": "65c9a0e0",
   "metadata": {},
   "source": [
    "#### maxBM, maxSF at equal intervals\n",
    "when each vehicles from the list of vehicles travels along the span, max reactions (BM and SF+/-) at equally divided intervals are calculated and stored in maxBMs, maxSFs_plus, maxSFs_minus."
   ]
  },
  {
   "cell_type": "code",
   "execution_count": 67,
   "id": "70aec980",
   "metadata": {},
   "outputs": [],
   "source": [
    "span = 25\n",
    "\n",
    "maxBMs = []\n",
    "maxSFs_plus = []\n",
    "maxSFs_minus = []\n",
    "for i in range(len(loads)):\n",
    "    maxBM = []\n",
    "    maxSF_plus = []\n",
    "    maxSF_minus = []\n",
    "    for j in range(9):\n",
    "        at = span / 8 * j\n",
    "        first_wheel_at = 0\n",
    "        step = 0.1\n",
    "\n",
    "        BM = find_bm(span, 0, at)\n",
    "        SF_plus = find_sf(span, 0, at)\n",
    "        SF_minus = find_sf(span, 0, at)\n",
    "        for k in range(int((span + loads[i][-1][0]) / step) + 2):  # '+2' to make sure the load moves all the way to\n",
    "            # end until it has no effect\n",
    "            bm = 0\n",
    "            sf = 0\n",
    "            for this in loads[i]:\n",
    "                a, load = this\n",
    "                pos = -a + first_wheel_at\n",
    "                bm = bm + find_bm(span, pos, at) * load\n",
    "                sf = sf + find_sf(span, pos, at) * load\n",
    "            first_wheel_at += step\n",
    "            BM = bm if bm > BM else BM\n",
    "            SF_plus = sf if sf > SF_plus else SF_plus\n",
    "            SF_minus = sf if sf < SF_minus else SF_minus\n",
    "        maxBM.append(round(BM, 3))\n",
    "        maxSF_plus.append(round(SF_plus, 3))\n",
    "        maxSF_minus.append(round(SF_minus, 3))\n",
    "    maxBMs.append(maxBM)\n",
    "    maxSFs_plus.append(maxSF_plus)\n",
    "    maxSFs_minus.append(maxSF_minus)"
   ]
  },
  {
   "cell_type": "markdown",
   "id": "9929f3f2",
   "metadata": {},
   "source": [
    "#### make a dataframe that contains maxBMs, maxSFs_plus, maxSFs_minus"
   ]
  },
  {
   "cell_type": "code",
   "execution_count": 68,
   "id": "3ec70ad1",
   "metadata": {},
   "outputs": [],
   "source": [
    "A = ['MaxBM', 'MaxSF+', 'MaxSF-']\n",
    "B = ['ClassA', 'Class70RW', 'Class70RT']\n",
    "\n",
    "# A = ['ClassA', 'Class70RW', 'Class70RT']\n",
    "# B = ['MaxBM', 'MaxSF+', 'MaxSF-']\n",
    "\n",
    "iterables = [A, B]\n",
    "index = pd.MultiIndex.from_product(iterables)\n",
    "\n",
    "C = []\n",
    "\n",
    "for i in [maxBMs, maxSFs_plus, maxSFs_minus]:\n",
    "    C.extend(i)\n",
    "\n",
    "# for i in range(len(loads)):\n",
    "#     for j in [maxBMs, maxSFs_plus, maxSFs_minus]:\n",
    "#         C.append(j[i])\n",
    "\n",
    "df = pd.DataFrame(C, index=index, columns=[span / 8 * i for i in range(9)])\n",
    "# print(df.loc[('ClassA', 'MaxSF-')])   ## you can navigate using loc, iloc\n",
    "\n",
    "new_row = df.loc['MaxSF+'].where(df.loc['MaxSF+'] > abs(df.loc['MaxSF-']), abs(df.loc['MaxSF-']))\n",
    "\n",
    "new_row.index = pd.MultiIndex.from_product([['MaxSF'], B])\n",
    "df = pd.concat([df, new_row])\n",
    "\n",
    "# df.to_excel('outputs/loads.xlsx') # uncomment to save as excel file"
   ]
  },
  {
   "cell_type": "markdown",
   "id": "c431b869",
   "metadata": {},
   "source": [
    "*how to read Excel file*"
   ]
  },
  {
   "cell_type": "code",
   "execution_count": 69,
   "id": "eeb374fb",
   "metadata": {},
   "outputs": [],
   "source": [
    "# df = pd.read_excel('outputs/loads.xlsx', index_col=[0, 1])\n",
    "\n",
    "# ###get index names###\n",
    "# A = df.index.get_level_values(0).drop_duplicates().to_list()\n",
    "# B = df.index.get_level_values(1).drop_duplicates().to_list()\n",
    "# print(A, B)"
   ]
  },
  {
   "cell_type": "markdown",
   "id": "493939e4",
   "metadata": {},
   "source": [
    "#### impact factor"
   ]
  },
  {
   "cell_type": "code",
   "execution_count": 70,
   "id": "3f1b5cb6",
   "metadata": {},
   "outputs": [
    {
     "data": {
      "text/plain": [
       "[0.14516129032258066, 0.14516129032258066, 0.1]"
      ]
     },
     "execution_count": 70,
     "metadata": {},
     "output_type": "execute_result"
    }
   ],
   "source": [
    "IF = [impact(i.name, span) for i in vehicles]\n",
    "IF"
   ]
  },
  {
   "cell_type": "markdown",
   "id": "250ccf91",
   "metadata": {},
   "source": [
    "#### possible combinations for given carriageway width"
   ]
  },
  {
   "cell_type": "code",
   "execution_count": 71,
   "id": "efcaaba5",
   "metadata": {},
   "outputs": [],
   "source": [
    "cwWidth = 6\n",
    "carriageway = Carriageway(cwWidth)\n",
    "combinations = carriageway.combinations()\n",
    "combination_val = [i.get_value() for i in combinations]"
   ]
  },
  {
   "cell_type": "markdown",
   "id": "9e7b50ee",
   "metadata": {},
   "source": [
    "#### eccentricity calculation\n",
    "a combination consists of multiple arrangements gives different eccentricities. maximum eccentricities for each combination is calculated."
   ]
  },
  {
   "cell_type": "code",
   "execution_count": 72,
   "id": "56278039",
   "metadata": {},
   "outputs": [
    {
     "data": {
      "text/plain": [
       "[-3.739698609263685e-16, -0.40500000000000025, -0.3500000000000001]"
      ]
     },
     "execution_count": 72,
     "metadata": {},
     "output_type": "execute_result"
    }
   ],
   "source": [
    "list_combinations = []\n",
    "list_max_e = []\n",
    "list_plot = []\n",
    "for i in combinations:\n",
    "    list_combinations.append([i.classA, i.class70Rw, i.class70Rt])\n",
    "    arrangements = i.arrangements()\n",
    "    list_arrangements = []\n",
    "    eccentricity = []\n",
    "    max_e = 0\n",
    "    for k in arrangements:\n",
    "        if k.check_exceedance() * k.check_from_right() == 1:\n",
    "            list_arrangements.append(k.veh)\n",
    "            e = k.eccentricity()\n",
    "            eccentricity.append(e)\n",
    "            max_e = e if abs(e) > abs(max_e) else max_e\n",
    "    list_max_e.append(max_e)\n",
    "\n",
    "list_max_e"
   ]
  },
  {
   "cell_type": "markdown",
   "id": "a2b292dd",
   "metadata": {},
   "source": [
    "#### make a dataframe for combinations and their corresponding eccentricities"
   ]
  },
  {
   "cell_type": "code",
   "execution_count": 73,
   "id": "5080febe",
   "metadata": {},
   "outputs": [],
   "source": [
    "df1 = pd.DataFrame(list_combinations, columns=['ClassA', 'Class70Rw', 'Class70Rt'],\n",
    "                  index=[f'comb{i + 1}' for i in range(len(list_combinations))])\n",
    "df1['MaxEccentricity'] = list_max_e"
   ]
  },
  {
   "cell_type": "markdown",
   "id": "a3368625",
   "metadata": {},
   "source": [
    "*export eccentricity as excel file (uncomment)*"
   ]
  },
  {
   "cell_type": "code",
   "execution_count": 74,
   "id": "2657c077",
   "metadata": {},
   "outputs": [],
   "source": [
    "# df1.to_excel('outputs/max_e.xlsx')"
   ]
  },
  {
   "cell_type": "markdown",
   "id": "01869326",
   "metadata": {},
   "source": [
    "#### total reactions for given combination\n",
    "total reactions = sum of (maxreactions at mid span * impact factor * no. of that vehicles)"
   ]
  },
  {
   "cell_type": "code",
   "execution_count": 81,
   "id": "3620ecd7",
   "metadata": {
    "pycharm": {
     "name": "#%%\n"
    },
    "scrolled": true
   },
   "outputs": [
    {
     "data": {
      "text/plain": [
       "([[2, 0, 0], [0, 1, 0], [0, 0, 1]],\n",
       " [607.0209677419355, 671.7193548387097, 396.70500000000004],\n",
       " [35.49716129032258, 43.24761290322581, 28.602])"
      ]
     },
     "execution_count": 81,
     "metadata": {},
     "output_type": "execute_result"
    }
   ],
   "source": [
    "totalBMs = [(df.loc['MaxBM'][span/2]*IF).dot(combination_val[i]) for i in range(len(combinations))]\n",
    "totalSFs = [(df.loc['MaxSF'][span/2]*IF).dot(combination_val[i]) for i in range(len(combinations))]\n",
    "combination_val, totalBMs, totalSFs"
   ]
  },
  {
   "cell_type": "code",
   "execution_count": 77,
   "id": "f8d3acca",
   "metadata": {
    "pycharm": {
     "name": "#%%\n"
    }
   },
   "outputs": [
    {
     "data": {
      "text/html": [
       "<div>\n",
       "<style scoped>\n",
       "    .dataframe tbody tr th:only-of-type {\n",
       "        vertical-align: middle;\n",
       "    }\n",
       "\n",
       "    .dataframe tbody tr th {\n",
       "        vertical-align: top;\n",
       "    }\n",
       "\n",
       "    .dataframe thead th {\n",
       "        text-align: right;\n",
       "    }\n",
       "</style>\n",
       "<table border=\"1\" class=\"dataframe\">\n",
       "  <thead>\n",
       "    <tr style=\"text-align: right;\">\n",
       "      <th></th>\n",
       "      <th></th>\n",
       "      <th>0.000</th>\n",
       "      <th>3.125</th>\n",
       "      <th>6.250</th>\n",
       "      <th>9.375</th>\n",
       "      <th>12.500</th>\n",
       "      <th>15.625</th>\n",
       "      <th>18.750</th>\n",
       "      <th>21.875</th>\n",
       "      <th>25.000</th>\n",
       "    </tr>\n",
       "  </thead>\n",
       "  <tbody>\n",
       "    <tr>\n",
       "      <th rowspan=\"3\" valign=\"top\">MaxBM</th>\n",
       "      <th>ClassA</th>\n",
       "      <td>0.000</td>\n",
       "      <td>846.163</td>\n",
       "      <td>1471.075</td>\n",
       "      <td>1874.737</td>\n",
       "      <td>2090.850</td>\n",
       "      <td>2094.938</td>\n",
       "      <td>1729.325</td>\n",
       "      <td>1008.800</td>\n",
       "      <td>0.000</td>\n",
       "    </tr>\n",
       "    <tr>\n",
       "      <th>Class70RW</th>\n",
       "      <td>0.000</td>\n",
       "      <td>2092.775</td>\n",
       "      <td>3514.550</td>\n",
       "      <td>4323.975</td>\n",
       "      <td>4627.400</td>\n",
       "      <td>4305.225</td>\n",
       "      <td>3366.150</td>\n",
       "      <td>1936.175</td>\n",
       "      <td>0.000</td>\n",
       "    </tr>\n",
       "    <tr>\n",
       "      <th>Class70RT</th>\n",
       "      <td>0.000</td>\n",
       "      <td>1736.438</td>\n",
       "      <td>2978.275</td>\n",
       "      <td>3721.962</td>\n",
       "      <td>3967.050</td>\n",
       "      <td>3721.088</td>\n",
       "      <td>2977.925</td>\n",
       "      <td>1737.563</td>\n",
       "      <td>0.000</td>\n",
       "    </tr>\n",
       "    <tr>\n",
       "      <th rowspan=\"3\" valign=\"top\">MaxSF+</th>\n",
       "      <th>ClassA</th>\n",
       "      <td>336.636</td>\n",
       "      <td>267.940</td>\n",
       "      <td>199.352</td>\n",
       "      <td>140.220</td>\n",
       "      <td>87.040</td>\n",
       "      <td>52.224</td>\n",
       "      <td>26.112</td>\n",
       "      <td>8.704</td>\n",
       "      <td>0.000</td>\n",
       "    </tr>\n",
       "    <tr>\n",
       "      <th>Class70RW</th>\n",
       "      <td>791.048</td>\n",
       "      <td>667.048</td>\n",
       "      <td>543.048</td>\n",
       "      <td>419.048</td>\n",
       "      <td>297.928</td>\n",
       "      <td>180.840</td>\n",
       "      <td>89.896</td>\n",
       "      <td>32.844</td>\n",
       "      <td>0.000</td>\n",
       "    </tr>\n",
       "    <tr>\n",
       "      <th>Class70RT</th>\n",
       "      <td>635.180</td>\n",
       "      <td>548.380</td>\n",
       "      <td>458.780</td>\n",
       "      <td>371.980</td>\n",
       "      <td>285.180</td>\n",
       "      <td>198.380</td>\n",
       "      <td>108.780</td>\n",
       "      <td>29.144</td>\n",
       "      <td>0.000</td>\n",
       "    </tr>\n",
       "    <tr>\n",
       "      <th rowspan=\"3\" valign=\"top\">MaxSF-</th>\n",
       "      <th>ClassA</th>\n",
       "      <td>0.000</td>\n",
       "      <td>-5.508</td>\n",
       "      <td>-24.060</td>\n",
       "      <td>-66.044</td>\n",
       "      <td>-122.268</td>\n",
       "      <td>-185.524</td>\n",
       "      <td>-254.220</td>\n",
       "      <td>-321.728</td>\n",
       "      <td>-383.728</td>\n",
       "    </tr>\n",
       "    <tr>\n",
       "      <th>Class70RW</th>\n",
       "      <td>0.000</td>\n",
       "      <td>-9.920</td>\n",
       "      <td>-34.048</td>\n",
       "      <td>-121.632</td>\n",
       "      <td>-244.952</td>\n",
       "      <td>-368.952</td>\n",
       "      <td>-496.952</td>\n",
       "      <td>-618.392</td>\n",
       "      <td>-732.472</td>\n",
       "    </tr>\n",
       "    <tr>\n",
       "      <th>Class70RT</th>\n",
       "      <td>0.000</td>\n",
       "      <td>-29.684</td>\n",
       "      <td>-109.620</td>\n",
       "      <td>-196.420</td>\n",
       "      <td>-286.020</td>\n",
       "      <td>-372.820</td>\n",
       "      <td>-459.620</td>\n",
       "      <td>-546.420</td>\n",
       "      <td>-633.220</td>\n",
       "    </tr>\n",
       "    <tr>\n",
       "      <th rowspan=\"3\" valign=\"top\">MaxSF</th>\n",
       "      <th>ClassA</th>\n",
       "      <td>336.636</td>\n",
       "      <td>267.940</td>\n",
       "      <td>199.352</td>\n",
       "      <td>140.220</td>\n",
       "      <td>122.268</td>\n",
       "      <td>185.524</td>\n",
       "      <td>254.220</td>\n",
       "      <td>321.728</td>\n",
       "      <td>383.728</td>\n",
       "    </tr>\n",
       "    <tr>\n",
       "      <th>Class70RW</th>\n",
       "      <td>791.048</td>\n",
       "      <td>667.048</td>\n",
       "      <td>543.048</td>\n",
       "      <td>419.048</td>\n",
       "      <td>297.928</td>\n",
       "      <td>368.952</td>\n",
       "      <td>496.952</td>\n",
       "      <td>618.392</td>\n",
       "      <td>732.472</td>\n",
       "    </tr>\n",
       "    <tr>\n",
       "      <th>Class70RT</th>\n",
       "      <td>635.180</td>\n",
       "      <td>548.380</td>\n",
       "      <td>458.780</td>\n",
       "      <td>371.980</td>\n",
       "      <td>286.020</td>\n",
       "      <td>372.820</td>\n",
       "      <td>459.620</td>\n",
       "      <td>546.420</td>\n",
       "      <td>633.220</td>\n",
       "    </tr>\n",
       "  </tbody>\n",
       "</table>\n",
       "</div>"
      ],
      "text/plain": [
       "                   0.000     3.125     6.250     9.375     12.500    15.625  \\\n",
       "MaxBM  ClassA       0.000   846.163  1471.075  1874.737  2090.850  2094.938   \n",
       "       Class70RW    0.000  2092.775  3514.550  4323.975  4627.400  4305.225   \n",
       "       Class70RT    0.000  1736.438  2978.275  3721.962  3967.050  3721.088   \n",
       "MaxSF+ ClassA     336.636   267.940   199.352   140.220    87.040    52.224   \n",
       "       Class70RW  791.048   667.048   543.048   419.048   297.928   180.840   \n",
       "       Class70RT  635.180   548.380   458.780   371.980   285.180   198.380   \n",
       "MaxSF- ClassA       0.000    -5.508   -24.060   -66.044  -122.268  -185.524   \n",
       "       Class70RW    0.000    -9.920   -34.048  -121.632  -244.952  -368.952   \n",
       "       Class70RT    0.000   -29.684  -109.620  -196.420  -286.020  -372.820   \n",
       "MaxSF  ClassA     336.636   267.940   199.352   140.220   122.268   185.524   \n",
       "       Class70RW  791.048   667.048   543.048   419.048   297.928   368.952   \n",
       "       Class70RT  635.180   548.380   458.780   371.980   286.020   372.820   \n",
       "\n",
       "                    18.750    21.875   25.000  \n",
       "MaxBM  ClassA     1729.325  1008.800    0.000  \n",
       "       Class70RW  3366.150  1936.175    0.000  \n",
       "       Class70RT  2977.925  1737.563    0.000  \n",
       "MaxSF+ ClassA       26.112     8.704    0.000  \n",
       "       Class70RW    89.896    32.844    0.000  \n",
       "       Class70RT   108.780    29.144    0.000  \n",
       "MaxSF- ClassA     -254.220  -321.728 -383.728  \n",
       "       Class70RW  -496.952  -618.392 -732.472  \n",
       "       Class70RT  -459.620  -546.420 -633.220  \n",
       "MaxSF  ClassA      254.220   321.728  383.728  \n",
       "       Class70RW   496.952   618.392  732.472  \n",
       "       Class70RT   459.620   546.420  633.220  "
      ]
     },
     "execution_count": 77,
     "metadata": {},
     "output_type": "execute_result"
    }
   ],
   "source": [
    "df"
   ]
  },
  {
   "cell_type": "code",
   "execution_count": 78,
   "id": "8da0042b",
   "metadata": {
    "scrolled": true
   },
   "outputs": [],
   "source": [
    "df1['TotalBM'] = totalBMs\n",
    "df1['TotalSF'] = totalSFs"
   ]
  },
  {
   "cell_type": "code",
   "execution_count": 79,
   "id": "7e344224",
   "metadata": {},
   "outputs": [
    {
     "data": {
      "text/html": [
       "<div>\n",
       "<style scoped>\n",
       "    .dataframe tbody tr th:only-of-type {\n",
       "        vertical-align: middle;\n",
       "    }\n",
       "\n",
       "    .dataframe tbody tr th {\n",
       "        vertical-align: top;\n",
       "    }\n",
       "\n",
       "    .dataframe thead th {\n",
       "        text-align: right;\n",
       "    }\n",
       "</style>\n",
       "<table border=\"1\" class=\"dataframe\">\n",
       "  <thead>\n",
       "    <tr style=\"text-align: right;\">\n",
       "      <th></th>\n",
       "      <th>ClassA</th>\n",
       "      <th>Class70Rw</th>\n",
       "      <th>Class70Rt</th>\n",
       "      <th>MaxEccentricity</th>\n",
       "      <th>TotalBM</th>\n",
       "      <th>TotalSF</th>\n",
       "    </tr>\n",
       "  </thead>\n",
       "  <tbody>\n",
       "    <tr>\n",
       "      <th>comb1</th>\n",
       "      <td>2</td>\n",
       "      <td>0</td>\n",
       "      <td>0</td>\n",
       "      <td>-3.739699e-16</td>\n",
       "      <td>607.020968</td>\n",
       "      <td>35.497161</td>\n",
       "    </tr>\n",
       "    <tr>\n",
       "      <th>comb2</th>\n",
       "      <td>0</td>\n",
       "      <td>1</td>\n",
       "      <td>0</td>\n",
       "      <td>-4.050000e-01</td>\n",
       "      <td>671.719355</td>\n",
       "      <td>43.247613</td>\n",
       "    </tr>\n",
       "    <tr>\n",
       "      <th>comb3</th>\n",
       "      <td>0</td>\n",
       "      <td>0</td>\n",
       "      <td>1</td>\n",
       "      <td>-3.500000e-01</td>\n",
       "      <td>396.705000</td>\n",
       "      <td>28.602000</td>\n",
       "    </tr>\n",
       "  </tbody>\n",
       "</table>\n",
       "</div>"
      ],
      "text/plain": [
       "       ClassA  Class70Rw  Class70Rt  MaxEccentricity     TotalBM    TotalSF\n",
       "comb1       2          0          0    -3.739699e-16  607.020968  35.497161\n",
       "comb2       0          1          0    -4.050000e-01  671.719355  43.247613\n",
       "comb3       0          0          1    -3.500000e-01  396.705000  28.602000"
      ]
     },
     "execution_count": 79,
     "metadata": {},
     "output_type": "execute_result"
    }
   ],
   "source": [
    "df1"
   ]
  }
 ],
 "metadata": {
  "kernelspec": {
   "display_name": "Python 3",
   "language": "python",
   "name": "python3"
  },
  "language_info": {
   "codemirror_mode": {
    "name": "ipython",
    "version": 3
   },
   "file_extension": ".py",
   "mimetype": "text/x-python",
   "name": "python",
   "nbconvert_exporter": "python",
   "pygments_lexer": "ipython3",
   "version": "3.9.5"
  }
 },
 "nbformat": 4,
 "nbformat_minor": 5
}
