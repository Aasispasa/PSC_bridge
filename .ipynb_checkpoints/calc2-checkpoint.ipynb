{
 "cells": [
  {
   "cell_type": "code",
   "execution_count": null,
   "metadata": {
    "pycharm": {
     "is_executing": false,
     "name": "#%%\n"
    }
   },
   "outputs": [],
   "source": []
  },
  {
   "cell_type": "markdown",
   "metadata": {},
   "source": [
    "#### importing packages"
   ]
  },
  {
   "cell_type": "code",
   "execution_count": 1,
   "metadata": {
    "pycharm": {
     "is_executing": false,
     "name": "#%%\n"
    }
   },
   "outputs": [],
   "source": [
    "import pandas as pd\n",
    "# import matplotlib.pyplot as plt\n",
    "\n",
    "from carriageway import Carriageway\n",
    "from impact_factor import impact\n",
    "from load import ll_A, ll_70R, ll_70RT\n",
    "from Reaction2 import find_bm, find_sf, find_ra, find_rb"
   ]
  },
  {
   "cell_type": "markdown",
   "metadata": {},
   "source": [
    "# live load calculations"
   ]
  },
  {
   "cell_type": "markdown",
   "metadata": {},
   "source": [
    "#### defining load (vehicles)\n",
    "load pair contains pair (wheel position, wheel load)"
   ]
  },
  {
   "cell_type": "code",
   "execution_count": 2,
   "metadata": {
    "pycharm": {
     "is_executing": false,
     "name": "#%%\n"
    }
   },
   "outputs": [],
   "source": [
    "vehicles = [ll_A, ll_70R, ll_70RT]\n",
    "classA_pair, class70R, class70RT = [list(i.loadpair) for i in vehicles]\n",
    "loads = [classA_pair, class70R, class70RT]"
   ]
  },
  {
   "cell_type": "markdown",
   "metadata": {},
   "source": [
    "#### maxBM, maxSF at equal intervals\n",
    "when each vehicle from the list of vehicles travels along the span, max reactions (BM and SF+/-) at equally divided intervals are calculated and stored in maxBMs, maxSFs_plus, maxSFs_minus."
   ]
  },
  {
   "cell_type": "code",
   "execution_count": 3,
   "metadata": {
    "pycharm": {
     "is_executing": false,
     "name": "#%%\n"
    }
   },
   "outputs": [],
   "source": [
    "span = 50\n",
    "\n",
    "maxBMs = []\n",
    "maxSFs_plus = []\n",
    "maxSFs_minus = []\n",
    "for i in range(len(loads)):\n",
    "    maxBM = []\n",
    "    maxSF_plus = []\n",
    "    maxSF_minus = []\n",
    "    for j in range(9):\n",
    "        at = span / 8 * j\n",
    "        first_wheel_at = 0\n",
    "        step = 0.1\n",
    "\n",
    "        BM = find_bm(span, 0, at)\n",
    "        SF_plus = find_sf(span, 0, at)\n",
    "        SF_minus = find_sf(span, 0, at)\n",
    "        for k in range(int((span + loads[i][-1][0]) / step) + 2):  # '+2' to make sure the load moves all the way to\n",
    "            # end until it has no effect\n",
    "            bm = 0\n",
    "            sf = 0\n",
    "            for this in loads[i]:\n",
    "                a, load = this\n",
    "                pos = -a + first_wheel_at\n",
    "                bm = bm + find_bm(span, pos, at) * load\n",
    "                sf = sf + find_sf(span, pos, at) * load\n",
    "            first_wheel_at += step\n",
    "            BM = bm if bm > BM else BM\n",
    "            SF_plus = sf if sf > SF_plus else SF_plus\n",
    "            SF_minus = sf if sf < SF_minus else SF_minus\n",
    "        maxBM.append(round(BM, 3))\n",
    "        maxSF_plus.append(round(SF_plus, 3))\n",
    "        maxSF_minus.append(round(SF_minus, 3))\n",
    "    maxBMs.append(maxBM)\n",
    "    maxSFs_plus.append(maxSF_plus)\n",
    "    maxSFs_minus.append(maxSF_minus)"
   ]
  },
  {
   "cell_type": "markdown",
   "metadata": {},
   "source": [
    "#### make a dataframe that contains maxBMs, maxSFs_plus, maxSFs_minus"
   ]
  },
  {
   "cell_type": "code",
   "execution_count": 4,
   "metadata": {
    "pycharm": {
     "is_executing": false,
     "name": "#%%\n"
    }
   },
   "outputs": [],
   "source": [
    "A = ['MaxBM', 'MaxSF+', 'MaxSF-']\n",
    "B = ['ClassA', 'Class70RW', 'Class70RT']\n",
    "\n",
    "# A = ['ClassA', 'Class70RW', 'Class70RT']\n",
    "# B = ['MaxBM', 'MaxSF+', 'MaxSF-']\n",
    "\n",
    "iterables = [A, B]\n",
    "index = pd.MultiIndex.from_product(iterables)\n",
    "\n",
    "C = []\n",
    "\n",
    "for i in [maxBMs, maxSFs_plus, maxSFs_minus]:\n",
    "    C.extend(i)\n",
    "\n",
    "# for i in range(len(loads)):\n",
    "#     for j in [maxBMs, maxSFs_plus, maxSFs_minus]:\n",
    "#         C.append(j[i])\n",
    "\n",
    "df = pd.DataFrame(C, index=index, columns=[span / 8 * i for i in range(9)])\n",
    "# print(df.loc[('ClassA', 'MaxSF-')])   ## you can navigate using loc, iloc\n",
    "\n",
    "new_row = df.loc['MaxSF+'].where(df.loc['MaxSF+'] > abs(df.loc['MaxSF-']), abs(df.loc['MaxSF-']))\n",
    "\n",
    "new_row.index = pd.MultiIndex.from_product([['MaxSF'], B])\n",
    "df = pd.concat([df, new_row])\n",
    "\n",
    "# df.to_excel('outputs/loads.xlsx') # uncomment to save as excel file"
   ]
  },
  {
   "cell_type": "markdown",
   "metadata": {},
   "source": [
    "*how to read Excel file*"
   ]
  },
  {
   "cell_type": "code",
   "execution_count": 5,
   "metadata": {
    "pycharm": {
     "is_executing": false,
     "name": "#%%\n"
    }
   },
   "outputs": [],
   "source": [
    "# df = pd.read_excel('outputs/loads.xlsx', index_col=[0, 1])\n",
    "\n",
    "# ###get index names###\n",
    "# A = df.index.get_level_values(0).drop_duplicates().to_list()\n",
    "# B = df.index.get_level_values(1).drop_duplicates().to_list()\n",
    "# print(A, B)"
   ]
  },
  {
   "cell_type": "markdown",
   "metadata": {},
   "source": [
    "#### impact factor"
   ]
  },
  {
   "cell_type": "code",
   "execution_count": 6,
   "metadata": {
    "pycharm": {
     "is_executing": false,
     "name": "#%%\n"
    }
   },
   "outputs": [
    {
     "data": {
      "text/plain": [
       "[0.088, 0.088, 0.088]"
      ]
     },
     "execution_count": 6,
     "metadata": {},
     "output_type": "execute_result"
    }
   ],
   "source": [
    "IF = [impact(i.name, span) for i in vehicles]\n",
    "IF"
   ]
  },
  {
   "cell_type": "markdown",
   "metadata": {},
   "source": [
    "#### possible combinations for given carriageway width"
   ]
  },
  {
   "cell_type": "code",
   "execution_count": 7,
   "metadata": {
    "pycharm": {
     "is_executing": false,
     "name": "#%%\n"
    }
   },
   "outputs": [],
   "source": [
    "cwWidth = 6\n",
    "carriageway = Carriageway(cwWidth)\n",
    "combinations = carriageway.combinations()\n",
    "combination_val = [i.get_value() for i in combinations]"
   ]
  },
  {
   "cell_type": "markdown",
   "metadata": {},
   "source": [
    "#### eccentricity calculation\n",
    "a combination consists of multiple arrangements gives different eccentricities. maximum eccentricities for each combination calculated."
   ]
  },
  {
   "cell_type": "code",
   "execution_count": 8,
   "metadata": {
    "pycharm": {
     "is_executing": false,
     "name": "#%%\n"
    }
   },
   "outputs": [
    {
     "data": {
      "text/plain": [
       "[-3.739698609263685e-16, -0.40500000000000025, -0.3500000000000001]"
      ]
     },
     "execution_count": 8,
     "metadata": {},
     "output_type": "execute_result"
    }
   ],
   "source": [
    "list_combinations = []\n",
    "list_max_e = []\n",
    "list_plot = []\n",
    "for i in combinations:\n",
    "    list_combinations.append([i.classA, i.class70Rw, i.class70Rt])\n",
    "    arrangements = i.arrangements()\n",
    "    list_arrangements = []\n",
    "    eccentricity = []\n",
    "    max_e = 0\n",
    "    for k in arrangements:\n",
    "        if k.check_exceedance() * k.check_from_right() == 1:\n",
    "            list_arrangements.append(k.veh)\n",
    "            e = k.eccentricity()\n",
    "            eccentricity.append(e)\n",
    "            max_e = e if abs(e) > abs(max_e) else max_e\n",
    "    list_max_e.append(max_e)\n",
    "\n",
    "list_max_e"
   ]
  },
  {
   "cell_type": "markdown",
   "metadata": {},
   "source": [
    "#### make a dataframe for combinations and their corresponding eccentricities"
   ]
  },
  {
   "cell_type": "code",
   "execution_count": 9,
   "metadata": {
    "pycharm": {
     "is_executing": false,
     "name": "#%%\n"
    }
   },
   "outputs": [],
   "source": [
    "df1 = pd.DataFrame(list_combinations, columns=['ClassA', 'Class70Rw', 'Class70Rt'],\n",
    "                  index=[f'comb{i + 1}' for i in range(len(list_combinations))])\n",
    "df1['MaxEccentricity'] = list_max_e"
   ]
  },
  {
   "cell_type": "markdown",
   "metadata": {},
   "source": [
    "*export eccentricity as excel file (uncomment)*"
   ]
  },
  {
   "cell_type": "code",
   "execution_count": 10,
   "metadata": {
    "pycharm": {
     "is_executing": false,
     "name": "#%%\n"
    }
   },
   "outputs": [],
   "source": [
    "# df1.to_excel('outputs/max_e.xlsx')"
   ]
  },
  {
   "cell_type": "markdown",
   "metadata": {},
   "source": [
    "#### total reactions for given combination\n",
    "total reactions = sum of (maxreactions at mid span * impact factor * no. of that vehicles)"
   ]
  },
  {
   "cell_type": "code",
   "execution_count": 11,
   "metadata": {
    "pycharm": {
     "is_executing": false,
     "name": "#%%\n"
    }
   },
   "outputs": [
    {
     "data": {
      "text/plain": [
       "([[2, 0, 0], [0, 1, 0], [0, 0, 1]],\n",
       " [972.6023999999999, 957.2112, 734.1003999999999],\n",
       " [33.768063999999995, 32.228767999999995, 27.86168])"
      ]
     },
     "execution_count": 11,
     "metadata": {},
     "output_type": "execute_result"
    }
   ],
   "source": [
    "totalBMs = [(df.loc['MaxBM'][span/2]*IF).dot(combination_val[i]) for i in range(len(combinations))]\n",
    "totalSFs = [(df.loc['MaxSF'][span/2]*IF).dot(combination_val[i]) for i in range(len(combinations))]\n",
    "combination_val, totalBMs, totalSFs"
   ]
  },
  {
   "cell_type": "code",
   "execution_count": 12,
   "metadata": {
    "pycharm": {
     "is_executing": false,
     "name": "#%%\n"
    }
   },
   "outputs": [
    {
     "data": {
      "text/html": [
       "<div>\n",
       "<style scoped>\n",
       "    .dataframe tbody tr th:only-of-type {\n",
       "        vertical-align: middle;\n",
       "    }\n",
       "\n",
       "    .dataframe tbody tr th {\n",
       "        vertical-align: top;\n",
       "    }\n",
       "\n",
       "    .dataframe thead th {\n",
       "        text-align: right;\n",
       "    }\n",
       "</style>\n",
       "<table border=\"1\" class=\"dataframe\">\n",
       "  <thead>\n",
       "    <tr style=\"text-align: right;\">\n",
       "      <th></th>\n",
       "      <th></th>\n",
       "      <th>0.00</th>\n",
       "      <th>6.25</th>\n",
       "      <th>12.50</th>\n",
       "      <th>18.75</th>\n",
       "      <th>25.00</th>\n",
       "      <th>31.25</th>\n",
       "      <th>37.50</th>\n",
       "      <th>43.75</th>\n",
       "      <th>50.00</th>\n",
       "    </tr>\n",
       "  </thead>\n",
       "  <tbody>\n",
       "    <tr>\n",
       "      <th rowspan=\"3\" valign=\"top\">MaxBM</th>\n",
       "      <th>ClassA</th>\n",
       "      <td>0.0</td>\n",
       "      <td>2361.037</td>\n",
       "      <td>4068.075</td>\n",
       "      <td>5120.737</td>\n",
       "      <td>5526.150</td>\n",
       "      <td>5340.038</td>\n",
       "      <td>4327.675</td>\n",
       "      <td>2494.638</td>\n",
       "      <td>0.000</td>\n",
       "    </tr>\n",
       "    <tr>\n",
       "      <th>Class70RW</th>\n",
       "      <td>0.0</td>\n",
       "      <td>4826.025</td>\n",
       "      <td>8200.950</td>\n",
       "      <td>10182.475</td>\n",
       "      <td>10877.400</td>\n",
       "      <td>10163.225</td>\n",
       "      <td>8053.750</td>\n",
       "      <td>4611.975</td>\n",
       "      <td>0.000</td>\n",
       "    </tr>\n",
       "    <tr>\n",
       "      <th>Class70RT</th>\n",
       "      <td>0.0</td>\n",
       "      <td>3651.438</td>\n",
       "      <td>6259.675</td>\n",
       "      <td>7823.212</td>\n",
       "      <td>8342.050</td>\n",
       "      <td>7823.588</td>\n",
       "      <td>6260.425</td>\n",
       "      <td>3652.563</td>\n",
       "      <td>0.000</td>\n",
       "    </tr>\n",
       "    <tr>\n",
       "      <th rowspan=\"3\" valign=\"top\">MaxSF+</th>\n",
       "      <th>ClassA</th>\n",
       "      <td>0.0</td>\n",
       "      <td>0.000</td>\n",
       "      <td>0.000</td>\n",
       "      <td>0.000</td>\n",
       "      <td>0.000</td>\n",
       "      <td>0.000</td>\n",
       "      <td>0.000</td>\n",
       "      <td>0.000</td>\n",
       "      <td>0.000</td>\n",
       "    </tr>\n",
       "    <tr>\n",
       "      <th>Class70RW</th>\n",
       "      <td>0.0</td>\n",
       "      <td>0.000</td>\n",
       "      <td>0.000</td>\n",
       "      <td>0.000</td>\n",
       "      <td>0.000</td>\n",
       "      <td>0.000</td>\n",
       "      <td>0.000</td>\n",
       "      <td>0.000</td>\n",
       "      <td>0.000</td>\n",
       "    </tr>\n",
       "    <tr>\n",
       "      <th>Class70RT</th>\n",
       "      <td>0.0</td>\n",
       "      <td>0.000</td>\n",
       "      <td>0.000</td>\n",
       "      <td>0.000</td>\n",
       "      <td>0.000</td>\n",
       "      <td>0.000</td>\n",
       "      <td>0.000</td>\n",
       "      <td>0.000</td>\n",
       "      <td>0.000</td>\n",
       "    </tr>\n",
       "    <tr>\n",
       "      <th rowspan=\"3\" valign=\"top\">MaxSF-</th>\n",
       "      <th>ClassA</th>\n",
       "      <td>0.0</td>\n",
       "      <td>-26.488</td>\n",
       "      <td>-70.584</td>\n",
       "      <td>-129.864</td>\n",
       "      <td>-191.864</td>\n",
       "      <td>-254.864</td>\n",
       "      <td>-316.864</td>\n",
       "      <td>-383.466</td>\n",
       "      <td>-452.162</td>\n",
       "    </tr>\n",
       "    <tr>\n",
       "      <th>Class70RW</th>\n",
       "      <td>0.0</td>\n",
       "      <td>-44.812</td>\n",
       "      <td>-136.236</td>\n",
       "      <td>-252.156</td>\n",
       "      <td>-366.236</td>\n",
       "      <td>-482.156</td>\n",
       "      <td>-596.236</td>\n",
       "      <td>-712.156</td>\n",
       "      <td>-832.476</td>\n",
       "    </tr>\n",
       "    <tr>\n",
       "      <th>Class70RT</th>\n",
       "      <td>0.0</td>\n",
       "      <td>-57.710</td>\n",
       "      <td>-143.010</td>\n",
       "      <td>-229.810</td>\n",
       "      <td>-316.610</td>\n",
       "      <td>-404.810</td>\n",
       "      <td>-491.610</td>\n",
       "      <td>-579.810</td>\n",
       "      <td>-666.610</td>\n",
       "    </tr>\n",
       "    <tr>\n",
       "      <th rowspan=\"3\" valign=\"top\">MaxSF</th>\n",
       "      <th>ClassA</th>\n",
       "      <td>0.0</td>\n",
       "      <td>26.488</td>\n",
       "      <td>70.584</td>\n",
       "      <td>129.864</td>\n",
       "      <td>191.864</td>\n",
       "      <td>254.864</td>\n",
       "      <td>316.864</td>\n",
       "      <td>383.466</td>\n",
       "      <td>452.162</td>\n",
       "    </tr>\n",
       "    <tr>\n",
       "      <th>Class70RW</th>\n",
       "      <td>0.0</td>\n",
       "      <td>44.812</td>\n",
       "      <td>136.236</td>\n",
       "      <td>252.156</td>\n",
       "      <td>366.236</td>\n",
       "      <td>482.156</td>\n",
       "      <td>596.236</td>\n",
       "      <td>712.156</td>\n",
       "      <td>832.476</td>\n",
       "    </tr>\n",
       "    <tr>\n",
       "      <th>Class70RT</th>\n",
       "      <td>0.0</td>\n",
       "      <td>57.710</td>\n",
       "      <td>143.010</td>\n",
       "      <td>229.810</td>\n",
       "      <td>316.610</td>\n",
       "      <td>404.810</td>\n",
       "      <td>491.610</td>\n",
       "      <td>579.810</td>\n",
       "      <td>666.610</td>\n",
       "    </tr>\n",
       "  </tbody>\n",
       "</table>\n",
       "</div>"
      ],
      "text/plain": [
       "                  0.00      6.25      12.50      18.75      25.00      31.25  \\\n",
       "MaxBM  ClassA       0.0  2361.037  4068.075   5120.737   5526.150   5340.038   \n",
       "       Class70RW    0.0  4826.025  8200.950  10182.475  10877.400  10163.225   \n",
       "       Class70RT    0.0  3651.438  6259.675   7823.212   8342.050   7823.588   \n",
       "MaxSF+ ClassA       0.0     0.000     0.000      0.000      0.000      0.000   \n",
       "       Class70RW    0.0     0.000     0.000      0.000      0.000      0.000   \n",
       "       Class70RT    0.0     0.000     0.000      0.000      0.000      0.000   \n",
       "MaxSF- ClassA       0.0   -26.488   -70.584   -129.864   -191.864   -254.864   \n",
       "       Class70RW    0.0   -44.812  -136.236   -252.156   -366.236   -482.156   \n",
       "       Class70RT    0.0   -57.710  -143.010   -229.810   -316.610   -404.810   \n",
       "MaxSF  ClassA       0.0    26.488    70.584    129.864    191.864    254.864   \n",
       "       Class70RW    0.0    44.812   136.236    252.156    366.236    482.156   \n",
       "       Class70RT    0.0    57.710   143.010    229.810    316.610    404.810   \n",
       "\n",
       "                     37.50     43.75    50.00  \n",
       "MaxBM  ClassA     4327.675  2494.638    0.000  \n",
       "       Class70RW  8053.750  4611.975    0.000  \n",
       "       Class70RT  6260.425  3652.563    0.000  \n",
       "MaxSF+ ClassA        0.000     0.000    0.000  \n",
       "       Class70RW     0.000     0.000    0.000  \n",
       "       Class70RT     0.000     0.000    0.000  \n",
       "MaxSF- ClassA     -316.864  -383.466 -452.162  \n",
       "       Class70RW  -596.236  -712.156 -832.476  \n",
       "       Class70RT  -491.610  -579.810 -666.610  \n",
       "MaxSF  ClassA      316.864   383.466  452.162  \n",
       "       Class70RW   596.236   712.156  832.476  \n",
       "       Class70RT   491.610   579.810  666.610  "
      ]
     },
     "execution_count": 12,
     "metadata": {},
     "output_type": "execute_result"
    }
   ],
   "source": [
    "df"
   ]
  },
  {
   "cell_type": "code",
   "execution_count": 13,
   "metadata": {
    "pycharm": {
     "is_executing": false,
     "name": "#%%\n"
    }
   },
   "outputs": [],
   "source": [
    "df1['TotalBM'] = totalBMs\n",
    "df1['TotalSF'] = totalSFs"
   ]
  },
  {
   "cell_type": "code",
   "execution_count": 14,
   "metadata": {
    "pycharm": {
     "is_executing": false,
     "name": "#%%\n"
    }
   },
   "outputs": [
    {
     "data": {
      "text/html": [
       "<div>\n",
       "<style scoped>\n",
       "    .dataframe tbody tr th:only-of-type {\n",
       "        vertical-align: middle;\n",
       "    }\n",
       "\n",
       "    .dataframe tbody tr th {\n",
       "        vertical-align: top;\n",
       "    }\n",
       "\n",
       "    .dataframe thead th {\n",
       "        text-align: right;\n",
       "    }\n",
       "</style>\n",
       "<table border=\"1\" class=\"dataframe\">\n",
       "  <thead>\n",
       "    <tr style=\"text-align: right;\">\n",
       "      <th></th>\n",
       "      <th>ClassA</th>\n",
       "      <th>Class70Rw</th>\n",
       "      <th>Class70Rt</th>\n",
       "      <th>MaxEccentricity</th>\n",
       "      <th>TotalBM</th>\n",
       "      <th>TotalSF</th>\n",
       "    </tr>\n",
       "  </thead>\n",
       "  <tbody>\n",
       "    <tr>\n",
       "      <th>comb1</th>\n",
       "      <td>2</td>\n",
       "      <td>0</td>\n",
       "      <td>0</td>\n",
       "      <td>-3.739699e-16</td>\n",
       "      <td>972.6024</td>\n",
       "      <td>33.768064</td>\n",
       "    </tr>\n",
       "    <tr>\n",
       "      <th>comb2</th>\n",
       "      <td>0</td>\n",
       "      <td>1</td>\n",
       "      <td>0</td>\n",
       "      <td>-4.050000e-01</td>\n",
       "      <td>957.2112</td>\n",
       "      <td>32.228768</td>\n",
       "    </tr>\n",
       "    <tr>\n",
       "      <th>comb3</th>\n",
       "      <td>0</td>\n",
       "      <td>0</td>\n",
       "      <td>1</td>\n",
       "      <td>-3.500000e-01</td>\n",
       "      <td>734.1004</td>\n",
       "      <td>27.861680</td>\n",
       "    </tr>\n",
       "  </tbody>\n",
       "</table>\n",
       "</div>"
      ],
      "text/plain": [
       "       ClassA  Class70Rw  Class70Rt  MaxEccentricity   TotalBM    TotalSF\n",
       "comb1       2          0          0    -3.739699e-16  972.6024  33.768064\n",
       "comb2       0          1          0    -4.050000e-01  957.2112  32.228768\n",
       "comb3       0          0          1    -3.500000e-01  734.1004  27.861680"
      ]
     },
     "execution_count": 14,
     "metadata": {},
     "output_type": "execute_result"
    }
   ],
   "source": [
    "df1"
   ]
  },
  {
   "cell_type": "markdown",
   "metadata": {},
   "source": [
    "# loads on peir"
   ]
  },
  {
   "cell_type": "code",
   "execution_count": 15,
   "metadata": {
    "pycharm": {
     "is_executing": false,
     "name": "#%%\n"
    }
   },
   "outputs": [],
   "source": [
    "span = 30\n",
    "c_c = 1.5\n",
    "reactions = []\n",
    "\n",
    "max_sums = []\n",
    "max_diffs=[]\n",
    "lefts = []\n",
    "rights = []\n",
    "max_sums_at = []\n",
    "max_diffs_at=[]\n",
    "for veh in vehicles:\n",
    "    dummy_load = list(veh.loadpair)\n",
    "    no = 2\n",
    "    nose_dist = 20\n",
    "    nun=0\n",
    "    if veh.name == 'Class 70RT':\n",
    "        nose_dist = 90\n",
    "        no = 1\n",
    "    elif veh.name == 'Class 70RW':\n",
    "        nose_dist = 31.52\n",
    "        \n",
    "    final_load = list(dummy_load)\n",
    "    max_sum_at = 0\n",
    "    for i in range(no-1):\n",
    "        delta = dummy_load[-1][0] + nose_dist\n",
    "        final_load.extend([(i[0] + delta, i[1]) for i in dummy_load])\n",
    "         \n",
    "    sumlr = 0\n",
    "    nleft = 0\n",
    "    nright = 0\n",
    "    pleft=0\n",
    "    pright=0 \n",
    "    difflr=0\n",
    "    \n",
    "    head_at = 0\n",
    "    for i in range(int(90/0.1)):\n",
    "        left = 0\n",
    "        right = 0\n",
    "        for j in final_load:\n",
    "            rb = find_rb(span, head_at- j[0], c_c, c_c)*j[1]\n",
    "            ra = find_ra(span, head_at-j[0], c_c, c_c)*j[1]\n",
    "            left+=rb\n",
    "            right+=ra\n",
    "        \n",
    "        if left+right>sumlr:\n",
    "            sumlr = left+right\n",
    "            nleft, nright = left, right\n",
    "            max_sum_at = head_at\n",
    "        if abs(left-right)>difflr:\n",
    "            difflr=abs(left-right)\n",
    "            max_diff_at=head_at\n",
    "        if left>pleft:\n",
    "            pleft=left \n",
    "        if right>pright:\n",
    "            pright=right \n",
    "        head_at+=0.1\n",
    "    max_sums.append(sumlr)\n",
    "    max_diffs.append(difflr)\n",
    "    lefts.append(nleft)\n",
    "    rights.append(nright)\n",
    "    max_sums_at.append(max_sum_at)\n",
    "    max_diffs_at.append(max_diff_at)"
   ]
  },
  {
   "cell_type": "code",
   "execution_count": 16,
   "metadata": {
    "pycharm": {
     "is_executing": false,
     "name": "#%%\n"
    }
   },
   "outputs": [
    {
     "data": {
      "text/html": [
       "<div>\n",
       "<style scoped>\n",
       "    .dataframe tbody tr th:only-of-type {\n",
       "        vertical-align: middle;\n",
       "    }\n",
       "\n",
       "    .dataframe tbody tr th {\n",
       "        vertical-align: top;\n",
       "    }\n",
       "\n",
       "    .dataframe thead th {\n",
       "        text-align: right;\n",
       "    }\n",
       "</style>\n",
       "<table border=\"1\" class=\"dataframe\">\n",
       "  <thead>\n",
       "    <tr style=\"text-align: right;\">\n",
       "      <th></th>\n",
       "      <th>class A</th>\n",
       "      <th>70RW</th>\n",
       "      <th>70RT</th>\n",
       "    </tr>\n",
       "  </thead>\n",
       "  <tbody>\n",
       "    <tr>\n",
       "      <th>RL</th>\n",
       "      <td>315.220000</td>\n",
       "      <td>479.910000</td>\n",
       "      <td>348.243333</td>\n",
       "    </tr>\n",
       "    <tr>\n",
       "      <th>RR</th>\n",
       "      <td>176.236667</td>\n",
       "      <td>436.950000</td>\n",
       "      <td>342.060000</td>\n",
       "    </tr>\n",
       "    <tr>\n",
       "      <th>Max Sum</th>\n",
       "      <td>491.456667</td>\n",
       "      <td>916.860000</td>\n",
       "      <td>690.303333</td>\n",
       "    </tr>\n",
       "    <tr>\n",
       "      <th>Max Difference</th>\n",
       "      <td>399.043333</td>\n",
       "      <td>853.206667</td>\n",
       "      <td>663.016667</td>\n",
       "    </tr>\n",
       "    <tr>\n",
       "      <th>Max_sum_at</th>\n",
       "      <td>75.000000</td>\n",
       "      <td>39.700000</td>\n",
       "      <td>33.300000</td>\n",
       "    </tr>\n",
       "    <tr>\n",
       "      <th>Max_difference_at</th>\n",
       "      <td>30.700000</td>\n",
       "      <td>89.100000</td>\n",
       "      <td>30.700000</td>\n",
       "    </tr>\n",
       "  </tbody>\n",
       "</table>\n",
       "</div>"
      ],
      "text/plain": [
       "                      class A        70RW        70RT\n",
       "RL                 315.220000  479.910000  348.243333\n",
       "RR                 176.236667  436.950000  342.060000\n",
       "Max Sum            491.456667  916.860000  690.303333\n",
       "Max Difference     399.043333  853.206667  663.016667\n",
       "Max_sum_at          75.000000   39.700000   33.300000\n",
       "Max_difference_at   30.700000   89.100000   30.700000"
      ]
     },
     "execution_count": 16,
     "metadata": {},
     "output_type": "execute_result"
    }
   ],
   "source": [
    "pd.DataFrame([lefts, rights, max_sums,max_diffs, max_sums_at,max_diffs_at], columns=['class A', '70RW', '70RT'], index=['RL', \"RR\", 'Max Sum','Max Difference', 'Max_sum_at', 'Max_difference_at'])\n",
    "\n",
    "\n"
   ]
  },
  {
   "cell_type": "markdown",
   "metadata": {},
   "source": [
    "*check*"
   ]
  },
  {
   "cell_type": "code",
   "execution_count": 17,
   "metadata": {
    "pycharm": {
     "is_executing": false,
     "name": "#%%\n"
    }
   },
   "outputs": [],
   "source": [
    "span = 30\n",
    "c_c = 1.5\n",
    "veh = ll_A\n",
    "dummy_load = list(veh.loadpair)\n",
    "no = 2\n",
    "nose_dist = 20\n",
    "if veh.name == 'Class 70RT':\n",
    "    nose_dist = 90\n",
    "    no = 1\n",
    "elif veh.name == 'Class 70RW':\n",
    "    nose_dist = 31.52\n",
    "\n",
    "final_load = list(dummy_load)\n",
    "for i in range(no-1):\n",
    "    delta = dummy_load[-1][0] + nose_dist\n",
    "    final_load.extend([(i[0] + delta, i[1]) for i in dummy_load])\n",
    "    \n",
    "left = []\n",
    "right = []\n",
    "head_at = 75.100000\n",
    "\n",
    "for j in final_load:\n",
    "    rb = find_rb(span, head_at-j[0], c_c/2, c_c/2)*j[1]\n",
    "    ra = find_ra(span, head_at-j[0]-(span+c_c), c_c/2, c_c/2)*j[1]\n",
    "    left.append(rb)\n",
    "    right.append(ra)"
   ]
  },
  {
   "cell_type": "code",
   "execution_count": 18,
   "metadata": {
    "pycharm": {
     "is_executing": false,
     "name": "#%%\n"
    }
   },
   "outputs": [
    {
     "data": {
      "text/html": [
       "<div>\n",
       "<style scoped>\n",
       "    .dataframe tbody tr th:only-of-type {\n",
       "        vertical-align: middle;\n",
       "    }\n",
       "\n",
       "    .dataframe tbody tr th {\n",
       "        vertical-align: top;\n",
       "    }\n",
       "\n",
       "    .dataframe thead th {\n",
       "        text-align: right;\n",
       "    }\n",
       "</style>\n",
       "<table border=\"1\" class=\"dataframe\">\n",
       "  <thead>\n",
       "    <tr style=\"text-align: right;\">\n",
       "      <th></th>\n",
       "      <th>pos</th>\n",
       "      <th>load</th>\n",
       "      <th>left</th>\n",
       "      <th>right</th>\n",
       "    </tr>\n",
       "  </thead>\n",
       "  <tbody>\n",
       "    <tr>\n",
       "      <th>0</th>\n",
       "      <td>75.1</td>\n",
       "      <td>27</td>\n",
       "      <td>0.000000</td>\n",
       "      <td>15.435000</td>\n",
       "    </tr>\n",
       "    <tr>\n",
       "      <th>1</th>\n",
       "      <td>74.0</td>\n",
       "      <td>27</td>\n",
       "      <td>0.000000</td>\n",
       "      <td>16.425000</td>\n",
       "    </tr>\n",
       "    <tr>\n",
       "      <th>2</th>\n",
       "      <td>70.8</td>\n",
       "      <td>114</td>\n",
       "      <td>0.000000</td>\n",
       "      <td>81.510000</td>\n",
       "    </tr>\n",
       "    <tr>\n",
       "      <th>3</th>\n",
       "      <td>69.6</td>\n",
       "      <td>114</td>\n",
       "      <td>0.000000</td>\n",
       "      <td>86.070000</td>\n",
       "    </tr>\n",
       "    <tr>\n",
       "      <th>4</th>\n",
       "      <td>65.3</td>\n",
       "      <td>68</td>\n",
       "      <td>0.000000</td>\n",
       "      <td>61.086667</td>\n",
       "    </tr>\n",
       "    <tr>\n",
       "      <th>5</th>\n",
       "      <td>62.3</td>\n",
       "      <td>68</td>\n",
       "      <td>0.000000</td>\n",
       "      <td>67.886667</td>\n",
       "    </tr>\n",
       "    <tr>\n",
       "      <th>6</th>\n",
       "      <td>59.3</td>\n",
       "      <td>68</td>\n",
       "      <td>0.000000</td>\n",
       "      <td>0.000000</td>\n",
       "    </tr>\n",
       "    <tr>\n",
       "      <th>7</th>\n",
       "      <td>56.3</td>\n",
       "      <td>68</td>\n",
       "      <td>0.000000</td>\n",
       "      <td>0.000000</td>\n",
       "    </tr>\n",
       "    <tr>\n",
       "      <th>8</th>\n",
       "      <td>36.3</td>\n",
       "      <td>27</td>\n",
       "      <td>0.000000</td>\n",
       "      <td>0.000000</td>\n",
       "    </tr>\n",
       "    <tr>\n",
       "      <th>9</th>\n",
       "      <td>35.2</td>\n",
       "      <td>27</td>\n",
       "      <td>0.000000</td>\n",
       "      <td>0.000000</td>\n",
       "    </tr>\n",
       "    <tr>\n",
       "      <th>10</th>\n",
       "      <td>32.0</td>\n",
       "      <td>114</td>\n",
       "      <td>0.000000</td>\n",
       "      <td>0.000000</td>\n",
       "    </tr>\n",
       "    <tr>\n",
       "      <th>11</th>\n",
       "      <td>30.8</td>\n",
       "      <td>114</td>\n",
       "      <td>0.000000</td>\n",
       "      <td>0.000000</td>\n",
       "    </tr>\n",
       "    <tr>\n",
       "      <th>12</th>\n",
       "      <td>26.5</td>\n",
       "      <td>68</td>\n",
       "      <td>60.066667</td>\n",
       "      <td>0.000000</td>\n",
       "    </tr>\n",
       "    <tr>\n",
       "      <th>13</th>\n",
       "      <td>23.5</td>\n",
       "      <td>68</td>\n",
       "      <td>53.266667</td>\n",
       "      <td>0.000000</td>\n",
       "    </tr>\n",
       "    <tr>\n",
       "      <th>14</th>\n",
       "      <td>20.5</td>\n",
       "      <td>68</td>\n",
       "      <td>46.466667</td>\n",
       "      <td>0.000000</td>\n",
       "    </tr>\n",
       "    <tr>\n",
       "      <th>15</th>\n",
       "      <td>17.5</td>\n",
       "      <td>68</td>\n",
       "      <td>39.666667</td>\n",
       "      <td>0.000000</td>\n",
       "    </tr>\n",
       "  </tbody>\n",
       "</table>\n",
       "</div>"
      ],
      "text/plain": [
       "     pos  load       left      right\n",
       "0   75.1    27   0.000000  15.435000\n",
       "1   74.0    27   0.000000  16.425000\n",
       "2   70.8   114   0.000000  81.510000\n",
       "3   69.6   114   0.000000  86.070000\n",
       "4   65.3    68   0.000000  61.086667\n",
       "5   62.3    68   0.000000  67.886667\n",
       "6   59.3    68   0.000000   0.000000\n",
       "7   56.3    68   0.000000   0.000000\n",
       "8   36.3    27   0.000000   0.000000\n",
       "9   35.2    27   0.000000   0.000000\n",
       "10  32.0   114   0.000000   0.000000\n",
       "11  30.8   114   0.000000   0.000000\n",
       "12  26.5    68  60.066667   0.000000\n",
       "13  23.5    68  53.266667   0.000000\n",
       "14  20.5    68  46.466667   0.000000\n",
       "15  17.5    68  39.666667   0.000000"
      ]
     },
     "execution_count": 18,
     "metadata": {},
     "output_type": "execute_result"
    }
   ],
   "source": [
    "pd.DataFrame({'pos' : [head_at - i[0] for i in final_load], 'load' : [i[1] for i in final_load], 'left' : left, 'right' : right} )"
   ]
  },
  {
   "cell_type": "code",
   "execution_count": null,
   "metadata": {
    "pycharm": {
     "is_executing": false,
     "name": "#%%\n"
    }
   },
   "outputs": [],
   "source": []
  },
  {
   "cell_type": "code",
   "execution_count": null,
   "metadata": {
    "pycharm": {
     "is_executing": false,
     "name": "#%%\n"
    }
   },
   "outputs": [],
   "source": []
  },
  {
   "cell_type": "code",
   "execution_count": 19,
   "metadata": {
    "pycharm": {
     "is_executing": false,
     "name": "#%%\n"
    }
   },
   "outputs": [
    {
     "name": "stdout",
     "output_type": "stream",
     "text": [
      "0.03333333333333333\n"
     ]
    }
   ],
   "source": [
    "print(find_rb(30,1,1.5,1.5))\n",
    "\n",
    "\n",
    "\n"
   ]
  }
 ],
 "metadata": {
  "kernelspec": {
   "display_name": "Python 3",
   "language": "python",
   "name": "python3"
  },
  "language_info": {
   "codemirror_mode": {
    "name": "ipython",
    "version": 3
   },
   "file_extension": ".py",
   "mimetype": "text/x-python",
   "name": "python",
   "nbconvert_exporter": "python",
   "pygments_lexer": "ipython3",
   "version": "3.8.5"
  },
  "pycharm": {
   "stem_cell": {
    "cell_type": "raw",
    "metadata": {
     "collapsed": false
    },
    "source": []
   }
  }
 },
 "nbformat": 4,
 "nbformat_minor": 1
}
