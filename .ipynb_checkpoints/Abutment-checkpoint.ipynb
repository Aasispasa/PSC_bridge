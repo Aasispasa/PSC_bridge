{
 "cells": [
  {
   "cell_type": "code",
   "execution_count": 4,
   "id": "35ac2c37",
   "metadata": {},
   "outputs": [],
   "source": [
    "import pandas as pd\n",
    "from bridge_specs import box\n"
   ]
  },
  {
   "cell_type": "markdown",
   "id": "b625eaa8",
   "metadata": {},
   "source": [
    "Abutment details"
   ]
  },
  {
   "cell_type": "code",
   "execution_count": 7,
   "id": "6b0946ef",
   "metadata": {},
   "outputs": [],
   "source": [
    "bearing_ht = 0.3 #assumed including pedestal\n",
    "abut = {\n",
    "    'total_ht' : 7.0,\n",
    "    'wc' : 0.075,\n",
    "    'backW_ht' : box['pillar_hei']+bearing_ht+0.075, #including wearing cource\n",
    "    'cap':0.5,\n",
    "    'stem_ht': 7-box['pillar_hei']+bearing_ht+0.075-0.5,\n",
    "    'bw_width':0.3,\n",
    "    'edge_to_bearing_c':0.6,\n",
    "    'bw_to_bearing_c': 0.6,\n",
    "    'cap_width':0.3+0.6+0.6,\n",
    "    'stem_width':1.25,\n",
    "    'be_taperwidth':0.10,\n",
    "    'width_of_abut':8.4,\n",
    "    'ttl_stembase_width':1.25+0.10,\n",
    "    'approach_slab_dep':0.3,\n",
    "    'approach_slab_len':3.5,\n",
    "    'haunch':{'stem_haunch':[0.2,0.25],'approach':[0.25,0.25],'slab_hauch':[0.25,0.25]} #list of width and height.\n",
    "}"
   ]
  },
  {
   "cell_type": "markdown",
   "id": "c50c5c5f",
   "metadata": {},
   "source": [
    "Live Loads, Dead loads and Pedestrian loads"
   ]
  },
  {
   "cell_type": "code",
   "execution_count": 15,
   "id": "0d69b190",
   "metadata": {},
   "outputs": [],
   "source": [
    "#dummy loads\n",
    "dl = 3000 #dead loads\n",
    "ll = 1000 #live loads including impact\n",
    "pdl = 200 #pedestrian loads"
   ]
  },
  {
   "cell_type": "code",
   "execution_count": null,
   "id": "4738c1da",
   "metadata": {},
   "outputs": [],
   "source": []
  },
  {
   "cell_type": "code",
   "execution_count": null,
   "id": "3f91431a",
   "metadata": {},
   "outputs": [],
   "source": []
  },
  {
   "cell_type": "markdown",
   "id": "2421984f",
   "metadata": {},
   "source": [
    "Material properties"
   ]
  },
  {
   "cell_type": "code",
   "execution_count": 16,
   "id": "cd9b2ae8",
   "metadata": {},
   "outputs": [],
   "source": [
    "fck = 30 #grade of concrete = M30\n",
    "fy = 500 #grade of steel = Fe500\n",
    "unitwt_conc = 25 #unit weight of concrete = 25KN/m^3\n",
    "unitwt_bfill = 20 #unit weight of backfill = 20KN/m^3"
   ]
  },
  {
   "cell_type": "code",
   "execution_count": null,
   "id": "e1546eb7",
   "metadata": {},
   "outputs": [],
   "source": []
  }
 ],
 "metadata": {
  "kernelspec": {
   "display_name": "Python 3 (ipykernel)",
   "language": "python",
   "name": "python3"
  },
  "language_info": {
   "codemirror_mode": {
    "name": "ipython",
    "version": 3
   },
   "file_extension": ".py",
   "mimetype": "text/x-python",
   "name": "python",
   "nbconvert_exporter": "python",
   "pygments_lexer": "ipython3",
   "version": "3.8.1"
  }
 },
 "nbformat": 4,
 "nbformat_minor": 5
}
