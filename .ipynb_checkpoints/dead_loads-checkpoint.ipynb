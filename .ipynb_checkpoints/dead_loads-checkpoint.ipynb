{
 "cells": [
  {
   "cell_type": "code",
   "execution_count": 4,
   "metadata": {},
   "outputs": [],
   "source": [
    "import pandas as pd\n",
    "import csv\n",
    "from reaction import bm_udl\n",
    "from irc6_2007 import ped_ll\n",
    "import math\n",
    "from Cross import Cross_section,cables,Dead_Load,expansion_calc,excel_loads"
   ]
  },
  {
   "cell_type": "code",
   "execution_count": 5,
   "metadata": {},
   "outputs": [],
   "source": [
    "\n",
    "\"\"\"INPUTS SECTION\"\"\"\n",
    "\n",
    "\"\"\"FOR CROSS SECTION\"\"\"\n",
    "length=[]\n",
    "height=[]\n",
    "\n",
    "\n",
    "#####################################################################################################################\n",
    "\n",
    "\"\"\"GUI INPUT OF BRIDGE SECTION LENGTHS AND HEIGHTS\"\"\"\n",
    "\n",
    "if False:\n",
    "    allinput()\n",
    "\n",
    "df=pd.read_excel('Saved Inputs/box.xlsx',index_col=None,header=None)\n",
    "\n",
    "\n",
    "height=df.values.tolist()[0]\n",
    "length=df.values.tolist()[1]\n",
    "\n",
    "\n",
    "\n",
    "###############################################################################################\n",
    "\"\"\"FOR DEAD LOAD MOMENTS INPUTS\"\"\"\n",
    "\n",
    "\n",
    "df_bridge=pd.read_excel('outputs/section.xlsx').set_index('Name')\n",
    "\n",
    "span=50\n",
    "cw=6\n",
    "l_kerblen=0.6\n",
    "r_kerblen=0.6\n",
    "area_sum=round(sum(pd.to_numeric(df_bridge.loc[:,'Area'])),5)\n",
    "\n",
    "\"\"\"\"distance form left of 9 divisions of section\"\"\"\n",
    "sc=[(j)/8*50 for j in range(9)] \n",
    "\n",
    "loads=[\"PDL\",\"ODL\",\"SIDL\",\"PEDL\"]\n"
   ]
  },
  {
   "cell_type": "code",
   "execution_count": 6,
   "metadata": {},
   "outputs": [
    {
     "ename": "AttributeError",
     "evalue": "module 'pandas' has no attribute 'Dataframe'",
     "output_type": "error",
     "traceback": [
      "\u001b[0;31m---------------------------------------------------------------------------\u001b[0m",
      "\u001b[0;31mAttributeError\u001b[0m                            Traceback (most recent call last)",
      "\u001b[0;32m<ipython-input-6-9f0240649da3>\u001b[0m in \u001b[0;36m<module>\u001b[0;34m\u001b[0m\n\u001b[1;32m     46\u001b[0m \u001b[0;34m\u001b[0m\u001b[0m\n\u001b[1;32m     47\u001b[0m \u001b[0;31m# excel_export(section)\u001b[0m\u001b[0;34m\u001b[0m\u001b[0;34m\u001b[0m\u001b[0;34m\u001b[0m\u001b[0m\n\u001b[0;32m---> 48\u001b[0;31m \u001b[0mexcel_loads\u001b[0m\u001b[0;34m(\u001b[0m\u001b[0mPDL\u001b[0m\u001b[0;34m,\u001b[0m\u001b[0mODL\u001b[0m\u001b[0;34m,\u001b[0m\u001b[0mPEDL\u001b[0m\u001b[0;34m,\u001b[0m\u001b[0mSIDL\u001b[0m\u001b[0;34m,\u001b[0m\u001b[0msc\u001b[0m\u001b[0;34m)\u001b[0m\u001b[0;34m\u001b[0m\u001b[0;34m\u001b[0m\u001b[0m\n\u001b[0m\u001b[1;32m     49\u001b[0m \u001b[0;34m\u001b[0m\u001b[0m\n",
      "\u001b[0;32m~/PycharmProjects/PSC_bridge/Cross.py\u001b[0m in \u001b[0;36mexcel_loads\u001b[0;34m(PDL, ODL, PEDL, SIDL, sc)\u001b[0m\n\u001b[1;32m    596\u001b[0m         \u001b[0mbm_pedl\u001b[0m\u001b[0;34m.\u001b[0m\u001b[0mappend\u001b[0m\u001b[0;34m(\u001b[0m\u001b[0mPEDL\u001b[0m\u001b[0;34m[\u001b[0m\u001b[0mi\u001b[0m\u001b[0;34m]\u001b[0m\u001b[0;34m.\u001b[0m\u001b[0mBM\u001b[0m\u001b[0;34m)\u001b[0m\u001b[0;34m\u001b[0m\u001b[0;34m\u001b[0m\u001b[0m\n\u001b[1;32m    597\u001b[0m \u001b[0;34m\u001b[0m\u001b[0m\n\u001b[0;32m--> 598\u001b[0;31m     \u001b[0mdf3\u001b[0m \u001b[0;34m=\u001b[0m \u001b[0mpd\u001b[0m\u001b[0;34m.\u001b[0m\u001b[0mDataframe\u001b[0m\u001b[0;34m(\u001b[0m\u001b[0;34m[\u001b[0m\u001b[0msec_at\u001b[0m\u001b[0;34m,\u001b[0m \u001b[0mbm_pdl\u001b[0m\u001b[0;34m,\u001b[0m \u001b[0mbm_odl\u001b[0m\u001b[0;34m,\u001b[0m \u001b[0mbm_sidl\u001b[0m\u001b[0;34m,\u001b[0m \u001b[0mbm_pedl\u001b[0m\u001b[0;34m]\u001b[0m\u001b[0;34m,\u001b[0m \u001b[0mcolumns\u001b[0m \u001b[0;34m=\u001b[0m \u001b[0mcol3\u001b[0m\u001b[0;34m)\u001b[0m\u001b[0;34m\u001b[0m\u001b[0;34m\u001b[0m\u001b[0m\n\u001b[0m\u001b[1;32m    599\u001b[0m     \u001b[0mdf3\u001b[0m\u001b[0;34m.\u001b[0m\u001b[0mto_excel\u001b[0m\u001b[0;34m(\u001b[0m\u001b[0;34m'outputs/Moments'\u001b[0m\u001b[0;34m)\u001b[0m\u001b[0;34m\u001b[0m\u001b[0;34m\u001b[0m\u001b[0m\n\u001b[1;32m    600\u001b[0m \u001b[0;34m\u001b[0m\u001b[0m\n",
      "\u001b[0;32m~/anaconda3/envs/PSC_bridge/lib/python3.9/site-packages/pandas/__init__.py\u001b[0m in \u001b[0;36m__getattr__\u001b[0;34m(name)\u001b[0m\n\u001b[1;32m    242\u001b[0m         \u001b[0;32mreturn\u001b[0m \u001b[0m_SparseArray\u001b[0m\u001b[0;34m\u001b[0m\u001b[0;34m\u001b[0m\u001b[0m\n\u001b[1;32m    243\u001b[0m \u001b[0;34m\u001b[0m\u001b[0m\n\u001b[0;32m--> 244\u001b[0;31m     \u001b[0;32mraise\u001b[0m \u001b[0mAttributeError\u001b[0m\u001b[0;34m(\u001b[0m\u001b[0;34mf\"module 'pandas' has no attribute '{name}'\"\u001b[0m\u001b[0;34m)\u001b[0m\u001b[0;34m\u001b[0m\u001b[0;34m\u001b[0m\u001b[0m\n\u001b[0m\u001b[1;32m    245\u001b[0m \u001b[0;34m\u001b[0m\u001b[0m\n\u001b[1;32m    246\u001b[0m \u001b[0;34m\u001b[0m\u001b[0m\n",
      "\u001b[0;31mAttributeError\u001b[0m: module 'pandas' has no attribute 'Dataframe'"
     ]
    }
   ],
   "source": [
    "\"\"\"Creation of required cross section with length and height inputs\"\"\"\n",
    "section=Cross_section(length,height)\n",
    "\n",
    "\n",
    "\"\"\"Creation of cable properties \"\"\"\n",
    "# cable=cables(35,14,section)\n",
    "\n",
    "\n",
    "\"\"\"Assigning section with cable \"\"\"\n",
    "section1=Cross_section(length,height)\n",
    "section1.cableprop=cables(35,14,section).cablepos(0,50)\n",
    "\n",
    "# print(section1.cableprop)\n",
    "\n",
    "\n",
    "I=[]\n",
    "ymax=[]\n",
    "ymin=[]\n",
    "area_sum=[]\n",
    "cable_positions=[]\n",
    "\n",
    "\"\"\"Cross Section values for given no of divisions \"\"\"\n",
    "for i in range(len(sc)):\n",
    "    cable=cables(35,14,section)\n",
    "    section.expansion_width=expansion_calc(span,sc[i],cable)    \n",
    "    I.append(section.I)    \n",
    "    ymax.append(section.ymax)\n",
    "    ymin.append(section.ymin)\n",
    "    area_sum.append(sum(section.section_area))\n",
    "    cable_positions.append(cable.cablepos(sc[i],span))\n",
    "\n",
    "\n",
    "\n",
    "\n",
    "PDL=[]\n",
    "ODL=[]\n",
    "PEDL=[]\n",
    "SIDL=[]\n",
    "\n",
    "\"\"\"Calculation of loads \"\"\"\n",
    "for i in range(len(sc)):\n",
    "    PDL.append(Dead_Load('PDL',area_sum[i],sc[i],span,l_kerblen+r_kerblen,0.3,0.065,6,2,I[i],ymax[i],ymin[i]))\n",
    "    ODL.append(Dead_Load('ODL',area_sum[i],sc[i],span,l_kerblen+r_kerblen,0.3,0.065,6,2,I[i],ymax[i],ymin[i]))\n",
    "    PEDL.append(Dead_Load('PEDL',area_sum[i],sc[i],span,l_kerblen+r_kerblen,0.3,0.065,6,2,I[i],ymax[i],ymin[i]))\n",
    "    SIDL.append(Dead_Load('SIDL',area_sum[i],sc[i],span,l_kerblen+r_kerblen,0.3,0.065,6,2,I[i],ymax[i],ymin[i]))\n",
    "\n",
    "# excel_export(section)\n",
    "excel_loads(PDL,ODL,PEDL,SIDL,sc)\n",
    "\n"
   ]
  },
  {
   "cell_type": "code",
   "execution_count": null,
   "metadata": {},
   "outputs": [],
   "source": []
  }
 ],
 "metadata": {
  "interpreter": {
   "hash": "57e1b559dacf43725e1ed3764b0ee83225f8bdeeef0b183e08a2c01330bea852"
  },
  "kernelspec": {
   "display_name": "Python 3",
   "language": "python",
   "name": "python3"
  },
  "language_info": {
   "codemirror_mode": {
    "name": "ipython",
    "version": 3
   },
   "file_extension": ".py",
   "mimetype": "text/x-python",
   "name": "python",
   "nbconvert_exporter": "python",
   "pygments_lexer": "ipython3",
   "version": "3.9.5"
  }
 },
 "nbformat": 4,
 "nbformat_minor": 2
}
