{
 "cells": [
  {
   "cell_type": "code",
   "execution_count": 1,
   "id": "ba6ea02b",
   "metadata": {},
   "outputs": [
    {
     "name": "stdout",
     "output_type": "stream",
     "text": [
      "                     Length  Height      Position     Area      Centroid  \\\n",
      "Name                                                                       \n",
      "left Pillar            0.60    3.20    [3.5, 3.5]  1.92000    [3.8, 5.1]   \n",
      "right pillar           0.60    3.20    [6.5, 3.5]  1.92000    [6.8, 5.1]   \n",
      "bottom slab            2.40    0.50    [4.1, 3.5]  1.20000   [5.3, 3.75]   \n",
      "top slab               2.40    0.30    [4.1, 6.4]  0.72000   [5.3, 6.55]   \n",
      "left cantilever        1.80    0.15   [1.7, 6.55]  0.27000  [2.6, 6.625]   \n",
      "right cantilever       1.80    0.15   [7.1, 6.55]  0.27000  [8.0, 6.625]   \n",
      "left triangle          1.80    0.30   [1.7, 6.25]  0.27000   [2.9, 6.45]   \n",
      "right triangle         1.80    0.30   [7.1, 6.25]  0.27000   [7.7, 6.45]   \n",
      "left top fillet        0.45    0.15   [4.1, 6.25]  0.03375  [4.25, 6.35]   \n",
      "right top fillet       0.45    0.15  [6.05, 6.25]  0.03375  [6.35, 6.35]   \n",
      "left bottom fillet     0.45    0.15    [4.1, 4.0]  0.03375  [4.25, 4.05]   \n",
      "right bottom fillet    0.45    0.15   [6.05, 4.0]  0.03375  [6.35, 4.05]   \n",
      "\n",
      "                                    I                   Ah2 Object Type  \n",
      "Name                                                                     \n",
      "left Pillar          [1.6384, 0.0576]      [0.038679, 4.32]   rectangle  \n",
      "right pillar         [1.6384, 0.0576]      [0.038679, 4.32]   rectangle  \n",
      "bottom slab            [0.025, 0.576]       [2.671044, 0.0]   rectangle  \n",
      "top slab             [0.0054, 0.3456]       [1.231945, 0.0]   rectangle  \n",
      "left cantilever      [0.0005, 0.0729]    [0.516475, 1.9683]   rectangle  \n",
      "right cantilever     [0.0005, 0.0729]    [0.516475, 1.9683]   rectangle  \n",
      "left triangle        [0.0013, 0.0486]    [0.394044, 1.5552]  triangle_1  \n",
      "right triangle       [0.0013, 0.0486]    [0.394044, 1.5552]  triangle_3  \n",
      "left top fillet         [0.0, 0.0004]  [0.041439, 0.037209]  triangle_3  \n",
      "right top fillet        [0.0, 0.0004]  [0.041439, 0.037209]  triangle_1  \n",
      "left bottom fillet      [0.0, 0.0004]  [0.047949, 0.037209]  triangle_2  \n",
      "right bottom fillet     [0.0, 0.0004]  [0.047949, 0.037209]  triangle_4  \n"
     ]
    },
    {
     "ename": "ImportError",
     "evalue": "cannot import name 'span' from 'bridge_specs' (C:\\Users\\bisha\\PycharmProjects\\PSC_bridge\\bridge_specs.py)",
     "output_type": "error",
     "traceback": [
      "\u001b[1;31m---------------------------------------------------------------------------\u001b[0m",
      "\u001b[1;31mImportError\u001b[0m                               Traceback (most recent call last)",
      "\u001b[1;32m~\\AppData\\Local\\Temp/ipykernel_16840/438088493.py\u001b[0m in \u001b[0;36m<module>\u001b[1;34m\u001b[0m\n\u001b[0;32m      1\u001b[0m \u001b[1;32mimport\u001b[0m \u001b[0mpandas\u001b[0m \u001b[1;32mas\u001b[0m \u001b[0mpd\u001b[0m\u001b[1;33m\u001b[0m\u001b[1;33m\u001b[0m\u001b[0m\n\u001b[0;32m      2\u001b[0m \u001b[1;32mfrom\u001b[0m \u001b[0mCross\u001b[0m \u001b[1;32mimport\u001b[0m \u001b[0mCross_section\u001b[0m\u001b[1;33m,\u001b[0m\u001b[0mcables\u001b[0m\u001b[1;33m,\u001b[0m \u001b[0mexpansion_calc\u001b[0m\u001b[1;33m\u001b[0m\u001b[1;33m\u001b[0m\u001b[0m\n\u001b[1;32m----> 3\u001b[1;33m \u001b[1;32mfrom\u001b[0m \u001b[0mbridge_specs\u001b[0m \u001b[1;32mimport\u001b[0m \u001b[0mbox\u001b[0m\u001b[1;33m,\u001b[0m \u001b[0mspan\u001b[0m\u001b[1;33m\u001b[0m\u001b[1;33m\u001b[0m\u001b[0m\n\u001b[0m\u001b[0;32m      4\u001b[0m \u001b[1;32mfrom\u001b[0m \u001b[0mallinput\u001b[0m \u001b[1;32mimport\u001b[0m \u001b[0mmain_input\u001b[0m\u001b[1;33m\u001b[0m\u001b[1;33m\u001b[0m\u001b[0m\n",
      "\u001b[1;31mImportError\u001b[0m: cannot import name 'span' from 'bridge_specs' (C:\\Users\\bisha\\PycharmProjects\\PSC_bridge\\bridge_specs.py)"
     ]
    }
   ],
   "source": [
    "import pandas as pd\n",
    "from Cross import Cross_section,cables, expansion_calc\n",
    "from bridge_specs import box\n",
    "from allinput import main_input"
   ]
  },
  {
   "cell_type": "code",
   "execution_count": null,
   "id": "1bbea425",
   "metadata": {},
   "outputs": [],
   "source": [
    "df=pd.read_excel('data/span.xlsx',index_col=None,header=None)\n",
    "span = int(df.iloc[2])\n",
    "no = int(df.iloc[1])\n",
    "sc=[(j)/(no-1)*50 for j in range(no)]"
   ]
  },
  {
   "cell_type": "markdown",
   "id": "a2abd748",
   "metadata": {},
   "source": [
    "***required:***\n",
    "1. list of sections with cable profile\n",
    "2. BM due to permanent dead load\n",
    "3. BM due to superimposed dead load (without surfacing)\n",
    "4. BM due to surfacing\n",
    "5. BM due to live load (max of all vehicle loads)"
   ]
  },
  {
   "cell_type": "markdown",
   "id": "55798041",
   "metadata": {},
   "source": [
    "**defining sections**"
   ]
  },
  {
   "cell_type": "markdown",
   "id": "07f859e2",
   "metadata": {},
   "source": [
    "main section"
   ]
  },
  {
   "cell_type": "code",
   "execution_count": null,
   "id": "ad0223ce",
   "metadata": {},
   "outputs": [],
   "source": [
    "\n",
    "\"\"\"INPUTS SECTION\"\"\"\n",
    "\n",
    "\"\"\"FOR CROSS SECTION\"\"\"\n",
    "length=[]\n",
    "height=[]\n",
    "\n",
    "\n",
    "#####################################################################################################################\n",
    "\n",
    "\"\"\"GUI INPUT OF BRIDGE SECTION LENGTHS AND HEIGHTS\"\"\"\n",
    "\n",
    "if False:\n",
    "    main_input()\n",
    "\n",
    "df=pd.read_excel('data/box.xlsx',index_col=None,header=None)\n",
    "\n",
    "\n",
    "height=df.values.tolist()[0]\n",
    "length=df.values.tolist()[1]\n",
    "\n",
    "\n",
    "section=Cross_section(length,height)\n",
    "cable = cables(35,14,section)"
   ]
  },
  {
   "cell_type": "markdown",
   "id": "bbbc76cd",
   "metadata": {},
   "source": [
    "Generating intermediate sections"
   ]
  },
  {
   "cell_type": "code",
   "execution_count": null,
   "id": "f018f8bf",
   "metadata": {},
   "outputs": [],
   "source": [
    "\n",
    "sections = []\n",
    "for i in range(no):  \n",
    "    section1=Cross_section(length,height)\n",
    "    section1.expansion_width=expansion_calc(span,sc[i],cable)\n",
    "    section1.cableprop=cable.cablepos(sc[i],50)\n",
    "    sections.append(section1)"
   ]
  },
  {
   "cell_type": "markdown",
   "id": "8a9f4db8",
   "metadata": {},
   "source": [
    "**Importing load**"
   ]
  },
  {
   "cell_type": "code",
   "execution_count": null,
   "id": "d8dfa7ee",
   "metadata": {},
   "outputs": [],
   "source": [
    "df = pd.read_excel('outputs/Moments.xlsx', index_col=0)\n",
    "bm_pdl = list(df['Dead Load'])\n",
    "bm_odl = list(df['Other Loads'])\n",
    "bm_sidl = list(df['Surface Loads'])\n",
    "bm_pedl = list(df['Pedestrian Load'])\n",
    "\n",
    "df1 = pd.read_excel('outputs/loads.xlsx', index_col=[0, 1]) #live load\n",
    "bm_ll = df1.loc['MaxBM'].max().to_list()"
   ]
  },
  {
   "cell_type": "markdown",
   "id": "8c279c7f",
   "metadata": {},
   "source": [
    "### Cable profile"
   ]
  },
  {
   "cell_type": "code",
   "execution_count": null,
   "id": "52aaf253",
   "metadata": {},
   "outputs": [],
   "source": [
    "# def cable_profile(end_cable_pos, mid_cable_pos, span_length, division=8):\n",
    "#     cable_profile = []\n",
    "#     x = [(j)/division*span_length for j in range(division+1)]\n",
    "#     for i in x:\n",
    "#         cable_pos_x = []\n",
    "#         for j in range(len(end_cable_pos)):\n",
    "#             h = end_cable_pos[j][1]-mid_cable_pos[j][1]\n",
    "#             a = end_cable_pos[j][1]\n",
    "#             y = a + 4*h*i/span_length - 4*h*i**2/span_length**2\n",
    "#             cable_pos_x.append((end_cable_pos[j][0], y))\n",
    "#         cable_profile.append(cable_pos_x)\n",
    "#     return cable_profile"
   ]
  },
  {
   "cell_type": "markdown",
   "id": "ebc894e3",
   "metadata": {},
   "source": [
    "### Eccentricity of cables"
   ]
  },
  {
   "cell_type": "code",
   "execution_count": null,
   "id": "9eff7697",
   "metadata": {},
   "outputs": [],
   "source": [
    "def eccentricity(cable_positions, centroid):\n",
    "    cable_areaxpos_sum = 0\n",
    "    for i in cable_positions:\n",
    "        cable_areaxpos_sum+=(centroid-i[1])\n",
    "    return cable_areaxpos_sum/len(cable_positions)"
   ]
  },
  {
   "cell_type": "markdown",
   "id": "f16eb15f",
   "metadata": {},
   "source": [
    "### Stress"
   ]
  },
  {
   "cell_type": "code",
   "execution_count": null,
   "id": "06f9f8f0",
   "metadata": {},
   "outputs": [],
   "source": [
    "list_of_sections = sections #dummy\n",
    "prestressing_force_full = 3400 #dummy\n",
    "prestressing_force_withloss = 0.75*prestressing_force_full"
   ]
  },
  {
   "cell_type": "code",
   "execution_count": null,
   "id": "ff3adecf",
   "metadata": {},
   "outputs": [],
   "source": [
    "def tau(section, bm):\n",
    "    tau_top = bm*section.ymin/section.I[0]\n",
    "    tau_bot = bm*section.ymax/section.I[0]\n",
    "    return (tau_top, tau_bot)"
   ]
  },
  {
   "cell_type": "markdown",
   "id": "7583dd97",
   "metadata": {},
   "source": [
    "**Case 1: Rare combination**"
   ]
  },
  {
   "cell_type": "markdown",
   "id": "7cb9e41d",
   "metadata": {},
   "source": [
    "presetressing stress"
   ]
  },
  {
   "cell_type": "code",
   "execution_count": null,
   "id": "21783053",
   "metadata": {
    "scrolled": true
   },
   "outputs": [],
   "source": [
    "bm_pre = [prestressing_force_full*eccentricity(i.cableprop, i.Centroid[1]) for i in list_of_sections]\n",
    "\n",
    "list_tau_pre = [tau(list_of_sections[index], bm_pre[index]) for index in range(len(list_of_sections))]\n",
    "\n",
    "# for index, i in enumerate(list_of_sections):\n",
    "#     list_tau_pre.append(tau(i, bm_pre[index]))\n",
    "    \n",
    "# list_tau_ax = [prestressing_force_full/sum(i.section_area) for i in list_of_sections]\n",
    "\n",
    "list_tau_preTotal = [(list_tau_pre[index][0] + list_tau_ax[index], list_tau_pre[index][1] + list_tau_ax[index]) for index in range(len(list_of_sections))]"
   ]
  },
  {
   "cell_type": "markdown",
   "id": "0a44b04f",
   "metadata": {},
   "source": [
    "stress due to ded load"
   ]
  },
  {
   "cell_type": "code",
   "execution_count": null,
   "id": "6d14e7e4",
   "metadata": {},
   "outputs": [],
   "source": [
    "list_tau_DL = [tau(list_of_sections[index], bm_pdl[index]) for index in range(len(list_of_sections))]"
   ]
  },
  {
   "cell_type": "markdown",
   "id": "87e89ebc",
   "metadata": {},
   "source": [
    "stress due to surfacing"
   ]
  },
  {
   "cell_type": "code",
   "execution_count": null,
   "id": "6ff56d9b",
   "metadata": {},
   "outputs": [],
   "source": [
    "list_tau_sidl = [tau(list_of_sections[index], bm_sidl[index]) for index in range(len(list_of_sections))]"
   ]
  },
  {
   "cell_type": "markdown",
   "id": "66b96e64",
   "metadata": {},
   "source": [
    "resultant stress"
   ]
  },
  {
   "cell_type": "code",
   "execution_count": null,
   "id": "5f7eb964",
   "metadata": {},
   "outputs": [],
   "source": [
    "list_tau_resultant = [(list_tau_preTotal[index][0] + list_tau_DL[index][0] + list_tau_ODL[index][0] + list_tau_sidl[index][0],\n",
    "                       list_tau_preTotal[index][1] + list_tau_DL[index][1] + list_tau_ODL[index][1] + list_tau_sidl[index][1])\n",
    "                      for index in range(len(list_of_sections))]\n",
    "list_tau_resultant_factored = [(list_tau_preTotal[index][0] + list_tau_DL[index][0] + list_tau_ODL[index][0] + 1.2*list_tau_sidl[index][0],\n",
    "                       list_tau_preTotal[index][1] + list_tau_DL[index][1] + list_tau_ODL[index][1] + 1.2*list_tau_sidl[index][1])\n",
    "                      for index in range(len(list_of_sections))]"
   ]
  },
  {
   "cell_type": "markdown",
   "id": "659330c8",
   "metadata": {},
   "source": [
    "check (*left blank for now*)"
   ]
  },
  {
   "cell_type": "code",
   "execution_count": null,
   "id": "9679c1a7",
   "metadata": {},
   "outputs": [],
   "source": []
  },
  {
   "cell_type": "markdown",
   "id": "5390fe88",
   "metadata": {},
   "source": [
    "**Case 2: Quasi Permanent Combination**"
   ]
  },
  {
   "cell_type": "markdown",
   "id": "bc16e189",
   "metadata": {},
   "source": [
    "presetressing stress"
   ]
  },
  {
   "cell_type": "code",
   "execution_count": null,
   "id": "83c664ef",
   "metadata": {},
   "outputs": [],
   "source": [
    "bm_pre = [prestressing_force_withloss*eccentricity(i.cableprop, i.Centroid[1]) for i in list_of_sections]\n",
    "\n",
    "list_tau_pre = [tau(list_of_sections[index], bm_pre[index]) for index in range(len(list_of_sections))]\n",
    "  \n",
    "list_tau_ax = [prestressing_force_withloss/sum(i.section_area) for i in list_of_sections]\n",
    "\n",
    "list_tau_preTotal = [(list_tau_pre[index][0] + list_tau_ax[index], list_tau_pre[index][1] + list_tau_ax[index]) for index in range(len(list_of_sections))]"
   ]
  },
  {
   "cell_type": "markdown",
   "id": "3c96efd8",
   "metadata": {},
   "source": [
    "stress due to other load"
   ]
  },
  {
   "cell_type": "code",
   "execution_count": null,
   "id": "6a6adcb8",
   "metadata": {},
   "outputs": [],
   "source": [
    "list_tau_ODL = [tau(list_of_sections[index], bm_odl[index]) for index in range(len(list_of_sections))]"
   ]
  },
  {
   "cell_type": "markdown",
   "id": "7fe337f7",
   "metadata": {},
   "source": [
    "stress due to live load"
   ]
  },
  {
   "cell_type": "code",
   "execution_count": null,
   "id": "908723be",
   "metadata": {
    "scrolled": true
   },
   "outputs": [],
   "source": [
    "list_tau_LL = [tau(list_of_sections[index], bm_ll[index]) for index in range(len(list_of_sections))]"
   ]
  },
  {
   "cell_type": "markdown",
   "id": "f8246e58",
   "metadata": {},
   "source": [
    "resultant"
   ]
  },
  {
   "cell_type": "code",
   "execution_count": null,
   "id": "7be7cd5b",
   "metadata": {},
   "outputs": [],
   "source": [
    "list_tau_resultant = [(list_tau_preTotal[index][0] + list_tau_DL[index][0]+ list_tau_SIDL[index][0]+ list_tau_ODL[index][0] + list_tau_LL[index][0],\n",
    "                       list_tau_preTotal[index][1] + list_tau_DL[index][1]+ list_tau_SIDL[index][1]+ list_tau_ODL[index][1] + list_tau_LL[index][1])\n",
    "                      for index in range(len(list_of_sections))]\n",
    "\n",
    "list_tau_resultant_factored = [(list_tau_preTotal[index][0] + list_tau_DL[index][0]+ 1.2*list_tau_SIDL[index][0]+ list_tau_ODL[index][0] + list_tau_LL[index][0],\n",
    "                       list_tau_preTotal[index][1] + list_tau_DL[index][1]+ list_tau_SIDL[index][1]+ list_tau_ODL[index][1] + list_tau_LL[index][1])\n",
    "                      for index in range(len(list_of_sections))]"
   ]
  },
  {
   "cell_type": "markdown",
   "id": "27bbae5a",
   "metadata": {},
   "source": [
    "check (*left blank for now*)"
   ]
  },
  {
   "cell_type": "code",
   "execution_count": null,
   "id": "7dd0fc34",
   "metadata": {},
   "outputs": [],
   "source": []
  }
 ],
 "metadata": {
  "kernelspec": {
   "display_name": "Python 3 (ipykernel)",
   "language": "python",
   "name": "python3"
  },
  "language_info": {
   "codemirror_mode": {
    "name": "ipython",
    "version": 3
   },
   "file_extension": ".py",
   "mimetype": "text/x-python",
   "name": "python",
   "nbconvert_exporter": "python",
   "pygments_lexer": "ipython3",
   "version": "3.10.0"
  }
 },
 "nbformat": 4,
 "nbformat_minor": 5
}
