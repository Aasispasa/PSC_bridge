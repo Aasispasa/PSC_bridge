{
 "cells": [
  {
   "cell_type": "markdown",
   "id": "60c1228a",
   "metadata": {},
   "source": [
    "#### importing packages"
   ]
  },
  {
   "cell_type": "code",
   "execution_count": 1,
   "id": "b1c4bd7c",
   "metadata": {},
   "outputs": [],
   "source": [
    "import numpy as np\n",
    "import pandas as pd\n",
    "# import matplotlib.pyplot as plt\n",
    "\n",
    "from irc6_2007 import *\n",
    "\n",
    "from reaction import find_bm, find_sf, find_ra, find_rb\n",
    "# from bridge_specs import box, bearing"
   ]
  },
  {
   "cell_type": "markdown",
   "id": "4d315de4",
   "metadata": {},
   "source": [
    "bridge specs"
   ]
  },
  {
   "cell_type": "code",
   "execution_count": 2,
   "id": "e36334be",
   "metadata": {
    "pycharm": {
     "name": "#%%\n"
    }
   },
   "outputs": [],
   "source": [
    "span = 50\n",
    "c_c = 1.5"
   ]
  },
  {
   "cell_type": "markdown",
   "id": "0300d218",
   "metadata": {},
   "source": [
    "# live load calculations"
   ]
  },
  {
   "cell_type": "markdown",
   "id": "0d79cfcd",
   "metadata": {},
   "source": [
    "#### defining load (vehicles)\n",
    "load pair contains pair (wheel position, wheel load)"
   ]
  },
  {
   "cell_type": "code",
   "execution_count": 3,
   "id": "7021ab02",
   "metadata": {},
   "outputs": [],
   "source": [
    "vehicles = [ll_A, ll_70R, ll_70RT]\n",
    "classA_pair, class70R, class70RT = [list(i.loadpair) for i in vehicles]\n",
    "loads = [classA_pair, class70R, class70RT]"
   ]
  },
  {
   "cell_type": "markdown",
   "id": "65c9a0e0",
   "metadata": {},
   "source": [
    "#### maxBM, maxSF at equal intervals\n",
    "when each vehicle from the list of vehicles travels along the span, max reactions (BM and SF+/-) at equally divided intervals are calculated and stored in maxBMs, maxSFs_plus, maxSFs_minus."
   ]
  },
  {
   "cell_type": "code",
   "execution_count": 4,
   "id": "70aec980",
   "metadata": {},
   "outputs": [],
   "source": [
    "\n",
    "\n",
    "maxBMs = []\n",
    "maxSFs_plus = []\n",
    "maxSFs_minus = []\n",
    "for i in range(len(loads)):\n",
    "    maxBM = []\n",
    "    maxSF_plus = []\n",
    "    maxSF_minus = []\n",
    "    for j in range(9):\n",
    "        at = span / 8 * j\n",
    "        first_wheel_at = 0\n",
    "        step = 0.1\n",
    "\n",
    "        BM = find_bm(span, 0, at)\n",
    "        SF_plus = find_sf(span, 0, at)\n",
    "        SF_minus = find_sf(span, 0, at)\n",
    "        for k in range(int((span + loads[i][-1][0]) / step) + 2):  # '+2' to make sure the load moves all the way to\n",
    "            # end until it has no effect\n",
    "            bm = 0\n",
    "            sf = 0\n",
    "            for this in loads[i]:\n",
    "                a, load = this\n",
    "                pos = -a + first_wheel_at\n",
    "                bm = bm + find_bm(span, pos, at) * load\n",
    "                sf = sf + find_sf(span, pos, at) * load\n",
    "            first_wheel_at += step\n",
    "            BM = bm if bm > BM else BM\n",
    "            SF_plus = sf if sf > SF_plus else SF_plus\n",
    "            SF_minus = sf if sf < SF_minus else SF_minus\n",
    "        maxBM.append(round(BM, 3))\n",
    "        maxSF_plus.append(round(SF_plus, 3))\n",
    "        maxSF_minus.append(round(SF_minus, 3))\n",
    "    maxBMs.append(maxBM)\n",
    "    maxSFs_plus.append(maxSF_plus)\n",
    "    maxSFs_minus.append(maxSF_minus)"
   ]
  },
  {
   "cell_type": "markdown",
   "id": "9929f3f2",
   "metadata": {},
   "source": [
    "#### make a dataframe that contains maxBMs, maxSFs_plus, maxSFs_minus"
   ]
  },
  {
   "cell_type": "code",
   "execution_count": 5,
   "id": "3ec70ad1",
   "metadata": {},
   "outputs": [],
   "source": [
    "A = ['MaxBM', 'MaxSF+', 'MaxSF-']\n",
    "B = ['ClassA', 'Class70RW', 'Class70RT']\n",
    "\n",
    "# A = ['ClassA', 'Class70RW', 'Class70RT']\n",
    "# B = ['MaxBM', 'MaxSF+', 'MaxSF-']\n",
    "\n",
    "iterables = [A, B]\n",
    "index = pd.MultiIndex.from_product(iterables)\n",
    "\n",
    "C = []\n",
    "\n",
    "for i in [maxBMs, maxSFs_plus, maxSFs_minus]:\n",
    "    C.extend(i)\n",
    "\n",
    "# for i in range(len(loads)):\n",
    "#     for j in [maxBMs, maxSFs_plus, maxSFs_minus]:\n",
    "#         C.append(j[i])\n",
    "\n",
    "df = pd.DataFrame(C, index=index, columns=[span / 8 * i for i in range(9)])\n",
    "# print(df.loc[('ClassA', 'MaxSF-')])   ## you can navigate using loc, iloc\n",
    "\n",
    "new_row = df.loc['MaxSF+'].where(df.loc['MaxSF+'] > abs(df.loc['MaxSF-']), abs(df.loc['MaxSF-']))\n",
    "\n",
    "new_row.index = pd.MultiIndex.from_product([['MaxSF'], B])\n",
    "df = pd.concat([df, new_row])\n",
    "\n",
    "# df.to_excel('outputs/loads.xlsx') # uncomment to save as excel file"
   ]
  },
  {
   "cell_type": "code",
   "execution_count": 6,
   "id": "424bee72",
   "metadata": {
    "scrolled": true
   },
   "outputs": [
    {
     "data": {
      "text/html": [
       "<div>\n",
       "<style scoped>\n",
       "    .dataframe tbody tr th:only-of-type {\n",
       "        vertical-align: middle;\n",
       "    }\n",
       "\n",
       "    .dataframe tbody tr th {\n",
       "        vertical-align: top;\n",
       "    }\n",
       "\n",
       "    .dataframe thead th {\n",
       "        text-align: right;\n",
       "    }\n",
       "</style>\n",
       "<table border=\"1\" class=\"dataframe\">\n",
       "  <thead>\n",
       "    <tr style=\"text-align: right;\">\n",
       "      <th></th>\n",
       "      <th></th>\n",
       "      <th>0.00</th>\n",
       "      <th>6.25</th>\n",
       "      <th>12.50</th>\n",
       "      <th>18.75</th>\n",
       "      <th>25.00</th>\n",
       "      <th>31.25</th>\n",
       "      <th>37.50</th>\n",
       "      <th>43.75</th>\n",
       "      <th>50.00</th>\n",
       "    </tr>\n",
       "  </thead>\n",
       "  <tbody>\n",
       "    <tr>\n",
       "      <th rowspan=\"3\" valign=\"top\">MaxBM</th>\n",
       "      <th>ClassA</th>\n",
       "      <td>0.000</td>\n",
       "      <td>2361.037</td>\n",
       "      <td>4068.075</td>\n",
       "      <td>5120.737</td>\n",
       "      <td>5526.150</td>\n",
       "      <td>5340.038</td>\n",
       "      <td>4327.675</td>\n",
       "      <td>2494.638</td>\n",
       "      <td>0.000</td>\n",
       "    </tr>\n",
       "    <tr>\n",
       "      <th>Class70RW</th>\n",
       "      <td>0.000</td>\n",
       "      <td>4826.025</td>\n",
       "      <td>8200.950</td>\n",
       "      <td>10182.475</td>\n",
       "      <td>10877.400</td>\n",
       "      <td>10163.225</td>\n",
       "      <td>8053.750</td>\n",
       "      <td>4611.975</td>\n",
       "      <td>0.000</td>\n",
       "    </tr>\n",
       "    <tr>\n",
       "      <th>Class70RT</th>\n",
       "      <td>0.000</td>\n",
       "      <td>3651.438</td>\n",
       "      <td>6259.675</td>\n",
       "      <td>7823.212</td>\n",
       "      <td>8342.050</td>\n",
       "      <td>7823.588</td>\n",
       "      <td>6260.425</td>\n",
       "      <td>3652.563</td>\n",
       "      <td>0.000</td>\n",
       "    </tr>\n",
       "    <tr>\n",
       "      <th rowspan=\"3\" valign=\"top\">MaxSF+</th>\n",
       "      <th>ClassA</th>\n",
       "      <td>445.318</td>\n",
       "      <td>376.622</td>\n",
       "      <td>307.926</td>\n",
       "      <td>238.122</td>\n",
       "      <td>169.426</td>\n",
       "      <td>99.676</td>\n",
       "      <td>43.520</td>\n",
       "      <td>13.056</td>\n",
       "      <td>-0.000</td>\n",
       "    </tr>\n",
       "    <tr>\n",
       "      <th>Class70RW</th>\n",
       "      <td>895.524</td>\n",
       "      <td>771.524</td>\n",
       "      <td>647.524</td>\n",
       "      <td>521.524</td>\n",
       "      <td>397.524</td>\n",
       "      <td>271.524</td>\n",
       "      <td>148.964</td>\n",
       "      <td>44.948</td>\n",
       "      <td>-0.000</td>\n",
       "    </tr>\n",
       "    <tr>\n",
       "      <th>Class70RT</th>\n",
       "      <td>667.590</td>\n",
       "      <td>579.390</td>\n",
       "      <td>492.590</td>\n",
       "      <td>404.390</td>\n",
       "      <td>317.590</td>\n",
       "      <td>229.390</td>\n",
       "      <td>142.590</td>\n",
       "      <td>54.390</td>\n",
       "      <td>-0.000</td>\n",
       "    </tr>\n",
       "    <tr>\n",
       "      <th rowspan=\"3\" valign=\"top\">MaxSF-</th>\n",
       "      <th>ClassA</th>\n",
       "      <td>0.000</td>\n",
       "      <td>-12.030</td>\n",
       "      <td>-51.234</td>\n",
       "      <td>-106.602</td>\n",
       "      <td>-175.162</td>\n",
       "      <td>-244.966</td>\n",
       "      <td>-313.662</td>\n",
       "      <td>-383.466</td>\n",
       "      <td>-452.162</td>\n",
       "    </tr>\n",
       "    <tr>\n",
       "      <th>Class70RW</th>\n",
       "      <td>0.000</td>\n",
       "      <td>-17.024</td>\n",
       "      <td>-87.536</td>\n",
       "      <td>-208.476</td>\n",
       "      <td>-332.476</td>\n",
       "      <td>-458.476</td>\n",
       "      <td>-582.476</td>\n",
       "      <td>-708.476</td>\n",
       "      <td>-832.476</td>\n",
       "    </tr>\n",
       "    <tr>\n",
       "      <th>Class70RT</th>\n",
       "      <td>0.000</td>\n",
       "      <td>-54.810</td>\n",
       "      <td>-143.010</td>\n",
       "      <td>-229.810</td>\n",
       "      <td>-316.610</td>\n",
       "      <td>-404.810</td>\n",
       "      <td>-491.610</td>\n",
       "      <td>-579.810</td>\n",
       "      <td>-666.610</td>\n",
       "    </tr>\n",
       "    <tr>\n",
       "      <th rowspan=\"3\" valign=\"top\">MaxSF</th>\n",
       "      <th>ClassA</th>\n",
       "      <td>445.318</td>\n",
       "      <td>376.622</td>\n",
       "      <td>307.926</td>\n",
       "      <td>238.122</td>\n",
       "      <td>175.162</td>\n",
       "      <td>244.966</td>\n",
       "      <td>313.662</td>\n",
       "      <td>383.466</td>\n",
       "      <td>452.162</td>\n",
       "    </tr>\n",
       "    <tr>\n",
       "      <th>Class70RW</th>\n",
       "      <td>895.524</td>\n",
       "      <td>771.524</td>\n",
       "      <td>647.524</td>\n",
       "      <td>521.524</td>\n",
       "      <td>397.524</td>\n",
       "      <td>458.476</td>\n",
       "      <td>582.476</td>\n",
       "      <td>708.476</td>\n",
       "      <td>832.476</td>\n",
       "    </tr>\n",
       "    <tr>\n",
       "      <th>Class70RT</th>\n",
       "      <td>667.590</td>\n",
       "      <td>579.390</td>\n",
       "      <td>492.590</td>\n",
       "      <td>404.390</td>\n",
       "      <td>317.590</td>\n",
       "      <td>404.810</td>\n",
       "      <td>491.610</td>\n",
       "      <td>579.810</td>\n",
       "      <td>666.610</td>\n",
       "    </tr>\n",
       "  </tbody>\n",
       "</table>\n",
       "</div>"
      ],
      "text/plain": [
       "                    0.00      6.25      12.50      18.75      25.00  \\\n",
       "MaxBM  ClassA       0.000  2361.037  4068.075   5120.737   5526.150   \n",
       "       Class70RW    0.000  4826.025  8200.950  10182.475  10877.400   \n",
       "       Class70RT    0.000  3651.438  6259.675   7823.212   8342.050   \n",
       "MaxSF+ ClassA     445.318   376.622   307.926    238.122    169.426   \n",
       "       Class70RW  895.524   771.524   647.524    521.524    397.524   \n",
       "       Class70RT  667.590   579.390   492.590    404.390    317.590   \n",
       "MaxSF- ClassA       0.000   -12.030   -51.234   -106.602   -175.162   \n",
       "       Class70RW    0.000   -17.024   -87.536   -208.476   -332.476   \n",
       "       Class70RT    0.000   -54.810  -143.010   -229.810   -316.610   \n",
       "MaxSF  ClassA     445.318   376.622   307.926    238.122    175.162   \n",
       "       Class70RW  895.524   771.524   647.524    521.524    397.524   \n",
       "       Class70RT  667.590   579.390   492.590    404.390    317.590   \n",
       "\n",
       "                      31.25     37.50     43.75    50.00  \n",
       "MaxBM  ClassA      5340.038  4327.675  2494.638    0.000  \n",
       "       Class70RW  10163.225  8053.750  4611.975    0.000  \n",
       "       Class70RT   7823.588  6260.425  3652.563    0.000  \n",
       "MaxSF+ ClassA        99.676    43.520    13.056   -0.000  \n",
       "       Class70RW    271.524   148.964    44.948   -0.000  \n",
       "       Class70RT    229.390   142.590    54.390   -0.000  \n",
       "MaxSF- ClassA      -244.966  -313.662  -383.466 -452.162  \n",
       "       Class70RW   -458.476  -582.476  -708.476 -832.476  \n",
       "       Class70RT   -404.810  -491.610  -579.810 -666.610  \n",
       "MaxSF  ClassA       244.966   313.662   383.466  452.162  \n",
       "       Class70RW    458.476   582.476   708.476  832.476  \n",
       "       Class70RT    404.810   491.610   579.810  666.610  "
      ]
     },
     "execution_count": 6,
     "metadata": {},
     "output_type": "execute_result"
    }
   ],
   "source": [
    "df"
   ]
  },
  {
   "cell_type": "markdown",
   "id": "c431b869",
   "metadata": {},
   "source": [
    "*how to read Excel file*"
   ]
  },
  {
   "cell_type": "code",
   "execution_count": 7,
   "id": "eeb374fb",
   "metadata": {},
   "outputs": [],
   "source": [
    "# df = pd.read_excel('outputs/loads.xlsx', index_col=[0, 1])\n",
    "\n",
    "# ###get index names###\n",
    "# A = df.index.get_level_values(0).drop_duplicates().to_list()\n",
    "# B = df.index.get_level_values(1).drop_duplicates().to_list()\n",
    "# print(A, B)"
   ]
  },
  {
   "cell_type": "markdown",
   "id": "493939e4",
   "metadata": {},
   "source": [
    "#### impact factor"
   ]
  },
  {
   "cell_type": "code",
   "execution_count": 8,
   "id": "3f1b5cb6",
   "metadata": {},
   "outputs": [
    {
     "data": {
      "text/plain": [
       "[0.088, 0.088, 0.088]"
      ]
     },
     "execution_count": 8,
     "metadata": {},
     "output_type": "execute_result"
    }
   ],
   "source": [
    "IF = [impact(i.name, span) for i in vehicles]"
   ]
  },
  {
   "cell_type": "markdown",
   "id": "250ccf91",
   "metadata": {},
   "source": [
    "#### possible combinations for given carriageway width"
   ]
  },
  {
   "cell_type": "code",
   "execution_count": 9,
   "id": "efcaaba5",
   "metadata": {},
   "outputs": [],
   "source": [
    "cwWidth = 6\n",
    "carriageway = Carriageway(cwWidth)\n",
    "combinations = carriageway.combinations()\n",
    "combination_val = [i.get_value() for i in combinations]"
   ]
  },
  {
   "cell_type": "markdown",
   "id": "9e7b50ee",
   "metadata": {},
   "source": [
    "#### eccentricity calculation\n",
    "a combination consists of multiple arrangements gives different eccentricities. maximum eccentricities for each combination calculated."
   ]
  },
  {
   "cell_type": "code",
   "execution_count": 10,
   "id": "cc5bb796",
   "metadata": {},
   "outputs": [],
   "source": [
    "cw = 6\n",
    "\n",
    "carriageway = Carriageway(width=cw)\n",
    "combinations = carriageway.combinations()\n",
    "list_combinations = []\n",
    "list_max_e = []\n",
    "\n",
    "for i in combinations:\n",
    "    list_combinations.append([i.classA, i.class70Rw, i.class70Rt])\n",
    "    list_max_e.append(i.max_e())\n"
   ]
  },
  {
   "cell_type": "markdown",
   "id": "a2b292dd",
   "metadata": {},
   "source": [
    "#### make a dataframe for combinations and their corresponding eccentricities"
   ]
  },
  {
   "cell_type": "code",
   "execution_count": 11,
   "id": "5080febe",
   "metadata": {},
   "outputs": [],
   "source": [
    "df1 = pd.DataFrame(list_combinations, columns=['ClassA', 'Class70Rw', 'Class70Rt'],\n",
    "                   index=[f'comb{i + 1}' for i in range(len(list_combinations))])\n",
    "df1['MaxEccentricity'] = list_max_e"
   ]
  },
  {
   "cell_type": "markdown",
   "id": "a3368625",
   "metadata": {},
   "source": [
    "*export eccentricity as excel file (uncomment)*"
   ]
  },
  {
   "cell_type": "code",
   "execution_count": 12,
   "id": "2657c077",
   "metadata": {},
   "outputs": [],
   "source": [
    "# df1.to_excel('outputs/max_e.xlsx')"
   ]
  },
  {
   "cell_type": "markdown",
   "id": "01869326",
   "metadata": {},
   "source": [
    "#### total reactions for given combination\n",
    "total reactions = sum of (maxreactions at mid span * impact factor * no. of that vehicles)"
   ]
  },
  {
   "cell_type": "code",
   "execution_count": 48,
   "id": "3620ecd7",
   "metadata": {
    "pycharm": {
     "name": "#%%\n"
    },
    "scrolled": true
   },
   "outputs": [],
   "source": [
    "totalBMs = [(df.loc['MaxBM'][span / 2] + df.loc['MaxBM'][span / 2] * IF).dot(combination_val[i]) for i in range(len(combinations))]\n",
    "totalSFs = [(df.loc['MaxSF'][span / 2] + df.loc['MaxSF'][span / 2] * IF).dot(combination_val[i]) for i in range(len(combinations))]"
   ]
  },
  {
   "cell_type": "code",
   "execution_count": 50,
   "id": "8da0042b",
   "metadata": {
    "scrolled": true
   },
   "outputs": [],
   "source": [
    "df1['TotalBM'] = totalBMs\n",
    "df1['TotalSF'] = totalSFs"
   ]
  },
  {
   "cell_type": "code",
   "execution_count": 51,
   "id": "7e344224",
   "metadata": {},
   "outputs": [
    {
     "data": {
      "text/html": [
       "<div>\n",
       "<style scoped>\n",
       "    .dataframe tbody tr th:only-of-type {\n",
       "        vertical-align: middle;\n",
       "    }\n",
       "\n",
       "    .dataframe tbody tr th {\n",
       "        vertical-align: top;\n",
       "    }\n",
       "\n",
       "    .dataframe thead th {\n",
       "        text-align: right;\n",
       "    }\n",
       "</style>\n",
       "<table border=\"1\" class=\"dataframe\">\n",
       "  <thead>\n",
       "    <tr style=\"text-align: right;\">\n",
       "      <th></th>\n",
       "      <th>ClassA</th>\n",
       "      <th>Class70Rw</th>\n",
       "      <th>Class70Rt</th>\n",
       "      <th>MaxEccentricity</th>\n",
       "      <th>TotalBM</th>\n",
       "      <th>TotalSF</th>\n",
       "    </tr>\n",
       "  </thead>\n",
       "  <tbody>\n",
       "    <tr>\n",
       "      <th>comb1</th>\n",
       "      <td>2</td>\n",
       "      <td>0</td>\n",
       "      <td>0</td>\n",
       "      <td>-3.739699e-16</td>\n",
       "      <td>12024.9024</td>\n",
       "      <td>381.152512</td>\n",
       "    </tr>\n",
       "    <tr>\n",
       "      <th>comb2</th>\n",
       "      <td>0</td>\n",
       "      <td>1</td>\n",
       "      <td>0</td>\n",
       "      <td>-4.050000e-01</td>\n",
       "      <td>11834.6112</td>\n",
       "      <td>432.506112</td>\n",
       "    </tr>\n",
       "    <tr>\n",
       "      <th>comb3</th>\n",
       "      <td>0</td>\n",
       "      <td>0</td>\n",
       "      <td>1</td>\n",
       "      <td>-3.500000e-01</td>\n",
       "      <td>9076.1504</td>\n",
       "      <td>345.537920</td>\n",
       "    </tr>\n",
       "  </tbody>\n",
       "</table>\n",
       "</div>"
      ],
      "text/plain": [
       "       ClassA  Class70Rw  Class70Rt  MaxEccentricity     TotalBM     TotalSF\n",
       "comb1       2          0          0    -3.739699e-16  12024.9024  381.152512\n",
       "comb2       0          1          0    -4.050000e-01  11834.6112  432.506112\n",
       "comb3       0          0          1    -3.500000e-01   9076.1504  345.537920"
      ]
     },
     "execution_count": 51,
     "metadata": {},
     "output_type": "execute_result"
    }
   ],
   "source": [
    "df1"
   ]
  },
  {
   "cell_type": "markdown",
   "id": "837d06fe",
   "metadata": {},
   "source": [
    "# loads on peir"
   ]
  },
  {
   "cell_type": "markdown",
   "id": "af472801",
   "metadata": {},
   "source": [
    "pier specs"
   ]
  },
  {
   "cell_type": "code",
   "execution_count": 52,
   "id": "1c8ee32c",
   "metadata": {},
   "outputs": [],
   "source": [
    "pier_width = 1.6\n",
    "pier_height_hfl = 7 # height of HFL from pier base"
   ]
  },
  {
   "cell_type": "markdown",
   "id": "1420d6ae",
   "metadata": {},
   "source": [
    "**live load components**"
   ]
  },
  {
   "cell_type": "code",
   "execution_count": 53,
   "id": "6544b3d0",
   "metadata": {},
   "outputs": [],
   "source": [
    "dfSF = pd.DataFrame()    # accessing df takes longer\n",
    "dfBM = pd.DataFrame()\n",
    "        #[a, 70r, 70rt]\n",
    "veh_no = [2, 2, 1] # revise this !!!\n",
    "for index, veh in enumerate(vehicles):\n",
    "    new_veh = veh\n",
    "    for i in range(veh_no[index]-1):\n",
    "        new_veh+=veh\n",
    "    final_load = list(new_veh.loadpair)\n",
    "\n",
    "    max_sum_at = 0\n",
    "    sumlr = 0\n",
    "    difflr = 0\n",
    "    nleft = 0\n",
    "    nright = 0\n",
    "\n",
    "    head_at = 0\n",
    "    step = 0.01\n",
    "    for i in range(int((span * 2 + final_load[-1][0]) / step)):\n",
    "        left = 0\n",
    "        right = 0\n",
    "        for j in final_load:\n",
    "            rb = find_rb(span, head_at - j[0], c_c / 2, c_c / 2) * j[1]\n",
    "            ra = find_ra(span, head_at - j[0] - (span + c_c), c_c / 2, c_c / 2) * j[1]\n",
    "            temp_load = 0\n",
    "            if head_at - j[0] == span + c_c / 2:\n",
    "                temp_load = (j[1]) / 2\n",
    "                ra = find_ra(span, head_at - j[0] - (span + c_c), c_c / 2, c_c / 2) * temp_load\n",
    "                rb = find_rb(span, head_at - j[0], c_c / 2, c_c / 2) * temp_load\n",
    "            left += rb\n",
    "            right += ra\n",
    "\n",
    "        if left + right > sumlr:\n",
    "            sumlr = left + right\n",
    "            dfSF.loc[f'{veh.name}', 'RL'], dfSF.loc[f'{veh.name}', 'RR'], dfSF.loc[\n",
    "                f'{veh.name}', 'at'], dfSF.loc[f'{veh.name}', 'sum']= left, right, head_at, left + right\n",
    "\n",
    "        if abs(left - right) > abs(difflr):\n",
    "            difflr = left - right\n",
    "            dfBM.loc[f'{veh.name}', 'RL'], dfBM.loc[f'{veh.name}', 'RR'], dfBM.loc[\n",
    "                f'{veh.name}', 'at'], dfBM.loc[f'{veh.name}', 'sum'] = left, right, head_at, left + right\n",
    "        head_at = round(head_at + step, 5)"
   ]
  },
  {
   "cell_type": "code",
   "execution_count": 55,
   "id": "f01895b9",
   "metadata": {
    "pycharm": {
     "name": "#%%\n"
    }
   },
   "outputs": [
    {
     "data": {
      "text/html": [
       "<div>\n",
       "<style scoped>\n",
       "    .dataframe tbody tr th:only-of-type {\n",
       "        vertical-align: middle;\n",
       "    }\n",
       "\n",
       "    .dataframe tbody tr th {\n",
       "        vertical-align: top;\n",
       "    }\n",
       "\n",
       "    .dataframe thead th {\n",
       "        text-align: right;\n",
       "    }\n",
       "</style>\n",
       "<table border=\"1\" class=\"dataframe\">\n",
       "  <thead>\n",
       "    <tr style=\"text-align: right;\">\n",
       "      <th></th>\n",
       "      <th></th>\n",
       "      <th>RL</th>\n",
       "      <th>RR</th>\n",
       "      <th>at</th>\n",
       "      <th>sum</th>\n",
       "    </tr>\n",
       "  </thead>\n",
       "  <tbody>\n",
       "    <tr>\n",
       "      <th rowspan=\"3\" valign=\"top\">MaxSF</th>\n",
       "      <th>Class A</th>\n",
       "      <td>240.2016</td>\n",
       "      <td>454.5144</td>\n",
       "      <td>69.57</td>\n",
       "      <td>694.7160</td>\n",
       "    </tr>\n",
       "    <tr>\n",
       "      <th>Class 70RW</th>\n",
       "      <td>219.8760</td>\n",
       "      <td>911.7240</td>\n",
       "      <td>64.19</td>\n",
       "      <td>1131.6000</td>\n",
       "    </tr>\n",
       "    <tr>\n",
       "      <th>Class 70RT</th>\n",
       "      <td>344.8160</td>\n",
       "      <td>349.3660</td>\n",
       "      <td>52.71</td>\n",
       "      <td>694.1820</td>\n",
       "    </tr>\n",
       "    <tr>\n",
       "      <th rowspan=\"3\" valign=\"top\">MaxBM</th>\n",
       "      <th>Class A</th>\n",
       "      <td>508.7832</td>\n",
       "      <td>0.0000</td>\n",
       "      <td>50.74</td>\n",
       "      <td>508.7832</td>\n",
       "    </tr>\n",
       "    <tr>\n",
       "      <th>Class 70RW</th>\n",
       "      <td>0.0000</td>\n",
       "      <td>952.1040</td>\n",
       "      <td>109.08</td>\n",
       "      <td>952.1040</td>\n",
       "    </tr>\n",
       "    <tr>\n",
       "      <th>Class 70RT</th>\n",
       "      <td>678.3700</td>\n",
       "      <td>0.0000</td>\n",
       "      <td>50.74</td>\n",
       "      <td>678.3700</td>\n",
       "    </tr>\n",
       "  </tbody>\n",
       "</table>\n",
       "</div>"
      ],
      "text/plain": [
       "                        RL        RR      at        sum\n",
       "MaxSF Class A     240.2016  454.5144   69.57   694.7160\n",
       "      Class 70RW  219.8760  911.7240   64.19  1131.6000\n",
       "      Class 70RT  344.8160  349.3660   52.71   694.1820\n",
       "MaxBM Class A     508.7832    0.0000   50.74   508.7832\n",
       "      Class 70RW    0.0000  952.1040  109.08   952.1040\n",
       "      Class 70RT  678.3700    0.0000   50.74   678.3700"
      ]
     },
     "execution_count": 55,
     "metadata": {},
     "output_type": "execute_result"
    }
   ],
   "source": [
    "total_frame = pd.concat([dfSF, dfBM], keys=['MaxSF', 'MaxBM'])\n",
    "total_frame.to_excel('outputs/Live_Loads_Seismic.xlsx')\n",
    "total_frame"
   ]
  },
  {
   "cell_type": "markdown",
   "id": "245e496f",
   "metadata": {},
   "source": [
    "**Horizontal forces due to water currents**"
   ]
  },
  {
   "cell_type": "code",
   "execution_count": 56,
   "id": "9a2415d0",
   "metadata": {},
   "outputs": [],
   "source": [
    "velocity = 1.77 # input"
   ]
  },
  {
   "cell_type": "markdown",
   "id": "af79c94d",
   "metadata": {},
   "source": [
    "normal current - current parallel to pier (transverse to bridge alignment)"
   ]
  },
  {
   "cell_type": "code",
   "execution_count": 57,
   "id": "29e67947",
   "metadata": {},
   "outputs": [],
   "source": [
    "P_norm = f_watercurrent(velocity)[0]\n",
    "F_norm = P_norm*pier_width*pier_height_hfl\n",
    "# calculate moments here"
   ]
  },
  {
   "cell_type": "markdown",
   "id": "22c67965",
   "metadata": {},
   "source": [
    "current at 20 degrees to normal flow direction"
   ]
  },
  {
   "cell_type": "code",
   "execution_count": 58,
   "id": "30137fde",
   "metadata": {},
   "outputs": [],
   "source": [
    "P20_norm, P20_trans = f_watercurrent(velocity, 20)\n",
    "F20_norm, F20_trans = P20_norm*pier_width*pier_height_hfl, P20_trans*pier_width*pier_height_hfl\n",
    "# calculate moments here"
   ]
  },
  {
   "cell_type": "markdown",
   "id": "429af89f",
   "metadata": {},
   "source": [
    "**Longitudinal forces**"
   ]
  },
  {
   "cell_type": "markdown",
   "id": "dd290692",
   "metadata": {},
   "source": [
    "**In the case of a single lane or a two lane bridge** : twenty percent of the\n",
    "first train load plus ten percent of the load of the succeeding trains or part\n",
    "thereof, the train loads in one lane only being considered for the purpose of\n",
    "this sub- clause. Where the entire first train is not on the full span, the\n",
    "braking force shall be taken as equal to twenty percent of the loads actually\n",
    "on the span or continuous unit of spans.\n",
    "\n",
    "*longitudinal force acts along an line parallel to roadway and 1.2 m above it*"
   ]
  },
  {
   "cell_type": "code",
   "execution_count": 59,
   "id": "3495173d",
   "metadata": {},
   "outputs": [],
   "source": [
    "veh_for_long = ll_A.reduced(to=0.2)\n",
    "for i in range(veh_no[0]-1):\n",
    "    veh_for_long+=ll_A.reduced(to=0.1)\n",
    "    \n",
    "f_long = sum([i[1] for i in veh_for_long.loadpair if i[0]<span*2])\n",
    "\n",
    "# calculate moment here"
   ]
  },
  {
   "cell_type": "markdown",
   "id": "381c0745",
   "metadata": {},
   "source": [
    "**Buoyancy**"
   ]
  },
  {
   "cell_type": "markdown",
   "id": "dd68409b",
   "metadata": {},
   "source": [
    "To allow for full buoyancy, a reduction shall be made in the gross weight of\n",
    "the member affected by reducing its density by the density of the displaced water.\n",
    "*The density of water may be taken as 1.0 t/m$^{3}$*"
   ]
  },
  {
   "cell_type": "code",
   "execution_count": 60,
   "id": "2051ed56",
   "metadata": {},
   "outputs": [],
   "source": [
    "cross_area = math.pi*0.8**2+6*1.6\n",
    "volume = cross_area*pier_height_hfl\n",
    "upthrust = 10*volume # kN\n",
    "# calculate moment here"
   ]
  },
  {
   "cell_type": "markdown",
   "id": "3533673f",
   "metadata": {},
   "source": [
    "**Temperature and shrinkage**"
   ]
  },
  {
   "cell_type": "code",
   "execution_count": 61,
   "id": "18811554",
   "metadata": {},
   "outputs": [],
   "source": [
    "temp_diff = 30 #degree celcius\n",
    "alpha = 0.000012 # coeff of thermal exp\n",
    "elongation_therm = round(alpha*temp_diff*span, 5)\n",
    "\n",
    "shrink_strain = 0.0002\n",
    "elongation_shrink = round(shrink_strain*50)"
   ]
  },
  {
   "cell_type": "code",
   "execution_count": null,
   "id": "31751e64",
   "metadata": {},
   "outputs": [],
   "source": []
  }
 ],
 "metadata": {
  "kernelspec": {
   "name": "pycharm-b98eb07c",
   "language": "python",
   "display_name": "PyCharm (Autocad_Automation_learning-master)"
  },
  "language_info": {
   "codemirror_mode": {
    "name": "ipython",
    "version": 3
   },
   "file_extension": ".py",
   "mimetype": "text/x-python",
   "name": "python",
   "nbconvert_exporter": "python",
   "pygments_lexer": "ipython3",
   "version": "3.8.10"
  }
 },
 "nbformat": 4,
 "nbformat_minor": 5
}