{
 "cells": [
  {
   "cell_type": "markdown",
   "id": "60c1228a",
   "metadata": {},
   "source": [
    "#### importing packages"
   ]
  },
  {
   "cell_type": "code",
   "execution_count": 1,
   "id": "b1c4bd7c",
   "metadata": {},
   "outputs": [],
   "source": [
    "import pandas as pd\n",
    "# import matplotlib.pyplot as plt\n",
    "\n",
    "from carriageway import Carriageway\n",
    "from impact_factor import impact\n",
    "from load import ll_A, ll_70R, ll_70RT\n",
    "from reaction import find_bm, find_sf, find_ra, find_rb"
   ]
  },
  {
   "cell_type": "markdown",
   "id": "0300d218",
   "metadata": {},
   "source": [
    "# live load calculations"
   ]
  },
  {
   "cell_type": "markdown",
   "id": "0d79cfcd",
   "metadata": {},
   "source": [
    "#### defining load (vehicles)\n",
    "load pair contains pair (wheel position, wheel load)"
   ]
  },
  {
   "cell_type": "code",
   "execution_count": 2,
   "id": "7021ab02",
   "metadata": {},
   "outputs": [],
   "source": [
    "vehicles = [ll_A, ll_70R, ll_70RT]\n",
    "classA_pair, class70R, class70RT = [list(i.loadpair) for i in vehicles]\n",
    "loads = [classA_pair, class70R, class70RT]"
   ]
  },
  {
   "cell_type": "markdown",
   "id": "65c9a0e0",
   "metadata": {},
   "source": [
    "#### maxBM, maxSF at equal intervals\n",
    "when each vehicle from the list of vehicles travels along the span, max reactions (BM and SF+/-) at equally divided intervals are calculated and stored in maxBMs, maxSFs_plus, maxSFs_minus."
   ]
  },
  {
   "cell_type": "code",
   "execution_count": 3,
   "id": "70aec980",
   "metadata": {},
   "outputs": [],
   "source": [
    "span = 50\n",
    "\n",
    "maxBMs = []\n",
    "maxSFs_plus = []\n",
    "maxSFs_minus = []\n",
    "for i in range(len(loads)):\n",
    "    maxBM = []\n",
    "    maxSF_plus = []\n",
    "    maxSF_minus = []\n",
    "    for j in range(9):\n",
    "        at = span / 8 * j\n",
    "        first_wheel_at = 0\n",
    "        step = 0.1\n",
    "\n",
    "        BM = find_bm(span, 0, at)\n",
    "        SF_plus = find_sf(span, 0, at)\n",
    "        SF_minus = find_sf(span, 0, at)\n",
    "        for k in range(int((span + loads[i][-1][0]) / step) + 2):  # '+2' to make sure the load moves all the way to\n",
    "            # end until it has no effect\n",
    "            bm = 0\n",
    "            sf = 0\n",
    "            for this in loads[i]:\n",
    "                a, load = this\n",
    "                pos = -a + first_wheel_at\n",
    "                bm = bm + find_bm(span, pos, at) * load\n",
    "                sf = sf + find_sf(span, pos, at) * load\n",
    "            first_wheel_at += step\n",
    "            BM = bm if bm > BM else BM\n",
    "            SF_plus = sf if sf > SF_plus else SF_plus\n",
    "            SF_minus = sf if sf < SF_minus else SF_minus\n",
    "        maxBM.append(round(BM, 3))\n",
    "        maxSF_plus.append(round(SF_plus, 3))\n",
    "        maxSF_minus.append(round(SF_minus, 3))\n",
    "    maxBMs.append(maxBM)\n",
    "    maxSFs_plus.append(maxSF_plus)\n",
    "    maxSFs_minus.append(maxSF_minus)"
   ]
  },
  {
   "cell_type": "markdown",
   "id": "9929f3f2",
   "metadata": {},
   "source": [
    "#### make a dataframe that contains maxBMs, maxSFs_plus, maxSFs_minus"
   ]
  },
  {
   "cell_type": "code",
   "execution_count": 4,
   "id": "3ec70ad1",
   "metadata": {},
   "outputs": [],
   "source": [
    "A = ['MaxBM', 'MaxSF+', 'MaxSF-']\n",
    "B = ['ClassA', 'Class70RW', 'Class70RT']\n",
    "\n",
    "# A = ['ClassA', 'Class70RW', 'Class70RT']\n",
    "# B = ['MaxBM', 'MaxSF+', 'MaxSF-']\n",
    "\n",
    "iterables = [A, B]\n",
    "index = pd.MultiIndex.from_product(iterables)\n",
    "\n",
    "C = []\n",
    "\n",
    "for i in [maxBMs, maxSFs_plus, maxSFs_minus]:\n",
    "    C.extend(i)\n",
    "\n",
    "# for i in range(len(loads)):\n",
    "#     for j in [maxBMs, maxSFs_plus, maxSFs_minus]:\n",
    "#         C.append(j[i])\n",
    "\n",
    "df = pd.DataFrame(C, index=index, columns=[span / 8 * i for i in range(9)])\n",
    "# print(df.loc[('ClassA', 'MaxSF-')])   ## you can navigate using loc, iloc\n",
    "\n",
    "new_row = df.loc['MaxSF+'].where(df.loc['MaxSF+'] > abs(df.loc['MaxSF-']), abs(df.loc['MaxSF-']))\n",
    "\n",
    "new_row.index = pd.MultiIndex.from_product([['MaxSF'], B])\n",
    "df = pd.concat([df, new_row])\n",
    "\n",
    "# df.to_excel('outputs/loads.xlsx') # uncomment to save as excel file"
   ]
  },
  {
   "cell_type": "markdown",
   "id": "c431b869",
   "metadata": {},
   "source": [
    "*how to read Excel file*"
   ]
  },
  {
   "cell_type": "code",
   "execution_count": 5,
   "id": "eeb374fb",
   "metadata": {},
   "outputs": [],
   "source": [
    "# df = pd.read_excel('outputs/loads.xlsx', index_col=[0, 1])\n",
    "\n",
    "# ###get index names###\n",
    "# A = df.index.get_level_values(0).drop_duplicates().to_list()\n",
    "# B = df.index.get_level_values(1).drop_duplicates().to_list()\n",
    "# print(A, B)"
   ]
  },
  {
   "cell_type": "markdown",
   "id": "493939e4",
   "metadata": {},
   "source": [
    "#### impact factor"
   ]
  },
  {
   "cell_type": "code",
   "execution_count": 6,
   "id": "3f1b5cb6",
   "metadata": {},
   "outputs": [
    {
     "data": {
      "text/plain": [
       "[0.088, 0.088, 0.088]"
      ]
     },
     "execution_count": 6,
     "metadata": {},
     "output_type": "execute_result"
    }
   ],
   "source": [
    "IF = [impact(i.name, span) for i in vehicles]\n",
    "IF"
   ]
  },
  {
   "cell_type": "markdown",
   "id": "250ccf91",
   "metadata": {},
   "source": [
    "#### possible combinations for given carriageway width"
   ]
  },
  {
   "cell_type": "code",
   "execution_count": 7,
   "id": "efcaaba5",
   "metadata": {},
   "outputs": [],
   "source": [
    "cwWidth = 6\n",
    "carriageway = Carriageway(cwWidth)\n",
    "combinations = carriageway.combinations()\n",
    "combination_val = [i.get_value() for i in combinations]"
   ]
  },
  {
   "cell_type": "markdown",
   "id": "9e7b50ee",
   "metadata": {},
   "source": [
    "#### eccentricity calculation\n",
    "a combination consists of multiple arrangements gives different eccentricities. maximum eccentricities for each combination calculated."
   ]
  },
  {
   "cell_type": "code",
   "execution_count": 8,
   "id": "56278039",
   "metadata": {},
   "outputs": [
    {
     "data": {
      "text/plain": [
       "[-3.739698609263685e-16, -0.40500000000000025, -0.3500000000000001]"
      ]
     },
     "execution_count": 8,
     "metadata": {},
     "output_type": "execute_result"
    }
   ],
   "source": [
    "list_combinations = []\n",
    "list_max_e = []\n",
    "list_plot = []\n",
    "for i in combinations:\n",
    "    list_combinations.append([i.classA, i.class70Rw, i.class70Rt])\n",
    "    arrangements = i.arrangements()\n",
    "    list_arrangements = []\n",
    "    eccentricity = []\n",
    "    max_e = 0\n",
    "    for k in arrangements:\n",
    "        if k.check_exceedance() * k.check_from_right() == 1:\n",
    "            list_arrangements.append(k.veh)\n",
    "            e = k.eccentricity()\n",
    "            eccentricity.append(e)\n",
    "            max_e = e if abs(e) > abs(max_e) else max_e\n",
    "    list_max_e.append(max_e)\n",
    "\n",
    "list_max_e"
   ]
  },
  {
   "cell_type": "markdown",
   "id": "a2b292dd",
   "metadata": {},
   "source": [
    "#### make a dataframe for combinations and their corresponding eccentricities"
   ]
  },
  {
   "cell_type": "code",
   "execution_count": 9,
   "id": "5080febe",
   "metadata": {},
   "outputs": [],
   "source": [
    "df1 = pd.DataFrame(list_combinations, columns=['ClassA', 'Class70Rw', 'Class70Rt'],\n",
    "                  index=[f'comb{i + 1}' for i in range(len(list_combinations))])\n",
    "df1['MaxEccentricity'] = list_max_e"
   ]
  },
  {
   "cell_type": "markdown",
   "id": "a3368625",
   "metadata": {},
   "source": [
    "*export eccentricity as excel file (uncomment)*"
   ]
  },
  {
   "cell_type": "code",
   "execution_count": 10,
   "id": "2657c077",
   "metadata": {},
   "outputs": [],
   "source": [
    "# df1.to_excel('outputs/max_e.xlsx')"
   ]
  },
  {
   "cell_type": "markdown",
   "id": "01869326",
   "metadata": {},
   "source": [
    "#### total reactions for given combination\n",
    "total reactions = sum of (maxreactions at mid span * impact factor * no. of that vehicles)"
   ]
  },
  {
   "cell_type": "code",
   "execution_count": 11,
   "id": "3620ecd7",
   "metadata": {
    "pycharm": {
     "name": "#%%\n"
    },
    "scrolled": true
   },
   "outputs": [
    {
     "data": {
      "text/plain": [
       "([[2, 0, 0], [0, 1, 0], [0, 0, 1]],\n",
       " [972.6023999999999, 957.2112, 734.1003999999999],\n",
       " [30.828512, 34.982112, 27.947919999999996])"
      ]
     },
     "execution_count": 11,
     "metadata": {},
     "output_type": "execute_result"
    }
   ],
   "source": [
    "totalBMs = [(df.loc['MaxBM'][span/2]*IF).dot(combination_val[i]) for i in range(len(combinations))]\n",
    "totalSFs = [(df.loc['MaxSF'][span/2]*IF).dot(combination_val[i]) for i in range(len(combinations))]\n",
    "combination_val, totalBMs, totalSFs"
   ]
  },
  {
   "cell_type": "code",
   "execution_count": 12,
   "id": "f8d3acca",
   "metadata": {
    "pycharm": {
     "name": "#%%\n"
    }
   },
   "outputs": [
    {
     "data": {
      "text/html": [
       "<div>\n",
       "<style scoped>\n",
       "    .dataframe tbody tr th:only-of-type {\n",
       "        vertical-align: middle;\n",
       "    }\n",
       "\n",
       "    .dataframe tbody tr th {\n",
       "        vertical-align: top;\n",
       "    }\n",
       "\n",
       "    .dataframe thead th {\n",
       "        text-align: right;\n",
       "    }\n",
       "</style>\n",
       "<table border=\"1\" class=\"dataframe\">\n",
       "  <thead>\n",
       "    <tr style=\"text-align: right;\">\n",
       "      <th></th>\n",
       "      <th></th>\n",
       "      <th>0.00</th>\n",
       "      <th>6.25</th>\n",
       "      <th>12.50</th>\n",
       "      <th>18.75</th>\n",
       "      <th>25.00</th>\n",
       "      <th>31.25</th>\n",
       "      <th>37.50</th>\n",
       "      <th>43.75</th>\n",
       "      <th>50.00</th>\n",
       "    </tr>\n",
       "  </thead>\n",
       "  <tbody>\n",
       "    <tr>\n",
       "      <th rowspan=\"3\" valign=\"top\">MaxBM</th>\n",
       "      <th>ClassA</th>\n",
       "      <td>0.000</td>\n",
       "      <td>2361.037</td>\n",
       "      <td>4068.075</td>\n",
       "      <td>5120.737</td>\n",
       "      <td>5526.150</td>\n",
       "      <td>5340.038</td>\n",
       "      <td>4327.675</td>\n",
       "      <td>2494.638</td>\n",
       "      <td>0.000</td>\n",
       "    </tr>\n",
       "    <tr>\n",
       "      <th>Class70RW</th>\n",
       "      <td>0.000</td>\n",
       "      <td>4826.025</td>\n",
       "      <td>8200.950</td>\n",
       "      <td>10182.475</td>\n",
       "      <td>10877.400</td>\n",
       "      <td>10163.225</td>\n",
       "      <td>8053.750</td>\n",
       "      <td>4611.975</td>\n",
       "      <td>0.000</td>\n",
       "    </tr>\n",
       "    <tr>\n",
       "      <th>Class70RT</th>\n",
       "      <td>0.000</td>\n",
       "      <td>3651.438</td>\n",
       "      <td>6259.675</td>\n",
       "      <td>7823.212</td>\n",
       "      <td>8342.050</td>\n",
       "      <td>7823.588</td>\n",
       "      <td>6260.425</td>\n",
       "      <td>3652.563</td>\n",
       "      <td>0.000</td>\n",
       "    </tr>\n",
       "    <tr>\n",
       "      <th rowspan=\"3\" valign=\"top\">MaxSF+</th>\n",
       "      <th>ClassA</th>\n",
       "      <td>445.318</td>\n",
       "      <td>376.622</td>\n",
       "      <td>307.926</td>\n",
       "      <td>238.122</td>\n",
       "      <td>169.426</td>\n",
       "      <td>99.676</td>\n",
       "      <td>43.520</td>\n",
       "      <td>13.056</td>\n",
       "      <td>-0.000</td>\n",
       "    </tr>\n",
       "    <tr>\n",
       "      <th>Class70RW</th>\n",
       "      <td>895.524</td>\n",
       "      <td>771.524</td>\n",
       "      <td>647.524</td>\n",
       "      <td>521.524</td>\n",
       "      <td>397.524</td>\n",
       "      <td>271.524</td>\n",
       "      <td>148.964</td>\n",
       "      <td>44.948</td>\n",
       "      <td>-0.000</td>\n",
       "    </tr>\n",
       "    <tr>\n",
       "      <th>Class70RT</th>\n",
       "      <td>667.590</td>\n",
       "      <td>579.390</td>\n",
       "      <td>492.590</td>\n",
       "      <td>404.390</td>\n",
       "      <td>317.590</td>\n",
       "      <td>229.390</td>\n",
       "      <td>142.590</td>\n",
       "      <td>54.390</td>\n",
       "      <td>-0.000</td>\n",
       "    </tr>\n",
       "    <tr>\n",
       "      <th rowspan=\"3\" valign=\"top\">MaxSF-</th>\n",
       "      <th>ClassA</th>\n",
       "      <td>0.000</td>\n",
       "      <td>-12.030</td>\n",
       "      <td>-51.234</td>\n",
       "      <td>-106.602</td>\n",
       "      <td>-175.162</td>\n",
       "      <td>-244.966</td>\n",
       "      <td>-313.662</td>\n",
       "      <td>-383.466</td>\n",
       "      <td>-452.162</td>\n",
       "    </tr>\n",
       "    <tr>\n",
       "      <th>Class70RW</th>\n",
       "      <td>0.000</td>\n",
       "      <td>-17.024</td>\n",
       "      <td>-87.536</td>\n",
       "      <td>-208.476</td>\n",
       "      <td>-332.476</td>\n",
       "      <td>-458.476</td>\n",
       "      <td>-582.476</td>\n",
       "      <td>-708.476</td>\n",
       "      <td>-832.476</td>\n",
       "    </tr>\n",
       "    <tr>\n",
       "      <th>Class70RT</th>\n",
       "      <td>0.000</td>\n",
       "      <td>-54.810</td>\n",
       "      <td>-143.010</td>\n",
       "      <td>-229.810</td>\n",
       "      <td>-316.610</td>\n",
       "      <td>-404.810</td>\n",
       "      <td>-491.610</td>\n",
       "      <td>-579.810</td>\n",
       "      <td>-666.610</td>\n",
       "    </tr>\n",
       "    <tr>\n",
       "      <th rowspan=\"3\" valign=\"top\">MaxSF</th>\n",
       "      <th>ClassA</th>\n",
       "      <td>445.318</td>\n",
       "      <td>376.622</td>\n",
       "      <td>307.926</td>\n",
       "      <td>238.122</td>\n",
       "      <td>175.162</td>\n",
       "      <td>244.966</td>\n",
       "      <td>313.662</td>\n",
       "      <td>383.466</td>\n",
       "      <td>452.162</td>\n",
       "    </tr>\n",
       "    <tr>\n",
       "      <th>Class70RW</th>\n",
       "      <td>895.524</td>\n",
       "      <td>771.524</td>\n",
       "      <td>647.524</td>\n",
       "      <td>521.524</td>\n",
       "      <td>397.524</td>\n",
       "      <td>458.476</td>\n",
       "      <td>582.476</td>\n",
       "      <td>708.476</td>\n",
       "      <td>832.476</td>\n",
       "    </tr>\n",
       "    <tr>\n",
       "      <th>Class70RT</th>\n",
       "      <td>667.590</td>\n",
       "      <td>579.390</td>\n",
       "      <td>492.590</td>\n",
       "      <td>404.390</td>\n",
       "      <td>317.590</td>\n",
       "      <td>404.810</td>\n",
       "      <td>491.610</td>\n",
       "      <td>579.810</td>\n",
       "      <td>666.610</td>\n",
       "    </tr>\n",
       "  </tbody>\n",
       "</table>\n",
       "</div>"
      ],
      "text/plain": [
       "                    0.00      6.25      12.50      18.75      25.00  \\\n",
       "MaxBM  ClassA       0.000  2361.037  4068.075   5120.737   5526.150   \n",
       "       Class70RW    0.000  4826.025  8200.950  10182.475  10877.400   \n",
       "       Class70RT    0.000  3651.438  6259.675   7823.212   8342.050   \n",
       "MaxSF+ ClassA     445.318   376.622   307.926    238.122    169.426   \n",
       "       Class70RW  895.524   771.524   647.524    521.524    397.524   \n",
       "       Class70RT  667.590   579.390   492.590    404.390    317.590   \n",
       "MaxSF- ClassA       0.000   -12.030   -51.234   -106.602   -175.162   \n",
       "       Class70RW    0.000   -17.024   -87.536   -208.476   -332.476   \n",
       "       Class70RT    0.000   -54.810  -143.010   -229.810   -316.610   \n",
       "MaxSF  ClassA     445.318   376.622   307.926    238.122    175.162   \n",
       "       Class70RW  895.524   771.524   647.524    521.524    397.524   \n",
       "       Class70RT  667.590   579.390   492.590    404.390    317.590   \n",
       "\n",
       "                      31.25     37.50     43.75    50.00  \n",
       "MaxBM  ClassA      5340.038  4327.675  2494.638    0.000  \n",
       "       Class70RW  10163.225  8053.750  4611.975    0.000  \n",
       "       Class70RT   7823.588  6260.425  3652.563    0.000  \n",
       "MaxSF+ ClassA        99.676    43.520    13.056   -0.000  \n",
       "       Class70RW    271.524   148.964    44.948   -0.000  \n",
       "       Class70RT    229.390   142.590    54.390   -0.000  \n",
       "MaxSF- ClassA      -244.966  -313.662  -383.466 -452.162  \n",
       "       Class70RW   -458.476  -582.476  -708.476 -832.476  \n",
       "       Class70RT   -404.810  -491.610  -579.810 -666.610  \n",
       "MaxSF  ClassA       244.966   313.662   383.466  452.162  \n",
       "       Class70RW    458.476   582.476   708.476  832.476  \n",
       "       Class70RT    404.810   491.610   579.810  666.610  "
      ]
     },
     "execution_count": 12,
     "metadata": {},
     "output_type": "execute_result"
    }
   ],
   "source": [
    "df"
   ]
  },
  {
   "cell_type": "code",
   "execution_count": 13,
   "id": "8da0042b",
   "metadata": {
    "scrolled": true
   },
   "outputs": [],
   "source": [
    "df1['TotalBM'] = totalBMs\n",
    "df1['TotalSF'] = totalSFs"
   ]
  },
  {
   "cell_type": "code",
   "execution_count": 14,
   "id": "7e344224",
   "metadata": {},
   "outputs": [
    {
     "data": {
      "text/html": [
       "<div>\n",
       "<style scoped>\n",
       "    .dataframe tbody tr th:only-of-type {\n",
       "        vertical-align: middle;\n",
       "    }\n",
       "\n",
       "    .dataframe tbody tr th {\n",
       "        vertical-align: top;\n",
       "    }\n",
       "\n",
       "    .dataframe thead th {\n",
       "        text-align: right;\n",
       "    }\n",
       "</style>\n",
       "<table border=\"1\" class=\"dataframe\">\n",
       "  <thead>\n",
       "    <tr style=\"text-align: right;\">\n",
       "      <th></th>\n",
       "      <th>ClassA</th>\n",
       "      <th>Class70Rw</th>\n",
       "      <th>Class70Rt</th>\n",
       "      <th>MaxEccentricity</th>\n",
       "      <th>TotalBM</th>\n",
       "      <th>TotalSF</th>\n",
       "    </tr>\n",
       "  </thead>\n",
       "  <tbody>\n",
       "    <tr>\n",
       "      <th>comb1</th>\n",
       "      <td>2</td>\n",
       "      <td>0</td>\n",
       "      <td>0</td>\n",
       "      <td>-3.739699e-16</td>\n",
       "      <td>972.6024</td>\n",
       "      <td>30.828512</td>\n",
       "    </tr>\n",
       "    <tr>\n",
       "      <th>comb2</th>\n",
       "      <td>0</td>\n",
       "      <td>1</td>\n",
       "      <td>0</td>\n",
       "      <td>-4.050000e-01</td>\n",
       "      <td>957.2112</td>\n",
       "      <td>34.982112</td>\n",
       "    </tr>\n",
       "    <tr>\n",
       "      <th>comb3</th>\n",
       "      <td>0</td>\n",
       "      <td>0</td>\n",
       "      <td>1</td>\n",
       "      <td>-3.500000e-01</td>\n",
       "      <td>734.1004</td>\n",
       "      <td>27.947920</td>\n",
       "    </tr>\n",
       "  </tbody>\n",
       "</table>\n",
       "</div>"
      ],
      "text/plain": [
       "       ClassA  Class70Rw  Class70Rt  MaxEccentricity   TotalBM    TotalSF\n",
       "comb1       2          0          0    -3.739699e-16  972.6024  30.828512\n",
       "comb2       0          1          0    -4.050000e-01  957.2112  34.982112\n",
       "comb3       0          0          1    -3.500000e-01  734.1004  27.947920"
      ]
     },
     "execution_count": 14,
     "metadata": {},
     "output_type": "execute_result"
    }
   ],
   "source": [
    "df1"
   ]
  },
  {
   "cell_type": "markdown",
   "id": "837d06fe",
   "metadata": {},
   "source": [
    "# loads on peir"
   ]
  },
  {
   "cell_type": "code",
   "execution_count": 15,
   "id": "74505193",
   "metadata": {},
   "outputs": [],
   "source": [
    "import math"
   ]
  },
  {
   "cell_type": "code",
   "execution_count": 16,
   "id": "d73f6795",
   "metadata": {},
   "outputs": [
    {
     "data": {
      "text/plain": [
       "1.0"
      ]
     },
     "execution_count": 16,
     "metadata": {},
     "output_type": "execute_result"
    }
   ],
   "source": [
    "abs(math.log10(step))"
   ]
  },
  {
   "cell_type": "code",
   "execution_count": 32,
   "id": "6544b3d0",
   "metadata": {},
   "outputs": [],
   "source": [
    "span = 30\n",
    "c_c = 1.5\n",
    "reactions = []\n",
    "\n",
    "max_sums = []\n",
    "lefts = []\n",
    "rights = []\n",
    "max_sums_at = []\n",
    "for veh in vehicles:\n",
    "    dummy_load = list(veh.loadpair)\n",
    "    no = 2\n",
    "    nose_dist = 20\n",
    "    if veh.name == 'Class 70RT':\n",
    "        nose_dist = 90\n",
    "        no = 1\n",
    "    elif veh.name == 'Class 70RW':\n",
    "        nose_dist = 31.52\n",
    "        \n",
    "    final_load = list(dummy_load)\n",
    "    max_sum_at = 0\n",
    "    for i in range(no-1):\n",
    "        delta = dummy_load[-1][0] + nose_dist\n",
    "        final_load.extend([(i[0] + delta, i[1]) for i in dummy_load])\n",
    "        \n",
    "    sumlr = 0\n",
    "    nleft = 0\n",
    "    nright = 0\n",
    "    \n",
    "    head_at = 0\n",
    "    step = 0.01\n",
    "    for i in range(int(90/step)):\n",
    "        left = 0\n",
    "        right = 0\n",
    "        for j in final_load:\n",
    "            rb = find_rb(span, head_at-j[0], c_c/2, c_c/2)*j[1]\n",
    "            ra = find_ra(span, head_at-j[0]-(span+c_c), c_c/2, c_c/2)*j[1]\n",
    "            temp_load = 0\n",
    "            if head_at-j[0] == span+c_c/2:\n",
    "#                 print('hjgjh')\n",
    "                temp_load = (j[1])/2\n",
    "                ra = find_ra(span, head_at-j[0]-(span+c_c), c_c/2, c_c/2)*temp_load\n",
    "                rb = find_rb(span, head_at-j[0], c_c/2, c_c/2)*temp_load\n",
    "            left+=rb\n",
    "            right+=ra\n",
    "        \n",
    "        if left+right>sumlr:\n",
    "            sumlr = left+right\n",
    "            nleft, nright = left, right\n",
    "            max_sum_at = head_at\n",
    "            \n",
    "        head_at= round(head_at + step, int(abs(math.log10(step))))\n",
    "    max_sums.append(sumlr)\n",
    "    lefts.append(nleft)\n",
    "    rights.append(nright)\n",
    "    max_sums_at.append(max_sum_at)"
   ]
  },
  {
   "cell_type": "code",
   "execution_count": 33,
   "id": "5bd76d17",
   "metadata": {},
   "outputs": [
    {
     "data": {
      "text/html": [
       "<div>\n",
       "<style scoped>\n",
       "    .dataframe tbody tr th:only-of-type {\n",
       "        vertical-align: middle;\n",
       "    }\n",
       "\n",
       "    .dataframe tbody tr th {\n",
       "        vertical-align: top;\n",
       "    }\n",
       "\n",
       "    .dataframe thead th {\n",
       "        text-align: right;\n",
       "    }\n",
       "</style>\n",
       "<table border=\"1\" class=\"dataframe\">\n",
       "  <thead>\n",
       "    <tr style=\"text-align: right;\">\n",
       "      <th></th>\n",
       "      <th>class A</th>\n",
       "      <th>70RW</th>\n",
       "      <th>70RT</th>\n",
       "    </tr>\n",
       "  </thead>\n",
       "  <tbody>\n",
       "    <tr>\n",
       "      <th>RL</th>\n",
       "      <td>199.104000</td>\n",
       "      <td>480.42</td>\n",
       "      <td>341.826667</td>\n",
       "    </tr>\n",
       "    <tr>\n",
       "      <th>RR</th>\n",
       "      <td>292.440667</td>\n",
       "      <td>436.46</td>\n",
       "      <td>348.476667</td>\n",
       "    </tr>\n",
       "    <tr>\n",
       "      <th>sum</th>\n",
       "      <td>491.544667</td>\n",
       "      <td>916.88</td>\n",
       "      <td>690.303333</td>\n",
       "    </tr>\n",
       "    <tr>\n",
       "      <th>max_load_at</th>\n",
       "      <td>75.060000</td>\n",
       "      <td>39.73</td>\n",
       "      <td>32.750000</td>\n",
       "    </tr>\n",
       "  </tbody>\n",
       "</table>\n",
       "</div>"
      ],
      "text/plain": [
       "                class A    70RW        70RT\n",
       "RL           199.104000  480.42  341.826667\n",
       "RR           292.440667  436.46  348.476667\n",
       "sum          491.544667  916.88  690.303333\n",
       "max_load_at   75.060000   39.73   32.750000"
      ]
     },
     "execution_count": 33,
     "metadata": {},
     "output_type": "execute_result"
    }
   ],
   "source": [
    "pd.DataFrame([lefts, rights, max_sums, max_sums_at], columns=['class A', '70RW', '70RT'], index=['RL', \"RR\", 'sum', 'max_load_at'])"
   ]
  },
  {
   "cell_type": "code",
   "execution_count": 19,
   "id": "3c15f66d",
   "metadata": {},
   "outputs": [
    {
     "data": {
      "text/plain": [
       "1.025"
      ]
     },
     "execution_count": 19,
     "metadata": {},
     "output_type": "execute_result"
    }
   ],
   "source": [
    "find_ra(30, -0.75, 0.75, 0.75)"
   ]
  },
  {
   "cell_type": "markdown",
   "id": "ae1a349d",
   "metadata": {},
   "source": [
    "*check*"
   ]
  },
  {
   "cell_type": "code",
   "execution_count": 24,
   "id": "636ba1e1",
   "metadata": {},
   "outputs": [],
   "source": [
    "span = 30\n",
    "c_c = 1.5\n",
    "veh = ll_A\n",
    "dummy_load = list(veh.loadpair)\n",
    "no = 2\n",
    "nose_dist = 20\n",
    "if veh.name == 'Class 70RT':\n",
    "    nose_dist = 90\n",
    "    no = 1\n",
    "elif veh.name == 'Class 70RW':\n",
    "    nose_dist = 31.52\n",
    "\n",
    "final_load = list(dummy_load)\n",
    "for i in range(no-1):\n",
    "    delta = dummy_load[-1][0] + nose_dist\n",
    "    final_load.extend([(i[0] + delta, i[1]) for i in dummy_load])\n",
    "    \n",
    "left = []\n",
    "right = []\n",
    "head_at = 75.05\n",
    "\n",
    "for j in final_load:\n",
    "    rb = find_rb(span, head_at-j[0], c_c/2, c_c/2)*j[1]\n",
    "    ra = find_ra(span, head_at-j[0]-(span+c_c), c_c/2, c_c/2)*j[1]\n",
    "    temp_load = 0\n",
    "    if head_at-j[0] == span+c_c/2:\n",
    "#         print('hjgjh')\n",
    "        temp_load = (j[1])/2\n",
    "        ra = find_ra(span, head_at-j[0]-(span+c_c), c_c/2, c_c/2)*temp_load\n",
    "        rb = find_rb(span, head_at-j[0], c_c/2, c_c/2)*temp_load\n",
    "    left.append(rb)\n",
    "    right.append(ra)"
   ]
  },
  {
   "cell_type": "code",
   "execution_count": 25,
   "id": "eac804e7",
   "metadata": {},
   "outputs": [
    {
     "data": {
      "text/html": [
       "<div>\n",
       "<style scoped>\n",
       "    .dataframe tbody tr th:only-of-type {\n",
       "        vertical-align: middle;\n",
       "    }\n",
       "\n",
       "    .dataframe tbody tr th {\n",
       "        vertical-align: top;\n",
       "    }\n",
       "\n",
       "    .dataframe thead th {\n",
       "        text-align: right;\n",
       "    }\n",
       "</style>\n",
       "<table border=\"1\" class=\"dataframe\">\n",
       "  <thead>\n",
       "    <tr style=\"text-align: right;\">\n",
       "      <th></th>\n",
       "      <th>pos</th>\n",
       "      <th>load</th>\n",
       "      <th>left</th>\n",
       "      <th>right</th>\n",
       "    </tr>\n",
       "  </thead>\n",
       "  <tbody>\n",
       "    <tr>\n",
       "      <th>0</th>\n",
       "      <td>75.05</td>\n",
       "      <td>27</td>\n",
       "      <td>0.000000</td>\n",
       "      <td>0.000</td>\n",
       "    </tr>\n",
       "    <tr>\n",
       "      <th>1</th>\n",
       "      <td>73.95</td>\n",
       "      <td>27</td>\n",
       "      <td>0.000000</td>\n",
       "      <td>0.000</td>\n",
       "    </tr>\n",
       "    <tr>\n",
       "      <th>2</th>\n",
       "      <td>70.75</td>\n",
       "      <td>114</td>\n",
       "      <td>0.000000</td>\n",
       "      <td>0.000</td>\n",
       "    </tr>\n",
       "    <tr>\n",
       "      <th>3</th>\n",
       "      <td>69.55</td>\n",
       "      <td>114</td>\n",
       "      <td>0.000000</td>\n",
       "      <td>0.000</td>\n",
       "    </tr>\n",
       "    <tr>\n",
       "      <th>4</th>\n",
       "      <td>65.25</td>\n",
       "      <td>68</td>\n",
       "      <td>0.000000</td>\n",
       "      <td>0.000</td>\n",
       "    </tr>\n",
       "    <tr>\n",
       "      <th>5</th>\n",
       "      <td>62.25</td>\n",
       "      <td>68</td>\n",
       "      <td>0.000000</td>\n",
       "      <td>-1.700</td>\n",
       "    </tr>\n",
       "    <tr>\n",
       "      <th>6</th>\n",
       "      <td>59.25</td>\n",
       "      <td>68</td>\n",
       "      <td>0.000000</td>\n",
       "      <td>5.100</td>\n",
       "    </tr>\n",
       "    <tr>\n",
       "      <th>7</th>\n",
       "      <td>56.25</td>\n",
       "      <td>68</td>\n",
       "      <td>0.000000</td>\n",
       "      <td>11.900</td>\n",
       "    </tr>\n",
       "    <tr>\n",
       "      <th>8</th>\n",
       "      <td>36.25</td>\n",
       "      <td>27</td>\n",
       "      <td>0.000000</td>\n",
       "      <td>22.725</td>\n",
       "    </tr>\n",
       "    <tr>\n",
       "      <th>9</th>\n",
       "      <td>35.15</td>\n",
       "      <td>27</td>\n",
       "      <td>0.000000</td>\n",
       "      <td>23.715</td>\n",
       "    </tr>\n",
       "    <tr>\n",
       "      <th>10</th>\n",
       "      <td>31.95</td>\n",
       "      <td>114</td>\n",
       "      <td>0.000000</td>\n",
       "      <td>112.290</td>\n",
       "    </tr>\n",
       "    <tr>\n",
       "      <th>11</th>\n",
       "      <td>30.75</td>\n",
       "      <td>114</td>\n",
       "      <td>58.425000</td>\n",
       "      <td>58.425</td>\n",
       "    </tr>\n",
       "    <tr>\n",
       "      <th>12</th>\n",
       "      <td>26.45</td>\n",
       "      <td>68</td>\n",
       "      <td>59.953333</td>\n",
       "      <td>0.000</td>\n",
       "    </tr>\n",
       "    <tr>\n",
       "      <th>13</th>\n",
       "      <td>23.45</td>\n",
       "      <td>68</td>\n",
       "      <td>53.153333</td>\n",
       "      <td>0.000</td>\n",
       "    </tr>\n",
       "    <tr>\n",
       "      <th>14</th>\n",
       "      <td>20.45</td>\n",
       "      <td>68</td>\n",
       "      <td>46.353333</td>\n",
       "      <td>0.000</td>\n",
       "    </tr>\n",
       "    <tr>\n",
       "      <th>15</th>\n",
       "      <td>17.45</td>\n",
       "      <td>68</td>\n",
       "      <td>39.553333</td>\n",
       "      <td>0.000</td>\n",
       "    </tr>\n",
       "  </tbody>\n",
       "</table>\n",
       "</div>"
      ],
      "text/plain": [
       "      pos  load       left    right\n",
       "0   75.05    27   0.000000    0.000\n",
       "1   73.95    27   0.000000    0.000\n",
       "2   70.75   114   0.000000    0.000\n",
       "3   69.55   114   0.000000    0.000\n",
       "4   65.25    68   0.000000    0.000\n",
       "5   62.25    68   0.000000   -1.700\n",
       "6   59.25    68   0.000000    5.100\n",
       "7   56.25    68   0.000000   11.900\n",
       "8   36.25    27   0.000000   22.725\n",
       "9   35.15    27   0.000000   23.715\n",
       "10  31.95   114   0.000000  112.290\n",
       "11  30.75   114  58.425000   58.425\n",
       "12  26.45    68  59.953333    0.000\n",
       "13  23.45    68  53.153333    0.000\n",
       "14  20.45    68  46.353333    0.000\n",
       "15  17.45    68  39.553333    0.000"
      ]
     },
     "execution_count": 25,
     "metadata": {},
     "output_type": "execute_result"
    }
   ],
   "source": [
    "pd.DataFrame({'pos' : [head_at - i[0] for i in final_load], 'load' : [i[1] for i in final_load], 'left' : left, 'right' : right} )"
   ]
  },
  {
   "cell_type": "code",
   "execution_count": 22,
   "id": "96be3a38",
   "metadata": {},
   "outputs": [
    {
     "data": {
      "text/plain": [
       "(315.86333333333334, 290.88, 606.7433333333333)"
      ]
     },
     "execution_count": 22,
     "metadata": {},
     "output_type": "execute_result"
    }
   ],
   "source": [
    "sum(left), sum(right), sum(left)+sum(right)"
   ]
  },
  {
   "cell_type": "code",
   "execution_count": null,
   "id": "0d49f70d",
   "metadata": {},
   "outputs": [],
   "source": []
  }
 ],
 "metadata": {
  "kernelspec": {
   "display_name": "Python 3",
   "language": "python",
   "name": "python3"
  },
  "language_info": {
   "codemirror_mode": {
    "name": "ipython",
    "version": 3
   },
   "file_extension": ".py",
   "mimetype": "text/x-python",
   "name": "python",
   "nbconvert_exporter": "python",
   "pygments_lexer": "ipython3",
   "version": "3.9.5"
  }
 },
 "nbformat": 4,
 "nbformat_minor": 5
}