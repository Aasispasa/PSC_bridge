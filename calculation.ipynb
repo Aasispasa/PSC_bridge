{
 "cells": [
  {
   "cell_type": "markdown",
   "id": "60c1228a",
   "metadata": {},
   "source": [
    "importing packages"
   ]
  },
  {
   "cell_type": "code",
   "execution_count": 1,
   "id": "b1c4bd7c",
   "metadata": {},
   "outputs": [],
   "source": [
    "import pandas as pd\n",
    "import matplotlib.pyplot as plt\n",
    "from carriageway import Carriageway\n",
    "from impact_factor import impact\n",
    "from load import ll_A, ll_70R, ll_70RT\n",
    "from reaction import find_bm, find_sf"
   ]
  },
  {
   "cell_type": "markdown",
   "id": "0d79cfcd",
   "metadata": {},
   "source": [
    "defining load"
   ]
  },
  {
   "cell_type": "code",
   "execution_count": 2,
   "id": "7021ab02",
   "metadata": {},
   "outputs": [],
   "source": [
    "vehicles = [ll_A, ll_70R, ll_70RT]\n",
    "classA_pair, class70R, class70RT = [list(i.loadpair) for i in vehicles]\n",
    "loads = [classA_pair, class70R, class70RT]"
   ]
  },
  {
   "cell_type": "markdown",
   "id": "65c9a0e0",
   "metadata": {},
   "source": [
    "make an array for maxBM, maxSF at different intervals"
   ]
  },
  {
   "cell_type": "code",
   "execution_count": 3,
   "id": "70aec980",
   "metadata": {},
   "outputs": [],
   "source": [
    "span = 50\n",
    "\n",
    "maxBMs = []\n",
    "maxSFs_plus = []\n",
    "maxSFs_minus = []\n",
    "sections = []\n",
    "for i in range(len(loads)):\n",
    "    maxBM = []\n",
    "    maxSF_plus = []\n",
    "    maxSF_minus = []\n",
    "    for j in range(9):\n",
    "        at = span / 8 * j\n",
    "        if at not in sections:\n",
    "            sections.append(at)\n",
    "        first_wheel_at = 0\n",
    "        step = 0.1\n",
    "\n",
    "        BM = find_bm(span, 0, at)\n",
    "        SF_plus = find_sf(span, 0, at)\n",
    "        SF_minus = find_sf(span, 0, at)\n",
    "        # print(list(loads[i]))\n",
    "        for k in range(int((span + loads[i][-1][0]) / step) + 2):  # '+2' to make sure the load moves all the way to\n",
    "            # end until it has no effect\n",
    "            bm = 0\n",
    "            sf = 0\n",
    "            for this in loads[i]:\n",
    "                a, load = this\n",
    "                pos = -a + first_wheel_at\n",
    "                bm = bm + find_bm(span, pos, at) * load\n",
    "                sf = sf + find_sf(span, pos, at) * load\n",
    "            first_wheel_at += step\n",
    "            BM = bm if bm > BM else BM\n",
    "            SF_plus = sf if sf > SF_plus else SF_plus\n",
    "            SF_minus = sf if sf < SF_minus else SF_minus\n",
    "        maxBM.append(round(BM, 3))\n",
    "        maxSF_plus.append(round(SF_plus, 3))\n",
    "        maxSF_minus.append(round(SF_minus, 3))\n",
    "    maxBMs.append(maxBM)\n",
    "    maxSFs_plus.append(maxSF_plus)\n",
    "    maxSFs_minus.append(maxSF_minus)"
   ]
  },
  {
   "cell_type": "markdown",
   "id": "9929f3f2",
   "metadata": {},
   "source": [
    "make a dataframe"
   ]
  },
  {
   "cell_type": "code",
   "execution_count": 4,
   "id": "3ec70ad1",
   "metadata": {},
   "outputs": [],
   "source": [
    "A = ['MaxBM', 'MaxSF+', 'MaxSF-']\n",
    "B = ['ClassA', 'Class70RW', 'Class70RT']\n",
    "\n",
    "# A = ['ClassA', 'Class70RW', 'Class70RT']\n",
    "# B = ['MaxBM', 'MaxSF+', 'MaxSF-']\n",
    "\n",
    "iterables = [A, B]\n",
    "index = pd.MultiIndex.from_product(iterables)\n",
    "\n",
    "C = []\n",
    "\n",
    "for i in [maxBMs, maxSFs_plus, maxSFs_minus]:\n",
    "    C.extend(i)\n",
    "\n",
    "# for i in range(len(loads)):\n",
    "#     for j in [maxBMs, maxSFs_plus, maxSFs_minus]:\n",
    "#         C.append(j[i])\n",
    "\n",
    "df = pd.DataFrame(C, index=index, columns=[span / 8 * i for i in range(9)])\n",
    "# print(df.loc[('ClassA', 'MaxSF-')])   ## you can navigate using loc, iloc\n",
    "\n",
    "new_row = df.loc['MaxSF+'].where(df.loc['MaxSF+'] > abs(df.loc['MaxSF-']), abs(df.loc['MaxSF-']))\n",
    "\n",
    "new_row.index = pd.MultiIndex.from_product([['MaxSF'], B])\n",
    "df = pd.concat([df, new_row])\n",
    "\n",
    "# df.to_excel('outputs/loads.xlsx') # uncomment to save as excel file"
   ]
  },
  {
   "cell_type": "markdown",
   "id": "c431b869",
   "metadata": {},
   "source": [
    "how to read Excel file"
   ]
  },
  {
   "cell_type": "code",
   "execution_count": 5,
   "id": "eeb374fb",
   "metadata": {},
   "outputs": [],
   "source": [
    "# df = pd.read_excel('outputs/loads.xlsx', index_col=[0, 1])\n",
    "# ###get index names###\n",
    "#\n",
    "# A = df.index.get_level_values(0).drop_duplicates().to_list()\n",
    "# B = df.index.get_level_values(1).drop_duplicates().to_list()\n",
    "# print(A, B)"
   ]
  },
  {
   "cell_type": "markdown",
   "id": "493939e4",
   "metadata": {},
   "source": [
    "impact factor"
   ]
  },
  {
   "cell_type": "code",
   "execution_count": 6,
   "id": "3f1b5cb6",
   "metadata": {},
   "outputs": [
    {
     "data": {
      "text/plain": [
       "[0.088, 0.088, 0.088]"
      ]
     },
     "execution_count": 6,
     "metadata": {},
     "output_type": "execute_result"
    }
   ],
   "source": [
    "IF = [impact(i.name, span) for i in vehicles]\n",
    "IF"
   ]
  },
  {
   "cell_type": "markdown",
   "id": "250ccf91",
   "metadata": {},
   "source": [
    "combination for given carriageway"
   ]
  },
  {
   "cell_type": "code",
   "execution_count": 7,
   "id": "efcaaba5",
   "metadata": {},
   "outputs": [],
   "source": [
    "carriageway = Carriageway(width=15)\n",
    "combinations = carriageway.combinations()\n",
    "combination_val = [i.get_value() for i in combinations]"
   ]
  },
  {
   "cell_type": "markdown",
   "id": "9e7b50ee",
   "metadata": {},
   "source": [
    "eccentricity calculation"
   ]
  },
  {
   "cell_type": "code",
   "execution_count": 8,
   "id": "56278039",
   "metadata": {},
   "outputs": [
    {
     "data": {
      "text/plain": [
       "[-0.950000000000001,\n",
       " -3.048814655172414,\n",
       " -3.0073275862068964,\n",
       " -1.8800000000000003,\n",
       " -1.8525000000000003,\n",
       " -1.825]"
      ]
     },
     "execution_count": 8,
     "metadata": {},
     "output_type": "execute_result"
    }
   ],
   "source": [
    "list_combinations = []\n",
    "list_max_e = []\n",
    "list_plot = []\n",
    "for i in combinations:\n",
    "    list_combinations.append([i.classA, i.class70Rw, i.class70Rt])\n",
    "    arrangements = i.arrangements()\n",
    "    list_arrangements = []\n",
    "    eccentricity = []\n",
    "    max_e = 0\n",
    "    for k in arrangements:\n",
    "        if k.check_exceedance() * k.check_from_right() == 1:\n",
    "            list_arrangements.append(k.veh)\n",
    "            e = k.eccentricity()\n",
    "            eccentricity.append(e)\n",
    "            max_e = e if abs(e) > abs(max_e) else max_e\n",
    "    list_max_e.append(max_e)\n",
    "\n",
    "list_max_e"
   ]
  },
  {
   "cell_type": "markdown",
   "id": "01869326",
   "metadata": {},
   "source": [
    "max reactions for given combination"
   ]
  },
  {
   "cell_type": "code",
   "execution_count": 9,
   "id": "3620ecd7",
   "metadata": {
    "pycharm": {
     "name": "#%%\n"
    },
    "scrolled": true
   },
   "outputs": [
    {
     "data": {
      "text/plain": [
       "([[4, 0, 0], [2, 1, 0], [2, 0, 1], [0, 2, 0], [0, 1, 1], [0, 0, 2]],\n",
       " [1945.2047999999998,\n",
       "  1929.8136,\n",
       "  1706.7027999999998,\n",
       "  1914.4224,\n",
       "  1691.3116,\n",
       "  1468.2007999999998],\n",
       " [61.657024, 65.810624, 58.776432, 69.964224, 62.930032, 55.89583999999999])"
      ]
     },
     "execution_count": 9,
     "metadata": {},
     "output_type": "execute_result"
    }
   ],
   "source": [
    "maxBMs = [(df.loc['MaxBM'][25]*IF).dot(combination_val[i]) for i in range(len(combinations))]\n",
    "maxSFs = [(df.loc['MaxSF'][25]*IF).dot(combination_val[i]) for i in range(len(combinations))]\n",
    "combination_val, maxBMs, maxSFs"
   ]
  },
  {
   "cell_type": "code",
   "execution_count": 10,
   "id": "f8d3acca",
   "metadata": {
    "pycharm": {
     "name": "#%%\n"
    }
   },
   "outputs": [
    {
     "data": {
      "text/html": [
       "<div>\n",
       "<style scoped>\n",
       "    .dataframe tbody tr th:only-of-type {\n",
       "        vertical-align: middle;\n",
       "    }\n",
       "\n",
       "    .dataframe tbody tr th {\n",
       "        vertical-align: top;\n",
       "    }\n",
       "\n",
       "    .dataframe thead th {\n",
       "        text-align: right;\n",
       "    }\n",
       "</style>\n",
       "<table border=\"1\" class=\"dataframe\">\n",
       "  <thead>\n",
       "    <tr style=\"text-align: right;\">\n",
       "      <th></th>\n",
       "      <th></th>\n",
       "      <th>0.00</th>\n",
       "      <th>6.25</th>\n",
       "      <th>12.50</th>\n",
       "      <th>18.75</th>\n",
       "      <th>25.00</th>\n",
       "      <th>31.25</th>\n",
       "      <th>37.50</th>\n",
       "      <th>43.75</th>\n",
       "      <th>50.00</th>\n",
       "    </tr>\n",
       "  </thead>\n",
       "  <tbody>\n",
       "    <tr>\n",
       "      <th rowspan=\"3\" valign=\"top\">MaxBM</th>\n",
       "      <th>ClassA</th>\n",
       "      <td>0.000</td>\n",
       "      <td>2361.037</td>\n",
       "      <td>4068.075</td>\n",
       "      <td>5120.737</td>\n",
       "      <td>5526.150</td>\n",
       "      <td>5340.038</td>\n",
       "      <td>4327.675</td>\n",
       "      <td>2494.638</td>\n",
       "      <td>0.000</td>\n",
       "    </tr>\n",
       "    <tr>\n",
       "      <th>Class70RW</th>\n",
       "      <td>0.000</td>\n",
       "      <td>4826.025</td>\n",
       "      <td>8200.950</td>\n",
       "      <td>10182.475</td>\n",
       "      <td>10877.400</td>\n",
       "      <td>10163.225</td>\n",
       "      <td>8053.750</td>\n",
       "      <td>4611.975</td>\n",
       "      <td>0.000</td>\n",
       "    </tr>\n",
       "    <tr>\n",
       "      <th>Class70RT</th>\n",
       "      <td>0.000</td>\n",
       "      <td>3651.438</td>\n",
       "      <td>6259.675</td>\n",
       "      <td>7823.212</td>\n",
       "      <td>8342.050</td>\n",
       "      <td>7823.588</td>\n",
       "      <td>6260.425</td>\n",
       "      <td>3652.563</td>\n",
       "      <td>0.000</td>\n",
       "    </tr>\n",
       "    <tr>\n",
       "      <th rowspan=\"3\" valign=\"top\">MaxSF+</th>\n",
       "      <th>ClassA</th>\n",
       "      <td>445.318</td>\n",
       "      <td>376.622</td>\n",
       "      <td>307.926</td>\n",
       "      <td>238.122</td>\n",
       "      <td>169.426</td>\n",
       "      <td>99.676</td>\n",
       "      <td>43.520</td>\n",
       "      <td>13.056</td>\n",
       "      <td>0.000</td>\n",
       "    </tr>\n",
       "    <tr>\n",
       "      <th>Class70RW</th>\n",
       "      <td>895.524</td>\n",
       "      <td>771.524</td>\n",
       "      <td>647.524</td>\n",
       "      <td>521.524</td>\n",
       "      <td>397.524</td>\n",
       "      <td>271.524</td>\n",
       "      <td>148.964</td>\n",
       "      <td>44.948</td>\n",
       "      <td>0.000</td>\n",
       "    </tr>\n",
       "    <tr>\n",
       "      <th>Class70RT</th>\n",
       "      <td>667.590</td>\n",
       "      <td>579.390</td>\n",
       "      <td>492.590</td>\n",
       "      <td>404.390</td>\n",
       "      <td>317.590</td>\n",
       "      <td>229.390</td>\n",
       "      <td>142.590</td>\n",
       "      <td>54.390</td>\n",
       "      <td>0.000</td>\n",
       "    </tr>\n",
       "    <tr>\n",
       "      <th rowspan=\"3\" valign=\"top\">MaxSF-</th>\n",
       "      <th>ClassA</th>\n",
       "      <td>0.000</td>\n",
       "      <td>-12.030</td>\n",
       "      <td>-51.234</td>\n",
       "      <td>-106.602</td>\n",
       "      <td>-175.162</td>\n",
       "      <td>-244.966</td>\n",
       "      <td>-313.662</td>\n",
       "      <td>-383.466</td>\n",
       "      <td>-452.162</td>\n",
       "    </tr>\n",
       "    <tr>\n",
       "      <th>Class70RW</th>\n",
       "      <td>0.000</td>\n",
       "      <td>-17.024</td>\n",
       "      <td>-87.536</td>\n",
       "      <td>-208.476</td>\n",
       "      <td>-332.476</td>\n",
       "      <td>-458.476</td>\n",
       "      <td>-582.476</td>\n",
       "      <td>-708.476</td>\n",
       "      <td>-832.476</td>\n",
       "    </tr>\n",
       "    <tr>\n",
       "      <th>Class70RT</th>\n",
       "      <td>0.000</td>\n",
       "      <td>-54.810</td>\n",
       "      <td>-143.010</td>\n",
       "      <td>-229.810</td>\n",
       "      <td>-316.610</td>\n",
       "      <td>-404.810</td>\n",
       "      <td>-491.610</td>\n",
       "      <td>-579.810</td>\n",
       "      <td>-666.610</td>\n",
       "    </tr>\n",
       "    <tr>\n",
       "      <th rowspan=\"3\" valign=\"top\">MaxSF</th>\n",
       "      <th>ClassA</th>\n",
       "      <td>445.318</td>\n",
       "      <td>376.622</td>\n",
       "      <td>307.926</td>\n",
       "      <td>238.122</td>\n",
       "      <td>175.162</td>\n",
       "      <td>244.966</td>\n",
       "      <td>313.662</td>\n",
       "      <td>383.466</td>\n",
       "      <td>452.162</td>\n",
       "    </tr>\n",
       "    <tr>\n",
       "      <th>Class70RW</th>\n",
       "      <td>895.524</td>\n",
       "      <td>771.524</td>\n",
       "      <td>647.524</td>\n",
       "      <td>521.524</td>\n",
       "      <td>397.524</td>\n",
       "      <td>458.476</td>\n",
       "      <td>582.476</td>\n",
       "      <td>708.476</td>\n",
       "      <td>832.476</td>\n",
       "    </tr>\n",
       "    <tr>\n",
       "      <th>Class70RT</th>\n",
       "      <td>667.590</td>\n",
       "      <td>579.390</td>\n",
       "      <td>492.590</td>\n",
       "      <td>404.390</td>\n",
       "      <td>317.590</td>\n",
       "      <td>404.810</td>\n",
       "      <td>491.610</td>\n",
       "      <td>579.810</td>\n",
       "      <td>666.610</td>\n",
       "    </tr>\n",
       "  </tbody>\n",
       "</table>\n",
       "</div>"
      ],
      "text/plain": [
       "                    0.00      6.25      12.50      18.75      25.00  \\\n",
       "MaxBM  ClassA       0.000  2361.037  4068.075   5120.737   5526.150   \n",
       "       Class70RW    0.000  4826.025  8200.950  10182.475  10877.400   \n",
       "       Class70RT    0.000  3651.438  6259.675   7823.212   8342.050   \n",
       "MaxSF+ ClassA     445.318   376.622   307.926    238.122    169.426   \n",
       "       Class70RW  895.524   771.524   647.524    521.524    397.524   \n",
       "       Class70RT  667.590   579.390   492.590    404.390    317.590   \n",
       "MaxSF- ClassA       0.000   -12.030   -51.234   -106.602   -175.162   \n",
       "       Class70RW    0.000   -17.024   -87.536   -208.476   -332.476   \n",
       "       Class70RT    0.000   -54.810  -143.010   -229.810   -316.610   \n",
       "MaxSF  ClassA     445.318   376.622   307.926    238.122    175.162   \n",
       "       Class70RW  895.524   771.524   647.524    521.524    397.524   \n",
       "       Class70RT  667.590   579.390   492.590    404.390    317.590   \n",
       "\n",
       "                      31.25     37.50     43.75    50.00  \n",
       "MaxBM  ClassA      5340.038  4327.675  2494.638    0.000  \n",
       "       Class70RW  10163.225  8053.750  4611.975    0.000  \n",
       "       Class70RT   7823.588  6260.425  3652.563    0.000  \n",
       "MaxSF+ ClassA        99.676    43.520    13.056    0.000  \n",
       "       Class70RW    271.524   148.964    44.948    0.000  \n",
       "       Class70RT    229.390   142.590    54.390    0.000  \n",
       "MaxSF- ClassA      -244.966  -313.662  -383.466 -452.162  \n",
       "       Class70RW   -458.476  -582.476  -708.476 -832.476  \n",
       "       Class70RT   -404.810  -491.610  -579.810 -666.610  \n",
       "MaxSF  ClassA       244.966   313.662   383.466  452.162  \n",
       "       Class70RW    458.476   582.476   708.476  832.476  \n",
       "       Class70RT    404.810   491.610   579.810  666.610  "
      ]
     },
     "execution_count": 10,
     "metadata": {},
     "output_type": "execute_result"
    }
   ],
   "source": [
    "df"
   ]
  },
  {
   "cell_type": "markdown",
   "id": "a2b292dd",
   "metadata": {},
   "source": [
    "make a dataframe for corresponding eccentricity + combinations"
   ]
  },
  {
   "cell_type": "code",
   "execution_count": null,
   "id": "5080febe",
   "metadata": {},
   "outputs": [],
   "source": [
    "df1 = pd.DataFrame(list_combinations, columns=['ClassA', 'Class70Rw', 'Class70Rt'],\n",
    "                  index=[f'comb{i + 1}' for i in range(len(list_combinations))])\n",
    "df1['MaxEccentricity'] = list_max_e"
   ]
  },
  {
   "cell_type": "markdown",
   "id": "a3368625",
   "metadata": {},
   "source": [
    "export eccentricity as excel file (uncomment)"
   ]
  },
  {
   "cell_type": "code",
   "execution_count": 13,
   "id": "2657c077",
   "metadata": {},
   "outputs": [],
   "source": [
    "# df1.to_excel('outputs/max_e.xlsx')"
   ]
  },
  {
   "cell_type": "code",
   "execution_count": 15,
   "id": "8da0042b",
   "metadata": {
    "scrolled": true
   },
   "outputs": [
    {
     "data": {
      "text/html": [
       "<div>\n",
       "<style scoped>\n",
       "    .dataframe tbody tr th:only-of-type {\n",
       "        vertical-align: middle;\n",
       "    }\n",
       "\n",
       "    .dataframe tbody tr th {\n",
       "        vertical-align: top;\n",
       "    }\n",
       "\n",
       "    .dataframe thead th {\n",
       "        text-align: right;\n",
       "    }\n",
       "</style>\n",
       "<table border=\"1\" class=\"dataframe\">\n",
       "  <thead>\n",
       "    <tr style=\"text-align: right;\">\n",
       "      <th></th>\n",
       "      <th>ClassA</th>\n",
       "      <th>Class70Rw</th>\n",
       "      <th>Class70Rt</th>\n",
       "      <th>MaxEccentricity</th>\n",
       "    </tr>\n",
       "  </thead>\n",
       "  <tbody>\n",
       "    <tr>\n",
       "      <th>comb1</th>\n",
       "      <td>4</td>\n",
       "      <td>0</td>\n",
       "      <td>0</td>\n",
       "      <td>-0.950000</td>\n",
       "    </tr>\n",
       "    <tr>\n",
       "      <th>comb2</th>\n",
       "      <td>2</td>\n",
       "      <td>1</td>\n",
       "      <td>0</td>\n",
       "      <td>-3.048815</td>\n",
       "    </tr>\n",
       "    <tr>\n",
       "      <th>comb3</th>\n",
       "      <td>2</td>\n",
       "      <td>0</td>\n",
       "      <td>1</td>\n",
       "      <td>-3.007328</td>\n",
       "    </tr>\n",
       "    <tr>\n",
       "      <th>comb4</th>\n",
       "      <td>0</td>\n",
       "      <td>2</td>\n",
       "      <td>0</td>\n",
       "      <td>-1.880000</td>\n",
       "    </tr>\n",
       "    <tr>\n",
       "      <th>comb5</th>\n",
       "      <td>0</td>\n",
       "      <td>1</td>\n",
       "      <td>1</td>\n",
       "      <td>-1.852500</td>\n",
       "    </tr>\n",
       "    <tr>\n",
       "      <th>comb6</th>\n",
       "      <td>0</td>\n",
       "      <td>0</td>\n",
       "      <td>2</td>\n",
       "      <td>-1.825000</td>\n",
       "    </tr>\n",
       "  </tbody>\n",
       "</table>\n",
       "</div>"
      ],
      "text/plain": [
       "       ClassA  Class70Rw  Class70Rt  MaxEccentricity\n",
       "comb1       4          0          0        -0.950000\n",
       "comb2       2          1          0        -3.048815\n",
       "comb3       2          0          1        -3.007328\n",
       "comb4       0          2          0        -1.880000\n",
       "comb5       0          1          1        -1.852500\n",
       "comb6       0          0          2        -1.825000"
      ]
     },
     "execution_count": 15,
     "metadata": {},
     "output_type": "execute_result"
    }
   ],
   "source": [
    "df1"
   ]
  },
  {
   "cell_type": "code",
   "execution_count": null,
   "id": "40795823",
   "metadata": {},
   "outputs": [],
   "source": []
  }
 ],
 "metadata": {
  "kernelspec": {
   "display_name": "Python 3",
   "language": "python",
   "name": "python3"
  },
  "language_info": {
   "codemirror_mode": {
    "name": "ipython",
    "version": 3
   },
   "file_extension": ".py",
   "mimetype": "text/x-python",
   "name": "python",
   "nbconvert_exporter": "python",
   "pygments_lexer": "ipython3",
   "version": "3.9.5"
  }
 },
 "nbformat": 4,
 "nbformat_minor": 5
}