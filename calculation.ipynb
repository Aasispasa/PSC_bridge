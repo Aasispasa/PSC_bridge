{
 "cells": [
  {
   "cell_type": "markdown",
   "id": "60c1228a",
   "metadata": {},
   "source": [
    "#### importing packages"
   ]
  },
  {
   "cell_type": "code",
   "execution_count": 19,
   "id": "b1c4bd7c",
   "metadata": {},
   "outputs": [],
   "source": [
    "import numpy as np\n",
    "import pandas as pd\n",
    "# import matplotlib.pyplot as plt\n",
    "\n",
    "from carriageway import Carriageway\n",
    "from impact_factor import impact\n",
    "from load import ll_A, ll_70R, ll_70RT\n",
    "from reaction import find_bm, find_sf, find_ra, find_rb\n",
    "# from bridge_specs import box, bearing"
   ]
  },
  {
   "cell_type": "code",
   "execution_count": 20,
   "id": "e36334be",
   "metadata": {
    "pycharm": {
     "name": "#%%\n"
    }
   },
   "outputs": [],
   "source": [
    "span = 50\n",
    "c_c = 1.5"
   ]
  },
  {
   "cell_type": "markdown",
   "id": "0300d218",
   "metadata": {},
   "source": [
    "# live load calculations"
   ]
  },
  {
   "cell_type": "markdown",
   "id": "0d79cfcd",
   "metadata": {},
   "source": [
    "#### defining load (vehicles)\n",
    "load pair contains pair (wheel position, wheel load)"
   ]
  },
  {
   "cell_type": "code",
   "execution_count": 21,
   "id": "7021ab02",
   "metadata": {},
   "outputs": [],
   "source": [
    "vehicles = [ll_A, ll_70R, ll_70RT]\n",
    "classA_pair, class70R, class70RT = [list(i.loadpair) for i in vehicles]\n",
    "loads = [classA_pair, class70R, class70RT]"
   ]
  },
  {
   "cell_type": "markdown",
   "id": "65c9a0e0",
   "metadata": {},
   "source": [
    "#### maxBM, maxSF at equal intervals\n",
    "when each vehicle from the list of vehicles travels along the span, max reactions (BM and SF+/-) at equally divided intervals are calculated and stored in maxBMs, maxSFs_plus, maxSFs_minus."
   ]
  },
  {
   "cell_type": "code",
   "execution_count": 22,
   "id": "70aec980",
   "metadata": {},
   "outputs": [],
   "source": [
    "\n",
    "\n",
    "maxBMs = []\n",
    "maxSFs_plus = []\n",
    "maxSFs_minus = []\n",
    "for i in range(len(loads)):\n",
    "    maxBM = []\n",
    "    maxSF_plus = []\n",
    "    maxSF_minus = []\n",
    "    for j in range(9):\n",
    "        at = span / 8 * j\n",
    "        first_wheel_at = 0\n",
    "        step = 0.1\n",
    "\n",
    "        BM = find_bm(span, 0, at)\n",
    "        SF_plus = find_sf(span, 0, at)\n",
    "        SF_minus = find_sf(span, 0, at)\n",
    "        for k in range(int((span + loads[i][-1][0]) / step) + 2):  # '+2' to make sure the load moves all the way to\n",
    "            # end until it has no effect\n",
    "            bm = 0\n",
    "            sf = 0\n",
    "            for this in loads[i]:\n",
    "                a, load = this\n",
    "                pos = -a + first_wheel_at\n",
    "                bm = bm + find_bm(span, pos, at) * load\n",
    "                sf = sf + find_sf(span, pos, at) * load\n",
    "            first_wheel_at += step\n",
    "            BM = bm if bm > BM else BM\n",
    "            SF_plus = sf if sf > SF_plus else SF_plus\n",
    "            SF_minus = sf if sf < SF_minus else SF_minus\n",
    "        maxBM.append(round(BM, 3))\n",
    "        maxSF_plus.append(round(SF_plus, 3))\n",
    "        maxSF_minus.append(round(SF_minus, 3))\n",
    "    maxBMs.append(maxBM)\n",
    "    maxSFs_plus.append(maxSF_plus)\n",
    "    maxSFs_minus.append(maxSF_minus)"
   ]
  },
  {
   "cell_type": "markdown",
   "id": "9929f3f2",
   "metadata": {},
   "source": [
    "#### make a dataframe that contains maxBMs, maxSFs_plus, maxSFs_minus"
   ]
  },
  {
   "cell_type": "code",
   "execution_count": 23,
   "id": "3ec70ad1",
   "metadata": {},
   "outputs": [],
   "source": [
    "A = ['MaxBM', 'MaxSF+', 'MaxSF-']\n",
    "B = ['ClassA', 'Class70RW', 'Class70RT']\n",
    "\n",
    "# A = ['ClassA', 'Class70RW', 'Class70RT']\n",
    "# B = ['MaxBM', 'MaxSF+', 'MaxSF-']\n",
    "\n",
    "iterables = [A, B]\n",
    "index = pd.MultiIndex.from_product(iterables)\n",
    "\n",
    "C = []\n",
    "\n",
    "for i in [maxBMs, maxSFs_plus, maxSFs_minus]:\n",
    "    C.extend(i)\n",
    "\n",
    "# for i in range(len(loads)):\n",
    "#     for j in [maxBMs, maxSFs_plus, maxSFs_minus]:\n",
    "#         C.append(j[i])\n",
    "\n",
    "df = pd.DataFrame(C, index=index, columns=[span / 8 * i for i in range(9)])\n",
    "# print(df.loc[('ClassA', 'MaxSF-')])   ## you can navigate using loc, iloc\n",
    "\n",
    "new_row = df.loc['MaxSF+'].where(df.loc['MaxSF+'] > abs(df.loc['MaxSF-']), abs(df.loc['MaxSF-']))\n",
    "\n",
    "new_row.index = pd.MultiIndex.from_product([['MaxSF'], B])\n",
    "df = pd.concat([df, new_row])\n",
    "\n",
    "# df.to_excel('outputs/loads.xlsx') # uncomment to save as excel file"
   ]
  },
  {
   "cell_type": "markdown",
   "id": "c431b869",
   "metadata": {},
   "source": [
    "*how to read Excel file*"
   ]
  },
  {
   "cell_type": "code",
   "execution_count": 24,
   "id": "eeb374fb",
   "metadata": {},
   "outputs": [],
   "source": [
    "# df = pd.read_excel('outputs/loads.xlsx', index_col=[0, 1])\n",
    "\n",
    "# ###get index names###\n",
    "# A = df.index.get_level_values(0).drop_duplicates().to_list()\n",
    "# B = df.index.get_level_values(1).drop_duplicates().to_list()\n",
    "# print(A, B)"
   ]
  },
  {
   "cell_type": "markdown",
   "id": "493939e4",
   "metadata": {},
   "source": [
    "#### impact factor"
   ]
  },
  {
   "cell_type": "code",
   "execution_count": 25,
   "id": "3f1b5cb6",
   "metadata": {},
   "outputs": [
    {
     "data": {
      "text/plain": [
       "[0.088, 0.088, 0.088]"
      ]
     },
     "execution_count": 25,
     "metadata": {},
     "output_type": "execute_result"
    }
   ],
   "source": [
    "IF = [impact(i.name, span) for i in vehicles]\n",
    "IF"
   ]
  },
  {
   "cell_type": "markdown",
   "id": "250ccf91",
   "metadata": {},
   "source": [
    "#### possible combinations for given carriageway width"
   ]
  },
  {
   "cell_type": "code",
   "execution_count": 26,
   "id": "efcaaba5",
   "metadata": {},
   "outputs": [],
   "source": [
    "cwWidth = 6\n",
    "carriageway = Carriageway(cwWidth)\n",
    "combinations = carriageway.combinations()\n",
    "combination_val = [i.get_value() for i in combinations]"
   ]
  },
  {
   "cell_type": "markdown",
   "id": "9e7b50ee",
   "metadata": {},
   "source": [
    "#### eccentricity calculation\n",
    "a combination consists of multiple arrangements gives different eccentricities. maximum eccentricities for each combination calculated."
   ]
  },
  {
   "cell_type": "code",
   "execution_count": 27,
   "id": "cc5bb796",
   "metadata": {},
   "outputs": [],
   "source": [
    "cw = 6\n",
    "\n",
    "carriageway = Carriageway(width=cw)\n",
    "combinations = carriageway.combinations()\n",
    "list_combinations = []\n",
    "list_max_e = []\n",
    "\n",
    "for i in combinations:\n",
    "    list_combinations.append([i.classA, i.class70Rw, i.class70Rt])\n",
    "    list_max_e.append(i.max_e())\n"
   ]
  },
  {
   "cell_type": "markdown",
   "id": "a2b292dd",
   "metadata": {},
   "source": [
    "#### make a dataframe for combinations and their corresponding eccentricities"
   ]
  },
  {
   "cell_type": "code",
   "execution_count": 28,
   "id": "5080febe",
   "metadata": {},
   "outputs": [],
   "source": [
    "df1 = pd.DataFrame(list_combinations, columns=['ClassA', 'Class70Rw', 'Class70Rt'],\n",
    "                   index=[f'comb{i + 1}' for i in range(len(list_combinations))])\n",
    "df1['MaxEccentricity'] = list_max_e"
   ]
  },
  {
   "cell_type": "markdown",
   "id": "a3368625",
   "metadata": {},
   "source": [
    "*export eccentricity as excel file (uncomment)*"
   ]
  },
  {
   "cell_type": "code",
   "execution_count": 29,
   "id": "2657c077",
   "metadata": {},
   "outputs": [],
   "source": [
    "# df1.to_excel('outputs/max_e.xlsx')"
   ]
  },
  {
   "cell_type": "markdown",
   "id": "01869326",
   "metadata": {},
   "source": [
    "#### total reactions for given combination\n",
    "total reactions = sum of (maxreactions at mid span * impact factor * no. of that vehicles)"
   ]
  },
  {
   "cell_type": "code",
   "execution_count": 30,
   "id": "3620ecd7",
   "metadata": {
    "pycharm": {
     "name": "#%%\n"
    },
    "scrolled": true
   },
   "outputs": [],
   "source": [
    "totalBMs = [(df.loc['MaxBM'][span / 2] * IF).dot(combination_val[i]) for i in range(len(combinations))]\n",
    "totalSFs = [(df.loc['MaxSF'][span / 2] * IF).dot(combination_val[i]) for i in range(len(combinations))]"
   ]
  },
  {
   "cell_type": "code",
   "execution_count": 31,
   "id": "f8d3acca",
   "metadata": {
    "pycharm": {
     "name": "#%%\n"
    }
   },
   "outputs": [],
   "source": [
    "# df"
   ]
  },
  {
   "cell_type": "code",
   "execution_count": 32,
   "id": "8da0042b",
   "metadata": {
    "scrolled": true
   },
   "outputs": [],
   "source": [
    "df1['TotalBM'] = totalBMs\n",
    "df1['TotalSF'] = totalSFs"
   ]
  },
  {
   "cell_type": "code",
   "execution_count": 33,
   "id": "7e344224",
   "metadata": {},
   "outputs": [
    {
     "data": {
      "text/html": [
       "<div>\n",
       "<style scoped>\n",
       "    .dataframe tbody tr th:only-of-type {\n",
       "        vertical-align: middle;\n",
       "    }\n",
       "\n",
       "    .dataframe tbody tr th {\n",
       "        vertical-align: top;\n",
       "    }\n",
       "\n",
       "    .dataframe thead th {\n",
       "        text-align: right;\n",
       "    }\n",
       "</style>\n",
       "<table border=\"1\" class=\"dataframe\">\n",
       "  <thead>\n",
       "    <tr style=\"text-align: right;\">\n",
       "      <th></th>\n",
       "      <th>ClassA</th>\n",
       "      <th>Class70Rw</th>\n",
       "      <th>Class70Rt</th>\n",
       "      <th>MaxEccentricity</th>\n",
       "      <th>TotalBM</th>\n",
       "      <th>TotalSF</th>\n",
       "    </tr>\n",
       "  </thead>\n",
       "  <tbody>\n",
       "    <tr>\n",
       "      <th>comb1</th>\n",
       "      <td>2</td>\n",
       "      <td>0</td>\n",
       "      <td>0</td>\n",
       "      <td>-3.739699e-16</td>\n",
       "      <td>972.6024</td>\n",
       "      <td>30.828512</td>\n",
       "    </tr>\n",
       "    <tr>\n",
       "      <th>comb2</th>\n",
       "      <td>0</td>\n",
       "      <td>1</td>\n",
       "      <td>0</td>\n",
       "      <td>-4.050000e-01</td>\n",
       "      <td>957.2112</td>\n",
       "      <td>34.982112</td>\n",
       "    </tr>\n",
       "    <tr>\n",
       "      <th>comb3</th>\n",
       "      <td>0</td>\n",
       "      <td>0</td>\n",
       "      <td>1</td>\n",
       "      <td>-3.500000e-01</td>\n",
       "      <td>734.1004</td>\n",
       "      <td>27.947920</td>\n",
       "    </tr>\n",
       "  </tbody>\n",
       "</table>\n",
       "</div>"
      ],
      "text/plain": [
       "       ClassA  Class70Rw  Class70Rt  MaxEccentricity   TotalBM    TotalSF\n",
       "comb1       2          0          0    -3.739699e-16  972.6024  30.828512\n",
       "comb2       0          1          0    -4.050000e-01  957.2112  34.982112\n",
       "comb3       0          0          1    -3.500000e-01  734.1004  27.947920"
      ]
     },
     "execution_count": 33,
     "metadata": {},
     "output_type": "execute_result"
    }
   ],
   "source": [
    "df1"
   ]
  },
  {
   "cell_type": "markdown",
   "id": "837d06fe",
   "metadata": {},
   "source": [
    "# loads on peir"
   ]
  },
  {
   "cell_type": "code",
   "execution_count": 34,
   "id": "6544b3d0",
   "metadata": {},
   "outputs": [],
   "source": [
    "dfSF = pd.DataFrame()\n",
    "dfBM = pd.DataFrame()\n",
    "for veh in vehicles:\n",
    "    dummy_load = list(veh.loadpair)\n",
    "    no = 2\n",
    "    nose_dist = 20\n",
    "    if veh.name == 'Class 70RT':\n",
    "        nose_dist = 90\n",
    "        no = 1\n",
    "    elif veh.name == 'Class 70RW':\n",
    "        nose_dist = 31.52\n",
    "\n",
    "    final_load = list(dummy_load)\n",
    "    for i in range(no - 1):\n",
    "        delta = dummy_load[-1][0] + nose_dist\n",
    "        final_load.extend([(i[0] + delta, i[1]) for i in dummy_load])\n",
    "\n",
    "    max_sum_at = 0\n",
    "    sumlr = 0\n",
    "    difflr = 0\n",
    "    nleft = 0\n",
    "    nright = 0\n",
    "\n",
    "    head_at = 0\n",
    "    step = 0.01\n",
    "    for i in range(int((span * 2 + final_load[-1][0]) / step)):\n",
    "        left = 0\n",
    "        right = 0\n",
    "        for j in final_load:\n",
    "            rb = find_rb(span, head_at - j[0], c_c / 2, c_c / 2) * j[1]\n",
    "            ra = find_ra(span, head_at - j[0] - (span + c_c), c_c / 2, c_c / 2) * j[1]\n",
    "            temp_load = 0\n",
    "            if head_at - j[0] == span + c_c / 2:\n",
    "                #                 print('hjgjh')\n",
    "                temp_load = (j[1]) / 2\n",
    "                ra = find_ra(span, head_at - j[0] - (span + c_c), c_c / 2, c_c / 2) * temp_load\n",
    "                rb = find_rb(span, head_at - j[0], c_c / 2, c_c / 2) * temp_load\n",
    "            left += rb\n",
    "            right += ra\n",
    "\n",
    "        if left + right > sumlr:\n",
    "            sumlr = left + right\n",
    "            dfSF.loc[f'{veh.name}', 'RL'], dfSF.loc[f'{veh.name}', 'RR'], dfSF.loc[\n",
    "                f'{veh.name}', 'at'], dfSF.loc[f'{veh.name}', 'sum']= left, right, head_at, left + right\n",
    "\n",
    "        if abs(left - right) > abs(difflr):\n",
    "            difflr = left - right\n",
    "            dfBM.loc[f'{veh.name}', 'RL'], dfBM.loc[f'{veh.name}', 'RR'], dfBM.loc[\n",
    "                f'{veh.name}', 'at'], dfBM.loc[f'{veh.name}', 'sum'] = left, right, head_at, left + right\n",
    "        head_at = round(head_at + step, 5)"
   ]
  },
  {
   "cell_type": "code",
   "execution_count": 35,
   "id": "f01895b9",
   "metadata": {
    "pycharm": {
     "name": "#%%\n"
    }
   },
   "outputs": [
    {
     "data": {
      "text/html": [
       "<div>\n",
       "<style scoped>\n",
       "    .dataframe tbody tr th:only-of-type {\n",
       "        vertical-align: middle;\n",
       "    }\n",
       "\n",
       "    .dataframe tbody tr th {\n",
       "        vertical-align: top;\n",
       "    }\n",
       "\n",
       "    .dataframe thead th {\n",
       "        text-align: right;\n",
       "    }\n",
       "</style>\n",
       "<table border=\"1\" class=\"dataframe\">\n",
       "  <thead>\n",
       "    <tr style=\"text-align: right;\">\n",
       "      <th></th>\n",
       "      <th></th>\n",
       "      <th>RL</th>\n",
       "      <th>RR</th>\n",
       "      <th>at</th>\n",
       "      <th>sum</th>\n",
       "    </tr>\n",
       "  </thead>\n",
       "  <tbody>\n",
       "    <tr>\n",
       "      <th rowspan=\"3\" valign=\"top\">MaxSF</th>\n",
       "      <th>Class A</th>\n",
       "      <td>240.2016</td>\n",
       "      <td>454.5144</td>\n",
       "      <td>69.57</td>\n",
       "      <td>694.7160</td>\n",
       "    </tr>\n",
       "    <tr>\n",
       "      <th>Class 70RW</th>\n",
       "      <td>219.8760</td>\n",
       "      <td>911.7240</td>\n",
       "      <td>64.19</td>\n",
       "      <td>1131.6000</td>\n",
       "    </tr>\n",
       "    <tr>\n",
       "      <th>Class 70RT</th>\n",
       "      <td>344.8160</td>\n",
       "      <td>349.3660</td>\n",
       "      <td>52.71</td>\n",
       "      <td>694.1820</td>\n",
       "    </tr>\n",
       "    <tr>\n",
       "      <th rowspan=\"3\" valign=\"top\">MaxBM</th>\n",
       "      <th>Class A</th>\n",
       "      <td>508.7832</td>\n",
       "      <td>0.0000</td>\n",
       "      <td>50.74</td>\n",
       "      <td>508.7832</td>\n",
       "    </tr>\n",
       "    <tr>\n",
       "      <th>Class 70RW</th>\n",
       "      <td>0.0000</td>\n",
       "      <td>952.1040</td>\n",
       "      <td>109.08</td>\n",
       "      <td>952.1040</td>\n",
       "    </tr>\n",
       "    <tr>\n",
       "      <th>Class 70RT</th>\n",
       "      <td>678.3700</td>\n",
       "      <td>0.0000</td>\n",
       "      <td>50.74</td>\n",
       "      <td>678.3700</td>\n",
       "    </tr>\n",
       "  </tbody>\n",
       "</table>\n",
       "</div>"
      ],
      "text/plain": [
       "                        RL        RR      at        sum\n",
       "MaxSF Class A     240.2016  454.5144   69.57   694.7160\n",
       "      Class 70RW  219.8760  911.7240   64.19  1131.6000\n",
       "      Class 70RT  344.8160  349.3660   52.71   694.1820\n",
       "MaxBM Class A     508.7832    0.0000   50.74   508.7832\n",
       "      Class 70RW    0.0000  952.1040  109.08   952.1040\n",
       "      Class 70RT  678.3700    0.0000   50.74   678.3700"
      ]
     },
     "execution_count": 35,
     "metadata": {},
     "output_type": "execute_result"
    }
   ],
   "source": [
    "total_frame = pd.concat([dfSF, dfBM], keys=['MaxSF', 'MaxBM'])\n",
    "total_frame.to_excel('outputs/Live_Loads_Seismic.xlsx')\n",
    "total_frame"
   ]
  },
  {
   "cell_type": "code",
   "execution_count": null,
   "id": "d53c9fd2",
   "metadata": {},
   "outputs": [],
   "source": []
  }
 ],
 "metadata": {
  "kernelspec": {
   "display_name": "PyCharm (PSC_bridge)",
   "language": "python",
   "name": "pycharm-290fee38"
  },
  "language_info": {
   "codemirror_mode": {
    "name": "ipython",
    "version": 3
   },
   "file_extension": ".py",
   "mimetype": "text/x-python",
   "name": "python",
   "nbconvert_exporter": "python",
   "pygments_lexer": "ipython3",
   "version": "3.8.10"
  }
 },
 "nbformat": 4,
 "nbformat_minor": 5
}