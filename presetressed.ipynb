{
 "cells": [
  {
   "cell_type": "markdown",
   "id": "1b3ad809",
   "metadata": {},
   "source": [
    "***required:***\n",
    "1. list of sections with cable profile\n",
    "2. BM due to permanent dead load\n",
    "3. BM due to superimposed dead load\n",
    "4. BM due to live load (max of all vehicle loads)"
   ]
  },
  {
   "cell_type": "code",
   "execution_count": 1,
   "id": "fcca2003",
   "metadata": {},
   "outputs": [
    {
     "name": "stdout",
     "output_type": "stream",
     "text": [
      "[[3.8, 4.2], [3.8, 4.35], [3.8, 4.5], [3.8, 4.65], [3.8, 4.8], [6.8, 4.2], [6.8, 4.35], [6.8, 4.5], [6.8, 4.65], [6.8, 4.8], [4.4, 3.75], [5.0, 3.75], [5.6, 3.75], [6.2, 3.75]]\n"
     ]
    }
   ],
   "source": [
    "from Cross import Cross_section, section"
   ]
  },
  {
   "cell_type": "code",
   "execution_count": 2,
   "id": "ad2d0895",
   "metadata": {},
   "outputs": [],
   "source": [
    "from bridge_specs import box\n",
    "span = box['span']"
   ]
  },
  {
   "cell_type": "code",
   "execution_count": 3,
   "id": "b5d91548",
   "metadata": {},
   "outputs": [],
   "source": [
    "end_cables_pos = [(0,1), (0,0), (1,0), (1,1)]\n",
    "mid_cables_pos = [(0,0.25), (0,0), (1,0), (1,0.25)]\n",
    "all_cable_pos = zip(end_cables_pos, mid_cables_pos)"
   ]
  },
  {
   "cell_type": "markdown",
   "id": "b652299a",
   "metadata": {},
   "source": [
    "### Cable profile"
   ]
  },
  {
   "cell_type": "code",
   "execution_count": 4,
   "id": "42a530f6",
   "metadata": {},
   "outputs": [],
   "source": [
    "def cable_profile(end_cable_pos, mid_cable_pos, span_length, division=8):\n",
    "    cable_profile = []\n",
    "    x = [(j)/division*span_length for j in range(division+1)]\n",
    "    for i in x:\n",
    "        cable_pos_x = []\n",
    "        for j in range(len(end_cable_pos)):\n",
    "            h = end_cable_pos[j][1]-mid_cable_pos[j][1]\n",
    "            a = end_cable_pos[j][1]\n",
    "            y = a + 4*h*i/span_length - 4*h*i**2/span_length**2\n",
    "            cable_pos_x.append((end_cable_pos[j][0], y))\n",
    "        cable_profile.append(cable_pos_x)\n",
    "    return cable_profile"
   ]
  },
  {
   "cell_type": "markdown",
   "id": "42b1a6f5",
   "metadata": {},
   "source": [
    "### Moment of inertia including cable"
   ]
  },
  {
   "cell_type": "code",
   "execution_count": 5,
   "id": "89581611",
   "metadata": {},
   "outputs": [],
   "source": [
    "# def MOI(cable_positions, cable_area, cable_moi, section_moi, centroid):\n",
    "#     cable_moi_sum = 0\n",
    "#     for i in cable_positions:\n",
    "#         cable_moi_sum = cable_area*(i[1]-centroid[1])**2\n",
    "#     moi = len(cable_positions)*cable_moi + section_moi + cable_moi_sum"
   ]
  },
  {
   "cell_type": "markdown",
   "id": "0f4a8186",
   "metadata": {},
   "source": [
    "### Eccentricity of cables"
   ]
  },
  {
   "cell_type": "code",
   "execution_count": 6,
   "id": "d3292083",
   "metadata": {},
   "outputs": [],
   "source": [
    "def eccentricity(cable_positions, centroid):\n",
    "    cable_area_sum = len(cable_positions)\n",
    "    cable_areaxpos_sum = 0\n",
    "    for i in cable_positions:\n",
    "        cable_areaxpos_sum+=(centroid[1]-i[1])\n",
    "    return cable_areaxpos_sum/cable_area_sum"
   ]
  },
  {
   "cell_type": "markdown",
   "id": "8e7272c8",
   "metadata": {},
   "source": [
    "### Stress"
   ]
  },
  {
   "cell_type": "code",
   "execution_count": 7,
   "id": "6103092e",
   "metadata": {},
   "outputs": [],
   "source": [
    "list_of_sections = [section for i in range(9)] #dummy\n",
    "\n",
    "prestressing_force_full = 2700 #dummy\n",
    "prestressing_force_withloss = 0.7*prestressing_force_full\n",
    "\n",
    "bm_dl = [1, 2, 3, 4, 5, 6, 7, 8, 9] #dl bata ayeko bm Dummy\n",
    "bm_sidl = [1, 2, 3, 4, 5, 6, 7, 8, 9] #sidl bata ayeko bm Dummy\n",
    "bm_ll = [1, 2, 3, 4, 5, 6, 7, 8, 9] #ll bata ayeko bm Dummy"
   ]
  },
  {
   "cell_type": "code",
   "execution_count": 8,
   "id": "2ee3867d",
   "metadata": {},
   "outputs": [],
   "source": [
    "def tau(section, bm):\n",
    "    tau_top = bm*section.ymax/section.I[0]\n",
    "    tau_bot = bm*section.ymin/section.I[0]\n",
    "    return (tau_top, tau_bot)"
   ]
  },
  {
   "cell_type": "markdown",
   "id": "93a9962e",
   "metadata": {},
   "source": [
    "**Case 1: Rare combination**"
   ]
  },
  {
   "cell_type": "markdown",
   "id": "7dae143e",
   "metadata": {},
   "source": [
    "presetressing stress"
   ]
  },
  {
   "cell_type": "code",
   "execution_count": 9,
   "id": "7d479094",
   "metadata": {
    "scrolled": true
   },
   "outputs": [],
   "source": [
    "# bm_pre = [prestressing_force_full*eccentricity(i.cable_positions, i.Centroid[1]) for i in list_of_sections]\n",
    "bm_pre = [1, 2, 3, 4, 5, 6, 7, 8, 9] #dummy\n",
    "\n",
    "list_tau_pre = [tau(list_of_sections[index], bm_pre[index]) for index in range(len(list_of_sections))]\n",
    "\n",
    "# for index, i in enumerate(list_of_sections):\n",
    "#     list_tau_pre.append(tau(i, bm_pre[index]))\n",
    "    \n",
    "list_tau_ax = [prestressing_force_full/sum(i.section_area) for i in list_of_sections]\n",
    "\n",
    "list_tau_preTotal = [(list_tau_pre[index][0] + list_tau_ax[index], list_tau_pre[index][1] + list_tau_ax[index]) for index in range(len(list_of_sections))]"
   ]
  },
  {
   "cell_type": "markdown",
   "id": "e5b3b7c5",
   "metadata": {},
   "source": [
    "stress due to ded load"
   ]
  },
  {
   "cell_type": "code",
   "execution_count": 10,
   "id": "0f84c282",
   "metadata": {},
   "outputs": [],
   "source": [
    "list_tau_DL = [tau(list_of_sections[index], bm_dl[index]) for index in range(len(list_of_sections))]"
   ]
  },
  {
   "cell_type": "markdown",
   "id": "52744475",
   "metadata": {},
   "source": [
    "resultant"
   ]
  },
  {
   "cell_type": "code",
   "execution_count": 11,
   "id": "53cff805",
   "metadata": {},
   "outputs": [],
   "source": [
    "list_tau_resultant = [(list_tau_preTotal[index][0] + list_tau_DL[index][0], list_tau_pre[index][1] + list_tau_DL[index][1]) for index in range(len(list_of_sections))]"
   ]
  },
  {
   "cell_type": "markdown",
   "id": "18d1b4c8",
   "metadata": {},
   "source": [
    "check (*left blank for now*)"
   ]
  },
  {
   "cell_type": "code",
   "execution_count": null,
   "id": "250d2a20",
   "metadata": {},
   "outputs": [],
   "source": []
  },
  {
   "cell_type": "markdown",
   "id": "8523ec08",
   "metadata": {},
   "source": [
    "**Case 2: Quasi Permanent Combination**"
   ]
  },
  {
   "cell_type": "markdown",
   "id": "110bfec4",
   "metadata": {},
   "source": [
    "presetressing stress"
   ]
  },
  {
   "cell_type": "code",
   "execution_count": 12,
   "id": "2a39056a",
   "metadata": {},
   "outputs": [],
   "source": [
    "# bm_pre = [prestressing_force_withloss*eccentricity(i.cable_positions, i.Centroid[1]) for i in list_of_sections]\n",
    "bm_pre = [1, 2, 3, 4, 5, 6, 7, 8, 9] #dummy\n",
    "\n",
    "list_tau_pre = [tau(list_of_sections[index], bm_pre[index]) for index in range(len(list_of_sections))]\n",
    "  \n",
    "list_tau_ax = [prestressing_force_withloss/sum(i.section_area) for i in list_of_sections]\n",
    "\n",
    "list_tau_preTotal = [(list_tau_pre[index][0] + list_tau_ax[index], list_tau_pre[index][1] + list_tau_ax[index]) for index in range(len(list_of_sections))]"
   ]
  },
  {
   "cell_type": "markdown",
   "id": "181523ea",
   "metadata": {},
   "source": [
    "stress due to super imposed ded load"
   ]
  },
  {
   "cell_type": "code",
   "execution_count": 13,
   "id": "be727bd2",
   "metadata": {},
   "outputs": [],
   "source": [
    "list_tau_SIDL = [tau(list_of_sections[index], bm_sidl[index]) for index in range(len(list_of_sections))]"
   ]
  },
  {
   "cell_type": "markdown",
   "id": "9fcee26b",
   "metadata": {},
   "source": [
    "stress due to live load"
   ]
  },
  {
   "cell_type": "code",
   "execution_count": 14,
   "id": "af224d6e",
   "metadata": {
    "scrolled": true
   },
   "outputs": [],
   "source": [
    "list_tau_LL = [tau(list_of_sections[index], bm_ll[index]) for index in range(len(list_of_sections))]"
   ]
  },
  {
   "cell_type": "markdown",
   "id": "a24cc586",
   "metadata": {},
   "source": [
    "resultant"
   ]
  },
  {
   "cell_type": "code",
   "execution_count": 15,
   "id": "f786761e",
   "metadata": {},
   "outputs": [],
   "source": [
    "list_tau_resultant = [(list_tau_preTotal[index][0] + list_tau_DL[index][0]+ list_tau_SIDL[index][0]+ list_tau_LL[index][0], list_tau_preTotal[index][1] + list_tau_DL[index][1]+ list_tau_SIDL[index][1]+ list_tau_LL[index][1]) for index in range(len(list_of_sections))]"
   ]
  },
  {
   "cell_type": "markdown",
   "id": "4beed597",
   "metadata": {},
   "source": [
    "check (*left blank for now*)"
   ]
  },
  {
   "cell_type": "code",
   "execution_count": null,
   "id": "0d590d0b",
   "metadata": {},
   "outputs": [],
   "source": []
  }
 ],
 "metadata": {
  "kernelspec": {
   "display_name": "Python 3 (ipykernel)",
   "language": "python",
   "name": "python3"
  },
  "language_info": {
   "codemirror_mode": {
    "name": "ipython",
    "version": 3
   },
   "file_extension": ".py",
   "mimetype": "text/x-python",
   "name": "python",
   "nbconvert_exporter": "python",
   "pygments_lexer": "ipython3",
   "version": "3.10.0"
  }
 },
 "nbformat": 4,
 "nbformat_minor": 5
}
