{
 "cells": [
  {
   "cell_type": "code",
   "execution_count": 6,
   "id": "b0a71a63",
   "metadata": {},
   "outputs": [],
   "source": [
    "class cross_section:\n",
    "    def __init__(self, distance, span_length):\n",
    "        self.distance = distance\n",
    "        self.span_length = span_length\n",
    "    class cables:\n",
    "        def __init__(self, number):\n",
    "            self.number = number\n",
    "            "
   ]
  },
  {
   "cell_type": "code",
   "execution_count": 5,
   "id": "b5d91548",
   "metadata": {},
   "outputs": [
    {
     "data": {
      "text/plain": [
       "4"
      ]
     },
     "execution_count": 5,
     "metadata": {},
     "output_type": "execute_result"
    }
   ],
   "source": [
    "cables_pos = [(0,1), (0,0), (1,0), (1,1)]"
   ]
  },
  {
   "cell_type": "markdown",
   "id": "42b1a6f5",
   "metadata": {},
   "source": [
    "Moment of inertia including cable"
   ]
  },
  {
   "cell_type": "code",
   "execution_count": 6,
   "id": "89581611",
   "metadata": {},
   "outputs": [],
   "source": [
    "def MOI(cable_positions, cable_area, cable_moi, section_moi, centroid):\n",
    "    cable_moi_sum = 0\n",
    "    for i in cable_positions:\n",
    "        cable_moi_sum = cable_area*(i[1]-centroid[1])**2\n",
    "    moi = len(cable_positions)*cable_moi + section_moi + cable_moi_sum"
   ]
  },
  {
   "cell_type": "markdown",
   "id": "b652299a",
   "metadata": {},
   "source": [
    "Cable profile"
   ]
  },
  {
   "cell_type": "code",
   "execution_count": 7,
   "id": "42a530f6",
   "metadata": {},
   "outputs": [
    {
     "data": {
      "text/plain": [
       "6"
      ]
     },
     "execution_count": 7,
     "metadata": {},
     "output_type": "execute_result"
    }
   ],
   "source": [
    "def cable_profile(profile_function, end_cable_pos, mid_cable_pos):\n",
    "    cable_profile = []"
   ]
  },
  {
   "cell_type": "markdown",
   "id": "0f4a8186",
   "metadata": {},
   "source": [
    "Eccentricity of cables"
   ]
  },
  {
   "cell_type": "code",
   "execution_count": 11,
   "id": "d3292083",
   "metadata": {},
   "outputs": [
    {
     "data": {
      "text/plain": [
       "0.5"
      ]
     },
     "execution_count": 11,
     "metadata": {},
     "output_type": "execute_result"
    }
   ],
   "source": [
    "def eccentricity(cable_positions, cable_area, centroid):\n",
    "    cable_area_sum = len(cable_positions)*cable_area\n",
    "    cable_areaxpos_sum = 0\n",
    "    for i in cable_positions:\n",
    "        cable_areaxpos_sum+=cable_area*(centroid[1]-i[1])\n",
    "    return cable_areaxpos_sum/cable_area_sum\n",
    "\n",
    "eccentricity(cables_pos, 1000, (0.50, 1))"
   ]
  },
  {
   "cell_type": "markdown",
   "id": "8e7272c8",
   "metadata": {},
   "source": [
    "Stress"
   ]
  },
  {
   "cell_type": "code",
   "execution_count": null,
   "id": "dc96351e",
   "metadata": {},
   "outputs": [],
   "source": []
  }
 ],
 "metadata": {
  "kernelspec": {
   "display_name": "Python 3 (ipykernel)",
   "language": "python",
   "name": "python3"
  },
  "language_info": {
   "codemirror_mode": {
    "name": "ipython",
    "version": 3
   },
   "file_extension": ".py",
   "mimetype": "text/x-python",
   "name": "python",
   "nbconvert_exporter": "python",
   "pygments_lexer": "ipython3",
   "version": "3.10.0"
  }
 },
 "nbformat": 4,
 "nbformat_minor": 5
}
