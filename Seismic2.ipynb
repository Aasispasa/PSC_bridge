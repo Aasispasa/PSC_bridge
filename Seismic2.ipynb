{
 "cells": [
  {
   "cell_type": "code",
   "execution_count": 6,
   "metadata": {
    "collapsed": true,
    "pycharm": {
     "is_executing": false
    }
   },
   "outputs": [],
   "source": [
    "import pandas as pd\n",
    "from irc6_2007 import mult_factor as mu,RR_factor as RR,vib_period as T,sag\n",
    "from calcs import stiffness as K\n",
    "import numpy as np\n",
    "from bridge_specs import box,pier"
   ]
  },
  {
   "cell_type": "code",
   "execution_count": 7,
   "outputs": [
    {
     "data": {
      "text/plain": "        Unnamed: 0        RL        RR      Sum\n0        Dead Load  4584.375  4584.375  9168.75\n1       Other Load   325.000   325.000   650.00\n2     Surface Load   264.000   264.000   528.00\n3  Pedestrian load   150.000   150.000   300.00",
      "text/html": "<div>\n<style scoped>\n    .dataframe tbody tr th:only-of-type {\n        vertical-align: middle;\n    }\n\n    .dataframe tbody tr th {\n        vertical-align: top;\n    }\n\n    .dataframe thead th {\n        text-align: right;\n    }\n</style>\n<table border=\"1\" class=\"dataframe\">\n  <thead>\n    <tr style=\"text-align: right;\">\n      <th></th>\n      <th>Unnamed: 0</th>\n      <th>RL</th>\n      <th>RR</th>\n      <th>Sum</th>\n    </tr>\n  </thead>\n  <tbody>\n    <tr>\n      <th>0</th>\n      <td>Dead Load</td>\n      <td>4584.375</td>\n      <td>4584.375</td>\n      <td>9168.75</td>\n    </tr>\n    <tr>\n      <th>1</th>\n      <td>Other Load</td>\n      <td>325.000</td>\n      <td>325.000</td>\n      <td>650.00</td>\n    </tr>\n    <tr>\n      <th>2</th>\n      <td>Surface Load</td>\n      <td>264.000</td>\n      <td>264.000</td>\n      <td>528.00</td>\n    </tr>\n    <tr>\n      <th>3</th>\n      <td>Pedestrian load</td>\n      <td>150.000</td>\n      <td>150.000</td>\n      <td>300.00</td>\n    </tr>\n  </tbody>\n</table>\n</div>"
     },
     "metadata": {},
     "output_type": "execute_result",
     "execution_count": 7
    }
   ],
   "source": [
    "live=pd.read_excel('outputs/Live_Loads_Seismic.xlsx')\n",
    "dead=pd.read_csv('outputs/DL_for_Seismic.csv')\n",
    "impF=1.2"
   ],
   "metadata": {
    "collapsed": false,
    "pycharm": {
     "name": "#%%\n",
     "is_executing": false
    }
   }
  },
  {
   "cell_type": "code",
   "execution_count": 11,
   "outputs": [
    {
     "data": {
      "text/plain": "10633.07"
     },
     "metadata": {},
     "output_type": "execute_result",
     "execution_count": 11
    }
   ],
   "source": [
    "ll=live[\"sum\"].max()\n",
    "dl=0\n",
    "for i in range(3):dl+= dead.loc[i,\"Sum\"]\n",
    "pedl=dead.loc[3,\"Sum\"]\n",
    "sumlong=ll*mu(\"ll\",\"long\")+dl*mu(\"dl\",\"long\")+pedl*mu(\"pedl\",\"long\")\n",
    "sumtrans=ll*mu(\"ll\",\"trans\")+dl*mu(\"dl\",\"trans\")+pedl*mu(\"pedl\",\"trans\")\n",
    "sumtrans"
   ],
   "metadata": {
    "collapsed": false,
    "pycharm": {
     "name": "#%%\n",
     "is_executing": false
    }
   }
  },
  {
   "cell_type": "code",
   "execution_count": 9,
   "outputs": [
    {
     "name": "stdout",
     "text": [
      "1.0\n"
     ],
     "output_type": "stream"
    }
   ],
   "source": [
    "\"\"\"Substitute values of I and L from pier cap in 1 and pier stem in 2\"\"\"\n",
    "#along=sag(T(sumlong,(K(40,I1,L1)+K(40,I2,L2))))*0.36*RR(\"long\")*1.2\n",
    "#atrans=sag(T(sumtrans,(K(40,I1,L1)+K(40,I2,L2))))*0.36*RR(\"trans\")*1.2\n",
    "#avert=along*2/3"
   ],
   "metadata": {
    "collapsed": false,
    "pycharm": {
     "name": "#%%\n",
     "is_executing": false
    }
   }
  },
  {
   "cell_type": "code",
   "execution_count": null,
   "outputs": [],
   "source": [
    "FShlong=along*sumlong\n",
    "FShtrans=atrans*sumtrans\n",
    "FSv=avert*sumtrans\n",
    "\n"
   ],
   "metadata": {
    "collapsed": false,
    "pycharm": {
     "name": "#%%\n"
    }
   }
  }
 ],
 "metadata": {
  "kernelspec": {
   "display_name": "Python 3",
   "language": "python",
   "name": "python3"
  },
  "language_info": {
   "codemirror_mode": {
    "name": "ipython",
    "version": 2
   },
   "file_extension": ".py",
   "mimetype": "text/x-python",
   "name": "python",
   "nbconvert_exporter": "python",
   "pygments_lexer": "ipython2",
   "version": "2.7.6"
  },
  "pycharm": {
   "stem_cell": {
    "cell_type": "raw",
    "source": [],
    "metadata": {
     "collapsed": false
    }
   }
  }
 },
 "nbformat": 4,
 "nbformat_minor": 0
}