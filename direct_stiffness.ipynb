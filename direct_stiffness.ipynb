{
 "cells": [
  {
   "cell_type": "code",
   "execution_count": 1,
   "id": "bca7f1ae",
   "metadata": {},
   "outputs": [],
   "source": [
    "import numpy as np\n",
    "import math"
   ]
  },
  {
   "cell_type": "code",
   "execution_count": 13,
   "id": "d09b14ee",
   "metadata": {},
   "outputs": [],
   "source": [
    "def k(a,e,i,l):\n",
    "    \"\"\"\n",
    "    Member stiffness matrix\n",
    "    Args:\n",
    "        a: Area\n",
    "        e: Modulus of elasticity kN/m**2\n",
    "        i: Moment of Inertia about Z axis m**4\n",
    "        l: length of member m\n",
    "\n",
    "    Returns:\n",
    "        numpy array of member stiffness matrix\n",
    "\n",
    "    \"\"\"\n",
    "    a = a*e/l\n",
    "    b = 6*e*i/l**2\n",
    "    c = 12*e*i/l**3\n",
    "    d = 4*e*i/l\n",
    "    k = np.array([\n",
    "        [a, 0, 0, -a, 0, 0],\n",
    "        [0, c, b, 0, -c, b],\n",
    "        [0, b, d, 0, -b, d/2],\n",
    "        [-a, 0, 0, a, 0, 0],\n",
    "        [0, -c, -b, 0, c, -b],\n",
    "        [0, b, d/2, 0, -b, d]\n",
    "    ])\n",
    "    return k\n",
    "\n",
    "\n",
    "def T(angle):\n",
    "    \"\"\"\n",
    "    Displacement Transformation matrix\n",
    "    Args:\n",
    "        angle: angle made by bar element with positive x-axis in anti-clockwise direction\n",
    "    \n",
    "    Returns:\n",
    "        numpy array of displacement Transformation matrix\n",
    "    \"\"\"\n",
    "    angle_rad = math.radians(angle)\n",
    "    l = math.cos(angle_rad)\n",
    "    m = math.sin(angle_rad)\n",
    "    t = np.array([\n",
    "        [l, m, 0, 0, 0, 0],\n",
    "        [-m, l, 0, 0, 0, 0],\n",
    "        [0, 0, 1, 0, 0, 0],\n",
    "        [0, 0, 0, l, m, 0],\n",
    "        [0, 0, 0, -m, l, 0],\n",
    "        [0, 0, 0, 0, 0, 1]\n",
    "    ])\n",
    "    return t\n"
   ]
  },
  {
   "cell_type": "code",
   "execution_count": 14,
   "id": "a024082c",
   "metadata": {},
   "outputs": [],
   "source": [
    "k1 = k(0.01, 200*10**6, 1.33/10**4, 4)\n",
    "T1 = T(90)"
   ]
  },
  {
   "cell_type": "code",
   "execution_count": 15,
   "id": "b7ac486c",
   "metadata": {
    "scrolled": true
   },
   "outputs": [
    {
     "name": "stdout",
     "output_type": "stream",
     "text": [
      "[[ 4.98750000e+03  3.03107737e-11 -9.97500000e+03 -4.98750000e+03\n",
      "  -3.03107737e-11 -9.97500000e+03]\n",
      " [ 3.03107737e-11  5.00000000e+05  6.10792591e-13 -3.03107737e-11\n",
      "  -5.00000000e+05  6.10792591e-13]\n",
      " [-9.97500000e+03  6.10792591e-13  2.66000000e+04  9.97500000e+03\n",
      "  -6.10792591e-13  1.33000000e+04]\n",
      " [-4.98750000e+03 -3.03107737e-11  9.97500000e+03  4.98750000e+03\n",
      "   3.03107737e-11  9.97500000e+03]\n",
      " [-3.03107737e-11 -5.00000000e+05 -6.10792591e-13  3.03107737e-11\n",
      "   5.00000000e+05 -6.10792591e-13]\n",
      " [-9.97500000e+03  6.10792591e-13  1.33000000e+04  9.97500000e+03\n",
      "  -6.10792591e-13  2.66000000e+04]]\n"
     ]
    }
   ],
   "source": [
    "print(np.transpose(T1).dot(k1.dot(T1)))"
   ]
  },
  {
   "cell_type": "code",
   "execution_count": 16,
   "id": "1ee1d4fb",
   "metadata": {},
   "outputs": [],
   "source": [
    "k2 = k(1, 1, 1, l = 2)"
   ]
  },
  {
   "cell_type": "code",
   "execution_count": 17,
   "id": "2516c8b2",
   "metadata": {},
   "outputs": [
    {
     "data": {
      "text/plain": [
       "array([[ 0.5,  0. ,  0. , -0.5,  0. ,  0. ],\n",
       "       [ 0. ,  1.5,  1.5,  0. , -1.5,  1.5],\n",
       "       [ 0. ,  1.5,  2. ,  0. , -1.5,  1. ],\n",
       "       [-0.5,  0. ,  0. ,  0.5,  0. ,  0. ],\n",
       "       [ 0. , -1.5, -1.5,  0. ,  1.5, -1.5],\n",
       "       [ 0. ,  1.5,  1. ,  0. , -1.5,  2. ]])"
      ]
     },
     "execution_count": 17,
     "metadata": {},
     "output_type": "execute_result"
    }
   ],
   "source": [
    "k2"
   ]
  },
  {
   "cell_type": "code",
   "execution_count": null,
   "id": "c2050fc3",
   "metadata": {},
   "outputs": [],
   "source": []
  }
 ],
 "metadata": {
  "kernelspec": {
   "display_name": "Python 3 (ipykernel)",
   "language": "python",
   "name": "python3"
  },
  "language_info": {
   "codemirror_mode": {
    "name": "ipython",
    "version": 3
   },
   "file_extension": ".py",
   "mimetype": "text/x-python",
   "name": "python",
   "nbconvert_exporter": "python",
   "pygments_lexer": "ipython3",
   "version": "3.10.0"
  }
 },
 "nbformat": 4,
 "nbformat_minor": 5
}
