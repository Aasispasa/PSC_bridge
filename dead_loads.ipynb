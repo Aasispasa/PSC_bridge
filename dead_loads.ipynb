{
 "cells": [
  {
   "cell_type": "code",
   "execution_count": 1,
   "metadata": {},
   "outputs": [],
   "source": [
    "import pandas as pd\n",
    "import csv\n",
    "from reaction import bm_udl\n",
    "from irc6_2007 import ped_ll\n",
    "import math\n",
    "from Cross import Cross_section,cables,Dead_Load,expansion_calc,excel_loads\n",
    "from allinput import main_input"
   ]
  },
  {
   "cell_type": "code",
   "execution_count": 2,
   "metadata": {},
   "outputs": [],
   "source": [
    "\n",
    "\"\"\"INPUTS SECTION\"\"\"\n",
    "\n",
    "\"\"\"FOR CROSS SECTION\"\"\"\n",
    "length=[]\n",
    "height=[]\n",
    "\n",
    "\n",
    "#####################################################################################################################\n",
    "\n",
    "\"\"\"GUI INPUT OF BRIDGE SECTION LENGTHS AND HEIGHTS\"\"\"\n",
    "\n",
    "if False:\n",
    "    main_input()\n",
    "\n",
    "df=pd.read_excel('data/box.xlsx',index_col=None,header=None)\n",
    "\n",
    "\n",
    "height=df.values.tolist()[0]\n",
    "length=df.values.tolist()[1]\n",
    "\n",
    "df=pd.read_excel('data/span.xlsx',index_col=None,header=None)\n",
    "span = int(df.iloc[2])\n",
    "no = int(df.iloc[1])\n",
    "\n",
    "\"\"\"\"distance form left of 9 divisions of section\"\"\"\n",
    "sc=[(j)/(no-1)*50 for j in range(no)]\n",
    "\n",
    "###############################################################################################\n",
    "\"\"\"FOR DEAD LOAD MOMENTS INPUTS\"\"\"\n",
    "\n",
    "\n",
    "\n",
    "\n",
    "cw=6\n",
    "l_kerblen=0.6\n",
    "r_kerblen=0.6\n",
    "\n",
    "\n",
    "\n",
    "\n",
    "\n",
    "loads=[\"PDL\",\"ODL\",\"SIDL\",\"PEDL\"]\n"
   ]
  },
  {
   "cell_type": "code",
   "execution_count": 4,
   "metadata": {},
   "outputs": [
    {
     "name": "stdout",
     "output_type": "stream",
     "text": [
      "195.82500000000005\n"
     ]
    }
   ],
   "source": [
    "\"\"\"Creation of required cross section with length and height inputs\"\"\"\n",
    "section=Cross_section(length,height)\n",
    "\n",
    "\n",
    "\"\"\"Creation of cable properties \"\"\"\n",
    "# cable=cables(35,14,section)\n",
    "\n",
    "\n",
    "\"\"\"Assigning section with cable \"\"\"\n",
    "section1=Cross_section(length,height)\n",
    "section1.cableprop=cables(35,14,section).cablepos(0,50)\n",
    "\n",
    "# print(section1.cableprop)\n",
    "\n",
    "\n",
    "I=[]\n",
    "ymax=[]\n",
    "ymin=[]\n",
    "area_sum=[]\n",
    "cable_positions=[]\n",
    "\n",
    "\"\"\"Cross Section values for given no of divisions \"\"\"\n",
    "for i in range(len(sc)):\n",
    "    cable=cables(35,14,section)\n",
    "    section.expansion_width=expansion_calc(span,sc[i],cable)    \n",
    "    I.append(section.I)    \n",
    "    ymax.append(section.ymax)\n",
    "    ymin.append(section.ymin)\n",
    "    area_sum.append(sum(section.section_area))\n",
    "    cable_positions.append(cable.cablepos(sc[i],span))\n",
    "\n",
    "\n",
    "\n",
    "\n",
    "PDL=[]\n",
    "ODL=[]\n",
    "PEDL=[]\n",
    "SIDL=[]\n",
    "\n",
    "\"\"\"Calculation of loads \"\"\"\n",
    "for i in range(len(sc)):\n",
    "    PDL.append(Dead_Load('PDL',area_sum[i],sc[i],span,l_kerblen+r_kerblen,0.3,0.065,6,2,I[i],ymax[i],ymin[i]))\n",
    "    ODL.append(Dead_Load('ODL',area_sum[i],sc[i],span,l_kerblen+r_kerblen,0.3,0.065,6,2,I[i],ymax[i],ymin[i]))\n",
    "    PEDL.append(Dead_Load('PEDL',area_sum[i],sc[i],span,l_kerblen+r_kerblen,0.3,0.065,6,2,I[i],ymax[i],ymin[i]))\n",
    "    SIDL.append(Dead_Load('SIDL',area_sum[i],sc[i],span,l_kerblen+r_kerblen,0.3,0.065,6,2,I[i],ymax[i],ymin[i]))\n",
    "\n",
    "# excel_export(section)\n",
    "excel_loads(PDL,ODL,PEDL,SIDL,sc)\n",
    "\n",
    "\n",
    "    "
   ]
  }
 ],
 "metadata": {
  "interpreter": {
   "hash": "57e1b559dacf43725e1ed3764b0ee83225f8bdeeef0b183e08a2c01330bea852"
  },
  "kernelspec": {
   "display_name": "Python 3 (ipykernel)",
   "language": "python",
   "name": "python3"
  },
  "language_info": {
   "codemirror_mode": {
    "name": "ipython",
    "version": 3
   },
   "file_extension": ".py",
   "mimetype": "text/x-python",
   "name": "python",
   "nbconvert_exporter": "python",
   "pygments_lexer": "ipython3",
   "version": "3.8.6"
  }
 },
 "nbformat": 4,
 "nbformat_minor": 2
}
