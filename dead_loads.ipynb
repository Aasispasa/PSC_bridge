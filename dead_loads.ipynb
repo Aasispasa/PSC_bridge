{
 "cells": [
  {
   "cell_type": "code",
   "execution_count": 1,
   "metadata": {},
   "outputs": [],
   "source": [
    "import pandas as pd\n",
    "import csv\n",
    "from reaction import bm_udl\n",
    "from irc6_2007 import ped_ll\n",
    "import math\n",
    "from Cross import Cross_section,cables,Dead_Load,expansion_calc,excel_loads"
   ]
  },
  {
   "cell_type": "code",
   "execution_count": 2,
   "metadata": {},
   "outputs": [],
   "source": [
    "\n",
    "\"\"\"INPUTS SECTION\"\"\"\n",
    "\n",
    "\"\"\"FOR CROSS SECTION\"\"\"\n",
    "length=[]\n",
    "height=[]\n",
    "\n",
    "\n",
    "#####################################################################################################################\n",
    "\n",
    "\"\"\"GUI INPUT OF BRIDGE SECTION LENGTHS AND HEIGHTS\"\"\"\n",
    "\n",
    "if False:\n",
    "    allinput()\n",
    "\n",
    "df=pd.read_excel('Saved Inputs/box.xlsx',index_col=None,header=None)\n",
    "\n",
    "\n",
    "height=df.values.tolist()[0]\n",
    "length=df.values.tolist()[1]\n",
    "\n",
    "\n",
    "\n",
    "###############################################################################################\n",
    "\"\"\"FOR DEAD LOAD MOMENTS INPUTS\"\"\"\n",
    "\n",
    "\n",
    "df_bridge=pd.read_excel('outputs/section.xlsx').set_index('Name')\n",
    "\n",
    "span=50\n",
    "cw=6\n",
    "l_kerblen=0.6\n",
    "r_kerblen=0.6\n",
    "area_sum=round(sum(pd.to_numeric(df_bridge.loc[:,'Area'])),5)\n",
    "\n",
    "\"\"\"\"distance form left of 9 divisions of section\"\"\"\n",
    "sc=[(j)/8*50 for j in range(9)] \n",
    "\n",
    "loads=[\"PDL\",\"ODL\",\"SIDL\",\"PEDL\"]\n"
   ]
  },
  {
   "cell_type": "code",
   "execution_count": 4,
   "metadata": {},
   "outputs": [
    {
     "name": "stdout",
     "output_type": "stream",
     "text": [
      "[[0.3, 1.6], [0.3, 2.05], [0.3, 2.5], [0.3, 2.95], [3.3, 1.6], [3.3, 2.05], [3.3, 2.5], [3.3, 2.95], [0.3, 0.25], [0.9, 0.25], [1.5, 0.25], [2.1, 0.25], [0.3, 0.7], [2.7, 0.7]]\n"
     ]
    }
   ],
   "source": [
    "\"\"\"Creation of required cross section with length and height inputs\"\"\"\n",
    "section=Cross_section(length,height)\n",
    "\n",
    "\n",
    "\"\"\"Creation of cable properties \"\"\"\n",
    "cable=cables(35,14,section)\n",
    "\n",
    "\n",
    "\"\"\"Assigning section with cable \"\"\"\n",
    "section1=Cross_section(length,height)\n",
    "section1.cableprop=cables(35,14,section).cablepos(0,50)\n",
    "\n",
    "print(section1.cableprop)\n",
    "\n",
    "I=[]\n",
    "ymax=[]\n",
    "ymin=[]\n",
    "area_sum=[]\n",
    "\n",
    "\n",
    "\"\"\"Cross Section values for given no of divisions \"\"\"\n",
    "for i in range(len(sc)):\n",
    "    \n",
    "    section.expansion_width+=expansion_calc(span,sc,cable)\n",
    "    I.append(section.I)    \n",
    "    ymax.append(section.ymax)\n",
    "    ymin.append(section.ymin)\n",
    "    area_sum.append(sum(section.section_area))\n",
    "\n",
    "\n",
    "\n",
    "\n",
    "\n",
    "\n",
    "\"\"\"Calculation of loads \"\"\"\n",
    "\n",
    "PDL=Dead_Load('PDL',area_sum,sc,span,l_kerblen+r_kerblen,0.3,0.065,6,2,I,ymax,ymin)\n",
    "ODL=Dead_Load('ODL',area_sum,sc,span,l_kerblen+r_kerblen,0.3,0.065,6,2,I,ymax,ymin)\n",
    "PEDL=Dead_Load('PEDL',area_sum,sc,span,l_kerblen+r_kerblen,0.3,0.065,6,2,I,ymax,ymin)\n",
    "SIDL=Dead_Load('SIDL',area_sum,sc,span,l_kerblen+r_kerblen,0.3,0.065,6,2,I,ymax,ymin)\n",
    "\n",
    "# excel_export(section)\n",
    "# excel_loads(PDL,ODL,PEDL,SIDL,sc)\n",
    "# print(section.Centroid)\n",
    "# section.expansion_width=0.5\n",
    "# print(section.cable_pos(35,14,50,12))\n",
    "\n",
    "# print(len(section.length))\n",
    "# print(cable.cable_arrangement)\n",
    "\n",
    "# print(PDL.stress)\n",
    "# print(section.I)"
   ]
  }
 ],
 "metadata": {
  "interpreter": {
   "hash": "57e1b559dacf43725e1ed3764b0ee83225f8bdeeef0b183e08a2c01330bea852"
  },
  "kernelspec": {
   "display_name": "Python 3.8.6 64-bit",
   "language": "python",
   "name": "python3"
  },
  "language_info": {
   "codemirror_mode": {
    "name": "ipython",
    "version": 3
   },
   "file_extension": ".py",
   "mimetype": "text/x-python",
   "name": "python",
   "nbconvert_exporter": "python",
   "pygments_lexer": "ipython3",
   "version": "3.8.6"
  },
  "orig_nbformat": 4
 },
 "nbformat": 4,
 "nbformat_minor": 2
}
