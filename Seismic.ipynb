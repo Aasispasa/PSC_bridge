{
 "cells": [
  {
   "cell_type": "code",
   "execution_count": 100,
   "metadata": {
    "pycharm": {
     "is_executing": false
    }
   },
   "outputs": [],
   "source": [
    "\n",
    "import pandas as pd"
   ]
  },
  {
   "cell_type": "markdown",
   "source": [
    "Unfactored Reactions import\n",
    "\n"
   ],
   "metadata": {
    "collapsed": false,
    "pycharm": {
     "name": "#%% md\n"
    }
   }
  },
  {
   "cell_type": "code",
   "execution_count": 101,
   "metadata": {
    "pycharm": {
     "is_executing": false,
     "name": "#%%\n"
    }
   },
   "outputs": [],
   "source": [
    "df1=pd.read_csv('outputs/Live_Loads_Seismic.csv')\n",
    "df2=pd.read_csv('outputs/DL_for_Seismic.csv')\n",
    "\n",
    "\n",
    "\n",
    "\n"
   ]
  },
  {
   "cell_type": "markdown",
   "source": [
    " -----------\n",
    "\n"
   ],
   "metadata": {
    "collapsed": false,
    "pycharm": {
     "name": "#%% md\n"
    }
   }
  },
  {
   "cell_type": "code",
   "execution_count": 102,
   "outputs": [
    {
     "name": "stdout",
     "text": [
      "  Unnamed: 0          RL          RR         sum\n",
      "0    class A  199.104000  292.440667  491.544667\n",
      "1       70RW  480.420000  436.460000  916.880000\n",
      "2       70RT  341.826667  348.476667  690.303333\n",
      "        Unnamed: 0      Left     Right      Sum\n",
      "0        Dead Load  4584.375  4584.375  9168.75\n",
      "1       Other Load   325.000   325.000   650.00\n",
      "2     Surface Load   396.000   396.000   792.00\n",
      "3  Pedestrian load   150.000   150.000   300.00\n"
     ],
     "output_type": "stream"
    }
   ],
   "source": [
    "print (df1)\n",
    "print(df2)"
   ],
   "metadata": {
    "collapsed": false,
    "pycharm": {
     "name": "#%%\n",
     "is_executing": false
    }
   }
  },
  {
   "cell_type": "code",
   "execution_count": 120,
   "outputs": [
    {
     "name": "stdout",
     "text": [
      "0    9168.75\n",
      "1     650.00\n",
      "2     792.00\n",
      "3     300.00\n",
      "Name: Sum, dtype: float64\n"
     ],
     "output_type": "stream"
    }
   ],
   "source": [
    "print(df2.iloc[:,3])"
   ],
   "metadata": {
    "collapsed": false,
    "pycharm": {
     "name": "#%%\n",
     "is_executing": false
    }
   }
  },
  {
   "cell_type": "markdown",
   "source": [
    "Calculation of Max Reactions\n"
   ],
   "metadata": {
    "collapsed": false,
    "pycharm": {
     "name": "#%% md\n"
    }
   }
  },
  {
   "cell_type": "code",
   "execution_count": 118,
   "outputs": [
    {
     "name": "stdout",
     "text": [
      "10910.749999999998 916.88 300.0\n",
      "10910.749999999998 11154.125999999998\n"
     ],
     "output_type": "stream"
    }
   ],
   "source": [
    "i=sum(df2.iloc[:,3])\n",
    "j=max(df1.iloc[:,3])\n",
    "k=df2.iloc[3,3]\n",
    "lon=[1,0,0]\n",
    "tra=[1,0.2,0.2]\n",
    "lon_max=i*lon[0]+j*lon[1]+k*lon[2]\n",
    "tra_max=i*tra[0]+j*tra[1]+k*tra[2]\n",
    "print(i,j,k)\n",
    "print(lon_max,tra_max)"
   ],
   "metadata": {
    "collapsed": false,
    "pycharm": {
     "name": "#%%\n",
     "is_executing": false
    }
   }
  },
  {
   "cell_type": "markdown",
   "source": [
    "Pier Specifications \n"
   ],
   "metadata": {
    "collapsed": false,
    "pycharm": {
     "name": "#%% md\n",
     "is_executing": false
    }
   }
  },
  {
   "cell_type": "code",
   "source": [
    "\n"
   ],
   "metadata": {
    "collapsed": false,
    "pycharm": {
     "name": "#%% \n",
     "is_executing": false
    }
   },
   "execution_count": 110,
   "outputs": []
  },
  {
   "cell_type": "code",
   "execution_count": 111,
   "outputs": [
    {
     "data": {
      "text/plain": "[0.0, 6.25, 12.5, 18.75, 25.0, 31.25, 37.5, 43.75, 50.0]"
     },
     "metadata": {},
     "output_type": "execute_result",
     "execution_count": 111
    }
   ],
   "source": [
    "\n",
    "sc"
   ],
   "metadata": {
    "collapsed": false,
    "pycharm": {
     "name": "#%%\n",
     "is_executing": false
    }
   }
  }
 ],
 "metadata": {
  "kernelspec": {
   "display_name": "Python 3",
   "language": "python",
   "name": "python3"
  },
  "language_info": {
   "codemirror_mode": {
    "name": "ipython",
    "version": 3
   },
   "file_extension": ".py",
   "mimetype": "text/x-python",
   "name": "python",
   "nbconvert_exporter": "python",
   "pygments_lexer": "ipython3",
   "version": "3.8.5"
  },
  "pycharm": {
   "stem_cell": {
    "cell_type": "raw",
    "source": [],
    "metadata": {
     "collapsed": false
    }
   }
  }
 },
 "nbformat": 4,
 "nbformat_minor": 1
}