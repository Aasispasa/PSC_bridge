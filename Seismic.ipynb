{
 "cells": [
  {
   "cell_type": "code",
   "execution_count": 20,
   "metadata": {
    "pycharm": {
     "is_executing": false
    }
   },
   "outputs": [],
   "source": [
    "\n",
    "import pandas as pd\n",
    "import numpy as np\n",
    "from bridge_specs import box,pier"
   ]
  },
  {
   "cell_type": "markdown",
   "source": [
    "Unfactored Reactions import\n",
    "\n"
   ],
   "metadata": {
    "collapsed": false,
    "pycharm": {
     "name": "#%% md\n"
    }
   }
  },
  {
   "cell_type": "code",
   "execution_count": 21,
   "metadata": {
    "pycharm": {
     "is_executing": false,
     "name": "#%%\n"
    }
   },
   "outputs": [],
   "source": [
    "\"\"\"Data of Live Loads\"\"\"\n",
    "df1=pd.read_csv('outputs/Live_Loads_Seismic.csv')\n",
    "\n",
    "\n",
    "\"\"\"Data of Dead Loads\"\"\"\n",
    "df2=pd.read_csv('outputs/DL_for_Seismic.csv')\n",
    "\n",
    "\"\"\"Data of eccentricity\"\"\"\n",
    "df3=pd.read_excel('outputs/max_e.xlsx')\n",
    "\n",
    "\n"
   ]
  },
  {
   "cell_type": "markdown",
   "source": [
    " -----------\n",
    "\n"
   ],
   "metadata": {
    "collapsed": false,
    "pycharm": {
     "name": "#%% md\n"
    }
   }
  },
  {
   "cell_type": "code",
   "execution_count": 23,
   "outputs": [],
   "source": [
    "\n",
    "ecc=np.abs(np.around(np.array(df3.iloc[:,4].values.tolist()),3))\n",
    "df1=df1.assign(L_Larm=pier.l_larm,R_Larm=pier.r_larm,T_Larm=ecc)\n",
    "df2=df2.assign(L_Larm=pier.l_larm,R_Larm=pier.r_larm,T_Larm=pier.t_larm)\n",
    "df2.iloc[3,6]=0\n",
    "df_loads=pd.concat([df1,df2])\n",
    "df_loads['MomL']=df_loads['RL']*df_loads['L_Larm']+df_loads['RR']*df_loads['R_Larm']\n",
    "df_loads['MomT']=(df_loads['RL']+df_loads['RR'])*df_loads['T_Larm']"
   ],
   "metadata": {
    "collapsed": false,
    "pycharm": {
     "name": "#%%\n",
     "is_executing": false
    }
   }
  },
  {
   "cell_type": "code",
   "execution_count": 29,
   "outputs": [
    {
     "name": "stdout",
     "text": [
      "Maximum Longitudinal Moment: 60529.6491\n",
      "Maximum Transverse Moment: 16419.3867\n"
     ],
     "output_type": "stream"
    }
   ],
   "source": [
    "print(f\"Maximum Longitudinal Moment: {sum(df_loads['MomL'])}\\nMaximum Transverse Moment: {sum(df_loads['MomT'])}\")\n",
    "# print(df3)"
   ],
   "metadata": {
    "collapsed": false,
    "pycharm": {
     "name": "#%%\n",
     "is_executing": false
    }
   }
  },
  {
   "cell_type": "code",
   "execution_count": null,
   "outputs": [],
   "source": [
    "# print()"
   ],
   "metadata": {
    "collapsed": false,
    "pycharm": {
     "name": "#%%\n",
     "is_executing": false
    }
   }
  },
  {
   "cell_type": "code",
   "execution_count": null,
   "outputs": [],
   "source": [
    "\n",
    "print (ecc)"
   ],
   "metadata": {
    "collapsed": false,
    "pycharm": {
     "name": "#%%\n",
     "is_executing": false
    }
   }
  },
  {
   "cell_type": "markdown",
   "source": [
    "Calculation of Max Reactions\n"
   ],
   "metadata": {
    "collapsed": false,
    "pycharm": {
     "name": "#%% md\n"
    }
   }
  },
  {
   "cell_type": "code",
   "execution_count": null,
   "outputs": [],
   "source": [
    "i=round(sum(df2.iloc[:,3]),5)\n",
    "j=max(df1.iloc[:,3])\n",
    "k=df2.iloc[3,3]\n",
    "lon=[1,0,0]\n",
    "tra=[1,0.2,0.2]\n",
    "lon_max=i*lon[0]+j*lon[1]+k*lon[2]\n",
    "tra_max=i*tra[0]+j*tra[1]+k*tra[2]\n",
    "print(i,j,k)\n",
    "print(f\"Maximum longitudinal force: {lon_max}\\nMaximum Transverse Force: {tra_max}\")"
   ],
   "metadata": {
    "collapsed": false,
    "pycharm": {
     "name": "#%%\n",
     "is_executing": false
    }
   }
  },
  {
   "cell_type": "markdown",
   "source": [
    "Pier Specifications \n"
   ],
   "metadata": {
    "collapsed": false,
    "pycharm": {
     "name": "#%% md\n",
     "is_executing": false
    }
   }
  },
  {
   "cell_type": "code",
   "source": [],
   "metadata": {
    "collapsed": false,
    "pycharm": {
     "name": "#%% \n",
     "is_executing": false
    }
   },
   "execution_count": null,
   "outputs": []
  },
  {
   "cell_type": "code",
   "execution_count": null,
   "outputs": [],
   "source": [
    "\n",
    "sc"
   ],
   "metadata": {
    "collapsed": false,
    "pycharm": {
     "name": "#%%\n",
     "is_executing": false
    }
   }
  }
 ],
 "metadata": {
  "kernelspec": {
   "display_name": "Python 3",
   "language": "python",
   "name": "python3"
  },
  "language_info": {
   "codemirror_mode": {
    "name": "ipython",
    "version": 3
   },
   "file_extension": ".py",
   "mimetype": "text/x-python",
   "name": "python",
   "nbconvert_exporter": "python",
   "pygments_lexer": "ipython3",
   "version": "3.8.5"
  },
  "pycharm": {
   "stem_cell": {
    "cell_type": "raw",
    "source": [],
    "metadata": {
     "collapsed": false
    }
   }
  }
 },
 "nbformat": 4,
 "nbformat_minor": 1
}