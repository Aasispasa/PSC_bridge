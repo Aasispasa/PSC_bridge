{
 "cells": [
  {
   "cell_type": "code",
   "execution_count": 1,
   "id": "ba6ea02b",
   "metadata": {},
   "outputs": [],
   "source": [
    "import pandas as pd\n",
    "import numpy as np\n",
    "import math\n",
    "\n",
    "import irc6_2007 as irc6\n",
    "\n",
    "from Cross import Cross_section,cables, expansion_calc\n",
    "from bridge_specs import box\n",
    "from allinput import main_input"
   ]
  },
  {
   "cell_type": "code",
   "execution_count": 2,
   "id": "1bbea425",
   "metadata": {},
   "outputs": [],
   "source": [
    "df=pd.read_excel('data/span.xlsx',index_col=None,header=None)\n",
    "fck = 35 #input grade of concrete\n",
    "span = int(df.iloc[2])\n",
    "no = int(df.iloc[1])\n",
    "sc=[(j)/(no-1)*50 for j in range(no)]"
   ]
  },
  {
   "cell_type": "markdown",
   "id": "a2abd748",
   "metadata": {},
   "source": [
    "***required:***\n",
    "1. list of sections with cable profile\n",
    "2. BM due to permanent dead load\n",
    "3. BM due to superimposed dead load (without surfacing)\n",
    "4. BM due to surfacing\n",
    "5. BM due to live load (max of all vehicle loads)"
   ]
  },
  {
   "cell_type": "markdown",
   "id": "55798041",
   "metadata": {},
   "source": [
    "**defining sections**"
   ]
  },
  {
   "cell_type": "markdown",
   "id": "07f859e2",
   "metadata": {},
   "source": [
    "main section"
   ]
  },
  {
   "cell_type": "code",
   "execution_count": 3,
   "id": "ad0223ce",
   "metadata": {},
   "outputs": [],
   "source": [
    "\n",
    "\"\"\"INPUTS SECTION\"\"\"\n",
    "\n",
    "\"\"\"FOR CROSS SECTION\"\"\"\n",
    "length=[]\n",
    "height=[]\n",
    "\n",
    "\n",
    "#####################################################################################################################\n",
    "\n",
    "\"\"\"GUI INPUT OF BRIDGE SECTION LENGTHS AND HEIGHTS\"\"\"\n",
    "\n",
    "if False:\n",
    "    main_input()\n",
    "\n",
    "df=pd.read_excel('data/box.xlsx',index_col=None,header=None)\n",
    "\n",
    "\n",
    "height=df.values.tolist()[0]\n",
    "length=df.values.tolist()[1]\n",
    "\n",
    "\n",
    "section=Cross_section(length,height)\n",
    "cable_no = 18 #input no of cables\n",
    "cable = cables(fck,cable_no,section)"
   ]
  },
  {
   "cell_type": "markdown",
   "id": "bbbc76cd",
   "metadata": {},
   "source": [
    "Generating intermediate sections"
   ]
  },
  {
   "cell_type": "code",
   "execution_count": 4,
   "id": "f018f8bf",
   "metadata": {},
   "outputs": [],
   "source": [
    "sections = []\n",
    "for i in range(no):  \n",
    "    section1=Cross_section(length,height)\n",
    "    section1.expansion_width=expansion_calc(span,sc[i],cable)\n",
    "    section1.cableprop=cable.cablepos(sc[i],50)\n",
    "    sections.append(section1)"
   ]
  },
  {
   "cell_type": "code",
   "execution_count": 5,
   "id": "412cbfca",
   "metadata": {},
   "outputs": [],
   "source": [
    "# endsec = sections[0]\n",
    "# endsec.cable_prop\n",
    "\n",
    "# midsec = sections[4]\n",
    "# midsec.cable_prop, endsec.Centroid"
   ]
  },
  {
   "cell_type": "markdown",
   "id": "8a9f4db8",
   "metadata": {},
   "source": [
    "**Importing load**"
   ]
  },
  {
   "cell_type": "code",
   "execution_count": 6,
   "id": "d8dfa7ee",
   "metadata": {},
   "outputs": [],
   "source": [
    "df = pd.read_excel('outputs/Moments.xlsx', index_col=0)\n",
    "\n",
    "#bm multipied by distribution factor\n",
    "bm_pdl = np.array(df['Dead Load'])\n",
    "bm_odl = np.array(df['Other Loads'])\n",
    "bm_surf = np.array(df['Surface Loads'])\n",
    "bm_pedl = np.array(df['Pedestrian Load'])\n",
    "\n",
    "dfl = pd.read_excel('outputs/loads.xlsx', index_col=[0, 1]) #live load"
   ]
  },
  {
   "cell_type": "markdown",
   "id": "d3cd03e4",
   "metadata": {},
   "source": [
    "**live load calculation**"
   ]
  },
  {
   "cell_type": "markdown",
   "id": "e1aedefa",
   "metadata": {},
   "source": [
    "Impact factor"
   ]
  },
  {
   "cell_type": "code",
   "execution_count": 7,
   "id": "7118d2f0",
   "metadata": {},
   "outputs": [],
   "source": [
    "vehicles = [irc6.ll_A, irc6.ll_70R, irc6.ll_70RT]\n",
    "IF = [irc6.impact(i.name, span) for i in vehicles]\n",
    "arr_if = np.array(IF)\n",
    "arr_with_if = np.array(IF)+1 #including impact factor"
   ]
  },
  {
   "cell_type": "markdown",
   "id": "311de524",
   "metadata": {},
   "source": [
    "distribution factor"
   ]
  },
  {
   "cell_type": "code",
   "execution_count": 8,
   "id": "e7f3d9cb",
   "metadata": {
    "scrolled": true
   },
   "outputs": [
    {
     "data": {
      "text/plain": [
       "[1.067, 0.5, 0.635, 0.617]"
      ]
     },
     "execution_count": 8,
     "metadata": {},
     "output_type": "execute_result"
    }
   ],
   "source": [
    "dfe = pd.read_excel('outputs/max_e.xlsx', index_col=0)\n",
    "\n",
    "ecc = dfe['MaxEccentricity'] #eccentricity\n",
    "\n",
    "def df(ecc, webcc):\n",
    "    df = (webcc/2+ecc)/webcc\n",
    "    return round(df, 3)\n",
    "\n",
    "webcc = 3 #input web center/center distance\n",
    "distf = [df(i, webcc) for i in ecc]\n",
    "distf"
   ]
  },
  {
   "cell_type": "markdown",
   "id": "7cfe311d",
   "metadata": {},
   "source": [
    "bm for ll combinations"
   ]
  },
  {
   "cell_type": "code",
   "execution_count": 9,
   "id": "9ba4d4c3",
   "metadata": {
    "scrolled": true
   },
   "outputs": [
    {
     "data": {
      "text/plain": [
       "array([    0.      ,  5250.7152  ,  8922.6336  , 11142.723712,\n",
       "       12024.9024  , 11619.922688,  9417.0208  ,  5428.332288,\n",
       "           0.      ])"
      ]
     },
     "execution_count": 9,
     "metadata": {},
     "output_type": "execute_result"
    }
   ],
   "source": [
    "arr_maxbm = dfl.loc['MaxBM'].to_numpy() # max bm due to each veh\n",
    "arr_maxbmif = arr_maxbm*arr_with_if[:, np.newaxis] # max bm including impact due to ll\n",
    "\n",
    "arr_ll_comb = dfe.drop(columns='MaxEccentricity').to_numpy() # ll combinations in array\n",
    "\n",
    "all_ll = arr_ll_comb.dot(arr_maxbmif) # ll with impact for each combination\n",
    "all_unfactored_ll = all_ll #without dist factor\n",
    "# all_unfactored_ll = all_ll*np.array(distf)[:, np.newaxis] # distributed bm due to live load including impact (bm*if*df)\n",
    "\n",
    "bm_ll = np.amax(all_unfactored_ll, axis=0)\n",
    "bm_ll"
   ]
  },
  {
   "cell_type": "markdown",
   "id": "8c279c7f",
   "metadata": {},
   "source": [
    "### Cable profile"
   ]
  },
  {
   "cell_type": "code",
   "execution_count": 10,
   "id": "52aaf253",
   "metadata": {},
   "outputs": [],
   "source": [
    "# def cable_profile(end_cable_pos, mid_cable_pos, span_length, division=8):\n",
    "#     cable_profile = []\n",
    "#     x = [(j)/division*span_length for j in range(division+1)]\n",
    "#     for i in x:\n",
    "#         cable_pos_x = []\n",
    "#         for j in range(len(end_cable_pos)):\n",
    "#             h = end_cable_pos[j][1]-mid_cable_pos[j][1]\n",
    "#             a = end_cable_pos[j][1]\n",
    "#             y = a + 4*h*i/span_length - 4*h*i**2/span_length**2\n",
    "#             cable_pos_x.append((end_cable_pos[j][0], y))\n",
    "#         cable_profile.append(cable_pos_x)\n",
    "#     return cable_profile"
   ]
  },
  {
   "cell_type": "markdown",
   "id": "ebc894e3",
   "metadata": {},
   "source": [
    "### Eccentricity of cables"
   ]
  },
  {
   "cell_type": "code",
   "execution_count": 11,
   "id": "9eff7697",
   "metadata": {},
   "outputs": [],
   "source": [
    "def eccentricity(cable_positions, centroid):\n",
    "    cable_areaxpos_sum = 0\n",
    "    for i in cable_positions:\n",
    "        cable_areaxpos_sum+=(i[1]-centroid)\n",
    "    return cable_areaxpos_sum/len(cable_positions)"
   ]
  },
  {
   "cell_type": "markdown",
   "id": "f16eb15f",
   "metadata": {},
   "source": [
    "### Stress"
   ]
  },
  {
   "cell_type": "code",
   "execution_count": 12,
   "id": "06f9f8f0",
   "metadata": {},
   "outputs": [],
   "source": [
    "list_of_sections = sections\n",
    "prestressing_force = 2730 #input\n",
    "prestressing_force_total = prestressing_force*cable_no\n",
    "# prestressing_force_withloss = 0.75*prestressing_force"
   ]
  },
  {
   "cell_type": "code",
   "execution_count": 13,
   "id": "ff3adecf",
   "metadata": {},
   "outputs": [],
   "source": [
    "def tau(section, bm):\n",
    "    tau_top = bm*section.ymin/section.I[0]\n",
    "    tau_bot = -bm*section.ymax/section.I[0]\n",
    "    return (tau_top, tau_bot)"
   ]
  },
  {
   "cell_type": "markdown",
   "id": "7cb9e41d",
   "metadata": {},
   "source": [
    "presetressing stress"
   ]
  },
  {
   "cell_type": "code",
   "execution_count": 14,
   "id": "3040c834",
   "metadata": {},
   "outputs": [],
   "source": [
    "#due to eccentricity\n",
    "bm_pre = [prestressing_force_total*eccentricity(i.cableprop, i.Centroid[1]) for i in list_of_sections] #bm due to full prestressing force\n",
    "\n",
    "list_tau_pre = [tau(list_of_sections[index], bm_pre[index]) for index in range(len(list_of_sections))] #stress due to full prestressing force\n",
    "\n",
    "#axial\n",
    "list_tau_ax = [prestressing_force_total/sum(i.section_area) for i in list_of_sections]\n",
    "\n",
    "list_tau_preTotal = [(list_tau_pre[index][0] + list_tau_ax[index], list_tau_pre[index][1] + list_tau_ax[index]) for index in range(len(list_of_sections))]"
   ]
  },
  {
   "cell_type": "code",
   "execution_count": 15,
   "id": "5f290f84",
   "metadata": {
    "scrolled": true
   },
   "outputs": [
    {
     "data": {
      "text/plain": [
       "[(3277.460536860909, 8675.468950377986),\n",
       " (2666.411895480194, 9782.54906396105),\n",
       " (2229.9485802082545, 10573.32057366324),\n",
       " (1968.0705910450924, 11047.783479484551),\n",
       " (1880.7779279907045, 11205.937781424991),\n",
       " (1968.0705910450924, 11047.783479484551),\n",
       " (2229.9485802082545, 10573.32057366324),\n",
       " (2666.411895480194, 9782.54906396105),\n",
       " (3277.460536860909, 8675.468950377986)]"
      ]
     },
     "execution_count": 15,
     "metadata": {},
     "output_type": "execute_result"
    }
   ],
   "source": [
    "list_tau_preTotal"
   ]
  },
  {
   "cell_type": "markdown",
   "id": "0a44b04f",
   "metadata": {},
   "source": [
    "stress due to ded load"
   ]
  },
  {
   "cell_type": "code",
   "execution_count": 16,
   "id": "6d14e7e4",
   "metadata": {},
   "outputs": [],
   "source": [
    "list_tau_DL = [tau(list_of_sections[index], bm_pdl[index]) for index in range(len(list_of_sections))]"
   ]
  },
  {
   "cell_type": "code",
   "execution_count": 17,
   "id": "c05e5f75",
   "metadata": {},
   "outputs": [
    {
     "data": {
      "text/plain": [
       "[(0.0, -0.0),\n",
       " (1724.830588940131, -3124.9977743190043),\n",
       " (2956.852438183081, -5357.139041689721),\n",
       " (3696.0655477288515, -6696.42380211215),\n",
       " (3942.4699175774413, -7142.852055586292),\n",
       " (3696.0655477288515, -6696.42380211215),\n",
       " (2956.852438183081, -5357.139041689721),\n",
       " (1724.830588940131, -3124.9977743190043),\n",
       " (0.0, -0.0)]"
      ]
     },
     "execution_count": 17,
     "metadata": {},
     "output_type": "execute_result"
    }
   ],
   "source": [
    "list_tau_DL"
   ]
  },
  {
   "cell_type": "markdown",
   "id": "87e89ebc",
   "metadata": {},
   "source": [
    "stress due to surfacing"
   ]
  },
  {
   "cell_type": "code",
   "execution_count": 18,
   "id": "6ff56d9b",
   "metadata": {},
   "outputs": [],
   "source": [
    "list_tau_surf = [tau(list_of_sections[index], bm_surf[index]) for index in range(len(list_of_sections))]"
   ]
  },
  {
   "cell_type": "code",
   "execution_count": 19,
   "id": "0b9d1614",
   "metadata": {},
   "outputs": [
    {
     "data": {
      "text/plain": [
       "[(0.0, -0.0),\n",
       " (75.57281477393754, -136.9206225132493),\n",
       " (129.5533967553215, -234.72106716557025),\n",
       " (161.94174594415185, -293.4013339569628),\n",
       " (172.73786234042865, -312.961422887427),\n",
       " (161.94174594415185, -293.4013339569628),\n",
       " (129.5533967553215, -234.72106716557025),\n",
       " (75.57281477393754, -136.9206225132493),\n",
       " (0.0, -0.0)]"
      ]
     },
     "execution_count": 19,
     "metadata": {},
     "output_type": "execute_result"
    }
   ],
   "source": [
    "list_tau_surf"
   ]
  },
  {
   "cell_type": "markdown",
   "id": "3c96efd8",
   "metadata": {},
   "source": [
    "stress due to other load"
   ]
  },
  {
   "cell_type": "code",
   "execution_count": 20,
   "id": "6a6adcb8",
   "metadata": {},
   "outputs": [],
   "source": [
    "list_tau_ODL = [tau(list_of_sections[index], bm_odl[index]) for index in range(len(list_of_sections))]"
   ]
  },
  {
   "cell_type": "code",
   "execution_count": 21,
   "id": "cd0a708e",
   "metadata": {},
   "outputs": [
    {
     "data": {
      "text/plain": [
       "[(0.0, -0.0),\n",
       " (114.50426480899627, -207.45548865643835),\n",
       " (196.29302538685076, -355.6379805538943),\n",
       " (245.36628173356345, -444.54747569236787),\n",
       " (261.72403384913434, -474.18397407185904),\n",
       " (245.36628173356345, -444.54747569236787),\n",
       " (196.29302538685076, -355.6379805538943),\n",
       " (114.50426480899627, -207.45548865643835),\n",
       " (0.0, -0.0)]"
      ]
     },
     "execution_count": 21,
     "metadata": {},
     "output_type": "execute_result"
    }
   ],
   "source": [
    "list_tau_ODL"
   ]
  },
  {
   "cell_type": "markdown",
   "id": "7fe337f7",
   "metadata": {},
   "source": [
    "stress due to live load"
   ]
  },
  {
   "cell_type": "code",
   "execution_count": 22,
   "id": "908723be",
   "metadata": {
    "scrolled": true
   },
   "outputs": [],
   "source": [
    "list_tau_LL = [tau(list_of_sections[index], bm_ll[index]) for index in range(len(list_of_sections))]"
   ]
  },
  {
   "cell_type": "code",
   "execution_count": 23,
   "id": "07571fa6",
   "metadata": {},
   "outputs": [],
   "source": [
    "arr_stress_top = np.array([\n",
    "    list(zip(*list_tau_DL))[0], \n",
    "    list(zip(*list_tau_ODL))[0], \n",
    "    list(zip(*list_tau_surf))[0], \n",
    "    list(zip(*list_tau_LL))[0], \n",
    "    list(zip(*list_tau_preTotal))[0]\n",
    "])\n",
    "\n",
    "arr_stress_bot = np.array([\n",
    "    list(zip(*list_tau_DL))[1], \n",
    "    list(zip(*list_tau_ODL))[1], \n",
    "    list(zip(*list_tau_surf))[1], \n",
    "    list(zip(*list_tau_LL))[1], \n",
    "    list(zip(*list_tau_preTotal))[1]\n",
    "])"
   ]
  },
  {
   "cell_type": "markdown",
   "id": "7583dd97",
   "metadata": {},
   "source": [
    "**Case 1: Rare combination I**"
   ]
  },
  {
   "cell_type": "markdown",
   "id": "09977741",
   "metadata": {},
   "source": [
    "RI = DL + PS@10%loss"
   ]
  },
  {
   "cell_type": "code",
   "execution_count": 24,
   "id": "c73d0c6d",
   "metadata": {},
   "outputs": [
    {
     "data": {
      "text/plain": [
       "(array([2949.71448317, 4124.60129487, 4963.80616037, 5467.32907967,\n",
       "        5635.17005277, 5467.32907967, 4963.80616037, 4124.60129487,\n",
       "        2949.71448317]),\n",
       " array([7807.92205534, 5679.29638325, 4158.84947461, 3246.58132942,\n",
       "        2942.4919477 , 3246.58132942, 4158.84947461, 5679.29638325,\n",
       "        7807.92205534]))"
      ]
     },
     "execution_count": 24,
     "metadata": {},
     "output_type": "execute_result"
    }
   ],
   "source": [
    "psf_RI = np.array([1, 0, 0, 0, 0.9]) #partial safety factor [DL, ODL, surf, LL, Ps] irc:6-2007 table B3\n",
    "\n",
    "tauTop_RI = psf_RI.dot(arr_stress_top) #resultant pressure top\n",
    "\n",
    "tauBot_RI = psf_RI.dot(arr_stress_bot) #resultant pressure bottom\n",
    "\n",
    "tauTop_RI, tauBot_RI"
   ]
  },
  {
   "cell_type": "markdown",
   "id": "260b7e1d",
   "metadata": {},
   "source": [
    "Allowable stresses"
   ]
  },
  {
   "cell_type": "code",
   "execution_count": 25,
   "id": "c2122404",
   "metadata": {},
   "outputs": [
    {
     "data": {
      "text/plain": [
       "(-2771, 16800)"
      ]
     },
     "execution_count": 25,
     "metadata": {},
     "output_type": "execute_result"
    }
   ],
   "source": [
    "tauTop_perm = -int(0.259*math.pow(fck, 2/3)*1000) #permissible stress on top (tensile) kN/m2\n",
    "\n",
    "tauBot_perm = int(0.48*35*1000) #permissible stress on top (compression) kN/m2\n",
    "tauTop_perm, tauBot_perm"
   ]
  },
  {
   "cell_type": "markdown",
   "id": "659330c8",
   "metadata": {},
   "source": [
    "check"
   ]
  },
  {
   "cell_type": "code",
   "execution_count": 26,
   "id": "9679c1a7",
   "metadata": {},
   "outputs": [
    {
     "name": "stdout",
     "output_type": "stream",
     "text": [
      "top ok\n",
      "bottom ok\n"
     ]
    }
   ],
   "source": [
    "if all(tauTop_RI>tauTop_perm) == True:\n",
    "    print('top ok')\n",
    "else:\n",
    "    print('top not ok')\n",
    "    \n",
    "if all(tauBot_RI<tauBot_perm) == True:\n",
    "    print('bottom ok')\n",
    "else:\n",
    "    print('bottom not ok')"
   ]
  },
  {
   "cell_type": "markdown",
   "id": "5390fe88",
   "metadata": {},
   "source": [
    "**Case 2: Rare combination II**"
   ]
  },
  {
   "cell_type": "markdown",
   "id": "b2c389e8",
   "metadata": {},
   "source": [
    "RII = DL + ODL + 1.2*Surf + 0.75*LL + PS@25%loss"
   ]
  },
  {
   "cell_type": "code",
   "execution_count": 27,
   "id": "bb1d809b",
   "metadata": {},
   "outputs": [
    {
     "data": {
      "text/plain": [
       "(array([2458.09540265, 4183.53669698, 5412.19731176, 6150.2121475 ,\n",
       "        6403.08547151, 6173.26958276, 5436.08525248, 4192.11884973,\n",
       "        2458.09540265]),\n",
       " array([6506.60171278, 3380.49748024, 1154.44599947, -182.66776341,\n",
       "        -640.81627943, -224.44255237, 1111.16652491, 3364.94858609,\n",
       "        6506.60171278]))"
      ]
     },
     "execution_count": 27,
     "metadata": {},
     "output_type": "execute_result"
    }
   ],
   "source": [
    "psf_RII = np.array([1, 1, 1.2, 0.75, 0.75]) #partial safety factor [DL, ODL, surf, LL, PS] irc:6-2007 table B3\n",
    "\n",
    "tauTop_RII = psf_RII.dot(arr_stress_top) #resultant pressure top\n",
    "\n",
    "tauBot_RII = psf_RII.dot(arr_stress_bot) #resultant pressure bottom\n",
    "\n",
    "tauTop_RII, tauBot_RII"
   ]
  },
  {
   "cell_type": "markdown",
   "id": "cc691c3e",
   "metadata": {},
   "source": [
    "Allowable stresses"
   ]
  },
  {
   "cell_type": "code",
   "execution_count": 28,
   "id": "e3454b2c",
   "metadata": {},
   "outputs": [
    {
     "data": {
      "text/plain": [
       "(-2771, 12600)"
      ]
     },
     "execution_count": 28,
     "metadata": {},
     "output_type": "execute_result"
    }
   ],
   "source": [
    "tauTop_perm = -int(0.259*math.pow(fck, 2/3)*1000) #permissible stress on top (tensile) kN/m2\n",
    "\n",
    "tauBot_perm = int(0.36*35*1000) #permissible stress on top (compression) kN/m2\n",
    "tauTop_perm, tauBot_perm"
   ]
  },
  {
   "cell_type": "markdown",
   "id": "4e538aa2",
   "metadata": {},
   "source": [
    "check"
   ]
  },
  {
   "cell_type": "code",
   "execution_count": 29,
   "id": "652cf4a8",
   "metadata": {
    "scrolled": true
   },
   "outputs": [
    {
     "name": "stdout",
     "output_type": "stream",
     "text": [
      "top ok\n",
      "bottom ok\n"
     ]
    }
   ],
   "source": [
    "if all(tauTop_RII>tauTop_perm) == True:\n",
    "    print('top ok')\n",
    "else:\n",
    "    print('top not ok')\n",
    "    \n",
    "if all(tauBot_RII<tauBot_perm) == True:\n",
    "    print('bottom ok')\n",
    "else:\n",
    "    print('bottom not ok')"
   ]
  },
  {
   "cell_type": "markdown",
   "id": "bef5ecec",
   "metadata": {},
   "source": [
    "**Case 2: Rare combination II**"
   ]
  },
  {
   "cell_type": "markdown",
   "id": "57e79bba",
   "metadata": {},
   "source": [
    "RII = DL + ODL + 1.2*Surf + LL + PS@25%loss"
   ]
  },
  {
   "cell_type": "code",
   "execution_count": 30,
   "id": "0463f6b6",
   "metadata": {},
   "outputs": [
    {
     "data": {
      "text/plain": [
       "(array([2458.09540265, 4268.10521161, 5555.90609073, 6329.67790738,\n",
       "        6596.7596846 , 6360.42115438, 5587.75667837, 4279.54808195,\n",
       "        2458.09540265]),\n",
       " array([6506.60171278, 3227.27871099,  894.07862349, -507.81859491,\n",
       "        -991.70957222, -563.51831352,  836.37265741, 3206.54685213,\n",
       "        6506.60171278]))"
      ]
     },
     "execution_count": 30,
     "metadata": {},
     "output_type": "execute_result"
    }
   ],
   "source": [
    "psf_RII = np.array([1, 1, 1.2, 1, 0.75]) #partial safety factor [DL, ODL, surf, LL, PS] irc:6-2007 table B3\n",
    "\n",
    "tauTop_RII = psf_RII.dot(arr_stress_top) #resultant pressure top\n",
    "\n",
    "tauBot_RII = psf_RII.dot(arr_stress_bot) #resultant pressure bottom\n",
    "\n",
    "tauTop_RII, tauBot_RII"
   ]
  },
  {
   "cell_type": "markdown",
   "id": "9a3e26ca",
   "metadata": {},
   "source": [
    "Allowable stresses"
   ]
  },
  {
   "cell_type": "code",
   "execution_count": 31,
   "id": "7b6c5c63",
   "metadata": {},
   "outputs": [
    {
     "data": {
      "text/plain": [
       "(-2771, 16100)"
      ]
     },
     "execution_count": 31,
     "metadata": {},
     "output_type": "execute_result"
    }
   ],
   "source": [
    "tauTop_perm = -int(0.259*math.pow(fck, 2/3)*1000) #permissible stress on top (tensile) kN/m2\n",
    "\n",
    "tauBot_perm = int(0.46*35*1000) #permissible stress on top (compression) kN/m2\n",
    "tauTop_perm, tauBot_perm"
   ]
  },
  {
   "cell_type": "markdown",
   "id": "d5f30a46",
   "metadata": {},
   "source": [
    "check"
   ]
  },
  {
   "cell_type": "code",
   "execution_count": 32,
   "id": "1a53c824",
   "metadata": {},
   "outputs": [
    {
     "name": "stdout",
     "output_type": "stream",
     "text": [
      "top ok\n",
      "bottom ok\n"
     ]
    }
   ],
   "source": [
    "if all(tauTop_RII>tauTop_perm) == True:\n",
    "    print('top ok')\n",
    "else:\n",
    "    print('top not ok')\n",
    "    \n",
    "if all(tauBot_RII<tauBot_perm) == True:\n",
    "    print('bottom ok')\n",
    "else:\n",
    "    print('bottom not ok')"
   ]
  },
  {
   "cell_type": "markdown",
   "id": "2dd10dd0",
   "metadata": {},
   "source": [
    "**Case 3: Permanent combination**"
   ]
  },
  {
   "cell_type": "markdown",
   "id": "2800594b",
   "metadata": {},
   "source": [
    "RII = DL + ODL + 1.2*Surf + 0.75*LL + PS@25%loss"
   ]
  },
  {
   "cell_type": "code",
   "execution_count": 33,
   "id": "3d98172d",
   "metadata": {},
   "outputs": [
    {
     "data": {
      "text/plain": [
       "(array([2458.09540265, 4183.53669698, 5412.19731176, 6150.2121475 ,\n",
       "        6403.08547151, 6173.26958276, 5436.08525248, 4192.11884973,\n",
       "        2458.09540265]),\n",
       " array([6506.60171278, 3380.49748024, 1154.44599947, -182.66776341,\n",
       "        -640.81627943, -224.44255237, 1111.16652491, 3364.94858609,\n",
       "        6506.60171278]))"
      ]
     },
     "execution_count": 33,
     "metadata": {},
     "output_type": "execute_result"
    }
   ],
   "source": [
    "psf_P = np.array([1, 1, 1.2, 0.75, 0.75]) #partial safety factor [DL, ODL, surf, LL, PS] irc:6-2007 table B3\n",
    "\n",
    "tauTop_P = psf_P.dot(arr_stress_top) #resultant pressure top\n",
    "\n",
    "tauBot_P = psf_P.dot(arr_stress_bot) #resultant pressure bottom\n",
    "\n",
    "tauTop_P, tauBot_P"
   ]
  },
  {
   "cell_type": "markdown",
   "id": "3ec3186c",
   "metadata": {},
   "source": [
    "Allowable stresses"
   ]
  },
  {
   "cell_type": "code",
   "execution_count": 34,
   "id": "9f7f65da",
   "metadata": {},
   "outputs": [
    {
     "data": {
      "text/plain": [
       "(-2771, 12600)"
      ]
     },
     "execution_count": 34,
     "metadata": {},
     "output_type": "execute_result"
    }
   ],
   "source": [
    "tauTop_perm = -int(0.259*math.pow(fck, 2/3)*1000) #permissible stress on top (tensile) kN/m2\n",
    "\n",
    "tauBot_perm = int(0.36*35*1000) #permissible stress on top (compression) kN/m2\n",
    "tauTop_perm, tauBot_perm"
   ]
  },
  {
   "cell_type": "markdown",
   "id": "b9ae46c6",
   "metadata": {},
   "source": [
    "check"
   ]
  },
  {
   "cell_type": "code",
   "execution_count": 35,
   "id": "8656e048",
   "metadata": {},
   "outputs": [
    {
     "name": "stdout",
     "output_type": "stream",
     "text": [
      "top ok\n",
      "bottom ok\n"
     ]
    }
   ],
   "source": [
    "if all(tauTop_P>tauTop_perm) == True:\n",
    "    print('top ok')\n",
    "else:\n",
    "    print('top not ok')\n",
    "    \n",
    "if all(tauBot_P<tauBot_perm) == True:\n",
    "    print('bottom ok')\n",
    "else:\n",
    "    print('bottom not ok')"
   ]
  },
  {
   "cell_type": "markdown",
   "id": "2ad5f05d",
   "metadata": {},
   "source": [
    "**Case 4: Quasi-Permanent**"
   ]
  },
  {
   "cell_type": "markdown",
   "id": "9724a060",
   "metadata": {},
   "source": [
    "QP = DL + ODL + PS@25%loss"
   ]
  },
  {
   "cell_type": "code",
   "execution_count": 36,
   "id": "dae524c0",
   "metadata": {},
   "outputs": [
    {
     "data": {
      "text/plain": [
       "(array([2458.09540265, 3839.14377536, 4825.60689873, 5417.48477275,\n",
       "        5614.77739742, 5417.48477275, 4825.60689873, 3839.14377536,\n",
       "        2458.09540265]),\n",
       " array([6506.60171278, 4004.458535  , 2217.213408  , 1144.86633181,\n",
       "         787.41730641, 1144.86633181, 2217.213408  , 4004.458535  ,\n",
       "        6506.60171278]))"
      ]
     },
     "execution_count": 36,
     "metadata": {},
     "output_type": "execute_result"
    }
   ],
   "source": [
    "psf_QP = np.array([1, 1, 0, 0, 0.75]) #partial safety factor [DL, ODL, surf, LL, PS] irc:6-2007 table B3\n",
    "\n",
    "tauTop_QP = psf_QP.dot(arr_stress_top) #resultant pressure top\n",
    "\n",
    "tauBot_QP = psf_QP.dot(arr_stress_bot) #resultant pressure bottom\n",
    "\n",
    "tauTop_QP, tauBot_QP"
   ]
  },
  {
   "cell_type": "markdown",
   "id": "b3f4a805",
   "metadata": {},
   "source": [
    "Allowable stresses"
   ]
  },
  {
   "cell_type": "code",
   "execution_count": 37,
   "id": "e559099d",
   "metadata": {},
   "outputs": [
    {
     "data": {
      "text/plain": [
       "(-2771, 12600)"
      ]
     },
     "execution_count": 37,
     "metadata": {},
     "output_type": "execute_result"
    }
   ],
   "source": [
    "tauTop_perm = -int(0.259*math.pow(fck, 2/3)*1000) #permissible stress on top (tensile) kN/m2\n",
    "\n",
    "tauBot_perm = int(0.36*35*1000) #permissible stress on top (compression) kN/m2\n",
    "tauTop_perm, tauBot_perm"
   ]
  },
  {
   "cell_type": "markdown",
   "id": "eaddffb3",
   "metadata": {},
   "source": [
    "check"
   ]
  },
  {
   "cell_type": "code",
   "execution_count": 38,
   "id": "8f6c8d3f",
   "metadata": {},
   "outputs": [
    {
     "name": "stdout",
     "output_type": "stream",
     "text": [
      "top ok\n",
      "bottom ok\n"
     ]
    }
   ],
   "source": [
    "if all(tauTop_QP>tauTop_perm) == True:\n",
    "    print('top ok')\n",
    "else:\n",
    "    print('top not ok')\n",
    "    \n",
    "if all(tauBot_QP<tauBot_perm) == True:\n",
    "    print('bottom ok')\n",
    "else:\n",
    "    print('bottom not ok')"
   ]
  },
  {
   "cell_type": "code",
   "execution_count": 39,
   "id": "f298b059",
   "metadata": {
    "scrolled": true
   },
   "outputs": [
    {
     "data": {
      "text/plain": [
       "(array([2458.09540265, 3839.14377536, 4825.60689873, 5417.48477275,\n",
       "        5614.77739742, 5417.48477275, 4825.60689873, 3839.14377536,\n",
       "        2458.09540265]),\n",
       " array([6506.60171278, 4004.458535  , 2217.213408  , 1144.86633181,\n",
       "         787.41730641, 1144.86633181, 2217.213408  , 4004.458535  ,\n",
       "        6506.60171278]))"
      ]
     },
     "execution_count": 39,
     "metadata": {},
     "output_type": "execute_result"
    }
   ],
   "source": [
    "tauTop_QP, tauBot_QP"
   ]
  },
  {
   "cell_type": "code",
   "execution_count": null,
   "id": "e7602c79",
   "metadata": {},
   "outputs": [],
   "source": []
  },
  {
   "cell_type": "code",
   "execution_count": null,
   "id": "639f7821",
   "metadata": {},
   "outputs": [],
   "source": []
  },
  {
   "cell_type": "code",
   "execution_count": null,
   "id": "c313b893",
   "metadata": {},
   "outputs": [],
   "source": []
  },
  {
   "cell_type": "code",
   "execution_count": null,
   "id": "aff7f67e",
   "metadata": {},
   "outputs": [],
   "source": []
  },
  {
   "cell_type": "code",
   "execution_count": null,
   "id": "e5dcd272",
   "metadata": {},
   "outputs": [],
   "source": []
  },
  {
   "cell_type": "code",
   "execution_count": null,
   "id": "bedaeb34",
   "metadata": {},
   "outputs": [],
   "source": []
  },
  {
   "cell_type": "code",
   "execution_count": null,
   "id": "39014cd1",
   "metadata": {},
   "outputs": [],
   "source": []
  },
  {
   "cell_type": "code",
   "execution_count": null,
   "id": "7d63c090",
   "metadata": {},
   "outputs": [],
   "source": []
  },
  {
   "cell_type": "code",
   "execution_count": null,
   "id": "407c9e95",
   "metadata": {},
   "outputs": [],
   "source": []
  },
  {
   "cell_type": "code",
   "execution_count": null,
   "id": "8cd8a569",
   "metadata": {},
   "outputs": [],
   "source": []
  },
  {
   "cell_type": "code",
   "execution_count": null,
   "id": "46787b3c",
   "metadata": {},
   "outputs": [],
   "source": []
  },
  {
   "cell_type": "code",
   "execution_count": 40,
   "id": "43e84d43",
   "metadata": {},
   "outputs": [],
   "source": [
    "endposabs = cable.endcablepos"
   ]
  },
  {
   "cell_type": "code",
   "execution_count": 41,
   "id": "17c8617e",
   "metadata": {},
   "outputs": [],
   "source": [
    "import matplotlib.pyplot as plt"
   ]
  },
  {
   "cell_type": "code",
   "execution_count": 42,
   "id": "c2997493",
   "metadata": {},
   "outputs": [
    {
     "data": {
      "text/plain": [
       "<matplotlib.collections.PathCollection at 0x22ff2e1e4f0>"
      ]
     },
     "execution_count": 42,
     "metadata": {},
     "output_type": "execute_result"
    },
    {
     "data": {
      "image/png": "[encoded data removed]",
      "text/plain": [
       "<Figure size 432x288 with 1 Axes>"
      ]
     },
     "metadata": {
      "needs_background": "light"
     },
     "output_type": "display_data"
    }
   ],
   "source": [
    "plt.scatter([i[0] for i in endposabs], [i[1] for i in endposabs])"
   ]
  },
  {
   "cell_type": "code",
   "execution_count": 43,
   "id": "0745f309",
   "metadata": {},
   "outputs": [
    {
     "data": {
      "text/plain": [
       "0.625"
      ]
     },
     "execution_count": 43,
     "metadata": {},
     "output_type": "execute_result"
    }
   ],
   "source": []
  },
  {
   "cell_type": "code",
   "execution_count": null,
   "id": "4738a148",
   "metadata": {},
   "outputs": [],
   "source": []
  }
 ],
 "metadata": {
  "kernelspec": {
   "display_name": "Python 3 (ipykernel)",
   "language": "python",
   "name": "python3"
  },
  "language_info": {
   "codemirror_mode": {
    "name": "ipython",
    "version": 3
   },
   "file_extension": ".py",
   "mimetype": "text/x-python",
   "name": "python",
   "nbconvert_exporter": "python",
   "pygments_lexer": "ipython3",
   "version": "3.9.7"
  }
 },
 "nbformat": 4,
 "nbformat_minor": 5
}
