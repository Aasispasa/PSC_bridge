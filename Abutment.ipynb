{
 "cells": [
  {
   "cell_type": "code",
   "execution_count": 1,
   "id": "be4275b9",
   "metadata": {},
   "outputs": [],
   "source": [
    "import pandas as pd\n",
    "import numpy as np\n",
    "import math\n",
    "from bridge_specs import box\n",
    "from Cross import calc_centroid as cg\n",
    "from irc6_2007 import *\n",
    "\n"
   ]
  },
  {
   "cell_type": "code",
   "execution_count": 2,
   "id": "2bf4b55f",
   "metadata": {},
   "outputs": [],
   "source": [
    "def loader(unit_wt, length, width, height, type):\n",
    "    if type == 'r':\n",
    "        load = unit_wt*length*width*height\n",
    "    elif type == 't':\n",
    "        load = unit_wt*length*width*height*0.5\n",
    "    \n",
    "    return load\n",
    "def z(base, clr, dim, x, type):\n",
    "    \"\"\"base = width of base along with taper\n",
    "       clr = overhang part from where centroid is calculated\n",
    "        dim = width of object whose lever arm is required\n",
    "        type = shape of object\n",
    "    \"\"\"\n",
    "    y = []\n",
    "    if type == 'r':\n",
    "        y.append(cg('rectangle',[dim,0],[x,0]))\n",
    "        return (-(clr+base/2)+y[0][0])\n",
    "    y = []\n",
    "    if type == 't1':\n",
    "        y.append(cg('triangle_2',[dim,0],[x,0]))\n",
    "        return (-(clr+base/2)+y[0][0])\n",
    "    y = []\n",
    "    if type == 't2':\n",
    "        y.append(cg('triangle_1',[dim,0],[x,0]))\n",
    "        return (-(clr+base/2)+y[0][0])"
   ]
  },
  {
   "cell_type": "markdown",
   "id": "60c74063",
   "metadata": {},
   "source": [
    "Abutment details"
   ]
  },
  {
   "cell_type": "code",
   "execution_count": 3,
   "id": "cadf1e4a",
   "metadata": {},
   "outputs": [
    {
     "name": "stdout",
     "output_type": "stream",
     "text": [
      "3.575\n"
     ]
    }
   ],
   "source": [
    "bearing_ht = 0.3 #assumed including pedestal\n",
    "abut = {\n",
    "    'total_ht' : 7.0,\n",
    "    'wc' : 0.075,\n",
    "    'backw_ht' : box['pillar_hei']+bearing_ht+0.075, #including wearing cource\n",
    "    'cap':0.5,\n",
    "    'stem_ht': 7-box['pillar_hei']+bearing_ht+0.075-0.5,\n",
    "    'bw_width':0.3,\n",
    "    'edge_to_bearing_c':0.6,\n",
    "    'bw_to_bearing_c': 0.6,\n",
    "    'cap_width':0.3+0.6+0.6,\n",
    "    'stem_width':1.25,\n",
    "    'be_taperwidth':0.10,\n",
    "    'width_of_abut':8.4,\n",
    "    'ttl_stembase_width':1.25+0.10,\n",
    "    'approach_slab_dep':0.3,\n",
    "    'approach_slab_len':3.5,\n",
    "    'haunch':{'stem_haunch':[0.2,0.25],'approach_slab_haunch_rec':[0.25,0.25], 'approach_slab_haunch_tri':[0.25,0.25]} #list of width and height.\n",
    "}\n",
    "print(abut['backw_ht'])"
   ]
  },
  {
   "cell_type": "markdown",
   "id": "da40c877",
   "metadata": {},
   "source": [
    "Inputs: Live Loads, Dead loads and Pedestrian loads"
   ]
  },
  {
   "cell_type": "code",
   "execution_count": 4,
   "id": "94029f3d",
   "metadata": {},
   "outputs": [],
   "source": [
    "#dummy loads\n",
    "dl = 3000 #dead loads\n",
    "ll = 1000 #live loads including impact\n",
    "pdl = 200 #pedestrian loads\n",
    "sdl=250 #Surface Loads"
   ]
  },
  {
   "cell_type": "markdown",
   "id": "68af3bdf",
   "metadata": {},
   "source": [
    "Input: Material properties"
   ]
  },
  {
   "cell_type": "code",
   "execution_count": 5,
   "id": "19d0004a",
   "metadata": {},
   "outputs": [],
   "source": [
    "fck = 30 #grade of concrete = M30\n",
    "fy = 500 #grade of steel = Fe500\n",
    "unitwt_conc = 25 #unit weight of concrete = 25KN/m^3\n",
    "unitwt_bfill = 20 #unit weight of backfill = 20KN/m^3"
   ]
  },
  {
   "cell_type": "markdown",
   "id": "ed1b9b8e",
   "metadata": {},
   "source": [
    "Self weight loads of abutment"
   ]
  },
  {
   "cell_type": "code",
   "execution_count": 6,
   "id": "26a60d40",
   "metadata": {},
   "outputs": [
    {
     "data": {
      "text/html": [
       "<div>\n",
       "<style scoped>\n",
       "    .dataframe tbody tr th:only-of-type {\n",
       "        vertical-align: middle;\n",
       "    }\n",
       "\n",
       "    .dataframe tbody tr th {\n",
       "        vertical-align: top;\n",
       "    }\n",
       "\n",
       "    .dataframe thead th {\n",
       "        text-align: right;\n",
       "    }\n",
       "</style>\n",
       "<table border=\"1\" class=\"dataframe\">\n",
       "  <thead>\n",
       "    <tr style=\"text-align: right;\">\n",
       "      <th></th>\n",
       "      <th>Load</th>\n",
       "      <th>Lever arm</th>\n",
       "      <th>Moment</th>\n",
       "    </tr>\n",
       "  </thead>\n",
       "  <tbody>\n",
       "    <tr>\n",
       "      <th>Stem(rectangle)</th>\n",
       "      <td>964.6875</td>\n",
       "      <td>-0.05000</td>\n",
       "      <td>-48.234375</td>\n",
       "    </tr>\n",
       "    <tr>\n",
       "      <th>Stem(triangle)</th>\n",
       "      <td>38.5875</td>\n",
       "      <td>0.60833</td>\n",
       "      <td>23.473934</td>\n",
       "    </tr>\n",
       "    <tr>\n",
       "      <th>Cap</th>\n",
       "      <td>157.5000</td>\n",
       "      <td>-0.12500</td>\n",
       "      <td>-19.687500</td>\n",
       "    </tr>\n",
       "    <tr>\n",
       "      <th>Backwall</th>\n",
       "      <td>225.2250</td>\n",
       "      <td>-0.72500</td>\n",
       "      <td>-163.288125</td>\n",
       "    </tr>\n",
       "    <tr>\n",
       "      <th>Stem haunch</th>\n",
       "      <td>10.5000</td>\n",
       "      <td>-0.74167</td>\n",
       "      <td>-7.787535</td>\n",
       "    </tr>\n",
       "    <tr>\n",
       "      <th>Approach slab haunch(rec)</th>\n",
       "      <td>13.1250</td>\n",
       "      <td>-1.00000</td>\n",
       "      <td>-13.125000</td>\n",
       "    </tr>\n",
       "    <tr>\n",
       "      <th>Approach slab haunch(tri)</th>\n",
       "      <td>6.5625</td>\n",
       "      <td>-1.04167</td>\n",
       "      <td>-6.835959</td>\n",
       "    </tr>\n",
       "    <tr>\n",
       "      <th>Total</th>\n",
       "      <td>1416.1875</td>\n",
       "      <td>NaN</td>\n",
       "      <td>-235.484560</td>\n",
       "    </tr>\n",
       "  </tbody>\n",
       "</table>\n",
       "</div>"
      ],
      "text/plain": [
       "                                Load  Lever arm      Moment\n",
       "Stem(rectangle)             964.6875   -0.05000  -48.234375\n",
       "Stem(triangle)               38.5875    0.60833   23.473934\n",
       "Cap                         157.5000   -0.12500  -19.687500\n",
       "Backwall                    225.2250   -0.72500 -163.288125\n",
       "Stem haunch                  10.5000   -0.74167   -7.787535\n",
       "Approach slab haunch(rec)    13.1250   -1.00000  -13.125000\n",
       "Approach slab haunch(tri)     6.5625   -1.04167   -6.835959\n",
       "Total                      1416.1875        NaN -235.484560"
      ]
     },
     "metadata": {},
     "output_type": "display_data"
    }
   ],
   "source": [
    "# comp = ['stem_rect','stem_tri','cap','backwall','stem_haunch','approach_slab_haunch']\n",
    "loads = [loader(unitwt_conc,abut['stem_ht'],abut['width_of_abut'],abut['stem_width'],'r'),\n",
    "         loader(unitwt_conc,abut['stem_ht'],abut['width_of_abut'],abut['be_taperwidth'],'t'),\n",
    "         loader(unitwt_conc,abut['cap'],abut['width_of_abut'],abut['cap_width'],'r'),\n",
    "         loader(unitwt_conc,abut['backw_ht'],abut['width_of_abut'],abut['bw_width'],'r'),\n",
    "         loader(unitwt_conc,abut['haunch']['stem_haunch'][0],abut['width_of_abut'],abut['haunch']['stem_haunch'][1],'r'),\n",
    "         loader(unitwt_conc,abut['haunch']['approach_slab_haunch_rec'][0],abut['width_of_abut'],abut['haunch']['approach_slab_haunch_rec'][1],'r'),\n",
    "          loader(unitwt_conc,abut['haunch']['approach_slab_haunch_tri'][0],abut['width_of_abut'],abut['haunch']['approach_slab_haunch_tri'][1],'t')]\n",
    "lever_arm = [round(z(abut['ttl_stembase_width'],abut['haunch']['stem_haunch'][0],abut['stem_width'],abut['haunch']['stem_haunch'][0],'r'),5),\n",
    "            round(z(abut['ttl_stembase_width'],abut['haunch']['stem_haunch'][0],abut['be_taperwidth'],abut['haunch']['stem_haunch'][0]+abut['stem_width'],'t1'),5),\n",
    "            round(z(abut['ttl_stembase_width'],abut['haunch']['stem_haunch'][0],abut['cap_width'],0,'r'),5),\n",
    "            round(z(abut['ttl_stembase_width'],abut['haunch']['stem_haunch'][0],abut['bw_width'],0,'r'),5),\n",
    "            round(z(abut['ttl_stembase_width'],abut['haunch']['stem_haunch'][0],abut['haunch']['stem_haunch'][0],0,'t2'),5),\n",
    "            round(z(abut['ttl_stembase_width'],abut['haunch']['stem_haunch'][0],-abut['haunch']['approach_slab_haunch_rec'][0],0,'r'),5),\n",
    "            round(z(abut['ttl_stembase_width'],abut['haunch']['stem_haunch'][0],-abut['haunch']['approach_slab_haunch_tri'][0],0,'t2'),5)]\n",
    "moments = []\n",
    "for index,i in enumerate(loads):\n",
    "    moments.append(loads[index]*lever_arm[index])\n",
    "A1 = pd.DataFrame({\"Load\":loads,\"Lever arm\":lever_arm,\"Moment\":moments},index = ['Stem(rectangle)','Stem(triangle)','Cap','Backwall','Stem haunch','Approach slab haunch(rec)','Approach slab haunch(tri)'])\n",
    "A1.loc[len(A1.index)] = [A1['Load'].sum(),None,A1['Moment'].sum()]\n",
    "display(A1.rename(index={7:'Total'}))"
   ]
  },
  {
   "cell_type": "markdown",
   "id": "4e66066b",
   "metadata": {},
   "source": [
    "Loads from superstructure"
   ]
  },
  {
   "cell_type": "code",
   "execution_count": 7,
   "id": "0b21359c",
   "metadata": {},
   "outputs": [
    {
     "data": {
      "text/html": [
       "<div>\n",
       "<style scoped>\n",
       "    .dataframe tbody tr th:only-of-type {\n",
       "        vertical-align: middle;\n",
       "    }\n",
       "\n",
       "    .dataframe tbody tr th {\n",
       "        vertical-align: top;\n",
       "    }\n",
       "\n",
       "    .dataframe thead th {\n",
       "        text-align: right;\n",
       "    }\n",
       "</style>\n",
       "<table border=\"1\" class=\"dataframe\">\n",
       "  <thead>\n",
       "    <tr style=\"text-align: right;\">\n",
       "      <th></th>\n",
       "      <th>Load</th>\n",
       "      <th>Lever arm</th>\n",
       "      <th>Moment</th>\n",
       "    </tr>\n",
       "  </thead>\n",
       "  <tbody>\n",
       "    <tr>\n",
       "      <th>Dead load</th>\n",
       "      <td>3000</td>\n",
       "      <td>0.025</td>\n",
       "      <td>75.00</td>\n",
       "    </tr>\n",
       "    <tr>\n",
       "      <th>Live load</th>\n",
       "      <td>1200</td>\n",
       "      <td>0.025</td>\n",
       "      <td>30.00</td>\n",
       "    </tr>\n",
       "    <tr>\n",
       "      <th>Surface load</th>\n",
       "      <td>250</td>\n",
       "      <td>0.025</td>\n",
       "      <td>6.25</td>\n",
       "    </tr>\n",
       "  </tbody>\n",
       "</table>\n",
       "</div>"
      ],
      "text/plain": [
       "              Load  Lever arm  Moment\n",
       "Dead load     3000      0.025   75.00\n",
       "Live load     1200      0.025   30.00\n",
       "Surface load   250      0.025    6.25"
      ]
     },
     "metadata": {},
     "output_type": "display_data"
    }
   ],
   "source": [
    "load = [dl,ll+pdl,sdl]\n",
    "arm = [round(z(abut['ttl_stembase_width'],abut['haunch']['stem_haunch'][0],abut['edge_to_bearing_c']+abut['bw_to_bearing_c'],abut['bw_width'],'r'),5),\n",
    "      round(z(abut['ttl_stembase_width'],abut['haunch']['stem_haunch'][0],abut['edge_to_bearing_c']+abut['bw_to_bearing_c'],abut['bw_width'],'r'),5),\n",
    "      round(z(abut['ttl_stembase_width'],abut['haunch']['stem_haunch'][0],abut['edge_to_bearing_c']+abut['bw_to_bearing_c'],abut['bw_width'],'r'),5)]\n",
    "moment = []\n",
    "for index,i in enumerate(load):\n",
    "    moment.append(load[index]*arm[index])\n",
    "A2 = pd.DataFrame({'Load':load, 'Lever arm':arm,'Moment':moment}, index = ['Dead load','Live load','Surface load'])\n",
    "display(A2)"
   ]
  },
  {
   "cell_type": "markdown",
   "id": "5772d76b",
   "metadata": {},
   "source": [
    "Earth Pressure as per clause 214 of IRC:6"
   ]
  },
  {
   "cell_type": "code",
   "execution_count": 8,
   "id": "a813f44c",
   "metadata": {},
   "outputs": [],
   "source": [
    "phi = 33 #Angle of internal friction of soil\n",
    "alpha = 0 #Angle which earth face of the wal makes with the vertical of the wall\n",
    "beta = 0 #Slope of earth fill\n",
    "delta = 2/3*phi if 2/3*phi<22.5 else 22.5 #Angle of friction between earth and earth fill\n",
    "h = abut['total_ht']-abut['approach_slab_dep'] #Height of earthfill\n"
   ]
  },
  {
   "cell_type": "code",
   "execution_count": 9,
   "id": "b742f781",
   "metadata": {},
   "outputs": [
    {
     "data": {
      "text/html": [
       "<div>\n",
       "<style scoped>\n",
       "    .dataframe tbody tr th:only-of-type {\n",
       "        vertical-align: middle;\n",
       "    }\n",
       "\n",
       "    .dataframe tbody tr th {\n",
       "        vertical-align: top;\n",
       "    }\n",
       "\n",
       "    .dataframe thead th {\n",
       "        text-align: right;\n",
       "    }\n",
       "</style>\n",
       "<table border=\"1\" class=\"dataframe\">\n",
       "  <thead>\n",
       "    <tr style=\"text-align: right;\">\n",
       "      <th></th>\n",
       "      <th>Force(KN)</th>\n",
       "      <th>Lever arm(m)</th>\n",
       "      <th>Moment(KNm)</th>\n",
       "    </tr>\n",
       "  </thead>\n",
       "  <tbody>\n",
       "    <tr>\n",
       "      <th>Earth pressure Hz(dry)</th>\n",
       "      <td>924.601823</td>\n",
       "      <td>2.814</td>\n",
       "      <td>2601.829531</td>\n",
       "    </tr>\n",
       "    <tr>\n",
       "      <th>Earth pressure Hz(wet)</th>\n",
       "      <td>924.601823</td>\n",
       "      <td>2.211</td>\n",
       "      <td>2044.294631</td>\n",
       "    </tr>\n",
       "    <tr>\n",
       "      <th>Earth pressure Ver</th>\n",
       "      <td>373.563385</td>\n",
       "      <td>-0.675</td>\n",
       "      <td>-252.155285</td>\n",
       "    </tr>\n",
       "  </tbody>\n",
       "</table>\n",
       "</div>"
      ],
      "text/plain": [
       "                         Force(KN)  Lever arm(m)  Moment(KNm)\n",
       "Earth pressure Hz(dry)  924.601823         2.814  2601.829531\n",
       "Earth pressure Hz(wet)  924.601823         2.211  2044.294631\n",
       "Earth pressure Ver      373.563385        -0.675  -252.155285"
      ]
     },
     "metadata": {},
     "output_type": "display_data"
    }
   ],
   "source": [
    "ep = unitwt_bfill*h*ka(alpha, beta, delta, phi) #Earth pressure in KN/m^2.\n",
    "force = 0.5*ep*abut['width_of_abut']*h #Force due to earth pressure in KN.\n",
    "forc = [force*math.cos(math.radians(delta)),force*math.cos(math.radians(delta)),force*math.sin(math.radians(delta))] #Horizontal and vertical components.\n",
    "larm = [0.42*h, 0.33*h, -(abut['stem_width']+abut['be_taperwidth'])/2 ] #0.42 times height of wall above base for dry soil and 0.33 for wet.\n",
    "momen = []\n",
    "for index,i in enumerate(forc):\n",
    "    momen.append(forc[index]*larm[index])\n",
    "A3 = pd.DataFrame({'Force(KN)':forc, 'Lever arm(m)':larm,'Moment(KNm)':momen}, index = ['Earth pressure Hz(dry)','Earth pressure Hz(wet)','Earth pressure Ver'])\n",
    "display(A3)"
   ]
  },
  {
   "cell_type": "markdown",
   "id": "f12dfbbd",
   "metadata": {},
   "source": [
    "Braking Forces"
   ]
  },
  {
   "cell_type": "code",
   "execution_count": 10,
   "id": "34d5d0a5",
   "metadata": {},
   "outputs": [],
   "source": [
    "wt_70r = 1000 #Weight of 70R vehicle in KN.\n",
    "classa_wt = 554 #Weight of Class A in KN.\n",
    "pt = 1.2 #Point of application of load above the deck in m.\n",
    "factor = 0.2 #Lane fact as per clause 211.2 of IRC 6"
   ]
  },
  {
   "cell_type": "code",
   "execution_count": 11,
   "id": "a616f598",
   "metadata": {},
   "outputs": [
    {
     "data": {
      "text/html": [
       "<div>\n",
       "<style scoped>\n",
       "    .dataframe tbody tr th:only-of-type {\n",
       "        vertical-align: middle;\n",
       "    }\n",
       "\n",
       "    .dataframe tbody tr th {\n",
       "        vertical-align: top;\n",
       "    }\n",
       "\n",
       "    .dataframe thead th {\n",
       "        text-align: right;\n",
       "    }\n",
       "</style>\n",
       "<table border=\"1\" class=\"dataframe\">\n",
       "  <thead>\n",
       "    <tr style=\"text-align: right;\">\n",
       "      <th></th>\n",
       "      <th>Force(KN)</th>\n",
       "      <th>Lever arm(m)</th>\n",
       "      <th>Moment(KNm)</th>\n",
       "    </tr>\n",
       "  </thead>\n",
       "  <tbody>\n",
       "    <tr>\n",
       "      <th>Braking load</th>\n",
       "      <td>221.6</td>\n",
       "      <td>8.2</td>\n",
       "      <td>1817.12</td>\n",
       "    </tr>\n",
       "  </tbody>\n",
       "</table>\n",
       "</div>"
      ],
      "text/plain": [
       "              Force(KN)  Lever arm(m)  Moment(KNm)\n",
       "Braking load      221.6           8.2      1817.12"
      ]
     },
     "metadata": {},
     "output_type": "display_data"
    }
   ],
   "source": [
    "F = [1*wt_70r*factor, 2*classa_wt*factor]\n",
    "la = pt+abut['total_ht']\n",
    "m = max(F)*la\n",
    "A4 = pd.DataFrame({'Force(KN)':max(F), 'Lever arm(m)':la,'Moment(KNm)':m}, index = ['Braking load'])\n",
    "display(A4)"
   ]
  },
  {
   "cell_type": "markdown",
   "id": "34a7edc2",
   "metadata": {},
   "source": [
    "Temperature Forces"
   ]
  },
  {
   "cell_type": "code",
   "execution_count": 12,
   "id": "5b980bcf",
   "metadata": {},
   "outputs": [],
   "source": [
    "temp_var = 30 #Temperature variation in degree celsius\n",
    "alp = 0.000012 #Coefficient of thermal expansion in m/deg. c/m\n",
    "l = box['span'] #span of bridge\n",
    "shr_str = 0.0002 #Strain due to shrinkage.\n",
    "th_el = temp_var*alp*l #Thermal elongation in m.\n",
    "shr_el = l*shr_str #Shrinkage elongation in m.\n",
    "tot = (th_el+shr_el)/2 #Total elongation in m.\n",
    "shr_rt = 1000 #Shear rating of elastomer bearing in KN/m/m^2\n",
    "arb = 0.235644 #Area of bearing in m^2.\n",
    "htb = 0.0340 #Height of bearing in m.\n",
    "no = 3 #Number of bearings.\n",
    "f = 1.1*tot*(shr_rt*arb)/htb"
   ]
  },
  {
   "cell_type": "code",
   "execution_count": 13,
   "id": "60524c17",
   "metadata": {
    "scrolled": true
   },
   "outputs": [
    {
     "data": {
      "text/html": [
       "<div>\n",
       "<style scoped>\n",
       "    .dataframe tbody tr th:only-of-type {\n",
       "        vertical-align: middle;\n",
       "    }\n",
       "\n",
       "    .dataframe tbody tr th {\n",
       "        vertical-align: top;\n",
       "    }\n",
       "\n",
       "    .dataframe thead th {\n",
       "        text-align: right;\n",
       "    }\n",
       "</style>\n",
       "<table border=\"1\" class=\"dataframe\">\n",
       "  <thead>\n",
       "    <tr style=\"text-align: right;\">\n",
       "      <th></th>\n",
       "      <th>Force(KN)</th>\n",
       "      <th>Lever arm(m)</th>\n",
       "      <th>Moment(KNm)</th>\n",
       "    </tr>\n",
       "  </thead>\n",
       "  <tbody>\n",
       "    <tr>\n",
       "      <th>Temperature force</th>\n",
       "      <td>320.198612</td>\n",
       "      <td>4.475</td>\n",
       "      <td>1432.888788</td>\n",
       "    </tr>\n",
       "  </tbody>\n",
       "</table>\n",
       "</div>"
      ],
      "text/plain": [
       "                    Force(KN)  Lever arm(m)  Moment(KNm)\n",
       "Temperature force  320.198612         4.475  1432.888788"
      ]
     },
     "metadata": {},
     "output_type": "display_data"
    }
   ],
   "source": [
    "frc = 3*f\n",
    "La = abut['stem_ht']+abut['cap']+bearing_ht\n",
    "A5 = pd.DataFrame({'Force(KN)':frc, 'Lever arm(m)':La,'Moment(KNm)': (frc*La)}, index = ['Temperature force'])\n",
    "display(A5)\n"
   ]
  },
  {
   "cell_type": "markdown",
   "id": "d3d12c53",
   "metadata": {},
   "source": [
    "Live Load Surcharge as per clause 214.1.1.3 of IRC 6"
   ]
  },
  {
   "cell_type": "code",
   "execution_count": 14,
   "id": "2ba5dad0",
   "metadata": {},
   "outputs": [
    {
     "data": {
      "text/html": [
       "<div>\n",
       "<style scoped>\n",
       "    .dataframe tbody tr th:only-of-type {\n",
       "        vertical-align: middle;\n",
       "    }\n",
       "\n",
       "    .dataframe tbody tr th {\n",
       "        vertical-align: top;\n",
       "    }\n",
       "\n",
       "    .dataframe thead th {\n",
       "        text-align: right;\n",
       "    }\n",
       "</style>\n",
       "<table border=\"1\" class=\"dataframe\">\n",
       "  <thead>\n",
       "    <tr style=\"text-align: right;\">\n",
       "      <th></th>\n",
       "      <th>Force(KN)</th>\n",
       "      <th>Lever arm(m)</th>\n",
       "      <th>Moment(KNm)</th>\n",
       "    </tr>\n",
       "  </thead>\n",
       "  <tbody>\n",
       "    <tr>\n",
       "      <th>Force due to LL surcharge</th>\n",
       "      <td>357.211411</td>\n",
       "      <td>2.333333</td>\n",
       "      <td>833.493293</td>\n",
       "    </tr>\n",
       "  </tbody>\n",
       "</table>\n",
       "</div>"
      ],
      "text/plain": [
       "                            Force(KN)  Lever arm(m)  Moment(KNm)\n",
       "Force due to LL surcharge  357.211411      2.333333   833.493293"
      ]
     },
     "metadata": {},
     "output_type": "display_data"
    }
   ],
   "source": [
    "hl = 1.2 \n",
    "Pr = ka(alpha, beta, delta, phi)*hl*unitwt_bfill #Horizontal pressure \n",
    "A6 = pd.DataFrame({'Force(KN)':(Pr*abut['width_of_abut']*(abut['total_ht']-abut['approach_slab_dep'])), 'Lever arm(m)':abut['total_ht']/3,'Moment(KNm)':((Pr*abut['width_of_abut']*(abut['total_ht']-abut['approach_slab_dep']))*abut['total_ht']/3)}, index = ['Force due to LL surcharge'])\n",
    "display(A6)\n"
   ]
  },
  {
   "cell_type": "markdown",
   "id": "2e2079cd",
   "metadata": {},
   "source": [
    "Seismic loads as per clause 218 of IRC 6"
   ]
  },
  {
   "cell_type": "code",
   "execution_count": 15,
   "id": "269b3e10",
   "metadata": {},
   "outputs": [
    {
     "name": "stdout",
     "output_type": "stream",
     "text": [
      "11.560130794217766\n"
     ]
    }
   ],
   "source": [
    "\"\"\"Inputs\"\"\"\n",
    "zf = zone_factor(5) \n",
    "d = 1000 #Seismic importance factor as per table 19 of IRC 6\n",
    "i = 1.2\n",
    "f = 250 # Average response acceleration coefficient (see clause 218.5.1)\n",
    "rrf = 3.0 #Response reduction factor as per table 20 of IRC 6 \n",
    "ahh = ah(zf,sag(vib_period(d,f),'I'),rrf,1.2)\n",
    "av = ahh*2/3\n",
    "lam = max(math.degrees(math.atan(ahh/(1+av))),math.degrees(math.atan(ahh/(1-av))))\n",
    "print(lam)"
   ]
  },
  {
   "cell_type": "markdown",
   "id": "8c429fc3",
   "metadata": {},
   "source": [
    "Due to superstructure"
   ]
  },
  {
   "cell_type": "code",
   "execution_count": 16,
   "id": "3145628c",
   "metadata": {},
   "outputs": [
    {
     "data": {
      "text/html": [
       "<div>\n",
       "<style scoped>\n",
       "    .dataframe tbody tr th:only-of-type {\n",
       "        vertical-align: middle;\n",
       "    }\n",
       "\n",
       "    .dataframe tbody tr th {\n",
       "        vertical-align: top;\n",
       "    }\n",
       "\n",
       "    .dataframe thead th {\n",
       "        text-align: right;\n",
       "    }\n",
       "</style>\n",
       "<table border=\"1\" class=\"dataframe\">\n",
       "  <thead>\n",
       "    <tr style=\"text-align: right;\">\n",
       "      <th></th>\n",
       "      <th>Weight</th>\n",
       "      <th>Hz force(KN)</th>\n",
       "      <th>Lever arm</th>\n",
       "      <th>Moment</th>\n",
       "    </tr>\n",
       "  </thead>\n",
       "  <tbody>\n",
       "    <tr>\n",
       "      <th>Stem(rectangle)</th>\n",
       "      <td>964.6875</td>\n",
       "      <td>173.64375</td>\n",
       "      <td>1.83750</td>\n",
       "      <td>319.070390</td>\n",
       "    </tr>\n",
       "    <tr>\n",
       "      <th>Stem(triangle)</th>\n",
       "      <td>38.5875</td>\n",
       "      <td>6.94575</td>\n",
       "      <td>1.22500</td>\n",
       "      <td>8.508540</td>\n",
       "    </tr>\n",
       "    <tr>\n",
       "      <th>Cap</th>\n",
       "      <td>157.5000</td>\n",
       "      <td>28.35000</td>\n",
       "      <td>3.92500</td>\n",
       "      <td>111.273750</td>\n",
       "    </tr>\n",
       "    <tr>\n",
       "      <th>Backwall</th>\n",
       "      <td>225.2250</td>\n",
       "      <td>40.54050</td>\n",
       "      <td>5.96250</td>\n",
       "      <td>241.722730</td>\n",
       "    </tr>\n",
       "    <tr>\n",
       "      <th>Stem haunch</th>\n",
       "      <td>10.5000</td>\n",
       "      <td>1.89000</td>\n",
       "      <td>3.50833</td>\n",
       "      <td>6.630740</td>\n",
       "    </tr>\n",
       "    <tr>\n",
       "      <th>Approach slab haunch(rec)</th>\n",
       "      <td>13.1250</td>\n",
       "      <td>2.36250</td>\n",
       "      <td>6.57500</td>\n",
       "      <td>15.533440</td>\n",
       "    </tr>\n",
       "    <tr>\n",
       "      <th>Approach slab haunch(tri)</th>\n",
       "      <td>6.5625</td>\n",
       "      <td>1.18125</td>\n",
       "      <td>6.28333</td>\n",
       "      <td>7.422180</td>\n",
       "    </tr>\n",
       "    <tr>\n",
       "      <th>Total</th>\n",
       "      <td>NaN</td>\n",
       "      <td>254.91375</td>\n",
       "      <td>NaN</td>\n",
       "      <td>-470.969121</td>\n",
       "    </tr>\n",
       "  </tbody>\n",
       "</table>\n",
       "</div>"
      ],
      "text/plain": [
       "                             Weight  Hz force(KN)  Lever arm      Moment\n",
       "Stem(rectangle)            964.6875     173.64375    1.83750  319.070390\n",
       "Stem(triangle)              38.5875       6.94575    1.22500    8.508540\n",
       "Cap                        157.5000      28.35000    3.92500  111.273750\n",
       "Backwall                   225.2250      40.54050    5.96250  241.722730\n",
       "Stem haunch                 10.5000       1.89000    3.50833    6.630740\n",
       "Approach slab haunch(rec)   13.1250       2.36250    6.57500   15.533440\n",
       "Approach slab haunch(tri)    6.5625       1.18125    6.28333    7.422180\n",
       "Total                           NaN     254.91375        NaN -470.969121"
      ]
     },
     "metadata": {},
     "output_type": "display_data"
    }
   ],
   "source": [
    "H_force = []\n",
    "for index, i in enumerate(loads):\n",
    "    H_force.append(round(loads[index]*ahh,5))\n",
    "ht = [cg('rectangle', [abut['stem_width'],abut['stem_ht']], [0,0])[1], \n",
    "      cg('triangle_2', [abut['be_taperwidth'],abut['stem_ht']], [0,0])[1],\n",
    "      cg('rectangle', [abut['cap_width'],abut['cap']], [0,abut['stem_ht']])[1],\n",
    "      cg('rectangle', [abut['bw_width'],abut['backw_ht']], [0,abut['stem_ht']+abut['cap']])[1],\n",
    "      cg('triangle_1', [abut['haunch']['stem_haunch'][0],-abut['haunch']['stem_haunch'][1]], [0,abut['stem_ht']])[1],\n",
    "      cg('rectangle', [abut['haunch']['approach_slab_haunch_rec'][0],-abut['haunch']['approach_slab_haunch_rec'][1]], [0,abut['total_ht']-abut['approach_slab_dep']])[1],\n",
    "      cg('triangle_1', [abut['haunch']['approach_slab_haunch_tri'][0],-abut['haunch']['approach_slab_haunch_tri'][1]], [0,abut['total_ht']-abut['approach_slab_dep']-abut['haunch']['approach_slab_haunch_rec'][1]])[1]]\n",
    "mmt = []\n",
    "for index, i in enumerate(H_force):\n",
    "    mmt.append(round(H_force[index]*ht[index],5))\n",
    "A7 = pd.DataFrame({\"Weight\":loads, 'Hz force(KN)':H_force,\"Lever arm\":ht,\"Moment\":mmt},index = ['Stem(rectangle)','Stem(triangle)','Cap','Backwall','Stem haunch','Approach slab haunch(rec)','Approach slab haunch(tri)'])\n",
    "# display(A7)\n",
    "A7.loc[len(A7.index)] = [None, A7['Hz force(KN)'].sum(),None,A1['Moment'].sum()]\n",
    "display(A7.rename(index={7:'Total'}))"
   ]
  },
  {
   "cell_type": "markdown",
   "id": "38fbda40",
   "metadata": {},
   "source": [
    "Due to Earth pressure"
   ]
  },
  {
   "cell_type": "code",
   "execution_count": 17,
   "id": "69d29381",
   "metadata": {},
   "outputs": [
    {
     "data": {
      "text/html": [
       "<div>\n",
       "<style scoped>\n",
       "    .dataframe tbody tr th:only-of-type {\n",
       "        vertical-align: middle;\n",
       "    }\n",
       "\n",
       "    .dataframe tbody tr th {\n",
       "        vertical-align: top;\n",
       "    }\n",
       "\n",
       "    .dataframe thead th {\n",
       "        text-align: right;\n",
       "    }\n",
       "</style>\n",
       "<table border=\"1\" class=\"dataframe\">\n",
       "  <thead>\n",
       "    <tr style=\"text-align: right;\">\n",
       "      <th></th>\n",
       "      <th>Force</th>\n",
       "      <th>Lever arm</th>\n",
       "      <th>Moment</th>\n",
       "    </tr>\n",
       "  </thead>\n",
       "  <tbody>\n",
       "    <tr>\n",
       "      <th>Seismic force due to backfill</th>\n",
       "      <td>754.755322</td>\n",
       "      <td>2.233333</td>\n",
       "      <td>3371.240436</td>\n",
       "    </tr>\n",
       "  </tbody>\n",
       "</table>\n",
       "</div>"
      ],
      "text/plain": [
       "                                    Force  Lever arm       Moment\n",
       "Seismic force due to backfill  754.755322   2.233333  3371.240436"
      ]
     },
     "metadata": {},
     "output_type": "display_data"
    }
   ],
   "source": [
    "C = ca(alpha, beta, delta, phi, lam, av)\n",
    "k = ka(alpha, beta, delta, phi)\n",
    "ep = (C-k)*h*unitwt_bfill \n",
    "A8 = pd.DataFrame({\"Force\":.5*ep*h*abut['width_of_abut'],\"Lever arm\":h/3,\"Moment\":(ep*h*abut['width_of_abut'])*h/3},index = ['Seismic force due to backfill'])\n",
    "display(A8)"
   ]
  },
  {
   "cell_type": "markdown",
   "id": "f1f0e732",
   "metadata": {},
   "source": [
    "Dynamic Surcharge "
   ]
  },
  {
   "cell_type": "code",
   "execution_count": 18,
   "id": "0645cac9",
   "metadata": {},
   "outputs": [
    {
     "data": {
      "text/html": [
       "<div>\n",
       "<style scoped>\n",
       "    .dataframe tbody tr th:only-of-type {\n",
       "        vertical-align: middle;\n",
       "    }\n",
       "\n",
       "    .dataframe tbody tr th {\n",
       "        vertical-align: top;\n",
       "    }\n",
       "\n",
       "    .dataframe thead th {\n",
       "        text-align: right;\n",
       "    }\n",
       "</style>\n",
       "<table border=\"1\" class=\"dataframe\">\n",
       "  <thead>\n",
       "    <tr style=\"text-align: right;\">\n",
       "      <th></th>\n",
       "      <th>Force</th>\n",
       "      <th>Lever arm</th>\n",
       "      <th>Moment</th>\n",
       "    </tr>\n",
       "  </thead>\n",
       "  <tbody>\n",
       "    <tr>\n",
       "      <th>Dynamic Surcharge</th>\n",
       "      <td>270.360115</td>\n",
       "      <td>4.62</td>\n",
       "      <td>1249.063732</td>\n",
       "    </tr>\n",
       "  </tbody>\n",
       "</table>\n",
       "</div>"
      ],
      "text/plain": [
       "                        Force  Lever arm       Moment\n",
       "Dynamic Surcharge  270.360115       4.62  1249.063732"
      ]
     },
     "metadata": {},
     "output_type": "display_data"
    }
   ],
   "source": [
    "A9 = pd.DataFrame({\"Force\":(unitwt_bfill*(C-k)*hl*abut['width_of_abut']*h),\"Lever arm\":(0.66*abut['total_ht']),\"Moment\":((unitwt_bfill*(C-k)*hl*abut['width_of_abut']*h)*(0.66*abut['total_ht']))},index = ['Dynamic Surcharge'])\n",
    "display(A9)"
   ]
  },
  {
   "cell_type": "code",
   "execution_count": null,
   "id": "fd6875b5",
   "metadata": {},
   "outputs": [],
   "source": []
  }
 ],
 "metadata": {
  "kernelspec": {
   "display_name": "Python 3 (ipykernel)",
   "language": "python",
   "name": "python3"
  },
  "language_info": {
   "codemirror_mode": {
    "name": "ipython",
    "version": 3
   },
   "file_extension": ".py",
   "mimetype": "text/x-python",
   "name": "python",
   "nbconvert_exporter": "python",
   "pygments_lexer": "ipython3",
   "version": "3.8.1"
  }
 },
 "nbformat": 4,
 "nbformat_minor": 5
}
