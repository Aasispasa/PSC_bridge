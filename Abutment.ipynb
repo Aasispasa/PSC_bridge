{
 "cells": [
  {
   "cell_type": "code",
   "execution_count": 1,
   "id": "be4275b9",
   "metadata": {},
   "outputs": [],
   "source": [
    "import pandas as pd\n",
    "import numpy as np\n",
    "from bridge_specs import box\n",
    "from Cross import calc_centroid as cg\n"
   ]
  },
  {
   "cell_type": "code",
   "execution_count": 2,
   "id": "2bf4b55f",
   "metadata": {},
   "outputs": [],
   "source": [
    "def loader(unit_wt, length, width, height, type):\n",
    "    if type == 'r':\n",
    "        load = unit_wt*length*width*height\n",
    "    elif type == 't':\n",
    "        load = unit_wt*length*width*height*0.5\n",
    "    \n",
    "    return load\n",
    "def z(base, clr, width, x, type):\n",
    "    \"\"\"base = width of base along with taper\n",
    "       clr = overhang part from where centroid is calculated\n",
    "        width = width of object whose lever arm is required\n",
    "        object = shape of object\n",
    "    \"\"\"\n",
    "    y = []\n",
    "    if type == 'r':\n",
    "        y.append(cg('rectangle',[width,0],[x,0]))\n",
    "        return (-(clr+base/2)+y[0][0])\n",
    "    y = []\n",
    "    if type == 't1':\n",
    "        y.append(cg('triangle_2',[width,0],[x,0]))\n",
    "        return (-(clr+base/2)+y[0][0])\n",
    "    y = []\n",
    "    if type == 't2':\n",
    "        y.append(cg('triangle_1',[width,0],[x,0]))\n",
    "        return (-(clr+base/2)+y[0][0])"
   ]
  },
  {
   "cell_type": "markdown",
   "id": "60c74063",
   "metadata": {},
   "source": [
    "Abutment details"
   ]
  },
  {
   "cell_type": "code",
   "execution_count": 3,
   "id": "cadf1e4a",
   "metadata": {},
   "outputs": [],
   "source": [
    "bearing_ht = 0.3 #assumed including pedestal\n",
    "abut = {\n",
    "    'total_ht' : 7.0,\n",
    "    'wc' : 0.075,\n",
    "    'backw_ht' : box['pillar_hei']+bearing_ht+0.075, #including wearing cource\n",
    "    'cap':0.5,\n",
    "    'stem_ht': 7-box['pillar_hei']+bearing_ht+0.075-0.5,\n",
    "    'bw_width':0.3,\n",
    "    'edge_to_bearing_c':0.6,\n",
    "    'bw_to_bearing_c': 0.6,\n",
    "    'cap_width':0.3+0.6+0.6,\n",
    "    'stem_width':1.25,\n",
    "    'be_taperwidth':0.10,\n",
    "    'width_of_abut':8.4,\n",
    "    'ttl_stembase_width':1.25+0.10,\n",
    "    'approach_slab_dep':0.3,\n",
    "    'approach_slab_len':3.5,\n",
    "    'haunch':{'stem_haunch':[0.2,0.25],'approach_slab_haunch':[[0.25,0.25],[0.25,0.25]]} #list of width and height.\n",
    "}"
   ]
  },
  {
   "cell_type": "markdown",
   "id": "da40c877",
   "metadata": {},
   "source": [
    "Live Loads, Dead loads and Pedestrian loads"
   ]
  },
  {
   "cell_type": "code",
   "execution_count": 4,
   "id": "94029f3d",
   "metadata": {},
   "outputs": [],
   "source": [
    "#dummy loads\n",
    "dl = 3000 #dead loads\n",
    "ll = 1000 #live loads including impact\n",
    "pdl = 200 #pedestrian loads"
   ]
  },
  {
   "cell_type": "markdown",
   "id": "68af3bdf",
   "metadata": {},
   "source": [
    "Material properties"
   ]
  },
  {
   "cell_type": "code",
   "execution_count": 5,
   "id": "19d0004a",
   "metadata": {},
   "outputs": [],
   "source": [
    "fck = 30 #grade of concrete = M30\n",
    "fy = 500 #grade of steel = Fe500\n",
    "unitwt_conc = 25 #unit weight of concrete = 25KN/m^3\n",
    "unitwt_bfill = 20 #unit weight of backfill = 20KN/m^3"
   ]
  },
  {
   "cell_type": "markdown",
   "id": "ed1b9b8e",
   "metadata": {},
   "source": [
    "Self weight loads of abutment"
   ]
  },
  {
   "cell_type": "code",
   "execution_count": 14,
   "id": "26a60d40",
   "metadata": {},
   "outputs": [
    {
     "name": "stdout",
     "output_type": "stream",
     "text": [
      "[964.6875, 38.587500000000006, 157.5, 225.225, 10.5, [13.125, 6.5625]]\n",
      "[-0.05, 0.60833, -0.125, -0.725, -0.74167, [-1.0, -1.0]]\n",
      "                                  Load     Lever arm              Moment\n",
      "Stem(rectangle)               964.6875         -0.05          -48.234375\n",
      "Stem(triangle)                 38.5875       0.60833           23.473934\n",
      "Cap                              157.5        -0.125            -19.6875\n",
      "Backwall                       225.225        -0.725         -163.288125\n",
      "Stem haunch                       10.5      -0.74167           -7.787535\n",
      "Approach slab haunch  [13.125, 6.5625]  [-1.0, -1.0]  [-13.125, -6.5625]\n"
     ]
    }
   ],
   "source": [
    "# comp = ['stem_rect','stem_tri','cap','backwall','stem_haunch','approach_slab_haunch']\n",
    "loads = [loader(unitwt_conc,abut['stem_ht'],abut['width_of_abut'],abut['stem_width'],'r'),\n",
    "         loader(unitwt_conc,abut['stem_ht'],abut['width_of_abut'],abut['be_taperwidth'],'t'),\n",
    "         loader(unitwt_conc,abut['cap'],abut['width_of_abut'],abut['cap_width'],'r'),\n",
    "         loader(unitwt_conc,abut['backw_ht'],abut['width_of_abut'],abut['bw_width'],'r'),\n",
    "         loader(unitwt_conc,abut['haunch']['stem_haunch'][0],abut['width_of_abut'],abut['haunch']['stem_haunch'][1],'r'),\n",
    "         [loader(unitwt_conc,abut['haunch']['approach_slab_haunch'][0][0],abut['width_of_abut'],abut['haunch']['approach_slab_haunch'][0][1],'r'),loader(unitwt_conc,abut['haunch']['approach_slab_haunch'][1][0],abut['width_of_abut'],abut['haunch']['approach_slab_haunch'][1][1],'t')]]\n",
    "lever_arm = [round(z(abut['ttl_stembase_width'],abut['haunch']['stem_haunch'][0],abut['stem_width'],abut['haunch']['stem_haunch'][0],'r'),5),\n",
    "            round(z(abut['ttl_stembase_width'],abut['haunch']['stem_haunch'][0],abut['be_taperwidth'],abut['haunch']['stem_haunch'][0]+abut['stem_width'],'t1'),5),\n",
    "            round(z(abut['ttl_stembase_width'],abut['haunch']['stem_haunch'][0],abut['cap_width'],0,'r'),5),\n",
    "            round(z(abut['ttl_stembase_width'],abut['haunch']['stem_haunch'][0],abut['bw_width'],0,'r'),5),\n",
    "            round(z(abut['ttl_stembase_width'],abut['haunch']['stem_haunch'][0],abut['haunch']['stem_haunch'][0],0,'t2'),5),\n",
    "            [round(z(abut['ttl_stembase_width'],abut['haunch']['stem_haunch'][0],-abut['haunch']['approach_slab_haunch'][0][0],0,'r'),5),\n",
    "            round(z(abut['ttl_stembase_width'],abut['haunch']['stem_haunch'][0],-abut['haunch']['approach_slab_haunch'][0][1],0,'r'),5)]]\n",
    "print(loads)\n",
    "print(lever_arm)\n",
    "moments = []\n",
    "for index,i in enumerate(loads):\n",
    "    if isinstance(i,float)==True:\n",
    "        moments.append(loads[index]*lever_arm[index])\n",
    "    elif isinstance(i,list)==True:\n",
    "        temp=[]\n",
    "        for j in range(len(i)):\n",
    "            temp.append(loads[index][j]*lever_arm[index][j])\n",
    "        moments.append(temp)\n",
    "A1 = pd.DataFrame({\"Load\":loads,\"Lever arm\":lever_arm,\"Moment\":moments},index = ['Stem(rectangle)','Stem(triangle)','Cap','Backwall','Stem haunch','Approach slab haunch'])\n",
    "print(A1)\n",
    "            \n",
    "    \n",
    "    "
   ]
  },
  {
   "cell_type": "code",
   "execution_count": null,
   "id": "3d58d016",
   "metadata": {},
   "outputs": [],
   "source": []
  }
 ],
 "metadata": {
  "kernelspec": {
   "display_name": "Python 3 (ipykernel)",
   "language": "python",
   "name": "python3"
  },
  "language_info": {
   "codemirror_mode": {
    "name": "ipython",
    "version": 3
   },
   "file_extension": ".py",
   "mimetype": "text/x-python",
   "name": "python",
   "nbconvert_exporter": "python",
   "pygments_lexer": "ipython3",
   "version": "3.8.6"
  }
 },
 "nbformat": 4,
 "nbformat_minor": 5
}
