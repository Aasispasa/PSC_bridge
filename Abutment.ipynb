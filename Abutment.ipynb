{
 "cells": [
  {
   "cell_type": "code",
   "execution_count": 1,
   "id": "be4275b9",
   "metadata": {},
   "outputs": [],
   "source": [
    "import pandas as pd\n",
    "import numpy as np\n",
    "import math\n",
    "from bridge_specs import box\n",
    "from Cross import calc_centroid as cg\n",
    "from irc6_2007 import ka\n",
    "\n"
   ]
  },
  {
   "cell_type": "code",
   "execution_count": 2,
   "id": "2bf4b55f",
   "metadata": {},
   "outputs": [],
   "source": [
    "def loader(unit_wt, length, width, height, type):\n",
    "    if type == 'r':\n",
    "        load = unit_wt*length*width*height\n",
    "    elif type == 't':\n",
    "        load = unit_wt*length*width*height*0.5\n",
    "    \n",
    "    return load\n",
    "def z(base, clr, width, x, type):\n",
    "    \"\"\"base = width of base along with taper\n",
    "       clr = overhang part from where centroid is calculated\n",
    "        width = width of object whose lever arm is required\n",
    "        object = shape of object\n",
    "    \"\"\"\n",
    "    y = []\n",
    "    if type == 'r':\n",
    "        y.append(cg('rectangle',[width,0],[x,0]))\n",
    "        return (-(clr+base/2)+y[0][0])\n",
    "    y = []\n",
    "    if type == 't1':\n",
    "        y.append(cg('triangle_2',[width,0],[x,0]))\n",
    "        return (-(clr+base/2)+y[0][0])\n",
    "    y = []\n",
    "    if type == 't2':\n",
    "        y.append(cg('triangle_1',[width,0],[x,0]))\n",
    "        return (-(clr+base/2)+y[0][0])"
   ]
  },
  {
   "cell_type": "markdown",
   "id": "60c74063",
   "metadata": {},
   "source": [
    "Abutment details"
   ]
  },
  {
   "cell_type": "code",
   "execution_count": 3,
   "id": "cadf1e4a",
   "metadata": {},
   "outputs": [],
   "source": [
    "bearing_ht = 0.3 #assumed including pedestal\n",
    "abut = {\n",
    "    'total_ht' : 7.0,\n",
    "    'wc' : 0.075,\n",
    "    'backw_ht' : box['pillar_hei']+bearing_ht+0.075, #including wearing cource\n",
    "    'cap':0.5,\n",
    "    'stem_ht': 7-box['pillar_hei']+bearing_ht+0.075-0.5,\n",
    "    'bw_width':0.3,\n",
    "    'edge_to_bearing_c':0.6,\n",
    "    'bw_to_bearing_c': 0.6,\n",
    "    'cap_width':0.3+0.6+0.6,\n",
    "    'stem_width':1.25,\n",
    "    'be_taperwidth':0.10,\n",
    "    'width_of_abut':8.4,\n",
    "    'ttl_stembase_width':1.25+0.10,\n",
    "    'approach_slab_dep':0.3,\n",
    "    'approach_slab_len':3.5,\n",
    "    'haunch':{'stem_haunch':[0.2,0.25],'approach_slab_haunch_rec':[0.25,0.25], 'approach_slab_haunch_tri':[0.25,0.25]} #list of width and height.\n",
    "}"
   ]
  },
  {
   "cell_type": "markdown",
   "id": "da40c877",
   "metadata": {},
   "source": [
    "Live Loads, Dead loads and Pedestrian loads"
   ]
  },
  {
   "cell_type": "code",
   "execution_count": 4,
   "id": "94029f3d",
   "metadata": {},
   "outputs": [],
   "source": [
    "#dummy loads\n",
    "dl = 3000 #dead loads\n",
    "ll = 1000 #live loads including impact\n",
    "pdl = 200 #pedestrian loads\n",
    "sdl=250 #Surface Loads"
   ]
  },
  {
   "cell_type": "markdown",
   "id": "68af3bdf",
   "metadata": {},
   "source": [
    "Material properties"
   ]
  },
  {
   "cell_type": "code",
   "execution_count": 5,
   "id": "19d0004a",
   "metadata": {},
   "outputs": [],
   "source": [
    "fck = 30 #grade of concrete = M30\n",
    "fy = 500 #grade of steel = Fe500\n",
    "unitwt_conc = 25 #unit weight of concrete = 25KN/m^3\n",
    "unitwt_bfill = 20 #unit weight of backfill = 20KN/m^3"
   ]
  },
  {
   "cell_type": "markdown",
   "id": "ed1b9b8e",
   "metadata": {},
   "source": [
    "Self weight loads of abutment"
   ]
  },
  {
   "cell_type": "code",
   "execution_count": 6,
   "id": "26a60d40",
   "metadata": {},
   "outputs": [
    {
     "data": {
      "text/html": [
       "<div>\n",
       "<style scoped>\n",
       "    .dataframe tbody tr th:only-of-type {\n",
       "        vertical-align: middle;\n",
       "    }\n",
       "\n",
       "    .dataframe tbody tr th {\n",
       "        vertical-align: top;\n",
       "    }\n",
       "\n",
       "    .dataframe thead th {\n",
       "        text-align: right;\n",
       "    }\n",
       "</style>\n",
       "<table border=\"1\" class=\"dataframe\">\n",
       "  <thead>\n",
       "    <tr style=\"text-align: right;\">\n",
       "      <th></th>\n",
       "      <th>Load</th>\n",
       "      <th>Lever arm</th>\n",
       "      <th>Moment</th>\n",
       "    </tr>\n",
       "  </thead>\n",
       "  <tbody>\n",
       "    <tr>\n",
       "      <th>Stem(rectangle)</th>\n",
       "      <td>964.6875</td>\n",
       "      <td>-0.05000</td>\n",
       "      <td>-48.234375</td>\n",
       "    </tr>\n",
       "    <tr>\n",
       "      <th>Stem(triangle)</th>\n",
       "      <td>38.5875</td>\n",
       "      <td>0.60833</td>\n",
       "      <td>23.473934</td>\n",
       "    </tr>\n",
       "    <tr>\n",
       "      <th>Cap</th>\n",
       "      <td>157.5000</td>\n",
       "      <td>-0.12500</td>\n",
       "      <td>-19.687500</td>\n",
       "    </tr>\n",
       "    <tr>\n",
       "      <th>Backwall</th>\n",
       "      <td>225.2250</td>\n",
       "      <td>-0.72500</td>\n",
       "      <td>-163.288125</td>\n",
       "    </tr>\n",
       "    <tr>\n",
       "      <th>Stem haunch</th>\n",
       "      <td>10.5000</td>\n",
       "      <td>-0.74167</td>\n",
       "      <td>-7.787535</td>\n",
       "    </tr>\n",
       "    <tr>\n",
       "      <th>Approach slab haunch(rec)</th>\n",
       "      <td>13.1250</td>\n",
       "      <td>-1.00000</td>\n",
       "      <td>-13.125000</td>\n",
       "    </tr>\n",
       "    <tr>\n",
       "      <th>Approach slab haunch(tri)</th>\n",
       "      <td>6.5625</td>\n",
       "      <td>-1.04167</td>\n",
       "      <td>-6.835959</td>\n",
       "    </tr>\n",
       "    <tr>\n",
       "      <th>Total</th>\n",
       "      <td>1416.1875</td>\n",
       "      <td>NaN</td>\n",
       "      <td>-235.484560</td>\n",
       "    </tr>\n",
       "  </tbody>\n",
       "</table>\n",
       "</div>"
      ],
      "text/plain": [
       "                                Load  Lever arm      Moment\n",
       "Stem(rectangle)             964.6875   -0.05000  -48.234375\n",
       "Stem(triangle)               38.5875    0.60833   23.473934\n",
       "Cap                         157.5000   -0.12500  -19.687500\n",
       "Backwall                    225.2250   -0.72500 -163.288125\n",
       "Stem haunch                  10.5000   -0.74167   -7.787535\n",
       "Approach slab haunch(rec)    13.1250   -1.00000  -13.125000\n",
       "Approach slab haunch(tri)     6.5625   -1.04167   -6.835959\n",
       "Total                      1416.1875        NaN -235.484560"
      ]
     },
     "metadata": {},
     "output_type": "display_data"
    }
   ],
   "source": [
    "# comp = ['stem_rect','stem_tri','cap','backwall','stem_haunch','approach_slab_haunch']\n",
    "loads = [loader(unitwt_conc,abut['stem_ht'],abut['width_of_abut'],abut['stem_width'],'r'),\n",
    "         loader(unitwt_conc,abut['stem_ht'],abut['width_of_abut'],abut['be_taperwidth'],'t'),\n",
    "         loader(unitwt_conc,abut['cap'],abut['width_of_abut'],abut['cap_width'],'r'),\n",
    "         loader(unitwt_conc,abut['backw_ht'],abut['width_of_abut'],abut['bw_width'],'r'),\n",
    "         loader(unitwt_conc,abut['haunch']['stem_haunch'][0],abut['width_of_abut'],abut['haunch']['stem_haunch'][1],'r'),\n",
    "         loader(unitwt_conc,abut['haunch']['approach_slab_haunch_rec'][0],abut['width_of_abut'],abut['haunch']['approach_slab_haunch_rec'][1],'r'),\n",
    "          loader(unitwt_conc,abut['haunch']['approach_slab_haunch_tri'][0],abut['width_of_abut'],abut['haunch']['approach_slab_haunch_tri'][1],'t')]\n",
    "lever_arm = [round(z(abut['ttl_stembase_width'],abut['haunch']['stem_haunch'][0],abut['stem_width'],abut['haunch']['stem_haunch'][0],'r'),5),\n",
    "            round(z(abut['ttl_stembase_width'],abut['haunch']['stem_haunch'][0],abut['be_taperwidth'],abut['haunch']['stem_haunch'][0]+abut['stem_width'],'t1'),5),\n",
    "            round(z(abut['ttl_stembase_width'],abut['haunch']['stem_haunch'][0],abut['cap_width'],0,'r'),5),\n",
    "            round(z(abut['ttl_stembase_width'],abut['haunch']['stem_haunch'][0],abut['bw_width'],0,'r'),5),\n",
    "            round(z(abut['ttl_stembase_width'],abut['haunch']['stem_haunch'][0],abut['haunch']['stem_haunch'][0],0,'t2'),5),\n",
    "            round(z(abut['ttl_stembase_width'],abut['haunch']['stem_haunch'][0],-abut['haunch']['approach_slab_haunch_rec'][0],0,'r'),5),\n",
    "            round(z(abut['ttl_stembase_width'],abut['haunch']['stem_haunch'][0],-abut['haunch']['approach_slab_haunch_tri'][0],0,'t2'),5)]\n",
    "moments = []\n",
    "for index,i in enumerate(loads):\n",
    "    moments.append(loads[index]*lever_arm[index])\n",
    "A1 = pd.DataFrame({\"Load\":loads,\"Lever arm\":lever_arm,\"Moment\":moments},index = ['Stem(rectangle)','Stem(triangle)','Cap','Backwall','Stem haunch','Approach slab haunch(rec)','Approach slab haunch(tri)'])\n",
    "A1.loc[len(A1.index)] = [A1['Load'].sum(),None,A1['Moment'].sum()]\n",
    "display(A1.rename(index={7:'Total'}))"
   ]
  },
  {
   "cell_type": "markdown",
   "id": "4e66066b",
   "metadata": {},
   "source": [
    "Loads from superstructure"
   ]
  },
  {
   "cell_type": "code",
   "execution_count": 7,
   "id": "0b21359c",
   "metadata": {},
   "outputs": [
    {
     "data": {
      "text/html": [
       "<div>\n",
       "<style scoped>\n",
       "    .dataframe tbody tr th:only-of-type {\n",
       "        vertical-align: middle;\n",
       "    }\n",
       "\n",
       "    .dataframe tbody tr th {\n",
       "        vertical-align: top;\n",
       "    }\n",
       "\n",
       "    .dataframe thead th {\n",
       "        text-align: right;\n",
       "    }\n",
       "</style>\n",
       "<table border=\"1\" class=\"dataframe\">\n",
       "  <thead>\n",
       "    <tr style=\"text-align: right;\">\n",
       "      <th></th>\n",
       "      <th>Load</th>\n",
       "      <th>Lever arm</th>\n",
       "      <th>Moment</th>\n",
       "    </tr>\n",
       "  </thead>\n",
       "  <tbody>\n",
       "    <tr>\n",
       "      <th>Dead load</th>\n",
       "      <td>3000</td>\n",
       "      <td>0.025</td>\n",
       "      <td>75.00</td>\n",
       "    </tr>\n",
       "    <tr>\n",
       "      <th>Live load</th>\n",
       "      <td>1200</td>\n",
       "      <td>0.025</td>\n",
       "      <td>30.00</td>\n",
       "    </tr>\n",
       "    <tr>\n",
       "      <th>Surface load</th>\n",
       "      <td>250</td>\n",
       "      <td>0.025</td>\n",
       "      <td>6.25</td>\n",
       "    </tr>\n",
       "  </tbody>\n",
       "</table>\n",
       "</div>"
      ],
      "text/plain": [
       "              Load  Lever arm  Moment\n",
       "Dead load     3000      0.025   75.00\n",
       "Live load     1200      0.025   30.00\n",
       "Surface load   250      0.025    6.25"
      ]
     },
     "metadata": {},
     "output_type": "display_data"
    }
   ],
   "source": [
    "load = [dl,ll+pdl,sdl]\n",
    "arm = [round(z(abut['ttl_stembase_width'],abut['haunch']['stem_haunch'][0],abut['edge_to_bearing_c']+abut['bw_to_bearing_c'],abut['bw_width'],'r'),5),\n",
    "      round(z(abut['ttl_stembase_width'],abut['haunch']['stem_haunch'][0],abut['edge_to_bearing_c']+abut['bw_to_bearing_c'],abut['bw_width'],'r'),5),\n",
    "      round(z(abut['ttl_stembase_width'],abut['haunch']['stem_haunch'][0],abut['edge_to_bearing_c']+abut['bw_to_bearing_c'],abut['bw_width'],'r'),5)]\n",
    "moment = []\n",
    "for index,i in enumerate(load):\n",
    "    moment.append(load[index]*arm[index])\n",
    "A2 = pd.DataFrame({'Load':load, 'Lever arm':arm,'Moment':moment}, index = ['Dead load','Live load','Surface load'])\n",
    "display(A2)"
   ]
  },
  {
   "cell_type": "markdown",
   "id": "5772d76b",
   "metadata": {},
   "source": [
    "Earth Pressure as per clause 214 of IRC:6"
   ]
  },
  {
   "cell_type": "code",
   "execution_count": 8,
   "id": "a813f44c",
   "metadata": {},
   "outputs": [],
   "source": [
    "phi = 33 #Angle of internal friction of soil\n",
    "alpha = 0 #Angle which earth face of the wal makes with the vertical of the wall\n",
    "beta = 0 #Slope of earth fill\n",
    "delta = 2/3*phi if 2/3*phi<22.5 else 22.5 #Angle of friction between earth and earth fill\n",
    "h = abut['total_ht']-abut['approach_slab_dep'] #Height of earthfill\n"
   ]
  },
  {
   "cell_type": "code",
   "execution_count": 23,
   "id": "b742f781",
   "metadata": {},
   "outputs": [
    {
     "data": {
      "text/html": [
       "<div>\n",
       "<style scoped>\n",
       "    .dataframe tbody tr th:only-of-type {\n",
       "        vertical-align: middle;\n",
       "    }\n",
       "\n",
       "    .dataframe tbody tr th {\n",
       "        vertical-align: top;\n",
       "    }\n",
       "\n",
       "    .dataframe thead th {\n",
       "        text-align: right;\n",
       "    }\n",
       "</style>\n",
       "<table border=\"1\" class=\"dataframe\">\n",
       "  <thead>\n",
       "    <tr style=\"text-align: right;\">\n",
       "      <th></th>\n",
       "      <th>Force(KN)</th>\n",
       "      <th>Lever arm(m)</th>\n",
       "      <th>Moment(KNm)</th>\n",
       "    </tr>\n",
       "  </thead>\n",
       "  <tbody>\n",
       "    <tr>\n",
       "      <th>Earth pressure Hz(dry)</th>\n",
       "      <td>924.601823</td>\n",
       "      <td>2.814</td>\n",
       "      <td>2601.829531</td>\n",
       "    </tr>\n",
       "    <tr>\n",
       "      <th>Earth pressure Hz(wet)</th>\n",
       "      <td>924.601823</td>\n",
       "      <td>2.211</td>\n",
       "      <td>2044.294631</td>\n",
       "    </tr>\n",
       "    <tr>\n",
       "      <th>Earth pressure Ver</th>\n",
       "      <td>373.563385</td>\n",
       "      <td>-0.675</td>\n",
       "      <td>-252.155285</td>\n",
       "    </tr>\n",
       "  </tbody>\n",
       "</table>\n",
       "</div>"
      ],
      "text/plain": [
       "                         Force(KN)  Lever arm(m)  Moment(KNm)\n",
       "Earth pressure Hz(dry)  924.601823         2.814  2601.829531\n",
       "Earth pressure Hz(wet)  924.601823         2.211  2044.294631\n",
       "Earth pressure Ver      373.563385        -0.675  -252.155285"
      ]
     },
     "metadata": {},
     "output_type": "display_data"
    }
   ],
   "source": [
    "ep = unitwt_bfill*h*ka(alpha, beta, delta, phi) #Earth pressure in KN/m^2.\n",
    "force = 0.5*ep*abut['width_of_abut']*h #Force due to earth pressure in KN.\n",
    "forc = [force*math.cos(math.radians(delta)),force*math.cos(math.radians(delta)),force*math.sin(math.radians(delta))] #Horizontal and vertical components.\n",
    "larm = [0.42*h, 0.33*h, -(abut['stem_width']+abut['be_taperwidth'])/2 ] #0.42 times height of wall above base for dry soil and 0.33 for wet.\n",
    "momen = []\n",
    "for index,i in enumerate(forc):\n",
    "    momen.append(forc[index]*larm[index])\n",
    "A3 = pd.DataFrame({'Force(KN)':forc, 'Lever arm(m)':larm,'Moment(KNm)':momen}, index = ['Earth pressure Hz(dry)','Earth pressure Hz(wet)','Earth pressure Ver'])\n",
    "display(A3)"
   ]
  },
  {
   "cell_type": "code",
   "execution_count": null,
   "id": "15ac92b0",
   "metadata": {},
   "outputs": [],
   "source": []
  }
 ],
 "metadata": {
  "kernelspec": {
   "display_name": "Python 3 (ipykernel)",
   "language": "python",
   "name": "python3"
  },
  "language_info": {
   "codemirror_mode": {
    "name": "ipython",
    "version": 3
   },
   "file_extension": ".py",
   "mimetype": "text/x-python",
   "name": "python",
   "nbconvert_exporter": "python",
   "pygments_lexer": "ipython3",
   "version": "3.8.6"
  }
 },
 "nbformat": 4,
 "nbformat_minor": 5
}
