{
 "cells": [
  {
   "cell_type": "code",
   "execution_count": 1,
   "id": "be4275b9",
   "metadata": {},
   "outputs": [
    {
     "name": "stdout",
     "output_type": "stream",
     "text": [
      "                     Length  Height      Position     Area      Centroid  \\\n",
      "Name                                                                       \n",
      "left Pillar            0.60    3.20    [3.5, 3.5]  1.92000    [3.8, 5.1]   \n",
      "right pillar           0.60    3.20    [6.5, 3.5]  1.92000    [6.8, 5.1]   \n",
      "bottom slab            2.40    0.50    [4.1, 3.5]  1.20000   [5.3, 3.75]   \n",
      "top slab               2.40    0.30    [4.1, 6.4]  0.72000   [5.3, 6.55]   \n",
      "left cantilever        1.80    0.15   [1.7, 6.55]  0.27000  [2.6, 6.625]   \n",
      "right cantilever       1.80    0.15   [7.1, 6.55]  0.27000  [8.0, 6.625]   \n",
      "left triangle          1.80    0.30   [1.7, 6.25]  0.27000   [2.9, 6.45]   \n",
      "right triangle         1.80    0.30   [7.1, 6.25]  0.27000   [7.7, 6.45]   \n",
      "left top fillet        0.45    0.15   [4.1, 6.25]  0.03375  [4.25, 6.35]   \n",
      "right top fillet       0.45    0.15  [6.05, 6.25]  0.03375  [6.35, 6.35]   \n",
      "left bottom fillet     0.45    0.15    [4.1, 4.0]  0.03375  [4.25, 4.05]   \n",
      "right bottom fillet    0.45    0.15   [6.05, 4.0]  0.03375  [6.35, 4.05]   \n",
      "\n",
      "                                    I                   Ah2 Object Type  \n",
      "Name                                                                     \n",
      "left Pillar          [1.6384, 0.0576]      [0.038679, 4.32]   rectangle  \n",
      "right pillar         [1.6384, 0.0576]      [0.038679, 4.32]   rectangle  \n",
      "bottom slab            [0.025, 0.576]       [2.671044, 0.0]   rectangle  \n",
      "top slab             [0.0054, 0.3456]       [1.231945, 0.0]   rectangle  \n",
      "left cantilever      [0.0005, 0.0729]    [0.516475, 1.9683]   rectangle  \n",
      "right cantilever     [0.0005, 0.0729]    [0.516475, 1.9683]   rectangle  \n",
      "left triangle        [0.0013, 0.0486]    [0.394044, 1.5552]  triangle_1  \n",
      "right triangle       [0.0013, 0.0486]    [0.394044, 1.5552]  triangle_3  \n",
      "left top fillet         [0.0, 0.0004]  [0.041439, 0.037209]  triangle_3  \n",
      "right top fillet        [0.0, 0.0004]  [0.041439, 0.037209]  triangle_1  \n",
      "left bottom fillet      [0.0, 0.0004]  [0.047949, 0.037209]  triangle_2  \n",
      "right bottom fillet     [0.0, 0.0004]  [0.047949, 0.037209]  triangle_4  \n"
     ]
    }
   ],
   "source": [
    "import pandas as pd\n",
    "from bridge_specs import box\n",
    "from Cross import calc_centroid as cg\n"
   ]
  },
  {
   "cell_type": "code",
   "execution_count": 28,
   "id": "2bf4b55f",
   "metadata": {},
   "outputs": [
    {
     "name": "stdout",
     "output_type": "stream",
     "text": [
      "1.28333\n",
      "0.4083300000000001\n"
     ]
    }
   ],
   "source": [
    "def loader(unit_wt, length, width, height):\n",
    "    load = unit_wt*length*width*height\n",
    "    return load\n",
    "def z(base, clr, width, x, type):\n",
    "    \"\"\"base = width of base along with taper\n",
    "       clr = overhang part from where centroid is calculated\n",
    "        width = width of object whose lever arm is required\n",
    "        object = shape of object\n",
    "    \"\"\"\n",
    "    y = []\n",
    "    if type == 'r':\n",
    "        y.append(cg('rectangle',[width,0],[x,0]))\n",
    "        print(y[0][0])\n",
    "        return (-(clr+base/2)+y[0][0])\n",
    "    y = []\n",
    "    if type == 't1':\n",
    "        y.append(cg('triangle_2',[width,0],[x,0]))\n",
    "        print(y[0][0])\n",
    "        return (-(clr+base/2)+y[0][0])\n",
    "    y = []\n",
    "    if type == 't2':\n",
    "        y.append(cg('triangle_1',[width,0],[x,0]))\n",
    "        return (-(clr+base/2)+y[0][0])\n",
    "               \n",
    "\n",
    "print(z(1.35,0.2,0.1,1.25,'t1'))    "
   ]
  },
  {
   "cell_type": "markdown",
   "id": "60c74063",
   "metadata": {},
   "source": [
    "Abutment details"
   ]
  },
  {
   "cell_type": "code",
   "execution_count": 3,
   "id": "cadf1e4a",
   "metadata": {},
   "outputs": [
    {
     "name": "stdout",
     "output_type": "stream",
     "text": [
      "3.675\n"
     ]
    }
   ],
   "source": [
    "bearing_ht = 0.3 #assumed including pedestal\n",
    "abut = {\n",
    "    'total_ht' : 7.0,\n",
    "    'wc' : 0.075,\n",
    "    'backw_ht' : box['pillar_hei']+bearing_ht+0.075, #including wearing cource\n",
    "    'cap':0.5,\n",
    "    'stem_ht': 7-box['pillar_hei']+bearing_ht+0.075-0.5,\n",
    "    'bw_width':0.3,\n",
    "    'edge_to_bearing_c':0.6,\n",
    "    'bw_to_bearing_c': 0.6,\n",
    "    'cap_width':0.3+0.6+0.6,\n",
    "    'stem_width':1.25,\n",
    "    'be_taperwidth':0.10,\n",
    "    'width_of_abut':8.4,\n",
    "    'ttl_stembase_width':1.25+0.10,\n",
    "    'approach_slab_dep':0.3,\n",
    "    'approach_slab_len':3.5,\n",
    "    'haunch':{'stem_haunch':[0.2,0.25],'approach':[0.25,0.25],'slab_haunch':[0.25,0.25]} #list of width and height.\n",
    "}\n",
    "print(abut['stem_ht'])"
   ]
  },
  {
   "cell_type": "markdown",
   "id": "da40c877",
   "metadata": {},
   "source": [
    "Live Loads, Dead loads and Pedestrian loads"
   ]
  },
  {
   "cell_type": "code",
   "execution_count": 4,
   "id": "94029f3d",
   "metadata": {},
   "outputs": [],
   "source": [
    "#dummy loads\n",
    "dl = 3000 #dead loads\n",
    "ll = 1000 #live loads including impact\n",
    "pdl = 200 #pedestrian loads"
   ]
  },
  {
   "cell_type": "markdown",
   "id": "68af3bdf",
   "metadata": {},
   "source": [
    "Material properties"
   ]
  },
  {
   "cell_type": "code",
   "execution_count": 5,
   "id": "19d0004a",
   "metadata": {},
   "outputs": [],
   "source": [
    "fck = 30 #grade of concrete = M30\n",
    "fy = 500 #grade of steel = Fe500\n",
    "unitwt_conc = 25 #unit weight of concrete = 25KN/m^3\n",
    "unitwt_bfill = 20 #unit weight of backfill = 20KN/m^3"
   ]
  },
  {
   "cell_type": "markdown",
   "id": "ed1b9b8e",
   "metadata": {},
   "source": [
    "Self weight loads of abutment"
   ]
  },
  {
   "cell_type": "code",
   "execution_count": 6,
   "id": "26a60d40",
   "metadata": {},
   "outputs": [],
   "source": [
    "# Components = ['stem_rect','stem_tri','cap','backwall','stem_haunch','approach_slab_haunch']\n",
    "# loads = [loader(unitwt_conc,abut['stem_ht'],abut['width_of_abut'],abut['stem_width']),\n",
    "#          loader(unitwt_conc,abut['stem_ht'],abut['width_of_abut'],abut['be_taperwidth']),\n",
    "#          loader(unitwt_conc,abut['cap'],abut['width_of_abut'],abut['cap_width']),\n",
    "#          loader(unitwt_conc,abut['backw_ht'],abut['width_of_abut'],abut['bw_width']),\n",
    "#          loader(unitwt_conc,abut['haunch']['stem_haunch'][0],abut['width_of_abut'],abut['haunch']['stem_haunch'][1]),\n",
    "#          [loader(unitwt_conc,abut['haunch']['approach'][0],abut['width_of_abut'],abut['haunch']['approach'][1]),loader(unitwt_conc,abut['stem_ht'],abut['haunch']['slab_haunch'][0],abut['haunch']['slab_haunch'][1])]]\n",
    "lever_arm = [z(abut['ttl_stembase_width'],abut['haunch']['stem_haunch'][0],abut['stem_width'],)]"
   ]
  },
  {
   "cell_type": "code",
   "execution_count": null,
   "id": "e7b95025",
   "metadata": {},
   "outputs": [],
   "source": []
  }
 ],
 "metadata": {
  "kernelspec": {
   "display_name": "Python 3 (ipykernel)",
   "language": "python",
   "name": "python3"
  },
  "language_info": {
   "codemirror_mode": {
    "name": "ipython",
    "version": 3
   },
   "file_extension": ".py",
   "mimetype": "text/x-python",
   "name": "python",
   "nbconvert_exporter": "python",
   "pygments_lexer": "ipython3",
   "version": "3.8.1"
  }
 },
 "nbformat": 4,
 "nbformat_minor": 5
}
