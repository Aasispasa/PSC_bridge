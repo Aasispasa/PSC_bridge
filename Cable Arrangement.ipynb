{
 "cells": [
  {
   "cell_type": "code",
   "execution_count": 26,
   "metadata": {},
   "outputs": [],
   "source": [
    "from Cross import section\n",
    "import math\n"
   ]
  },
  {
   "cell_type": "code",
   "execution_count": null,
   "metadata": {},
   "outputs": [],
   "source": []
  },
  {
   "cell_type": "code",
   "execution_count": 93,
   "metadata": {},
   "outputs": [
    {
     "name": "stdout",
     "output_type": "stream",
     "text": [
      "4.0\n",
      "6.0\n",
      "5.0\n",
      "4.0\n"
     ]
    }
   ],
   "source": [
    "fck=35\n",
    "if fck<45:\n",
    "    mina=0.280+(45-fck)*4/1000\n",
    "    minb=0.200+(45-fck)*4/1000\n",
    "\n",
    "else:\n",
    "    mina=0.280\n",
    "    minb=0.220\n",
    "\n",
    "\n",
    "b=section.height[2]/2\n",
    "if b<minb:\n",
    "    raise ValueError (\"Very bad input section\")\n",
    "a=0.450\n",
    "if a<mina:\n",
    "    raise ValueError (\"Very bad input section\")\n",
    "e=section.length[0]/2\n",
    "if e<=b:\n",
    "    raise ValueError (\"Very bad input section\")\n",
    "\n",
    "cc=round(section.position[1][0]+section.length[1]-section.position[0][0]-section.length[0],3)\n",
    "\n",
    "n=14\n",
    "\n",
    "if n%4==0:\n",
    "    ntop=n/4\n",
    "    nbot=n/2\n",
    "elif n%2==0 and n%4!=0:\n",
    "    ntop=(n/2+1)/2\n",
    "    nbot=n/2-1\n",
    "else:\n",
    "    if (n+1)%4==0:\n",
    "        ntop=(n+1)/4\n",
    "        nbot=(n-1)/2\n",
    "    elif (n+1)%2==0 and (n+1)%4!=0:\n",
    "        ntop=(n-1)/4\n",
    "        nbot=(n+1)/2\n",
    "    \n",
    "\n",
    "\n",
    "print(ntop)\n",
    "print(nbot)\n",
    "\n",
    "adash=cc/(nbot+1)\n",
    "while adash<a:\n",
    "    ntop=ntop+1\n",
    "    nbot=nbot-2\n",
    "    adash=cc/(nbot+1)\n",
    "\n",
    "print(ntop)\n",
    "print(nbot)\n"
   ]
  },
  {
   "cell_type": "code",
   "execution_count": 65,
   "metadata": {},
   "outputs": [
    {
     "name": "stdout",
     "output_type": "stream",
     "text": [
      "[[3.8, 4.2], [3.8, 4.65], [3.8, 5.1], [6.8, 4.2], [6.8, 4.65], [6.8, 5.1]]\n",
      "[[4.3, 3.75], [4.8, 3.75], [5.3, 3.75], [5.8, 3.75], [6.3, 3.75]]\n"
     ]
    },
    {
     "data": {
      "text/plain": [
       "[[3.8, 4.2],\n",
       " [3.8, 4.65],\n",
       " [3.8, 5.1],\n",
       " [6.8, 4.2],\n",
       " [6.8, 4.65],\n",
       " [6.8, 5.1],\n",
       " [4.3, 3.75],\n",
       " [4.8, 3.75],\n",
       " [5.3, 3.75],\n",
       " [5.8, 3.75],\n",
       " [6.3, 3.75]]"
      ]
     },
     "execution_count": 65,
     "metadata": {},
     "output_type": "execute_result"
    }
   ],
   "source": [
    "toppos=[]\n",
    "bottompos=[]\n",
    "for i in range(ntop):\n",
    "    if i==0:\n",
    "        toppos.append([x+y for x,y in zip(section.position[0],[e,b+a])])\n",
    "    if i>0:\n",
    "        toppos.append([round(x+y,4) for x,y in zip(toppos[i-1],[0,a])])\n",
    "for i in range(len(toppos)):\n",
    "    toppos.append([x+y for x,y in zip(toppos[i],[cc,0])])\n",
    "print (toppos)\n",
    "for i in range(nbot):\n",
    "    if i==0:\n",
    "        bottompos.append([x+y for x,y in zip(section.position[0],[e+adash,b])])\n",
    "    if i>0:\n",
    "        bottompos.append([x+y for x,y in zip(bottompos[i-1],[adash,0])])\n",
    "print(bottompos)\n",
    "cablepos=toppos+bottompos\n",
    "cablepos"
   ]
  },
  {
   "cell_type": "code",
   "execution_count": 21,
   "metadata": {},
   "outputs": [
    {
     "data": {
      "text/plain": [
       "[3.8, 3.75]"
      ]
     },
     "execution_count": 21,
     "metadata": {},
     "output_type": "execute_result"
    }
   ],
   "source": []
  }
 ],
 "metadata": {
  "interpreter": {
   "hash": "57e1b559dacf43725e1ed3764b0ee83225f8bdeeef0b183e08a2c01330bea852"
  },
  "kernelspec": {
   "display_name": "Python 3.8.6 64-bit",
   "language": "python",
   "name": "python3"
  },
  "language_info": {
   "codemirror_mode": {
    "name": "ipython",
    "version": 3
   },
   "file_extension": ".py",
   "mimetype": "text/x-python",
   "name": "python",
   "nbconvert_exporter": "python",
   "pygments_lexer": "ipython3",
   "version": "3.8.6"
  },
  "orig_nbformat": 4
 },
 "nbformat": 4,
 "nbformat_minor": 2
}
