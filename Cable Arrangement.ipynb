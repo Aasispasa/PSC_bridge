{
 "cells": [
  {
   "cell_type": "code",
   "execution_count": 1,
   "metadata": {},
   "outputs": [
    {
     "name": "stdout",
     "output_type": "stream",
     "text": [
      "0.6\n"
     ]
    }
   ],
   "source": [
    "from Cross import section\n",
    "import math\n"
   ]
  },
  {
   "cell_type": "code",
   "execution_count": 4,
   "metadata": {},
   "outputs": [
    {
     "name": "stdout",
     "output_type": "stream",
     "text": [
      "0.3\n",
      "0.6\n",
      "0.0\n"
     ]
    }
   ],
   "source": [
    "fck=35\n",
    "if fck<45:\n",
    "    mina=0.280+(45-fck)*4/1000\n",
    "    minb=0.200+(45-fck)*4/1000\n",
    "\n",
    "else:\n",
    "    mina=0.280\n",
    "    minb=0.220\n",
    "\n",
    "try:\n",
    "    expanlen=min(section.length[14],section.length[17])+section.length[0]\n",
    "except:\n",
    "    expanlen=section.length[0]\n",
    "\n",
    "b=section.height[2]/2\n",
    "if b<minb:\n",
    "    raise ValueError (\"Very bad input section\")\n",
    "a=0.450\n",
    "if a<mina:\n",
    "    raise ValueError (\"Very bad input section\")\n",
    "e=section.length[0]/2\n",
    "if e<=b:\n",
    "    raise ValueError (\"Very bad input section\")\n",
    "\n",
    "cc=round(section.position[1][0]+section.length[1]-section.position[0][0]-section.length[0],3)\n",
    "\n",
    "n=14\n",
    "\n",
    "ntop=round(n/4)/2\n",
    "nbot=n-ntop*2\n",
    "\n",
    "\n",
    "print(ntop)\n",
    "print(nbot)\n",
    "\n",
    "nbotup=0\n",
    "\n",
    "\n",
    "\n",
    "\n",
    "adash=cc/(nbot-1)\n",
    "while adash<a:\n",
    "\n",
    "    if (nbotup/2)<=math.floor((expanlen-2*e)/a):\n",
    "        print((expanlen-2*e)/a)\n",
    "        nbot=nbot-2\n",
    "        nbotup=nbotup+2\n",
    "        adash=cc/(nbot+1)\n",
    "    else:\n",
    "        ntop=ntop+1\n",
    "        nbot=nbot-2\n",
    "        adash=cc/(nbot+1)\n",
    "\n",
    "nbotup=nbotup/2\n",
    "print(ntop)\n",
    "print(nbot)\n",
    "print(nbotup)\n",
    "# print(adash)\n",
    "# amid=0.15\n",
    "# expanlen"
   ]
  },
  {
   "cell_type": "code",
   "execution_count": 9,
   "metadata": {},
   "outputs": [
    {
     "name": "stdout",
     "output_type": "stream",
     "text": [
      "[[3.8, 5.1], [3.8, 5.55], [6.8, 5.1], [6.8, 5.55], [3.8, 3.75], [4.4, 3.75], [5.0, 3.75], [5.6, 3.75], [3.8, 4.2], [4.25, 4.2], [4.7, 4.2], [6.2, 4.2], [5.75, 4.2], [5.3, 4.2]]\n"
     ]
    },
    {
     "data": {
      "text/plain": [
       "[[3.8, 4.86564],\n",
       " [3.8, 5.23752],\n",
       " [6.8, 4.86564],\n",
       " [6.8, 5.23752],\n",
       " [3.8, 3.75],\n",
       " [4.4, 3.75],\n",
       " [5.0, 3.75],\n",
       " [5.6, 3.75],\n",
       " [3.8, 4.2],\n",
       " [4.25, 4.2],\n",
       " [4.7, 4.2],\n",
       " [6.2, 4.2],\n",
       " [5.75, 4.2],\n",
       " [5.3, 4.2]]"
      ]
     },
     "execution_count": 9,
     "metadata": {},
     "output_type": "execute_result"
    }
   ],
   "source": [
    "toppos=[]\n",
    "midtop=[]\n",
    "bottompos=[]\n",
    "midbot=[]\n",
    "bottomposupleft=[]\n",
    "bottomposupright=[]\n",
    "midbotupleft=[]\n",
    "midbotupright=[]\n",
    "ntop=int(ntop)\n",
    "nbot=int(nbot)\n",
    "nbotup=int(nbotup)\n",
    "for i in range(ntop):\n",
    "    if i==0:\n",
    "        toppos.append([round(x+y,4) for x,y in zip(section.position[0],[e,b+3*a])])\n",
    "        midtop.append([round(x+y,4) for x,y in zip(section.position[0],[e,b+3*amid])])\n",
    "        \n",
    "    if i>0:\n",
    "        toppos.append([round(x+y,4) for x,y in zip(toppos[i-1],[0,a])])\n",
    "        midtop.append([round(x+y,4) for x,y in zip(midtop[i-1],[0,amid])])\n",
    "\n",
    "for i in range(len(toppos)):\n",
    "    toppos.append([x+y for x,y in zip(toppos[i],[cc,0])])\n",
    "    midtop.append([x+y for x,y in zip(midtop[i],[cc,0])])\n",
    "\n",
    "    \n",
    "for i in range(nbot):\n",
    "    if i==0:\n",
    "        bottompos.append([round(x+y,4) for x,y in zip(section.position[0],[e,b])])\n",
    "        midbot.append([round(x+y,4) for x,y in zip(section.position[0],[e,b])])\n",
    "    if i>0:\n",
    "        bottompos.append([round(x+y,4) for x,y in zip(bottompos[i-1],[adash,0])])\n",
    "        midbot.append([round(x+y,4) for x,y in zip(midbot[i-1],[adash,0])])\n",
    "for i in range(nbotup):\n",
    "    if i==0:\n",
    "        bottomposupleft.append([round(x+y,4) for x,y in zip(section.position[0],[e,b+a])])\n",
    "        bottomposupright.append([round(x+y,4) for x,y in zip(section.position[1],[-e,b+a])])\n",
    "        midbotupleft.append([round(x+y,4) for x,y in zip(section.position[0],[e,b+a])])\n",
    "        midbotupright.append([round(x+y,4) for x,y in zip(section.position[0],[-e,b+a])])\n",
    "    if i>0:\n",
    "        bottomposupleft.append([round(x+y,4) for x,y in zip(bottomposupleft[i-1],[a,0])])\n",
    "        bottomposupright.append([round(x+y,4) for x,y in zip(bottomposupright[i-1],[-a,0])])\n",
    "        midbotupleft.append([round(x+y,4) for x,y in zip(midbotupleft[i-1],[a,0])])\n",
    "        midbotupright.append([round(x+y,4) for x,y in zip(midbotupright[i-1],[-a,0])])\n",
    "endcablepos=[*toppos,*bottompos,*bottomposupleft,*bottomposupright]\n",
    "\n",
    "midcablepos=[*midtop,*midbot,*midbotupleft,*midbotupright]\n",
    "\n",
    "x=3.5\n",
    "l=50\n",
    "cablepos=[]\n",
    "print(endcablepos)\n",
    "\n",
    "for i in range(len(endcablepos)):\n",
    "    \n",
    "    h=midcablepos[i][1]-endcablepos[i][1]\n",
    "    pos= -((4*h*x**2)/(l**2))+4*h*x/l+endcablepos[i][1]\n",
    "    cablepos.append([endcablepos[i][0],pos])\n",
    "cablepos"
   ]
  }
 ],
 "metadata": {
  "interpreter": {
   "hash": "57e1b559dacf43725e1ed3764b0ee83225f8bdeeef0b183e08a2c01330bea852"
  },
  "kernelspec": {
   "display_name": "Python 3.8.6 64-bit",
   "language": "python",
   "name": "python3"
  },
  "language_info": {
   "codemirror_mode": {
    "name": "ipython",
    "version": 3
   },
   "file_extension": ".py",
   "mimetype": "text/x-python",
   "name": "python",
   "nbconvert_exporter": "python",
   "pygments_lexer": "ipython3",
   "version": "3.8.6"
  },
  "orig_nbformat": 4
 },
 "nbformat": 4,
 "nbformat_minor": 2
}
